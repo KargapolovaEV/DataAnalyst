{
 "cells": [
  {
   "cell_type": "markdown",
   "id": "2d5166be",
   "metadata": {},
   "source": [
    "# Определение перспективного тарифа для телеком компании\n",
    "\n",
    "<b>Цель: </b> Определить выгодный тарифный план для корректировки рекламного бюджета.<br>\n",
    "<b>Выборка. </b> Данные 500 пользователей тарифных планов «Смарт» и «Ультра»: кто они, откуда, каким тарифом пользуются, сколько звонков и сообщений каждый отправил за 2018 год.\n",
    "\n",
    "***Описание тарифов***\n",
    "\n",
    "***Тариф «Смарт»***\n",
    "Ежемесячная плата: 550 рублей<br>\n",
    "Включено 500 минут разговора, 50 сообщений и 15 Гб интернет-трафика<br>\n",
    "\n",
    "Стоимость услуг сверх тарифного пакета:<br>\n",
    "минута разговора: 3 рубля<br>\n",
    "сообщение: 3 рубля<br>\n",
    "1 Гб интернет-трафика: 200 рублей<br>\n",
    "\n",
    "***Тариф «Ультра»***\n",
    "Ежемесячная плата: 1950 рублей<br>\n",
    "Включено 3000 минут разговора, 1000 сообщений и 30 Гб интернет-трафика<br>\n",
    "\n",
    "Стоимость услуг сверх тарифного пакета:<br>\n",
    "минута разговора: 1 рубль<br>\n",
    "сообщение: 1 рубль<br>\n",
    "1 Гб интернет-трафика: 150 рублей"
   ]
  },
  {
   "cell_type": "markdown",
   "id": "32a87820",
   "metadata": {},
   "source": [
    "***Примечание:***\n",
    "\n",
    "«Мегалайн» всегда округляет секунды до минут, а мегабайты — до гигабайт. Каждый звонок округляется отдельно: даже если он длился всего 1 секунду, будет засчитан как 1 минута.\n",
    "Для веб-трафика отдельные сессии не считаются. Вместо этого общая сумма за месяц округляется в бо́льшую сторону. Если абонент использует 1025 мегабайт в этом месяце, с него возьмут плату за 2 гигабайта.\n"
   ]
  },
  {
   "cell_type": "markdown",
   "id": "6708711d",
   "metadata": {},
   "source": [
    "## Описание данных\n",
    "\n",
    "#### Таблица users (информация о пользователях):\n",
    "user_id — уникальный идентификатор пользователя<br>\n",
    "first_name — имя пользователя<br>\n",
    "last_name — фамилия пользователя<br>\n",
    "age — возраст пользователя (годы)<br>\n",
    "reg_date — дата подключения тарифа (день, месяц, год)<br>\n",
    "churn_date — дата прекращения пользования тарифом (если значение пропущено, то тариф ещё действовал на момент выгрузки данных)<br>\n",
    "city — город проживания пользователя<br>\n",
    "tariff — название тарифного плана<br>\n",
    "\n",
    "#### Таблица calls (информация о звонках):\n",
    "id — уникальный номер звонка<br>\n",
    "call_date — дата звонка<br>\n",
    "duration — длительность звонка в минутах<br>\n",
    "user_id — идентификатор пользователя, сделавшего звонок<br>\n",
    "\n",
    "#### Таблица messages (информация о сообщениях):\n",
    "id — уникальный номер сообщения<br>\n",
    "message_date — дата сообщения<br>\n",
    "user_id — идентификатор пользователя, отправившего сообщение<br>\n",
    "\n",
    "#### Таблица internet (информация об интернет-сессиях):\n",
    "id — уникальный номер сессии<br>\n",
    "mb_used — объём потраченного за сессию интернет-трафика (в мегабайтах)<br>\n",
    "session_date — дата интернет-сессии<br>\n",
    "user_id — идентификатор пользователя<br>\n",
    "\n",
    "#### Таблица tariffs (информация о тарифах):\n",
    "tariff_name — название тарифа<br>\n",
    "rub_monthly_fee — ежемесячная абонентская плата в рублях<br>\n",
    "minutes_included — количество минут разговора в месяц, включённых в абонентскую плату<br>\n",
    "messages_included — количество сообщений в месяц, включённых в абонентскую плату<br>\n",
    "mb_per_month_included — объём интернет-трафика, включённого в абонентскую плату (в мегабайтах)<br>\n",
    "rub_per_minute — стоимость минуты разговора сверх тарифного пакета (например, если в тарифе 100 минут разговора в месяц, то со 101 минуты будет взиматься плата)<br>\n",
    "rub_per_message — стоимость отправки сообщения сверх тарифного пакета<br>\n",
    "rub_per_gb — стоимость дополнительного гигабайта интернет-трафика сверх тарифного пакета (1 гигабайт = 1024 мегабайта)\n"
   ]
  },
  {
   "cell_type": "markdown",
   "id": "ff2b99ce",
   "metadata": {},
   "source": [
    "## Обзор данных"
   ]
  },
  {
   "cell_type": "code",
   "execution_count": 1,
   "id": "2d35e6fb",
   "metadata": {},
   "outputs": [],
   "source": [
    "import pandas as pd\n",
    "import matplotlib.pyplot as plt\n",
    "import numpy as np    \n",
    "from scipy import stats as st\n",
    "import seaborn as sns"
   ]
  },
  {
   "cell_type": "code",
   "execution_count": 2,
   "id": "81f81bea",
   "metadata": {},
   "outputs": [],
   "source": [
    "users = pd.read_csv('/datasets/users.csv')\n",
    "calls = pd.read_csv('/datasets/calls.csv')\n",
    "messages = pd.read_csv('/datasets/messages.csv')\n",
    "internet = pd.read_csv('/datasets/internet.csv')\n",
    "tariffs = pd.read_csv('/datasets/tariffs.csv')"
   ]
  },
  {
   "cell_type": "code",
   "execution_count": 3,
   "id": "29be7f69",
   "metadata": {},
   "outputs": [
    {
     "data": {
      "text/html": [
       "<div>\n",
       "<style scoped>\n",
       "    .dataframe tbody tr th:only-of-type {\n",
       "        vertical-align: middle;\n",
       "    }\n",
       "\n",
       "    .dataframe tbody tr th {\n",
       "        vertical-align: top;\n",
       "    }\n",
       "\n",
       "    .dataframe thead th {\n",
       "        text-align: right;\n",
       "    }\n",
       "</style>\n",
       "<table border=\"1\" class=\"dataframe\">\n",
       "  <thead>\n",
       "    <tr style=\"text-align: right;\">\n",
       "      <th></th>\n",
       "      <th>user_id</th>\n",
       "      <th>age</th>\n",
       "      <th>churn_date</th>\n",
       "      <th>city</th>\n",
       "      <th>first_name</th>\n",
       "      <th>last_name</th>\n",
       "      <th>reg_date</th>\n",
       "      <th>tariff</th>\n",
       "    </tr>\n",
       "  </thead>\n",
       "  <tbody>\n",
       "    <tr>\n",
       "      <th>81</th>\n",
       "      <td>1081</td>\n",
       "      <td>42</td>\n",
       "      <td>NaN</td>\n",
       "      <td>Москва</td>\n",
       "      <td>Софья</td>\n",
       "      <td>Терехова</td>\n",
       "      <td>2018-03-25</td>\n",
       "      <td>ultra</td>\n",
       "    </tr>\n",
       "    <tr>\n",
       "      <th>49</th>\n",
       "      <td>1049</td>\n",
       "      <td>41</td>\n",
       "      <td>NaN</td>\n",
       "      <td>Москва</td>\n",
       "      <td>Габриель</td>\n",
       "      <td>Ларин</td>\n",
       "      <td>2018-03-10</td>\n",
       "      <td>ultra</td>\n",
       "    </tr>\n",
       "    <tr>\n",
       "      <th>100</th>\n",
       "      <td>1100</td>\n",
       "      <td>58</td>\n",
       "      <td>NaN</td>\n",
       "      <td>Санкт-Петербург</td>\n",
       "      <td>Руслан</td>\n",
       "      <td>Красильников</td>\n",
       "      <td>2018-07-02</td>\n",
       "      <td>smart</td>\n",
       "    </tr>\n",
       "    <tr>\n",
       "      <th>268</th>\n",
       "      <td>1268</td>\n",
       "      <td>18</td>\n",
       "      <td>NaN</td>\n",
       "      <td>Москва</td>\n",
       "      <td>Трофим</td>\n",
       "      <td>Трошин</td>\n",
       "      <td>2018-05-28</td>\n",
       "      <td>smart</td>\n",
       "    </tr>\n",
       "    <tr>\n",
       "      <th>251</th>\n",
       "      <td>1251</td>\n",
       "      <td>48</td>\n",
       "      <td>NaN</td>\n",
       "      <td>Пермь</td>\n",
       "      <td>Роксана</td>\n",
       "      <td>Тетерина</td>\n",
       "      <td>2018-02-13</td>\n",
       "      <td>smart</td>\n",
       "    </tr>\n",
       "    <tr>\n",
       "      <th>407</th>\n",
       "      <td>1407</td>\n",
       "      <td>40</td>\n",
       "      <td>NaN</td>\n",
       "      <td>Челябинск</td>\n",
       "      <td>Элла</td>\n",
       "      <td>Пирогова</td>\n",
       "      <td>2018-08-14</td>\n",
       "      <td>smart</td>\n",
       "    </tr>\n",
       "    <tr>\n",
       "      <th>406</th>\n",
       "      <td>1406</td>\n",
       "      <td>68</td>\n",
       "      <td>NaN</td>\n",
       "      <td>Казань</td>\n",
       "      <td>Станислав</td>\n",
       "      <td>Семёнов</td>\n",
       "      <td>2018-12-15</td>\n",
       "      <td>smart</td>\n",
       "    </tr>\n",
       "    <tr>\n",
       "      <th>377</th>\n",
       "      <td>1377</td>\n",
       "      <td>59</td>\n",
       "      <td>NaN</td>\n",
       "      <td>Брянск</td>\n",
       "      <td>Альфред</td>\n",
       "      <td>Семин</td>\n",
       "      <td>2018-02-25</td>\n",
       "      <td>ultra</td>\n",
       "    </tr>\n",
       "    <tr>\n",
       "      <th>437</th>\n",
       "      <td>1437</td>\n",
       "      <td>73</td>\n",
       "      <td>NaN</td>\n",
       "      <td>Казань</td>\n",
       "      <td>Лилия</td>\n",
       "      <td>Селезнева</td>\n",
       "      <td>2018-08-03</td>\n",
       "      <td>smart</td>\n",
       "    </tr>\n",
       "    <tr>\n",
       "      <th>73</th>\n",
       "      <td>1073</td>\n",
       "      <td>63</td>\n",
       "      <td>NaN</td>\n",
       "      <td>Владикавказ</td>\n",
       "      <td>Гордей</td>\n",
       "      <td>Павловский</td>\n",
       "      <td>2018-10-04</td>\n",
       "      <td>smart</td>\n",
       "    </tr>\n",
       "    <tr>\n",
       "      <th>371</th>\n",
       "      <td>1371</td>\n",
       "      <td>50</td>\n",
       "      <td>2018-12-30</td>\n",
       "      <td>Омск</td>\n",
       "      <td>Ириней</td>\n",
       "      <td>Трофимов</td>\n",
       "      <td>2018-12-25</td>\n",
       "      <td>smart</td>\n",
       "    </tr>\n",
       "    <tr>\n",
       "      <th>167</th>\n",
       "      <td>1167</td>\n",
       "      <td>30</td>\n",
       "      <td>NaN</td>\n",
       "      <td>Кемерово</td>\n",
       "      <td>Клавдия</td>\n",
       "      <td>Абдулина</td>\n",
       "      <td>2018-09-29</td>\n",
       "      <td>ultra</td>\n",
       "    </tr>\n",
       "    <tr>\n",
       "      <th>296</th>\n",
       "      <td>1296</td>\n",
       "      <td>60</td>\n",
       "      <td>NaN</td>\n",
       "      <td>Москва</td>\n",
       "      <td>Альфред</td>\n",
       "      <td>Черный</td>\n",
       "      <td>2018-06-05</td>\n",
       "      <td>smart</td>\n",
       "    </tr>\n",
       "    <tr>\n",
       "      <th>498</th>\n",
       "      <td>1498</td>\n",
       "      <td>68</td>\n",
       "      <td>2018-10-25</td>\n",
       "      <td>Владикавказ</td>\n",
       "      <td>Всеволод</td>\n",
       "      <td>Акимчин</td>\n",
       "      <td>2018-07-19</td>\n",
       "      <td>smart</td>\n",
       "    </tr>\n",
       "    <tr>\n",
       "      <th>71</th>\n",
       "      <td>1071</td>\n",
       "      <td>20</td>\n",
       "      <td>2018-08-31</td>\n",
       "      <td>Омск</td>\n",
       "      <td>Гектор</td>\n",
       "      <td>Чумаков</td>\n",
       "      <td>2018-01-09</td>\n",
       "      <td>smart</td>\n",
       "    </tr>\n",
       "  </tbody>\n",
       "</table>\n",
       "</div>"
      ],
      "text/plain": [
       "     user_id  age  churn_date             city first_name     last_name  \\\n",
       "81      1081   42         NaN           Москва      Софья      Терехова   \n",
       "49      1049   41         NaN           Москва   Габриель         Ларин   \n",
       "100     1100   58         NaN  Санкт-Петербург     Руслан  Красильников   \n",
       "268     1268   18         NaN           Москва     Трофим        Трошин   \n",
       "251     1251   48         NaN            Пермь    Роксана      Тетерина   \n",
       "407     1407   40         NaN        Челябинск       Элла      Пирогова   \n",
       "406     1406   68         NaN           Казань  Станислав       Семёнов   \n",
       "377     1377   59         NaN           Брянск    Альфред         Семин   \n",
       "437     1437   73         NaN           Казань      Лилия     Селезнева   \n",
       "73      1073   63         NaN      Владикавказ     Гордей    Павловский   \n",
       "371     1371   50  2018-12-30             Омск     Ириней      Трофимов   \n",
       "167     1167   30         NaN         Кемерово    Клавдия      Абдулина   \n",
       "296     1296   60         NaN           Москва    Альфред        Черный   \n",
       "498     1498   68  2018-10-25      Владикавказ   Всеволод       Акимчин   \n",
       "71      1071   20  2018-08-31             Омск     Гектор       Чумаков   \n",
       "\n",
       "       reg_date tariff  \n",
       "81   2018-03-25  ultra  \n",
       "49   2018-03-10  ultra  \n",
       "100  2018-07-02  smart  \n",
       "268  2018-05-28  smart  \n",
       "251  2018-02-13  smart  \n",
       "407  2018-08-14  smart  \n",
       "406  2018-12-15  smart  \n",
       "377  2018-02-25  ultra  \n",
       "437  2018-08-03  smart  \n",
       "73   2018-10-04  smart  \n",
       "371  2018-12-25  smart  \n",
       "167  2018-09-29  ultra  \n",
       "296  2018-06-05  smart  \n",
       "498  2018-07-19  smart  \n",
       "71   2018-01-09  smart  "
      ]
     },
     "execution_count": 3,
     "metadata": {},
     "output_type": "execute_result"
    }
   ],
   "source": [
    "users.sample(15)"
   ]
  },
  {
   "cell_type": "code",
   "execution_count": 4,
   "id": "a42dd737",
   "metadata": {},
   "outputs": [
    {
     "name": "stdout",
     "output_type": "stream",
     "text": [
      "<class 'pandas.core.frame.DataFrame'>\n",
      "RangeIndex: 500 entries, 0 to 499\n",
      "Data columns (total 8 columns):\n",
      " #   Column      Non-Null Count  Dtype \n",
      "---  ------      --------------  ----- \n",
      " 0   user_id     500 non-null    int64 \n",
      " 1   age         500 non-null    int64 \n",
      " 2   churn_date  38 non-null     object\n",
      " 3   city        500 non-null    object\n",
      " 4   first_name  500 non-null    object\n",
      " 5   last_name   500 non-null    object\n",
      " 6   reg_date    500 non-null    object\n",
      " 7   tariff      500 non-null    object\n",
      "dtypes: int64(2), object(6)\n",
      "memory usage: 31.4+ KB\n"
     ]
    }
   ],
   "source": [
    "users.info()"
   ]
  },
  {
   "cell_type": "code",
   "execution_count": 5,
   "id": "20328347",
   "metadata": {},
   "outputs": [
    {
     "data": {
      "text/html": [
       "<div>\n",
       "<style scoped>\n",
       "    .dataframe tbody tr th:only-of-type {\n",
       "        vertical-align: middle;\n",
       "    }\n",
       "\n",
       "    .dataframe tbody tr th {\n",
       "        vertical-align: top;\n",
       "    }\n",
       "\n",
       "    .dataframe thead th {\n",
       "        text-align: right;\n",
       "    }\n",
       "</style>\n",
       "<table border=\"1\" class=\"dataframe\">\n",
       "  <thead>\n",
       "    <tr style=\"text-align: right;\">\n",
       "      <th></th>\n",
       "      <th>id</th>\n",
       "      <th>call_date</th>\n",
       "      <th>duration</th>\n",
       "      <th>user_id</th>\n",
       "    </tr>\n",
       "  </thead>\n",
       "  <tbody>\n",
       "    <tr>\n",
       "      <th>0</th>\n",
       "      <td>1000_0</td>\n",
       "      <td>2018-07-25</td>\n",
       "      <td>0.00</td>\n",
       "      <td>1000</td>\n",
       "    </tr>\n",
       "    <tr>\n",
       "      <th>1</th>\n",
       "      <td>1000_1</td>\n",
       "      <td>2018-08-17</td>\n",
       "      <td>0.00</td>\n",
       "      <td>1000</td>\n",
       "    </tr>\n",
       "    <tr>\n",
       "      <th>2</th>\n",
       "      <td>1000_2</td>\n",
       "      <td>2018-06-11</td>\n",
       "      <td>2.85</td>\n",
       "      <td>1000</td>\n",
       "    </tr>\n",
       "    <tr>\n",
       "      <th>3</th>\n",
       "      <td>1000_3</td>\n",
       "      <td>2018-09-21</td>\n",
       "      <td>13.80</td>\n",
       "      <td>1000</td>\n",
       "    </tr>\n",
       "    <tr>\n",
       "      <th>4</th>\n",
       "      <td>1000_4</td>\n",
       "      <td>2018-12-15</td>\n",
       "      <td>5.18</td>\n",
       "      <td>1000</td>\n",
       "    </tr>\n",
       "    <tr>\n",
       "      <th>5</th>\n",
       "      <td>1000_5</td>\n",
       "      <td>2018-11-02</td>\n",
       "      <td>0.00</td>\n",
       "      <td>1000</td>\n",
       "    </tr>\n",
       "    <tr>\n",
       "      <th>6</th>\n",
       "      <td>1000_6</td>\n",
       "      <td>2018-10-18</td>\n",
       "      <td>0.00</td>\n",
       "      <td>1000</td>\n",
       "    </tr>\n",
       "    <tr>\n",
       "      <th>7</th>\n",
       "      <td>1000_7</td>\n",
       "      <td>2018-08-22</td>\n",
       "      <td>18.31</td>\n",
       "      <td>1000</td>\n",
       "    </tr>\n",
       "    <tr>\n",
       "      <th>8</th>\n",
       "      <td>1000_8</td>\n",
       "      <td>2018-09-15</td>\n",
       "      <td>18.44</td>\n",
       "      <td>1000</td>\n",
       "    </tr>\n",
       "    <tr>\n",
       "      <th>9</th>\n",
       "      <td>1000_9</td>\n",
       "      <td>2018-08-15</td>\n",
       "      <td>0.00</td>\n",
       "      <td>1000</td>\n",
       "    </tr>\n",
       "    <tr>\n",
       "      <th>10</th>\n",
       "      <td>1000_10</td>\n",
       "      <td>2018-08-22</td>\n",
       "      <td>5.03</td>\n",
       "      <td>1000</td>\n",
       "    </tr>\n",
       "    <tr>\n",
       "      <th>11</th>\n",
       "      <td>1000_11</td>\n",
       "      <td>2018-05-28</td>\n",
       "      <td>18.82</td>\n",
       "      <td>1000</td>\n",
       "    </tr>\n",
       "    <tr>\n",
       "      <th>12</th>\n",
       "      <td>1000_12</td>\n",
       "      <td>2018-07-05</td>\n",
       "      <td>2.02</td>\n",
       "      <td>1000</td>\n",
       "    </tr>\n",
       "    <tr>\n",
       "      <th>13</th>\n",
       "      <td>1000_13</td>\n",
       "      <td>2018-09-29</td>\n",
       "      <td>7.15</td>\n",
       "      <td>1000</td>\n",
       "    </tr>\n",
       "    <tr>\n",
       "      <th>14</th>\n",
       "      <td>1000_14</td>\n",
       "      <td>2018-12-11</td>\n",
       "      <td>9.13</td>\n",
       "      <td>1000</td>\n",
       "    </tr>\n",
       "  </tbody>\n",
       "</table>\n",
       "</div>"
      ],
      "text/plain": [
       "         id   call_date  duration  user_id\n",
       "0    1000_0  2018-07-25      0.00     1000\n",
       "1    1000_1  2018-08-17      0.00     1000\n",
       "2    1000_2  2018-06-11      2.85     1000\n",
       "3    1000_3  2018-09-21     13.80     1000\n",
       "4    1000_4  2018-12-15      5.18     1000\n",
       "5    1000_5  2018-11-02      0.00     1000\n",
       "6    1000_6  2018-10-18      0.00     1000\n",
       "7    1000_7  2018-08-22     18.31     1000\n",
       "8    1000_8  2018-09-15     18.44     1000\n",
       "9    1000_9  2018-08-15      0.00     1000\n",
       "10  1000_10  2018-08-22      5.03     1000\n",
       "11  1000_11  2018-05-28     18.82     1000\n",
       "12  1000_12  2018-07-05      2.02     1000\n",
       "13  1000_13  2018-09-29      7.15     1000\n",
       "14  1000_14  2018-12-11      9.13     1000"
      ]
     },
     "execution_count": 5,
     "metadata": {},
     "output_type": "execute_result"
    }
   ],
   "source": [
    "calls.head(15)"
   ]
  },
  {
   "cell_type": "code",
   "execution_count": 6,
   "id": "a989f234",
   "metadata": {},
   "outputs": [
    {
     "name": "stdout",
     "output_type": "stream",
     "text": [
      "<class 'pandas.core.frame.DataFrame'>\n",
      "RangeIndex: 202607 entries, 0 to 202606\n",
      "Data columns (total 4 columns):\n",
      " #   Column     Non-Null Count   Dtype  \n",
      "---  ------     --------------   -----  \n",
      " 0   id         202607 non-null  object \n",
      " 1   call_date  202607 non-null  object \n",
      " 2   duration   202607 non-null  float64\n",
      " 3   user_id    202607 non-null  int64  \n",
      "dtypes: float64(1), int64(1), object(2)\n",
      "memory usage: 6.2+ MB\n"
     ]
    }
   ],
   "source": [
    "calls.info()"
   ]
  },
  {
   "cell_type": "code",
   "execution_count": 7,
   "id": "fd7a1574",
   "metadata": {},
   "outputs": [
    {
     "data": {
      "text/html": [
       "<div>\n",
       "<style scoped>\n",
       "    .dataframe tbody tr th:only-of-type {\n",
       "        vertical-align: middle;\n",
       "    }\n",
       "\n",
       "    .dataframe tbody tr th {\n",
       "        vertical-align: top;\n",
       "    }\n",
       "\n",
       "    .dataframe thead th {\n",
       "        text-align: right;\n",
       "    }\n",
       "</style>\n",
       "<table border=\"1\" class=\"dataframe\">\n",
       "  <thead>\n",
       "    <tr style=\"text-align: right;\">\n",
       "      <th></th>\n",
       "      <th>id</th>\n",
       "      <th>message_date</th>\n",
       "      <th>user_id</th>\n",
       "    </tr>\n",
       "  </thead>\n",
       "  <tbody>\n",
       "    <tr>\n",
       "      <th>89063</th>\n",
       "      <td>1373_75</td>\n",
       "      <td>2018-05-24</td>\n",
       "      <td>1373</td>\n",
       "    </tr>\n",
       "    <tr>\n",
       "      <th>112545</th>\n",
       "      <td>1453_570</td>\n",
       "      <td>2018-10-07</td>\n",
       "      <td>1453</td>\n",
       "    </tr>\n",
       "    <tr>\n",
       "      <th>118045</th>\n",
       "      <td>1478_397</td>\n",
       "      <td>2018-10-26</td>\n",
       "      <td>1478</td>\n",
       "    </tr>\n",
       "    <tr>\n",
       "      <th>59795</th>\n",
       "      <td>1262_286</td>\n",
       "      <td>2018-12-05</td>\n",
       "      <td>1262</td>\n",
       "    </tr>\n",
       "    <tr>\n",
       "      <th>90984</th>\n",
       "      <td>1375_784</td>\n",
       "      <td>2018-12-07</td>\n",
       "      <td>1375</td>\n",
       "    </tr>\n",
       "    <tr>\n",
       "      <th>54262</th>\n",
       "      <td>1241_152</td>\n",
       "      <td>2018-06-17</td>\n",
       "      <td>1241</td>\n",
       "    </tr>\n",
       "    <tr>\n",
       "      <th>119399</th>\n",
       "      <td>1483_334</td>\n",
       "      <td>2018-06-24</td>\n",
       "      <td>1483</td>\n",
       "    </tr>\n",
       "    <tr>\n",
       "      <th>869</th>\n",
       "      <td>1003_303</td>\n",
       "      <td>2018-09-18</td>\n",
       "      <td>1003</td>\n",
       "    </tr>\n",
       "    <tr>\n",
       "      <th>73323</th>\n",
       "      <td>1310_192</td>\n",
       "      <td>2018-11-20</td>\n",
       "      <td>1310</td>\n",
       "    </tr>\n",
       "    <tr>\n",
       "      <th>29619</th>\n",
       "      <td>1127_642</td>\n",
       "      <td>2018-12-12</td>\n",
       "      <td>1127</td>\n",
       "    </tr>\n",
       "    <tr>\n",
       "      <th>71960</th>\n",
       "      <td>1302_788</td>\n",
       "      <td>2018-08-27</td>\n",
       "      <td>1302</td>\n",
       "    </tr>\n",
       "    <tr>\n",
       "      <th>75121</th>\n",
       "      <td>1318_150</td>\n",
       "      <td>2018-08-02</td>\n",
       "      <td>1318</td>\n",
       "    </tr>\n",
       "    <tr>\n",
       "      <th>40352</th>\n",
       "      <td>1171_496</td>\n",
       "      <td>2018-06-14</td>\n",
       "      <td>1171</td>\n",
       "    </tr>\n",
       "    <tr>\n",
       "      <th>26354</th>\n",
       "      <td>1110_219</td>\n",
       "      <td>2018-12-06</td>\n",
       "      <td>1110</td>\n",
       "    </tr>\n",
       "    <tr>\n",
       "      <th>104360</th>\n",
       "      <td>1424_213</td>\n",
       "      <td>2018-09-16</td>\n",
       "      <td>1424</td>\n",
       "    </tr>\n",
       "  </tbody>\n",
       "</table>\n",
       "</div>"
      ],
      "text/plain": [
       "              id message_date  user_id\n",
       "89063    1373_75   2018-05-24     1373\n",
       "112545  1453_570   2018-10-07     1453\n",
       "118045  1478_397   2018-10-26     1478\n",
       "59795   1262_286   2018-12-05     1262\n",
       "90984   1375_784   2018-12-07     1375\n",
       "54262   1241_152   2018-06-17     1241\n",
       "119399  1483_334   2018-06-24     1483\n",
       "869     1003_303   2018-09-18     1003\n",
       "73323   1310_192   2018-11-20     1310\n",
       "29619   1127_642   2018-12-12     1127\n",
       "71960   1302_788   2018-08-27     1302\n",
       "75121   1318_150   2018-08-02     1318\n",
       "40352   1171_496   2018-06-14     1171\n",
       "26354   1110_219   2018-12-06     1110\n",
       "104360  1424_213   2018-09-16     1424"
      ]
     },
     "execution_count": 7,
     "metadata": {},
     "output_type": "execute_result"
    }
   ],
   "source": [
    "messages.sample(15)"
   ]
  },
  {
   "cell_type": "code",
   "execution_count": 8,
   "id": "971ac83f",
   "metadata": {},
   "outputs": [
    {
     "name": "stdout",
     "output_type": "stream",
     "text": [
      "<class 'pandas.core.frame.DataFrame'>\n",
      "RangeIndex: 123036 entries, 0 to 123035\n",
      "Data columns (total 3 columns):\n",
      " #   Column        Non-Null Count   Dtype \n",
      "---  ------        --------------   ----- \n",
      " 0   id            123036 non-null  object\n",
      " 1   message_date  123036 non-null  object\n",
      " 2   user_id       123036 non-null  int64 \n",
      "dtypes: int64(1), object(2)\n",
      "memory usage: 2.8+ MB\n"
     ]
    }
   ],
   "source": [
    "messages.info()"
   ]
  },
  {
   "cell_type": "code",
   "execution_count": 9,
   "id": "91c4d261",
   "metadata": {},
   "outputs": [
    {
     "data": {
      "text/html": [
       "<div>\n",
       "<style scoped>\n",
       "    .dataframe tbody tr th:only-of-type {\n",
       "        vertical-align: middle;\n",
       "    }\n",
       "\n",
       "    .dataframe tbody tr th {\n",
       "        vertical-align: top;\n",
       "    }\n",
       "\n",
       "    .dataframe thead th {\n",
       "        text-align: right;\n",
       "    }\n",
       "</style>\n",
       "<table border=\"1\" class=\"dataframe\">\n",
       "  <thead>\n",
       "    <tr style=\"text-align: right;\">\n",
       "      <th></th>\n",
       "      <th>Unnamed: 0</th>\n",
       "      <th>id</th>\n",
       "      <th>mb_used</th>\n",
       "      <th>session_date</th>\n",
       "      <th>user_id</th>\n",
       "    </tr>\n",
       "  </thead>\n",
       "  <tbody>\n",
       "    <tr>\n",
       "      <th>24109</th>\n",
       "      <td>24109</td>\n",
       "      <td>1082_96</td>\n",
       "      <td>0.00</td>\n",
       "      <td>2018-11-24</td>\n",
       "      <td>1082</td>\n",
       "    </tr>\n",
       "    <tr>\n",
       "      <th>8103</th>\n",
       "      <td>8103</td>\n",
       "      <td>1027_430</td>\n",
       "      <td>0.00</td>\n",
       "      <td>2018-05-05</td>\n",
       "      <td>1027</td>\n",
       "    </tr>\n",
       "    <tr>\n",
       "      <th>108140</th>\n",
       "      <td>108140</td>\n",
       "      <td>1369_169</td>\n",
       "      <td>220.27</td>\n",
       "      <td>2018-12-24</td>\n",
       "      <td>1369</td>\n",
       "    </tr>\n",
       "    <tr>\n",
       "      <th>104212</th>\n",
       "      <td>104212</td>\n",
       "      <td>1353_148</td>\n",
       "      <td>174.12</td>\n",
       "      <td>2018-11-05</td>\n",
       "      <td>1353</td>\n",
       "    </tr>\n",
       "    <tr>\n",
       "      <th>3203</th>\n",
       "      <td>3203</td>\n",
       "      <td>1011_70</td>\n",
       "      <td>191.47</td>\n",
       "      <td>2018-12-21</td>\n",
       "      <td>1011</td>\n",
       "    </tr>\n",
       "    <tr>\n",
       "      <th>41009</th>\n",
       "      <td>41009</td>\n",
       "      <td>1144_169</td>\n",
       "      <td>142.38</td>\n",
       "      <td>2018-06-03</td>\n",
       "      <td>1144</td>\n",
       "    </tr>\n",
       "    <tr>\n",
       "      <th>141968</th>\n",
       "      <td>141968</td>\n",
       "      <td>1476_170</td>\n",
       "      <td>505.95</td>\n",
       "      <td>2018-08-02</td>\n",
       "      <td>1476</td>\n",
       "    </tr>\n",
       "    <tr>\n",
       "      <th>33680</th>\n",
       "      <td>33680</td>\n",
       "      <td>1118_297</td>\n",
       "      <td>0.00</td>\n",
       "      <td>2018-11-28</td>\n",
       "      <td>1118</td>\n",
       "    </tr>\n",
       "    <tr>\n",
       "      <th>2977</th>\n",
       "      <td>2977</td>\n",
       "      <td>1010_107</td>\n",
       "      <td>0.00</td>\n",
       "      <td>2018-11-21</td>\n",
       "      <td>1010</td>\n",
       "    </tr>\n",
       "    <tr>\n",
       "      <th>306</th>\n",
       "      <td>306</td>\n",
       "      <td>1001_95</td>\n",
       "      <td>354.80</td>\n",
       "      <td>2018-12-23</td>\n",
       "      <td>1001</td>\n",
       "    </tr>\n",
       "    <tr>\n",
       "      <th>18962</th>\n",
       "      <td>18962</td>\n",
       "      <td>1065_107</td>\n",
       "      <td>737.91</td>\n",
       "      <td>2018-08-11</td>\n",
       "      <td>1065</td>\n",
       "    </tr>\n",
       "    <tr>\n",
       "      <th>92419</th>\n",
       "      <td>92419</td>\n",
       "      <td>1312_274</td>\n",
       "      <td>335.43</td>\n",
       "      <td>2018-10-21</td>\n",
       "      <td>1312</td>\n",
       "    </tr>\n",
       "    <tr>\n",
       "      <th>55035</th>\n",
       "      <td>55035</td>\n",
       "      <td>1185_157</td>\n",
       "      <td>878.03</td>\n",
       "      <td>2018-09-18</td>\n",
       "      <td>1185</td>\n",
       "    </tr>\n",
       "    <tr>\n",
       "      <th>41449</th>\n",
       "      <td>41449</td>\n",
       "      <td>1145_185</td>\n",
       "      <td>252.59</td>\n",
       "      <td>2018-04-12</td>\n",
       "      <td>1145</td>\n",
       "    </tr>\n",
       "    <tr>\n",
       "      <th>131326</th>\n",
       "      <td>131326</td>\n",
       "      <td>1436_292</td>\n",
       "      <td>404.79</td>\n",
       "      <td>2018-05-18</td>\n",
       "      <td>1436</td>\n",
       "    </tr>\n",
       "  </tbody>\n",
       "</table>\n",
       "</div>"
      ],
      "text/plain": [
       "        Unnamed: 0        id  mb_used session_date  user_id\n",
       "24109        24109   1082_96     0.00   2018-11-24     1082\n",
       "8103          8103  1027_430     0.00   2018-05-05     1027\n",
       "108140      108140  1369_169   220.27   2018-12-24     1369\n",
       "104212      104212  1353_148   174.12   2018-11-05     1353\n",
       "3203          3203   1011_70   191.47   2018-12-21     1011\n",
       "41009        41009  1144_169   142.38   2018-06-03     1144\n",
       "141968      141968  1476_170   505.95   2018-08-02     1476\n",
       "33680        33680  1118_297     0.00   2018-11-28     1118\n",
       "2977          2977  1010_107     0.00   2018-11-21     1010\n",
       "306            306   1001_95   354.80   2018-12-23     1001\n",
       "18962        18962  1065_107   737.91   2018-08-11     1065\n",
       "92419        92419  1312_274   335.43   2018-10-21     1312\n",
       "55035        55035  1185_157   878.03   2018-09-18     1185\n",
       "41449        41449  1145_185   252.59   2018-04-12     1145\n",
       "131326      131326  1436_292   404.79   2018-05-18     1436"
      ]
     },
     "execution_count": 9,
     "metadata": {},
     "output_type": "execute_result"
    }
   ],
   "source": [
    "internet.sample(15)"
   ]
  },
  {
   "cell_type": "code",
   "execution_count": 10,
   "id": "b8caf2a6",
   "metadata": {},
   "outputs": [
    {
     "name": "stdout",
     "output_type": "stream",
     "text": [
      "<class 'pandas.core.frame.DataFrame'>\n",
      "RangeIndex: 149396 entries, 0 to 149395\n",
      "Data columns (total 5 columns):\n",
      " #   Column        Non-Null Count   Dtype  \n",
      "---  ------        --------------   -----  \n",
      " 0   Unnamed: 0    149396 non-null  int64  \n",
      " 1   id            149396 non-null  object \n",
      " 2   mb_used       149396 non-null  float64\n",
      " 3   session_date  149396 non-null  object \n",
      " 4   user_id       149396 non-null  int64  \n",
      "dtypes: float64(1), int64(2), object(2)\n",
      "memory usage: 5.7+ MB\n"
     ]
    }
   ],
   "source": [
    "internet.info()"
   ]
  },
  {
   "cell_type": "code",
   "execution_count": 11,
   "id": "0cad8ec4",
   "metadata": {},
   "outputs": [
    {
     "data": {
      "text/html": [
       "<div>\n",
       "<style scoped>\n",
       "    .dataframe tbody tr th:only-of-type {\n",
       "        vertical-align: middle;\n",
       "    }\n",
       "\n",
       "    .dataframe tbody tr th {\n",
       "        vertical-align: top;\n",
       "    }\n",
       "\n",
       "    .dataframe thead th {\n",
       "        text-align: right;\n",
       "    }\n",
       "</style>\n",
       "<table border=\"1\" class=\"dataframe\">\n",
       "  <thead>\n",
       "    <tr style=\"text-align: right;\">\n",
       "      <th></th>\n",
       "      <th>messages_included</th>\n",
       "      <th>mb_per_month_included</th>\n",
       "      <th>minutes_included</th>\n",
       "      <th>rub_monthly_fee</th>\n",
       "      <th>rub_per_gb</th>\n",
       "      <th>rub_per_message</th>\n",
       "      <th>rub_per_minute</th>\n",
       "      <th>tariff_name</th>\n",
       "    </tr>\n",
       "  </thead>\n",
       "  <tbody>\n",
       "    <tr>\n",
       "      <th>0</th>\n",
       "      <td>50</td>\n",
       "      <td>15360</td>\n",
       "      <td>500</td>\n",
       "      <td>550</td>\n",
       "      <td>200</td>\n",
       "      <td>3</td>\n",
       "      <td>3</td>\n",
       "      <td>smart</td>\n",
       "    </tr>\n",
       "    <tr>\n",
       "      <th>1</th>\n",
       "      <td>1000</td>\n",
       "      <td>30720</td>\n",
       "      <td>3000</td>\n",
       "      <td>1950</td>\n",
       "      <td>150</td>\n",
       "      <td>1</td>\n",
       "      <td>1</td>\n",
       "      <td>ultra</td>\n",
       "    </tr>\n",
       "  </tbody>\n",
       "</table>\n",
       "</div>"
      ],
      "text/plain": [
       "   messages_included  mb_per_month_included  minutes_included  \\\n",
       "0                 50                  15360               500   \n",
       "1               1000                  30720              3000   \n",
       "\n",
       "   rub_monthly_fee  rub_per_gb  rub_per_message  rub_per_minute tariff_name  \n",
       "0              550         200                3               3       smart  \n",
       "1             1950         150                1               1       ultra  "
      ]
     },
     "execution_count": 11,
     "metadata": {},
     "output_type": "execute_result"
    }
   ],
   "source": [
    "tariffs"
   ]
  },
  {
   "cell_type": "code",
   "execution_count": 12,
   "id": "47b77a93",
   "metadata": {},
   "outputs": [
    {
     "name": "stdout",
     "output_type": "stream",
     "text": [
      "<class 'pandas.core.frame.DataFrame'>\n",
      "RangeIndex: 2 entries, 0 to 1\n",
      "Data columns (total 8 columns):\n",
      " #   Column                 Non-Null Count  Dtype \n",
      "---  ------                 --------------  ----- \n",
      " 0   messages_included      2 non-null      int64 \n",
      " 1   mb_per_month_included  2 non-null      int64 \n",
      " 2   minutes_included       2 non-null      int64 \n",
      " 3   rub_monthly_fee        2 non-null      int64 \n",
      " 4   rub_per_gb             2 non-null      int64 \n",
      " 5   rub_per_message        2 non-null      int64 \n",
      " 6   rub_per_minute         2 non-null      int64 \n",
      " 7   tariff_name            2 non-null      object\n",
      "dtypes: int64(7), object(1)\n",
      "memory usage: 256.0+ bytes\n"
     ]
    }
   ],
   "source": [
    "tariffs.info()"
   ]
  },
  {
   "cell_type": "markdown",
   "id": "02125d7c",
   "metadata": {},
   "source": [
    "### Вывод"
   ]
  },
  {
   "cell_type": "markdown",
   "id": "ead9b589",
   "metadata": {},
   "source": [
    "Проанализировав таблицы, обнаружила неверный тип только у дат. \n",
    "Кроме того, нам известно, что «Мегалайн» всегда округляет секунды до минут, а мегабайты — до гигабайт. \n",
    "Так что окрулим все звонки до минут и веб-трафик до гигабайтов.\n"
   ]
  },
  {
   "cell_type": "markdown",
   "id": "eb95e6db",
   "metadata": {},
   "source": [
    "## Подготовка данных"
   ]
  },
  {
   "cell_type": "markdown",
   "id": "d26b52da",
   "metadata": {},
   "source": [
    "Преобразуем даты"
   ]
  },
  {
   "cell_type": "code",
   "execution_count": 13,
   "id": "566160dc",
   "metadata": {},
   "outputs": [
    {
     "name": "stdout",
     "output_type": "stream",
     "text": [
      "<class 'pandas.core.frame.DataFrame'>\n",
      "RangeIndex: 500 entries, 0 to 499\n",
      "Data columns (total 8 columns):\n",
      " #   Column      Non-Null Count  Dtype         \n",
      "---  ------      --------------  -----         \n",
      " 0   user_id     500 non-null    int64         \n",
      " 1   age         500 non-null    int64         \n",
      " 2   churn_date  38 non-null     object        \n",
      " 3   city        500 non-null    object        \n",
      " 4   first_name  500 non-null    object        \n",
      " 5   last_name   500 non-null    object        \n",
      " 6   reg_date    500 non-null    datetime64[ns]\n",
      " 7   tariff      500 non-null    object        \n",
      "dtypes: datetime64[ns](1), int64(2), object(5)\n",
      "memory usage: 31.4+ KB\n"
     ]
    }
   ],
   "source": [
    "users['reg_date'] = pd.to_datetime(users['reg_date'], format = '%Y-%m-%d')\n",
    "users.info()"
   ]
  },
  {
   "cell_type": "code",
   "execution_count": 14,
   "id": "a78bc9d8",
   "metadata": {},
   "outputs": [
    {
     "name": "stdout",
     "output_type": "stream",
     "text": [
      "<class 'pandas.core.frame.DataFrame'>\n",
      "RangeIndex: 202607 entries, 0 to 202606\n",
      "Data columns (total 4 columns):\n",
      " #   Column     Non-Null Count   Dtype         \n",
      "---  ------     --------------   -----         \n",
      " 0   id         202607 non-null  object        \n",
      " 1   call_date  202607 non-null  datetime64[ns]\n",
      " 2   duration   202607 non-null  float64       \n",
      " 3   user_id    202607 non-null  int64         \n",
      "dtypes: datetime64[ns](1), float64(1), int64(1), object(1)\n",
      "memory usage: 6.2+ MB\n"
     ]
    }
   ],
   "source": [
    "calls['call_date'] = pd.to_datetime(calls['call_date'], format = '%Y-%m-%d')\n",
    "calls.info()"
   ]
  },
  {
   "cell_type": "code",
   "execution_count": 15,
   "id": "41f9c7bc",
   "metadata": {},
   "outputs": [
    {
     "name": "stdout",
     "output_type": "stream",
     "text": [
      "<class 'pandas.core.frame.DataFrame'>\n",
      "RangeIndex: 123036 entries, 0 to 123035\n",
      "Data columns (total 3 columns):\n",
      " #   Column        Non-Null Count   Dtype         \n",
      "---  ------        --------------   -----         \n",
      " 0   id            123036 non-null  object        \n",
      " 1   message_date  123036 non-null  datetime64[ns]\n",
      " 2   user_id       123036 non-null  int64         \n",
      "dtypes: datetime64[ns](1), int64(1), object(1)\n",
      "memory usage: 2.8+ MB\n"
     ]
    }
   ],
   "source": [
    "messages['message_date'] = pd.to_datetime(messages['message_date'], format = '%Y-%m-%d')\n",
    "messages.info()"
   ]
  },
  {
   "cell_type": "code",
   "execution_count": 16,
   "id": "154f6058",
   "metadata": {},
   "outputs": [
    {
     "name": "stdout",
     "output_type": "stream",
     "text": [
      "<class 'pandas.core.frame.DataFrame'>\n",
      "RangeIndex: 149396 entries, 0 to 149395\n",
      "Data columns (total 5 columns):\n",
      " #   Column        Non-Null Count   Dtype         \n",
      "---  ------        --------------   -----         \n",
      " 0   Unnamed: 0    149396 non-null  int64         \n",
      " 1   id            149396 non-null  object        \n",
      " 2   mb_used       149396 non-null  float64       \n",
      " 3   session_date  149396 non-null  datetime64[ns]\n",
      " 4   user_id       149396 non-null  int64         \n",
      "dtypes: datetime64[ns](1), float64(1), int64(2), object(1)\n",
      "memory usage: 5.7+ MB\n"
     ]
    }
   ],
   "source": [
    "internet['session_date'] = pd.to_datetime(internet['session_date'], format = '%Y-%m-%d')\n",
    "internet.info()"
   ]
  },
  {
   "cell_type": "markdown",
   "id": "abbabd38",
   "metadata": {},
   "source": [
    "Переименнуем столбец в таблице tariffs : tariff_name на tariff. Нам это понадобиться для объединения таблиц"
   ]
  },
  {
   "cell_type": "code",
   "execution_count": 17,
   "id": "ad0300cb",
   "metadata": {},
   "outputs": [
    {
     "data": {
      "text/html": [
       "<div>\n",
       "<style scoped>\n",
       "    .dataframe tbody tr th:only-of-type {\n",
       "        vertical-align: middle;\n",
       "    }\n",
       "\n",
       "    .dataframe tbody tr th {\n",
       "        vertical-align: top;\n",
       "    }\n",
       "\n",
       "    .dataframe thead th {\n",
       "        text-align: right;\n",
       "    }\n",
       "</style>\n",
       "<table border=\"1\" class=\"dataframe\">\n",
       "  <thead>\n",
       "    <tr style=\"text-align: right;\">\n",
       "      <th></th>\n",
       "      <th>messages_included</th>\n",
       "      <th>mb_per_month_included</th>\n",
       "      <th>minutes_included</th>\n",
       "      <th>rub_monthly_fee</th>\n",
       "      <th>rub_per_gb</th>\n",
       "      <th>rub_per_message</th>\n",
       "      <th>rub_per_minute</th>\n",
       "      <th>tariff</th>\n",
       "    </tr>\n",
       "  </thead>\n",
       "  <tbody>\n",
       "    <tr>\n",
       "      <th>0</th>\n",
       "      <td>50</td>\n",
       "      <td>15360</td>\n",
       "      <td>500</td>\n",
       "      <td>550</td>\n",
       "      <td>200</td>\n",
       "      <td>3</td>\n",
       "      <td>3</td>\n",
       "      <td>smart</td>\n",
       "    </tr>\n",
       "    <tr>\n",
       "      <th>1</th>\n",
       "      <td>1000</td>\n",
       "      <td>30720</td>\n",
       "      <td>3000</td>\n",
       "      <td>1950</td>\n",
       "      <td>150</td>\n",
       "      <td>1</td>\n",
       "      <td>1</td>\n",
       "      <td>ultra</td>\n",
       "    </tr>\n",
       "  </tbody>\n",
       "</table>\n",
       "</div>"
      ],
      "text/plain": [
       "   messages_included  mb_per_month_included  minutes_included  \\\n",
       "0                 50                  15360               500   \n",
       "1               1000                  30720              3000   \n",
       "\n",
       "   rub_monthly_fee  rub_per_gb  rub_per_message  rub_per_minute tariff  \n",
       "0              550         200                3               3  smart  \n",
       "1             1950         150                1               1  ultra  "
      ]
     },
     "execution_count": 17,
     "metadata": {},
     "output_type": "execute_result"
    }
   ],
   "source": [
    "tariffs = tariffs.rename(columns = {'tariff_name': 'tariff'})\n",
    "tariffs"
   ]
  },
  {
   "cell_type": "markdown",
   "id": "609556e7",
   "metadata": {},
   "source": [
    "Округлим звонки до минут"
   ]
  },
  {
   "cell_type": "code",
   "execution_count": 18,
   "id": "d0ce249b",
   "metadata": {},
   "outputs": [
    {
     "data": {
      "text/html": [
       "<div>\n",
       "<style scoped>\n",
       "    .dataframe tbody tr th:only-of-type {\n",
       "        vertical-align: middle;\n",
       "    }\n",
       "\n",
       "    .dataframe tbody tr th {\n",
       "        vertical-align: top;\n",
       "    }\n",
       "\n",
       "    .dataframe thead th {\n",
       "        text-align: right;\n",
       "    }\n",
       "</style>\n",
       "<table border=\"1\" class=\"dataframe\">\n",
       "  <thead>\n",
       "    <tr style=\"text-align: right;\">\n",
       "      <th></th>\n",
       "      <th>id</th>\n",
       "      <th>call_date</th>\n",
       "      <th>duration</th>\n",
       "      <th>user_id</th>\n",
       "    </tr>\n",
       "  </thead>\n",
       "  <tbody>\n",
       "    <tr>\n",
       "      <th>0</th>\n",
       "      <td>1000_0</td>\n",
       "      <td>2018-07-25</td>\n",
       "      <td>0</td>\n",
       "      <td>1000</td>\n",
       "    </tr>\n",
       "    <tr>\n",
       "      <th>1</th>\n",
       "      <td>1000_1</td>\n",
       "      <td>2018-08-17</td>\n",
       "      <td>0</td>\n",
       "      <td>1000</td>\n",
       "    </tr>\n",
       "    <tr>\n",
       "      <th>2</th>\n",
       "      <td>1000_2</td>\n",
       "      <td>2018-06-11</td>\n",
       "      <td>3</td>\n",
       "      <td>1000</td>\n",
       "    </tr>\n",
       "    <tr>\n",
       "      <th>3</th>\n",
       "      <td>1000_3</td>\n",
       "      <td>2018-09-21</td>\n",
       "      <td>14</td>\n",
       "      <td>1000</td>\n",
       "    </tr>\n",
       "    <tr>\n",
       "      <th>4</th>\n",
       "      <td>1000_4</td>\n",
       "      <td>2018-12-15</td>\n",
       "      <td>6</td>\n",
       "      <td>1000</td>\n",
       "    </tr>\n",
       "    <tr>\n",
       "      <th>5</th>\n",
       "      <td>1000_5</td>\n",
       "      <td>2018-11-02</td>\n",
       "      <td>0</td>\n",
       "      <td>1000</td>\n",
       "    </tr>\n",
       "    <tr>\n",
       "      <th>6</th>\n",
       "      <td>1000_6</td>\n",
       "      <td>2018-10-18</td>\n",
       "      <td>0</td>\n",
       "      <td>1000</td>\n",
       "    </tr>\n",
       "    <tr>\n",
       "      <th>7</th>\n",
       "      <td>1000_7</td>\n",
       "      <td>2018-08-22</td>\n",
       "      <td>19</td>\n",
       "      <td>1000</td>\n",
       "    </tr>\n",
       "    <tr>\n",
       "      <th>8</th>\n",
       "      <td>1000_8</td>\n",
       "      <td>2018-09-15</td>\n",
       "      <td>19</td>\n",
       "      <td>1000</td>\n",
       "    </tr>\n",
       "    <tr>\n",
       "      <th>9</th>\n",
       "      <td>1000_9</td>\n",
       "      <td>2018-08-15</td>\n",
       "      <td>0</td>\n",
       "      <td>1000</td>\n",
       "    </tr>\n",
       "  </tbody>\n",
       "</table>\n",
       "</div>"
      ],
      "text/plain": [
       "       id  call_date  duration  user_id\n",
       "0  1000_0 2018-07-25         0     1000\n",
       "1  1000_1 2018-08-17         0     1000\n",
       "2  1000_2 2018-06-11         3     1000\n",
       "3  1000_3 2018-09-21        14     1000\n",
       "4  1000_4 2018-12-15         6     1000\n",
       "5  1000_5 2018-11-02         0     1000\n",
       "6  1000_6 2018-10-18         0     1000\n",
       "7  1000_7 2018-08-22        19     1000\n",
       "8  1000_8 2018-09-15        19     1000\n",
       "9  1000_9 2018-08-15         0     1000"
      ]
     },
     "execution_count": 18,
     "metadata": {},
     "output_type": "execute_result"
    }
   ],
   "source": [
    "calls['duration'] = np.ceil(calls['duration']).astype('int')\n",
    "calls.head(10)"
   ]
  },
  {
   "cell_type": "markdown",
   "id": "7d30c305",
   "metadata": {},
   "source": [
    "Требуется посчитать количество звонков и израсходованных минут по месяцам. Для этого добавить новый столбец с указанием месяца. \n",
    "\n",
    "Проверим за какой период у нас звонки. Для этого найдем максимум и минимум в столбце с датой."
   ]
  },
  {
   "cell_type": "code",
   "execution_count": 19,
   "id": "d39a7ae3",
   "metadata": {},
   "outputs": [
    {
     "data": {
      "text/plain": [
       "Timestamp('2018-01-01 00:00:00')"
      ]
     },
     "metadata": {},
     "output_type": "display_data"
    },
    {
     "data": {
      "text/plain": [
       "Timestamp('2018-12-31 00:00:00')"
      ]
     },
     "execution_count": 19,
     "metadata": {},
     "output_type": "execute_result"
    }
   ],
   "source": [
    "display(calls['call_date'].min())\n",
    "calls['call_date'].max()"
   ]
  },
  {
   "cell_type": "markdown",
   "id": "ab826807",
   "metadata": {},
   "source": [
    "Мы убедились, что все звонки были совершенны в одном году. Значит достаточно будет добавить только столбец с месяцем. С годом столбец добавлять не надо."
   ]
  },
  {
   "cell_type": "code",
   "execution_count": 20,
   "id": "693c3ce4",
   "metadata": {},
   "outputs": [
    {
     "data": {
      "text/html": [
       "<div>\n",
       "<style scoped>\n",
       "    .dataframe tbody tr th:only-of-type {\n",
       "        vertical-align: middle;\n",
       "    }\n",
       "\n",
       "    .dataframe tbody tr th {\n",
       "        vertical-align: top;\n",
       "    }\n",
       "\n",
       "    .dataframe thead th {\n",
       "        text-align: right;\n",
       "    }\n",
       "</style>\n",
       "<table border=\"1\" class=\"dataframe\">\n",
       "  <thead>\n",
       "    <tr style=\"text-align: right;\">\n",
       "      <th></th>\n",
       "      <th>id</th>\n",
       "      <th>call_date</th>\n",
       "      <th>duration</th>\n",
       "      <th>user_id</th>\n",
       "      <th>month</th>\n",
       "    </tr>\n",
       "  </thead>\n",
       "  <tbody>\n",
       "    <tr>\n",
       "      <th>0</th>\n",
       "      <td>1000_0</td>\n",
       "      <td>2018-07-25</td>\n",
       "      <td>0</td>\n",
       "      <td>1000</td>\n",
       "      <td>7</td>\n",
       "    </tr>\n",
       "    <tr>\n",
       "      <th>1</th>\n",
       "      <td>1000_1</td>\n",
       "      <td>2018-08-17</td>\n",
       "      <td>0</td>\n",
       "      <td>1000</td>\n",
       "      <td>8</td>\n",
       "    </tr>\n",
       "    <tr>\n",
       "      <th>2</th>\n",
       "      <td>1000_2</td>\n",
       "      <td>2018-06-11</td>\n",
       "      <td>3</td>\n",
       "      <td>1000</td>\n",
       "      <td>6</td>\n",
       "    </tr>\n",
       "    <tr>\n",
       "      <th>3</th>\n",
       "      <td>1000_3</td>\n",
       "      <td>2018-09-21</td>\n",
       "      <td>14</td>\n",
       "      <td>1000</td>\n",
       "      <td>9</td>\n",
       "    </tr>\n",
       "    <tr>\n",
       "      <th>4</th>\n",
       "      <td>1000_4</td>\n",
       "      <td>2018-12-15</td>\n",
       "      <td>6</td>\n",
       "      <td>1000</td>\n",
       "      <td>12</td>\n",
       "    </tr>\n",
       "    <tr>\n",
       "      <th>...</th>\n",
       "      <td>...</td>\n",
       "      <td>...</td>\n",
       "      <td>...</td>\n",
       "      <td>...</td>\n",
       "      <td>...</td>\n",
       "    </tr>\n",
       "    <tr>\n",
       "      <th>202602</th>\n",
       "      <td>1499_215</td>\n",
       "      <td>2018-12-26</td>\n",
       "      <td>1</td>\n",
       "      <td>1499</td>\n",
       "      <td>12</td>\n",
       "    </tr>\n",
       "    <tr>\n",
       "      <th>202603</th>\n",
       "      <td>1499_216</td>\n",
       "      <td>2018-10-18</td>\n",
       "      <td>19</td>\n",
       "      <td>1499</td>\n",
       "      <td>10</td>\n",
       "    </tr>\n",
       "    <tr>\n",
       "      <th>202604</th>\n",
       "      <td>1499_217</td>\n",
       "      <td>2018-11-10</td>\n",
       "      <td>11</td>\n",
       "      <td>1499</td>\n",
       "      <td>11</td>\n",
       "    </tr>\n",
       "    <tr>\n",
       "      <th>202605</th>\n",
       "      <td>1499_218</td>\n",
       "      <td>2018-10-06</td>\n",
       "      <td>5</td>\n",
       "      <td>1499</td>\n",
       "      <td>10</td>\n",
       "    </tr>\n",
       "    <tr>\n",
       "      <th>202606</th>\n",
       "      <td>1499_219</td>\n",
       "      <td>2018-12-14</td>\n",
       "      <td>20</td>\n",
       "      <td>1499</td>\n",
       "      <td>12</td>\n",
       "    </tr>\n",
       "  </tbody>\n",
       "</table>\n",
       "<p>202607 rows × 5 columns</p>\n",
       "</div>"
      ],
      "text/plain": [
       "              id  call_date  duration  user_id  month\n",
       "0         1000_0 2018-07-25         0     1000      7\n",
       "1         1000_1 2018-08-17         0     1000      8\n",
       "2         1000_2 2018-06-11         3     1000      6\n",
       "3         1000_3 2018-09-21        14     1000      9\n",
       "4         1000_4 2018-12-15         6     1000     12\n",
       "...          ...        ...       ...      ...    ...\n",
       "202602  1499_215 2018-12-26         1     1499     12\n",
       "202603  1499_216 2018-10-18        19     1499     10\n",
       "202604  1499_217 2018-11-10        11     1499     11\n",
       "202605  1499_218 2018-10-06         5     1499     10\n",
       "202606  1499_219 2018-12-14        20     1499     12\n",
       "\n",
       "[202607 rows x 5 columns]"
      ]
     },
     "execution_count": 20,
     "metadata": {},
     "output_type": "execute_result"
    }
   ],
   "source": [
    "calls['month'] = pd.DatetimeIndex(calls['call_date']).month\n",
    "calls"
   ]
  },
  {
   "cell_type": "markdown",
   "id": "ece362fd",
   "metadata": {},
   "source": [
    "Тоже проделаем для таблицы с количеством сообщений и интернет трафика"
   ]
  },
  {
   "cell_type": "code",
   "execution_count": 21,
   "id": "9e8d2781",
   "metadata": {},
   "outputs": [
    {
     "data": {
      "text/plain": [
       "Timestamp('2018-01-02 00:00:00')"
      ]
     },
     "metadata": {},
     "output_type": "display_data"
    },
    {
     "data": {
      "text/plain": [
       "Timestamp('2018-12-31 00:00:00')"
      ]
     },
     "execution_count": 21,
     "metadata": {},
     "output_type": "execute_result"
    }
   ],
   "source": [
    "display(messages['message_date'].min())\n",
    "messages['message_date'].max()"
   ]
  },
  {
   "cell_type": "code",
   "execution_count": 22,
   "id": "e6b457c3",
   "metadata": {},
   "outputs": [
    {
     "data": {
      "text/html": [
       "<div>\n",
       "<style scoped>\n",
       "    .dataframe tbody tr th:only-of-type {\n",
       "        vertical-align: middle;\n",
       "    }\n",
       "\n",
       "    .dataframe tbody tr th {\n",
       "        vertical-align: top;\n",
       "    }\n",
       "\n",
       "    .dataframe thead th {\n",
       "        text-align: right;\n",
       "    }\n",
       "</style>\n",
       "<table border=\"1\" class=\"dataframe\">\n",
       "  <thead>\n",
       "    <tr style=\"text-align: right;\">\n",
       "      <th></th>\n",
       "      <th>id</th>\n",
       "      <th>message_date</th>\n",
       "      <th>user_id</th>\n",
       "      <th>month</th>\n",
       "    </tr>\n",
       "  </thead>\n",
       "  <tbody>\n",
       "    <tr>\n",
       "      <th>0</th>\n",
       "      <td>1000_0</td>\n",
       "      <td>2018-06-27</td>\n",
       "      <td>1000</td>\n",
       "      <td>6</td>\n",
       "    </tr>\n",
       "    <tr>\n",
       "      <th>1</th>\n",
       "      <td>1000_1</td>\n",
       "      <td>2018-10-08</td>\n",
       "      <td>1000</td>\n",
       "      <td>10</td>\n",
       "    </tr>\n",
       "    <tr>\n",
       "      <th>2</th>\n",
       "      <td>1000_2</td>\n",
       "      <td>2018-08-04</td>\n",
       "      <td>1000</td>\n",
       "      <td>8</td>\n",
       "    </tr>\n",
       "    <tr>\n",
       "      <th>3</th>\n",
       "      <td>1000_3</td>\n",
       "      <td>2018-06-16</td>\n",
       "      <td>1000</td>\n",
       "      <td>6</td>\n",
       "    </tr>\n",
       "    <tr>\n",
       "      <th>4</th>\n",
       "      <td>1000_4</td>\n",
       "      <td>2018-12-05</td>\n",
       "      <td>1000</td>\n",
       "      <td>12</td>\n",
       "    </tr>\n",
       "    <tr>\n",
       "      <th>...</th>\n",
       "      <td>...</td>\n",
       "      <td>...</td>\n",
       "      <td>...</td>\n",
       "      <td>...</td>\n",
       "    </tr>\n",
       "    <tr>\n",
       "      <th>123031</th>\n",
       "      <td>1499_179</td>\n",
       "      <td>2018-12-12</td>\n",
       "      <td>1499</td>\n",
       "      <td>12</td>\n",
       "    </tr>\n",
       "    <tr>\n",
       "      <th>123032</th>\n",
       "      <td>1499_180</td>\n",
       "      <td>2018-09-28</td>\n",
       "      <td>1499</td>\n",
       "      <td>9</td>\n",
       "    </tr>\n",
       "    <tr>\n",
       "      <th>123033</th>\n",
       "      <td>1499_181</td>\n",
       "      <td>2018-09-27</td>\n",
       "      <td>1499</td>\n",
       "      <td>9</td>\n",
       "    </tr>\n",
       "    <tr>\n",
       "      <th>123034</th>\n",
       "      <td>1499_182</td>\n",
       "      <td>2018-11-15</td>\n",
       "      <td>1499</td>\n",
       "      <td>11</td>\n",
       "    </tr>\n",
       "    <tr>\n",
       "      <th>123035</th>\n",
       "      <td>1499_183</td>\n",
       "      <td>2018-11-16</td>\n",
       "      <td>1499</td>\n",
       "      <td>11</td>\n",
       "    </tr>\n",
       "  </tbody>\n",
       "</table>\n",
       "<p>123036 rows × 4 columns</p>\n",
       "</div>"
      ],
      "text/plain": [
       "              id message_date  user_id  month\n",
       "0         1000_0   2018-06-27     1000      6\n",
       "1         1000_1   2018-10-08     1000     10\n",
       "2         1000_2   2018-08-04     1000      8\n",
       "3         1000_3   2018-06-16     1000      6\n",
       "4         1000_4   2018-12-05     1000     12\n",
       "...          ...          ...      ...    ...\n",
       "123031  1499_179   2018-12-12     1499     12\n",
       "123032  1499_180   2018-09-28     1499      9\n",
       "123033  1499_181   2018-09-27     1499      9\n",
       "123034  1499_182   2018-11-15     1499     11\n",
       "123035  1499_183   2018-11-16     1499     11\n",
       "\n",
       "[123036 rows x 4 columns]"
      ]
     },
     "execution_count": 22,
     "metadata": {},
     "output_type": "execute_result"
    }
   ],
   "source": [
    "messages['month'] = pd.DatetimeIndex(messages['message_date']).month\n",
    "messages"
   ]
  },
  {
   "cell_type": "code",
   "execution_count": 23,
   "id": "fef89a02",
   "metadata": {},
   "outputs": [
    {
     "data": {
      "text/plain": [
       "Timestamp('2018-01-01 00:00:00')"
      ]
     },
     "metadata": {},
     "output_type": "display_data"
    },
    {
     "data": {
      "text/plain": [
       "Timestamp('2018-12-31 00:00:00')"
      ]
     },
     "execution_count": 23,
     "metadata": {},
     "output_type": "execute_result"
    }
   ],
   "source": [
    "display(internet['session_date'].min())\n",
    "internet['session_date'].max()"
   ]
  },
  {
   "cell_type": "code",
   "execution_count": 24,
   "id": "4198d049",
   "metadata": {},
   "outputs": [
    {
     "data": {
      "text/html": [
       "<div>\n",
       "<style scoped>\n",
       "    .dataframe tbody tr th:only-of-type {\n",
       "        vertical-align: middle;\n",
       "    }\n",
       "\n",
       "    .dataframe tbody tr th {\n",
       "        vertical-align: top;\n",
       "    }\n",
       "\n",
       "    .dataframe thead th {\n",
       "        text-align: right;\n",
       "    }\n",
       "</style>\n",
       "<table border=\"1\" class=\"dataframe\">\n",
       "  <thead>\n",
       "    <tr style=\"text-align: right;\">\n",
       "      <th></th>\n",
       "      <th>Unnamed: 0</th>\n",
       "      <th>id</th>\n",
       "      <th>mb_used</th>\n",
       "      <th>session_date</th>\n",
       "      <th>user_id</th>\n",
       "      <th>month</th>\n",
       "    </tr>\n",
       "  </thead>\n",
       "  <tbody>\n",
       "    <tr>\n",
       "      <th>0</th>\n",
       "      <td>0</td>\n",
       "      <td>1000_0</td>\n",
       "      <td>112.95</td>\n",
       "      <td>2018-11-25</td>\n",
       "      <td>1000</td>\n",
       "      <td>11</td>\n",
       "    </tr>\n",
       "    <tr>\n",
       "      <th>1</th>\n",
       "      <td>1</td>\n",
       "      <td>1000_1</td>\n",
       "      <td>1052.81</td>\n",
       "      <td>2018-09-07</td>\n",
       "      <td>1000</td>\n",
       "      <td>9</td>\n",
       "    </tr>\n",
       "    <tr>\n",
       "      <th>2</th>\n",
       "      <td>2</td>\n",
       "      <td>1000_2</td>\n",
       "      <td>1197.26</td>\n",
       "      <td>2018-06-25</td>\n",
       "      <td>1000</td>\n",
       "      <td>6</td>\n",
       "    </tr>\n",
       "    <tr>\n",
       "      <th>3</th>\n",
       "      <td>3</td>\n",
       "      <td>1000_3</td>\n",
       "      <td>550.27</td>\n",
       "      <td>2018-08-22</td>\n",
       "      <td>1000</td>\n",
       "      <td>8</td>\n",
       "    </tr>\n",
       "    <tr>\n",
       "      <th>4</th>\n",
       "      <td>4</td>\n",
       "      <td>1000_4</td>\n",
       "      <td>302.56</td>\n",
       "      <td>2018-09-24</td>\n",
       "      <td>1000</td>\n",
       "      <td>9</td>\n",
       "    </tr>\n",
       "    <tr>\n",
       "      <th>...</th>\n",
       "      <td>...</td>\n",
       "      <td>...</td>\n",
       "      <td>...</td>\n",
       "      <td>...</td>\n",
       "      <td>...</td>\n",
       "      <td>...</td>\n",
       "    </tr>\n",
       "    <tr>\n",
       "      <th>149391</th>\n",
       "      <td>149391</td>\n",
       "      <td>1499_152</td>\n",
       "      <td>318.90</td>\n",
       "      <td>2018-10-03</td>\n",
       "      <td>1499</td>\n",
       "      <td>10</td>\n",
       "    </tr>\n",
       "    <tr>\n",
       "      <th>149392</th>\n",
       "      <td>149392</td>\n",
       "      <td>1499_153</td>\n",
       "      <td>490.13</td>\n",
       "      <td>2018-12-14</td>\n",
       "      <td>1499</td>\n",
       "      <td>12</td>\n",
       "    </tr>\n",
       "    <tr>\n",
       "      <th>149393</th>\n",
       "      <td>149393</td>\n",
       "      <td>1499_154</td>\n",
       "      <td>0.00</td>\n",
       "      <td>2018-10-27</td>\n",
       "      <td>1499</td>\n",
       "      <td>10</td>\n",
       "    </tr>\n",
       "    <tr>\n",
       "      <th>149394</th>\n",
       "      <td>149394</td>\n",
       "      <td>1499_155</td>\n",
       "      <td>1246.32</td>\n",
       "      <td>2018-11-26</td>\n",
       "      <td>1499</td>\n",
       "      <td>11</td>\n",
       "    </tr>\n",
       "    <tr>\n",
       "      <th>149395</th>\n",
       "      <td>149395</td>\n",
       "      <td>1499_156</td>\n",
       "      <td>544.37</td>\n",
       "      <td>2018-10-26</td>\n",
       "      <td>1499</td>\n",
       "      <td>10</td>\n",
       "    </tr>\n",
       "  </tbody>\n",
       "</table>\n",
       "<p>149396 rows × 6 columns</p>\n",
       "</div>"
      ],
      "text/plain": [
       "        Unnamed: 0        id  mb_used session_date  user_id  month\n",
       "0                0    1000_0   112.95   2018-11-25     1000     11\n",
       "1                1    1000_1  1052.81   2018-09-07     1000      9\n",
       "2                2    1000_2  1197.26   2018-06-25     1000      6\n",
       "3                3    1000_3   550.27   2018-08-22     1000      8\n",
       "4                4    1000_4   302.56   2018-09-24     1000      9\n",
       "...            ...       ...      ...          ...      ...    ...\n",
       "149391      149391  1499_152   318.90   2018-10-03     1499     10\n",
       "149392      149392  1499_153   490.13   2018-12-14     1499     12\n",
       "149393      149393  1499_154     0.00   2018-10-27     1499     10\n",
       "149394      149394  1499_155  1246.32   2018-11-26     1499     11\n",
       "149395      149395  1499_156   544.37   2018-10-26     1499     10\n",
       "\n",
       "[149396 rows x 6 columns]"
      ]
     },
     "execution_count": 24,
     "metadata": {},
     "output_type": "execute_result"
    }
   ],
   "source": [
    "internet['month'] = pd.DatetimeIndex(internet['session_date']).month\n",
    "internet"
   ]
  },
  {
   "cell_type": "code",
   "execution_count": 25,
   "id": "86e819c0",
   "metadata": {},
   "outputs": [
    {
     "data": {
      "text/plain": [
       "count    500.00000\n",
       "mean      46.58800\n",
       "std       16.66763\n",
       "min       18.00000\n",
       "25%       32.00000\n",
       "50%       46.00000\n",
       "75%       62.00000\n",
       "max       75.00000\n",
       "Name: age, dtype: float64"
      ]
     },
     "execution_count": 25,
     "metadata": {},
     "output_type": "execute_result"
    },
    {
     "data": {
      "image/png": "[encoded data removed]",
      "text/plain": [
       "<Figure size 432x288 with 1 Axes>"
      ]
     },
     "metadata": {
      "needs_background": "light"
     },
     "output_type": "display_data"
    }
   ],
   "source": [
    "plt.hist(users['age'], bins=30 )\n",
    "users['age'].describe()"
   ]
  },
  {
   "cell_type": "code",
   "execution_count": 26,
   "id": "83cd5a78",
   "metadata": {},
   "outputs": [
    {
     "data": {
      "text/plain": [
       "count    202607.000000\n",
       "mean          7.158198\n",
       "std           5.959173\n",
       "min           0.000000\n",
       "25%           2.000000\n",
       "50%           6.000000\n",
       "75%          11.000000\n",
       "max          38.000000\n",
       "Name: duration, dtype: float64"
      ]
     },
     "execution_count": 26,
     "metadata": {},
     "output_type": "execute_result"
    },
    {
     "data": {
      "image/png": "[encoded data removed]",
      "text/plain": [
       "<Figure size 432x288 with 1 Axes>"
      ]
     },
     "metadata": {
      "needs_background": "light"
     },
     "output_type": "display_data"
    }
   ],
   "source": [
    "plt.hist(calls['duration'], bins=30)\n",
    "calls['duration'].describe()"
   ]
  },
  {
   "cell_type": "code",
   "execution_count": 27,
   "id": "a5a63d40",
   "metadata": {},
   "outputs": [
    {
     "data": {
      "text/plain": [
       "count    149396.000000\n",
       "mean        370.192426\n",
       "std         278.300951\n",
       "min           0.000000\n",
       "25%         138.187500\n",
       "50%         348.015000\n",
       "75%         559.552500\n",
       "max        1724.830000\n",
       "Name: mb_used, dtype: float64"
      ]
     },
     "execution_count": 27,
     "metadata": {},
     "output_type": "execute_result"
    },
    {
     "data": {
      "image/png": "[encoded data removed]",
      "text/plain": [
       "<Figure size 432x288 with 1 Axes>"
      ]
     },
     "metadata": {
      "needs_background": "light"
     },
     "output_type": "display_data"
    }
   ],
   "source": [
    "plt.hist(internet['mb_used'], bins=20)\n",
    "internet['mb_used'].describe()"
   ]
  },
  {
   "cell_type": "markdown",
   "id": "406c4071",
   "metadata": {},
   "source": [
    "Построила гистограмму для таблицы user по столбцу age, проверила максимальное и минимальное значение. Аномального возраста нет. \n",
    "Построила гистограмму для таблицы calls по столбцу duration, проверила максимальное и минимальное значение.. Аномально длинных звонков не обнаружила.\n",
    "Построила гистограмму для таблицы internet по стоблцу mb_used, проверила максимальное и минимальное значение.. Тоже аномалий не обнаружено. "
   ]
  },
  {
   "cell_type": "markdown",
   "id": "46326c05",
   "metadata": {},
   "source": [
    "Сгруппируем звонки, сообщения и интернет трафик для каждого пользователя по месяцам. И добавим столбец с тарифом."
   ]
  },
  {
   "cell_type": "code",
   "execution_count": 28,
   "id": "43571f22",
   "metadata": {},
   "outputs": [
    {
     "data": {
      "text/html": [
       "<div>\n",
       "<style scoped>\n",
       "    .dataframe tbody tr th:only-of-type {\n",
       "        vertical-align: middle;\n",
       "    }\n",
       "\n",
       "    .dataframe tbody tr th {\n",
       "        vertical-align: top;\n",
       "    }\n",
       "\n",
       "    .dataframe thead th {\n",
       "        text-align: right;\n",
       "    }\n",
       "</style>\n",
       "<table border=\"1\" class=\"dataframe\">\n",
       "  <thead>\n",
       "    <tr style=\"text-align: right;\">\n",
       "      <th></th>\n",
       "      <th>user_id</th>\n",
       "      <th>month</th>\n",
       "      <th>calls</th>\n",
       "      <th>duration</th>\n",
       "    </tr>\n",
       "  </thead>\n",
       "  <tbody>\n",
       "    <tr>\n",
       "      <th>0</th>\n",
       "      <td>1000</td>\n",
       "      <td>5</td>\n",
       "      <td>22</td>\n",
       "      <td>159</td>\n",
       "    </tr>\n",
       "    <tr>\n",
       "      <th>1</th>\n",
       "      <td>1000</td>\n",
       "      <td>6</td>\n",
       "      <td>43</td>\n",
       "      <td>172</td>\n",
       "    </tr>\n",
       "    <tr>\n",
       "      <th>2</th>\n",
       "      <td>1000</td>\n",
       "      <td>7</td>\n",
       "      <td>47</td>\n",
       "      <td>340</td>\n",
       "    </tr>\n",
       "    <tr>\n",
       "      <th>3</th>\n",
       "      <td>1000</td>\n",
       "      <td>8</td>\n",
       "      <td>52</td>\n",
       "      <td>408</td>\n",
       "    </tr>\n",
       "    <tr>\n",
       "      <th>4</th>\n",
       "      <td>1000</td>\n",
       "      <td>9</td>\n",
       "      <td>58</td>\n",
       "      <td>466</td>\n",
       "    </tr>\n",
       "    <tr>\n",
       "      <th>...</th>\n",
       "      <td>...</td>\n",
       "      <td>...</td>\n",
       "      <td>...</td>\n",
       "      <td>...</td>\n",
       "    </tr>\n",
       "    <tr>\n",
       "      <th>3169</th>\n",
       "      <td>1498</td>\n",
       "      <td>10</td>\n",
       "      <td>41</td>\n",
       "      <td>247</td>\n",
       "    </tr>\n",
       "    <tr>\n",
       "      <th>3170</th>\n",
       "      <td>1499</td>\n",
       "      <td>9</td>\n",
       "      <td>9</td>\n",
       "      <td>70</td>\n",
       "    </tr>\n",
       "    <tr>\n",
       "      <th>3171</th>\n",
       "      <td>1499</td>\n",
       "      <td>10</td>\n",
       "      <td>68</td>\n",
       "      <td>449</td>\n",
       "    </tr>\n",
       "    <tr>\n",
       "      <th>3172</th>\n",
       "      <td>1499</td>\n",
       "      <td>11</td>\n",
       "      <td>74</td>\n",
       "      <td>612</td>\n",
       "    </tr>\n",
       "    <tr>\n",
       "      <th>3173</th>\n",
       "      <td>1499</td>\n",
       "      <td>12</td>\n",
       "      <td>69</td>\n",
       "      <td>492</td>\n",
       "    </tr>\n",
       "  </tbody>\n",
       "</table>\n",
       "<p>3174 rows × 4 columns</p>\n",
       "</div>"
      ],
      "text/plain": [
       "      user_id  month  calls  duration\n",
       "0        1000      5     22       159\n",
       "1        1000      6     43       172\n",
       "2        1000      7     47       340\n",
       "3        1000      8     52       408\n",
       "4        1000      9     58       466\n",
       "...       ...    ...    ...       ...\n",
       "3169     1498     10     41       247\n",
       "3170     1499      9      9        70\n",
       "3171     1499     10     68       449\n",
       "3172     1499     11     74       612\n",
       "3173     1499     12     69       492\n",
       "\n",
       "[3174 rows x 4 columns]"
      ]
     },
     "execution_count": 28,
     "metadata": {},
     "output_type": "execute_result"
    }
   ],
   "source": [
    "calls_count = calls.groupby(['user_id','month']).agg(calls = ('id', 'count',), duration = ('duration', 'sum')).reset_index()\n",
    "calls_count"
   ]
  },
  {
   "cell_type": "code",
   "execution_count": 29,
   "id": "8b59132d",
   "metadata": {},
   "outputs": [
    {
     "data": {
      "text/html": [
       "<div>\n",
       "<style scoped>\n",
       "    .dataframe tbody tr th:only-of-type {\n",
       "        vertical-align: middle;\n",
       "    }\n",
       "\n",
       "    .dataframe tbody tr th {\n",
       "        vertical-align: top;\n",
       "    }\n",
       "\n",
       "    .dataframe thead th {\n",
       "        text-align: right;\n",
       "    }\n",
       "</style>\n",
       "<table border=\"1\" class=\"dataframe\">\n",
       "  <thead>\n",
       "    <tr style=\"text-align: right;\">\n",
       "      <th></th>\n",
       "      <th>user_id</th>\n",
       "      <th>month</th>\n",
       "      <th>messages</th>\n",
       "    </tr>\n",
       "  </thead>\n",
       "  <tbody>\n",
       "    <tr>\n",
       "      <th>0</th>\n",
       "      <td>1000</td>\n",
       "      <td>5</td>\n",
       "      <td>22</td>\n",
       "    </tr>\n",
       "    <tr>\n",
       "      <th>1</th>\n",
       "      <td>1000</td>\n",
       "      <td>6</td>\n",
       "      <td>60</td>\n",
       "    </tr>\n",
       "    <tr>\n",
       "      <th>2</th>\n",
       "      <td>1000</td>\n",
       "      <td>7</td>\n",
       "      <td>75</td>\n",
       "    </tr>\n",
       "    <tr>\n",
       "      <th>3</th>\n",
       "      <td>1000</td>\n",
       "      <td>8</td>\n",
       "      <td>81</td>\n",
       "    </tr>\n",
       "    <tr>\n",
       "      <th>4</th>\n",
       "      <td>1000</td>\n",
       "      <td>9</td>\n",
       "      <td>57</td>\n",
       "    </tr>\n",
       "    <tr>\n",
       "      <th>...</th>\n",
       "      <td>...</td>\n",
       "      <td>...</td>\n",
       "      <td>...</td>\n",
       "    </tr>\n",
       "    <tr>\n",
       "      <th>2712</th>\n",
       "      <td>1498</td>\n",
       "      <td>10</td>\n",
       "      <td>42</td>\n",
       "    </tr>\n",
       "    <tr>\n",
       "      <th>2713</th>\n",
       "      <td>1499</td>\n",
       "      <td>9</td>\n",
       "      <td>11</td>\n",
       "    </tr>\n",
       "    <tr>\n",
       "      <th>2714</th>\n",
       "      <td>1499</td>\n",
       "      <td>10</td>\n",
       "      <td>48</td>\n",
       "    </tr>\n",
       "    <tr>\n",
       "      <th>2715</th>\n",
       "      <td>1499</td>\n",
       "      <td>11</td>\n",
       "      <td>59</td>\n",
       "    </tr>\n",
       "    <tr>\n",
       "      <th>2716</th>\n",
       "      <td>1499</td>\n",
       "      <td>12</td>\n",
       "      <td>66</td>\n",
       "    </tr>\n",
       "  </tbody>\n",
       "</table>\n",
       "<p>2717 rows × 3 columns</p>\n",
       "</div>"
      ],
      "text/plain": [
       "      user_id  month  messages\n",
       "0        1000      5        22\n",
       "1        1000      6        60\n",
       "2        1000      7        75\n",
       "3        1000      8        81\n",
       "4        1000      9        57\n",
       "...       ...    ...       ...\n",
       "2712     1498     10        42\n",
       "2713     1499      9        11\n",
       "2714     1499     10        48\n",
       "2715     1499     11        59\n",
       "2716     1499     12        66\n",
       "\n",
       "[2717 rows x 3 columns]"
      ]
     },
     "execution_count": 29,
     "metadata": {},
     "output_type": "execute_result"
    }
   ],
   "source": [
    "messages_count = messages.groupby(['user_id','month']).agg(messages = ('id', 'count')).reset_index()\n",
    "messages_count"
   ]
  },
  {
   "cell_type": "code",
   "execution_count": 30,
   "id": "94c1ec16",
   "metadata": {},
   "outputs": [
    {
     "data": {
      "text/html": [
       "<div>\n",
       "<style scoped>\n",
       "    .dataframe tbody tr th:only-of-type {\n",
       "        vertical-align: middle;\n",
       "    }\n",
       "\n",
       "    .dataframe tbody tr th {\n",
       "        vertical-align: top;\n",
       "    }\n",
       "\n",
       "    .dataframe thead th {\n",
       "        text-align: right;\n",
       "    }\n",
       "</style>\n",
       "<table border=\"1\" class=\"dataframe\">\n",
       "  <thead>\n",
       "    <tr style=\"text-align: right;\">\n",
       "      <th></th>\n",
       "      <th>user_id</th>\n",
       "      <th>month</th>\n",
       "      <th>mb_used</th>\n",
       "      <th>gb_used</th>\n",
       "    </tr>\n",
       "  </thead>\n",
       "  <tbody>\n",
       "    <tr>\n",
       "      <th>0</th>\n",
       "      <td>1000</td>\n",
       "      <td>5</td>\n",
       "      <td>2253.49</td>\n",
       "      <td>3</td>\n",
       "    </tr>\n",
       "    <tr>\n",
       "      <th>1</th>\n",
       "      <td>1000</td>\n",
       "      <td>6</td>\n",
       "      <td>23233.77</td>\n",
       "      <td>23</td>\n",
       "    </tr>\n",
       "    <tr>\n",
       "      <th>2</th>\n",
       "      <td>1000</td>\n",
       "      <td>7</td>\n",
       "      <td>14003.64</td>\n",
       "      <td>14</td>\n",
       "    </tr>\n",
       "    <tr>\n",
       "      <th>3</th>\n",
       "      <td>1000</td>\n",
       "      <td>8</td>\n",
       "      <td>14055.93</td>\n",
       "      <td>14</td>\n",
       "    </tr>\n",
       "    <tr>\n",
       "      <th>4</th>\n",
       "      <td>1000</td>\n",
       "      <td>9</td>\n",
       "      <td>14568.91</td>\n",
       "      <td>15</td>\n",
       "    </tr>\n",
       "    <tr>\n",
       "      <th>...</th>\n",
       "      <td>...</td>\n",
       "      <td>...</td>\n",
       "      <td>...</td>\n",
       "      <td>...</td>\n",
       "    </tr>\n",
       "    <tr>\n",
       "      <th>3198</th>\n",
       "      <td>1498</td>\n",
       "      <td>10</td>\n",
       "      <td>20579.36</td>\n",
       "      <td>21</td>\n",
       "    </tr>\n",
       "    <tr>\n",
       "      <th>3199</th>\n",
       "      <td>1499</td>\n",
       "      <td>9</td>\n",
       "      <td>1845.75</td>\n",
       "      <td>2</td>\n",
       "    </tr>\n",
       "    <tr>\n",
       "      <th>3200</th>\n",
       "      <td>1499</td>\n",
       "      <td>10</td>\n",
       "      <td>17788.51</td>\n",
       "      <td>18</td>\n",
       "    </tr>\n",
       "    <tr>\n",
       "      <th>3201</th>\n",
       "      <td>1499</td>\n",
       "      <td>11</td>\n",
       "      <td>17963.31</td>\n",
       "      <td>18</td>\n",
       "    </tr>\n",
       "    <tr>\n",
       "      <th>3202</th>\n",
       "      <td>1499</td>\n",
       "      <td>12</td>\n",
       "      <td>13055.58</td>\n",
       "      <td>13</td>\n",
       "    </tr>\n",
       "  </tbody>\n",
       "</table>\n",
       "<p>3203 rows × 4 columns</p>\n",
       "</div>"
      ],
      "text/plain": [
       "      user_id  month   mb_used  gb_used\n",
       "0        1000      5   2253.49        3\n",
       "1        1000      6  23233.77       23\n",
       "2        1000      7  14003.64       14\n",
       "3        1000      8  14055.93       14\n",
       "4        1000      9  14568.91       15\n",
       "...       ...    ...       ...      ...\n",
       "3198     1498     10  20579.36       21\n",
       "3199     1499      9   1845.75        2\n",
       "3200     1499     10  17788.51       18\n",
       "3201     1499     11  17963.31       18\n",
       "3202     1499     12  13055.58       13\n",
       "\n",
       "[3203 rows x 4 columns]"
      ]
     },
     "execution_count": 30,
     "metadata": {},
     "output_type": "execute_result"
    }
   ],
   "source": [
    "internet_count = internet.groupby(['user_id','month']).agg(mb_used = ('mb_used', 'sum')).reset_index()\n",
    "internet_count['gb_used'] = np.ceil(internet_count['mb_used']/1024).astype('int')\n",
    "internet_count"
   ]
  },
  {
   "cell_type": "code",
   "execution_count": 31,
   "id": "4116a64c",
   "metadata": {},
   "outputs": [
    {
     "data": {
      "text/html": [
       "<div>\n",
       "<style scoped>\n",
       "    .dataframe tbody tr th:only-of-type {\n",
       "        vertical-align: middle;\n",
       "    }\n",
       "\n",
       "    .dataframe tbody tr th {\n",
       "        vertical-align: top;\n",
       "    }\n",
       "\n",
       "    .dataframe thead th {\n",
       "        text-align: right;\n",
       "    }\n",
       "</style>\n",
       "<table border=\"1\" class=\"dataframe\">\n",
       "  <thead>\n",
       "    <tr style=\"text-align: right;\">\n",
       "      <th></th>\n",
       "      <th>user_id</th>\n",
       "      <th>month</th>\n",
       "      <th>calls</th>\n",
       "      <th>duration</th>\n",
       "      <th>messages</th>\n",
       "      <th>mb_used</th>\n",
       "      <th>gb_used</th>\n",
       "    </tr>\n",
       "  </thead>\n",
       "  <tbody>\n",
       "    <tr>\n",
       "      <th>0</th>\n",
       "      <td>1000</td>\n",
       "      <td>5</td>\n",
       "      <td>22.0</td>\n",
       "      <td>159.0</td>\n",
       "      <td>22.0</td>\n",
       "      <td>2253.49</td>\n",
       "      <td>3.0</td>\n",
       "    </tr>\n",
       "    <tr>\n",
       "      <th>1</th>\n",
       "      <td>1000</td>\n",
       "      <td>6</td>\n",
       "      <td>43.0</td>\n",
       "      <td>172.0</td>\n",
       "      <td>60.0</td>\n",
       "      <td>23233.77</td>\n",
       "      <td>23.0</td>\n",
       "    </tr>\n",
       "    <tr>\n",
       "      <th>2</th>\n",
       "      <td>1000</td>\n",
       "      <td>7</td>\n",
       "      <td>47.0</td>\n",
       "      <td>340.0</td>\n",
       "      <td>75.0</td>\n",
       "      <td>14003.64</td>\n",
       "      <td>14.0</td>\n",
       "    </tr>\n",
       "    <tr>\n",
       "      <th>3</th>\n",
       "      <td>1000</td>\n",
       "      <td>8</td>\n",
       "      <td>52.0</td>\n",
       "      <td>408.0</td>\n",
       "      <td>81.0</td>\n",
       "      <td>14055.93</td>\n",
       "      <td>14.0</td>\n",
       "    </tr>\n",
       "    <tr>\n",
       "      <th>4</th>\n",
       "      <td>1000</td>\n",
       "      <td>9</td>\n",
       "      <td>58.0</td>\n",
       "      <td>466.0</td>\n",
       "      <td>57.0</td>\n",
       "      <td>14568.91</td>\n",
       "      <td>15.0</td>\n",
       "    </tr>\n",
       "    <tr>\n",
       "      <th>...</th>\n",
       "      <td>...</td>\n",
       "      <td>...</td>\n",
       "      <td>...</td>\n",
       "      <td>...</td>\n",
       "      <td>...</td>\n",
       "      <td>...</td>\n",
       "      <td>...</td>\n",
       "    </tr>\n",
       "    <tr>\n",
       "      <th>3209</th>\n",
       "      <td>1489</td>\n",
       "      <td>9</td>\n",
       "      <td>0.0</td>\n",
       "      <td>0.0</td>\n",
       "      <td>32.0</td>\n",
       "      <td>17206.30</td>\n",
       "      <td>17.0</td>\n",
       "    </tr>\n",
       "    <tr>\n",
       "      <th>3210</th>\n",
       "      <td>1489</td>\n",
       "      <td>10</td>\n",
       "      <td>0.0</td>\n",
       "      <td>0.0</td>\n",
       "      <td>21.0</td>\n",
       "      <td>19559.44</td>\n",
       "      <td>20.0</td>\n",
       "    </tr>\n",
       "    <tr>\n",
       "      <th>3211</th>\n",
       "      <td>1489</td>\n",
       "      <td>11</td>\n",
       "      <td>0.0</td>\n",
       "      <td>0.0</td>\n",
       "      <td>20.0</td>\n",
       "      <td>17491.56</td>\n",
       "      <td>18.0</td>\n",
       "    </tr>\n",
       "    <tr>\n",
       "      <th>3212</th>\n",
       "      <td>1489</td>\n",
       "      <td>12</td>\n",
       "      <td>0.0</td>\n",
       "      <td>0.0</td>\n",
       "      <td>35.0</td>\n",
       "      <td>17322.51</td>\n",
       "      <td>17.0</td>\n",
       "    </tr>\n",
       "    <tr>\n",
       "      <th>3213</th>\n",
       "      <td>1476</td>\n",
       "      <td>4</td>\n",
       "      <td>0.0</td>\n",
       "      <td>0.0</td>\n",
       "      <td>0.0</td>\n",
       "      <td>530.78</td>\n",
       "      <td>1.0</td>\n",
       "    </tr>\n",
       "  </tbody>\n",
       "</table>\n",
       "<p>3214 rows × 7 columns</p>\n",
       "</div>"
      ],
      "text/plain": [
       "      user_id  month  calls  duration  messages   mb_used  gb_used\n",
       "0        1000      5   22.0     159.0      22.0   2253.49      3.0\n",
       "1        1000      6   43.0     172.0      60.0  23233.77     23.0\n",
       "2        1000      7   47.0     340.0      75.0  14003.64     14.0\n",
       "3        1000      8   52.0     408.0      81.0  14055.93     14.0\n",
       "4        1000      9   58.0     466.0      57.0  14568.91     15.0\n",
       "...       ...    ...    ...       ...       ...       ...      ...\n",
       "3209     1489      9    0.0       0.0      32.0  17206.30     17.0\n",
       "3210     1489     10    0.0       0.0      21.0  19559.44     20.0\n",
       "3211     1489     11    0.0       0.0      20.0  17491.56     18.0\n",
       "3212     1489     12    0.0       0.0      35.0  17322.51     17.0\n",
       "3213     1476      4    0.0       0.0       0.0    530.78      1.0\n",
       "\n",
       "[3214 rows x 7 columns]"
      ]
     },
     "execution_count": 31,
     "metadata": {},
     "output_type": "execute_result"
    }
   ],
   "source": [
    "agreg = calls_count.merge(messages_count, on = ('user_id', 'month'), how = 'outer').merge(internet_count, on = ('user_id', 'month'), how = 'outer').fillna(0)\n",
    "#agreg = calls_count.join(messages_count, internet_count, on = ['user_id', 'month'])\n",
    "#agreg = agreg.merge(internet_count, on = ('user_id', 'month'), how = 'outer')\n",
    "agreg"
   ]
  },
  {
   "cell_type": "code",
   "execution_count": 32,
   "id": "205a66a2",
   "metadata": {},
   "outputs": [
    {
     "data": {
      "text/html": [
       "<div>\n",
       "<style scoped>\n",
       "    .dataframe tbody tr th:only-of-type {\n",
       "        vertical-align: middle;\n",
       "    }\n",
       "\n",
       "    .dataframe tbody tr th {\n",
       "        vertical-align: top;\n",
       "    }\n",
       "\n",
       "    .dataframe thead th {\n",
       "        text-align: right;\n",
       "    }\n",
       "</style>\n",
       "<table border=\"1\" class=\"dataframe\">\n",
       "  <thead>\n",
       "    <tr style=\"text-align: right;\">\n",
       "      <th></th>\n",
       "      <th>user_id</th>\n",
       "      <th>month</th>\n",
       "      <th>calls</th>\n",
       "      <th>duration</th>\n",
       "      <th>messages</th>\n",
       "      <th>mb_used</th>\n",
       "      <th>gb_used</th>\n",
       "      <th>city</th>\n",
       "      <th>tariff</th>\n",
       "    </tr>\n",
       "  </thead>\n",
       "  <tbody>\n",
       "    <tr>\n",
       "      <th>0</th>\n",
       "      <td>1000</td>\n",
       "      <td>5</td>\n",
       "      <td>22.0</td>\n",
       "      <td>159.0</td>\n",
       "      <td>22.0</td>\n",
       "      <td>2253.49</td>\n",
       "      <td>3.0</td>\n",
       "      <td>Краснодар</td>\n",
       "      <td>ultra</td>\n",
       "    </tr>\n",
       "    <tr>\n",
       "      <th>1</th>\n",
       "      <td>1000</td>\n",
       "      <td>6</td>\n",
       "      <td>43.0</td>\n",
       "      <td>172.0</td>\n",
       "      <td>60.0</td>\n",
       "      <td>23233.77</td>\n",
       "      <td>23.0</td>\n",
       "      <td>Краснодар</td>\n",
       "      <td>ultra</td>\n",
       "    </tr>\n",
       "    <tr>\n",
       "      <th>2</th>\n",
       "      <td>1000</td>\n",
       "      <td>7</td>\n",
       "      <td>47.0</td>\n",
       "      <td>340.0</td>\n",
       "      <td>75.0</td>\n",
       "      <td>14003.64</td>\n",
       "      <td>14.0</td>\n",
       "      <td>Краснодар</td>\n",
       "      <td>ultra</td>\n",
       "    </tr>\n",
       "    <tr>\n",
       "      <th>3</th>\n",
       "      <td>1000</td>\n",
       "      <td>8</td>\n",
       "      <td>52.0</td>\n",
       "      <td>408.0</td>\n",
       "      <td>81.0</td>\n",
       "      <td>14055.93</td>\n",
       "      <td>14.0</td>\n",
       "      <td>Краснодар</td>\n",
       "      <td>ultra</td>\n",
       "    </tr>\n",
       "    <tr>\n",
       "      <th>4</th>\n",
       "      <td>1000</td>\n",
       "      <td>9</td>\n",
       "      <td>58.0</td>\n",
       "      <td>466.0</td>\n",
       "      <td>57.0</td>\n",
       "      <td>14568.91</td>\n",
       "      <td>15.0</td>\n",
       "      <td>Краснодар</td>\n",
       "      <td>ultra</td>\n",
       "    </tr>\n",
       "    <tr>\n",
       "      <th>...</th>\n",
       "      <td>...</td>\n",
       "      <td>...</td>\n",
       "      <td>...</td>\n",
       "      <td>...</td>\n",
       "      <td>...</td>\n",
       "      <td>...</td>\n",
       "      <td>...</td>\n",
       "      <td>...</td>\n",
       "      <td>...</td>\n",
       "    </tr>\n",
       "    <tr>\n",
       "      <th>3209</th>\n",
       "      <td>1489</td>\n",
       "      <td>9</td>\n",
       "      <td>0.0</td>\n",
       "      <td>0.0</td>\n",
       "      <td>32.0</td>\n",
       "      <td>17206.30</td>\n",
       "      <td>17.0</td>\n",
       "      <td>Санкт-Петербург</td>\n",
       "      <td>smart</td>\n",
       "    </tr>\n",
       "    <tr>\n",
       "      <th>3210</th>\n",
       "      <td>1489</td>\n",
       "      <td>10</td>\n",
       "      <td>0.0</td>\n",
       "      <td>0.0</td>\n",
       "      <td>21.0</td>\n",
       "      <td>19559.44</td>\n",
       "      <td>20.0</td>\n",
       "      <td>Санкт-Петербург</td>\n",
       "      <td>smart</td>\n",
       "    </tr>\n",
       "    <tr>\n",
       "      <th>3211</th>\n",
       "      <td>1489</td>\n",
       "      <td>11</td>\n",
       "      <td>0.0</td>\n",
       "      <td>0.0</td>\n",
       "      <td>20.0</td>\n",
       "      <td>17491.56</td>\n",
       "      <td>18.0</td>\n",
       "      <td>Санкт-Петербург</td>\n",
       "      <td>smart</td>\n",
       "    </tr>\n",
       "    <tr>\n",
       "      <th>3212</th>\n",
       "      <td>1489</td>\n",
       "      <td>12</td>\n",
       "      <td>0.0</td>\n",
       "      <td>0.0</td>\n",
       "      <td>35.0</td>\n",
       "      <td>17322.51</td>\n",
       "      <td>17.0</td>\n",
       "      <td>Санкт-Петербург</td>\n",
       "      <td>smart</td>\n",
       "    </tr>\n",
       "    <tr>\n",
       "      <th>3213</th>\n",
       "      <td>1476</td>\n",
       "      <td>4</td>\n",
       "      <td>0.0</td>\n",
       "      <td>0.0</td>\n",
       "      <td>0.0</td>\n",
       "      <td>530.78</td>\n",
       "      <td>1.0</td>\n",
       "      <td>Москва</td>\n",
       "      <td>ultra</td>\n",
       "    </tr>\n",
       "  </tbody>\n",
       "</table>\n",
       "<p>3214 rows × 9 columns</p>\n",
       "</div>"
      ],
      "text/plain": [
       "      user_id  month  calls  duration  messages   mb_used  gb_used  \\\n",
       "0        1000      5   22.0     159.0      22.0   2253.49      3.0   \n",
       "1        1000      6   43.0     172.0      60.0  23233.77     23.0   \n",
       "2        1000      7   47.0     340.0      75.0  14003.64     14.0   \n",
       "3        1000      8   52.0     408.0      81.0  14055.93     14.0   \n",
       "4        1000      9   58.0     466.0      57.0  14568.91     15.0   \n",
       "...       ...    ...    ...       ...       ...       ...      ...   \n",
       "3209     1489      9    0.0       0.0      32.0  17206.30     17.0   \n",
       "3210     1489     10    0.0       0.0      21.0  19559.44     20.0   \n",
       "3211     1489     11    0.0       0.0      20.0  17491.56     18.0   \n",
       "3212     1489     12    0.0       0.0      35.0  17322.51     17.0   \n",
       "3213     1476      4    0.0       0.0       0.0    530.78      1.0   \n",
       "\n",
       "                 city tariff  \n",
       "0           Краснодар  ultra  \n",
       "1           Краснодар  ultra  \n",
       "2           Краснодар  ultra  \n",
       "3           Краснодар  ultra  \n",
       "4           Краснодар  ultra  \n",
       "...               ...    ...  \n",
       "3209  Санкт-Петербург  smart  \n",
       "3210  Санкт-Петербург  smart  \n",
       "3211  Санкт-Петербург  smart  \n",
       "3212  Санкт-Петербург  smart  \n",
       "3213           Москва  ultra  \n",
       "\n",
       "[3214 rows x 9 columns]"
      ]
     },
     "execution_count": 32,
     "metadata": {},
     "output_type": "execute_result"
    }
   ],
   "source": [
    "agreg = agreg.merge(users[['user_id', 'city','tariff']], on = 'user_id', how = 'left')\n",
    "agreg"
   ]
  },
  {
   "cell_type": "markdown",
   "id": "86bbd515",
   "metadata": {},
   "source": [
    "Добавим колонки с информацией о тарифах"
   ]
  },
  {
   "cell_type": "code",
   "execution_count": 33,
   "id": "dbc31fe3",
   "metadata": {},
   "outputs": [
    {
     "data": {
      "text/html": [
       "<div>\n",
       "<style scoped>\n",
       "    .dataframe tbody tr th:only-of-type {\n",
       "        vertical-align: middle;\n",
       "    }\n",
       "\n",
       "    .dataframe tbody tr th {\n",
       "        vertical-align: top;\n",
       "    }\n",
       "\n",
       "    .dataframe thead th {\n",
       "        text-align: right;\n",
       "    }\n",
       "</style>\n",
       "<table border=\"1\" class=\"dataframe\">\n",
       "  <thead>\n",
       "    <tr style=\"text-align: right;\">\n",
       "      <th></th>\n",
       "      <th>user_id</th>\n",
       "      <th>month</th>\n",
       "      <th>calls</th>\n",
       "      <th>duration</th>\n",
       "      <th>messages</th>\n",
       "      <th>mb_used</th>\n",
       "      <th>gb_used</th>\n",
       "      <th>city</th>\n",
       "      <th>tariff</th>\n",
       "      <th>messages_included</th>\n",
       "      <th>mb_per_month_included</th>\n",
       "      <th>minutes_included</th>\n",
       "      <th>rub_monthly_fee</th>\n",
       "      <th>rub_per_gb</th>\n",
       "      <th>rub_per_message</th>\n",
       "      <th>rub_per_minute</th>\n",
       "    </tr>\n",
       "  </thead>\n",
       "  <tbody>\n",
       "    <tr>\n",
       "      <th>0</th>\n",
       "      <td>1000</td>\n",
       "      <td>5</td>\n",
       "      <td>22.0</td>\n",
       "      <td>159.0</td>\n",
       "      <td>22.0</td>\n",
       "      <td>2253.49</td>\n",
       "      <td>3.0</td>\n",
       "      <td>Краснодар</td>\n",
       "      <td>ultra</td>\n",
       "      <td>1000</td>\n",
       "      <td>30720</td>\n",
       "      <td>3000</td>\n",
       "      <td>1950</td>\n",
       "      <td>150</td>\n",
       "      <td>1</td>\n",
       "      <td>1</td>\n",
       "    </tr>\n",
       "    <tr>\n",
       "      <th>1</th>\n",
       "      <td>1000</td>\n",
       "      <td>6</td>\n",
       "      <td>43.0</td>\n",
       "      <td>172.0</td>\n",
       "      <td>60.0</td>\n",
       "      <td>23233.77</td>\n",
       "      <td>23.0</td>\n",
       "      <td>Краснодар</td>\n",
       "      <td>ultra</td>\n",
       "      <td>1000</td>\n",
       "      <td>30720</td>\n",
       "      <td>3000</td>\n",
       "      <td>1950</td>\n",
       "      <td>150</td>\n",
       "      <td>1</td>\n",
       "      <td>1</td>\n",
       "    </tr>\n",
       "    <tr>\n",
       "      <th>2</th>\n",
       "      <td>1000</td>\n",
       "      <td>7</td>\n",
       "      <td>47.0</td>\n",
       "      <td>340.0</td>\n",
       "      <td>75.0</td>\n",
       "      <td>14003.64</td>\n",
       "      <td>14.0</td>\n",
       "      <td>Краснодар</td>\n",
       "      <td>ultra</td>\n",
       "      <td>1000</td>\n",
       "      <td>30720</td>\n",
       "      <td>3000</td>\n",
       "      <td>1950</td>\n",
       "      <td>150</td>\n",
       "      <td>1</td>\n",
       "      <td>1</td>\n",
       "    </tr>\n",
       "    <tr>\n",
       "      <th>3</th>\n",
       "      <td>1000</td>\n",
       "      <td>8</td>\n",
       "      <td>52.0</td>\n",
       "      <td>408.0</td>\n",
       "      <td>81.0</td>\n",
       "      <td>14055.93</td>\n",
       "      <td>14.0</td>\n",
       "      <td>Краснодар</td>\n",
       "      <td>ultra</td>\n",
       "      <td>1000</td>\n",
       "      <td>30720</td>\n",
       "      <td>3000</td>\n",
       "      <td>1950</td>\n",
       "      <td>150</td>\n",
       "      <td>1</td>\n",
       "      <td>1</td>\n",
       "    </tr>\n",
       "    <tr>\n",
       "      <th>4</th>\n",
       "      <td>1000</td>\n",
       "      <td>9</td>\n",
       "      <td>58.0</td>\n",
       "      <td>466.0</td>\n",
       "      <td>57.0</td>\n",
       "      <td>14568.91</td>\n",
       "      <td>15.0</td>\n",
       "      <td>Краснодар</td>\n",
       "      <td>ultra</td>\n",
       "      <td>1000</td>\n",
       "      <td>30720</td>\n",
       "      <td>3000</td>\n",
       "      <td>1950</td>\n",
       "      <td>150</td>\n",
       "      <td>1</td>\n",
       "      <td>1</td>\n",
       "    </tr>\n",
       "    <tr>\n",
       "      <th>...</th>\n",
       "      <td>...</td>\n",
       "      <td>...</td>\n",
       "      <td>...</td>\n",
       "      <td>...</td>\n",
       "      <td>...</td>\n",
       "      <td>...</td>\n",
       "      <td>...</td>\n",
       "      <td>...</td>\n",
       "      <td>...</td>\n",
       "      <td>...</td>\n",
       "      <td>...</td>\n",
       "      <td>...</td>\n",
       "      <td>...</td>\n",
       "      <td>...</td>\n",
       "      <td>...</td>\n",
       "      <td>...</td>\n",
       "    </tr>\n",
       "    <tr>\n",
       "      <th>3209</th>\n",
       "      <td>1489</td>\n",
       "      <td>9</td>\n",
       "      <td>0.0</td>\n",
       "      <td>0.0</td>\n",
       "      <td>32.0</td>\n",
       "      <td>17206.30</td>\n",
       "      <td>17.0</td>\n",
       "      <td>Санкт-Петербург</td>\n",
       "      <td>smart</td>\n",
       "      <td>50</td>\n",
       "      <td>15360</td>\n",
       "      <td>500</td>\n",
       "      <td>550</td>\n",
       "      <td>200</td>\n",
       "      <td>3</td>\n",
       "      <td>3</td>\n",
       "    </tr>\n",
       "    <tr>\n",
       "      <th>3210</th>\n",
       "      <td>1489</td>\n",
       "      <td>10</td>\n",
       "      <td>0.0</td>\n",
       "      <td>0.0</td>\n",
       "      <td>21.0</td>\n",
       "      <td>19559.44</td>\n",
       "      <td>20.0</td>\n",
       "      <td>Санкт-Петербург</td>\n",
       "      <td>smart</td>\n",
       "      <td>50</td>\n",
       "      <td>15360</td>\n",
       "      <td>500</td>\n",
       "      <td>550</td>\n",
       "      <td>200</td>\n",
       "      <td>3</td>\n",
       "      <td>3</td>\n",
       "    </tr>\n",
       "    <tr>\n",
       "      <th>3211</th>\n",
       "      <td>1489</td>\n",
       "      <td>11</td>\n",
       "      <td>0.0</td>\n",
       "      <td>0.0</td>\n",
       "      <td>20.0</td>\n",
       "      <td>17491.56</td>\n",
       "      <td>18.0</td>\n",
       "      <td>Санкт-Петербург</td>\n",
       "      <td>smart</td>\n",
       "      <td>50</td>\n",
       "      <td>15360</td>\n",
       "      <td>500</td>\n",
       "      <td>550</td>\n",
       "      <td>200</td>\n",
       "      <td>3</td>\n",
       "      <td>3</td>\n",
       "    </tr>\n",
       "    <tr>\n",
       "      <th>3212</th>\n",
       "      <td>1489</td>\n",
       "      <td>12</td>\n",
       "      <td>0.0</td>\n",
       "      <td>0.0</td>\n",
       "      <td>35.0</td>\n",
       "      <td>17322.51</td>\n",
       "      <td>17.0</td>\n",
       "      <td>Санкт-Петербург</td>\n",
       "      <td>smart</td>\n",
       "      <td>50</td>\n",
       "      <td>15360</td>\n",
       "      <td>500</td>\n",
       "      <td>550</td>\n",
       "      <td>200</td>\n",
       "      <td>3</td>\n",
       "      <td>3</td>\n",
       "    </tr>\n",
       "    <tr>\n",
       "      <th>3213</th>\n",
       "      <td>1476</td>\n",
       "      <td>4</td>\n",
       "      <td>0.0</td>\n",
       "      <td>0.0</td>\n",
       "      <td>0.0</td>\n",
       "      <td>530.78</td>\n",
       "      <td>1.0</td>\n",
       "      <td>Москва</td>\n",
       "      <td>ultra</td>\n",
       "      <td>1000</td>\n",
       "      <td>30720</td>\n",
       "      <td>3000</td>\n",
       "      <td>1950</td>\n",
       "      <td>150</td>\n",
       "      <td>1</td>\n",
       "      <td>1</td>\n",
       "    </tr>\n",
       "  </tbody>\n",
       "</table>\n",
       "<p>3214 rows × 16 columns</p>\n",
       "</div>"
      ],
      "text/plain": [
       "      user_id  month  calls  duration  messages   mb_used  gb_used  \\\n",
       "0        1000      5   22.0     159.0      22.0   2253.49      3.0   \n",
       "1        1000      6   43.0     172.0      60.0  23233.77     23.0   \n",
       "2        1000      7   47.0     340.0      75.0  14003.64     14.0   \n",
       "3        1000      8   52.0     408.0      81.0  14055.93     14.0   \n",
       "4        1000      9   58.0     466.0      57.0  14568.91     15.0   \n",
       "...       ...    ...    ...       ...       ...       ...      ...   \n",
       "3209     1489      9    0.0       0.0      32.0  17206.30     17.0   \n",
       "3210     1489     10    0.0       0.0      21.0  19559.44     20.0   \n",
       "3211     1489     11    0.0       0.0      20.0  17491.56     18.0   \n",
       "3212     1489     12    0.0       0.0      35.0  17322.51     17.0   \n",
       "3213     1476      4    0.0       0.0       0.0    530.78      1.0   \n",
       "\n",
       "                 city tariff  messages_included  mb_per_month_included  \\\n",
       "0           Краснодар  ultra               1000                  30720   \n",
       "1           Краснодар  ultra               1000                  30720   \n",
       "2           Краснодар  ultra               1000                  30720   \n",
       "3           Краснодар  ultra               1000                  30720   \n",
       "4           Краснодар  ultra               1000                  30720   \n",
       "...               ...    ...                ...                    ...   \n",
       "3209  Санкт-Петербург  smart                 50                  15360   \n",
       "3210  Санкт-Петербург  smart                 50                  15360   \n",
       "3211  Санкт-Петербург  smart                 50                  15360   \n",
       "3212  Санкт-Петербург  smart                 50                  15360   \n",
       "3213           Москва  ultra               1000                  30720   \n",
       "\n",
       "      minutes_included  rub_monthly_fee  rub_per_gb  rub_per_message  \\\n",
       "0                 3000             1950         150                1   \n",
       "1                 3000             1950         150                1   \n",
       "2                 3000             1950         150                1   \n",
       "3                 3000             1950         150                1   \n",
       "4                 3000             1950         150                1   \n",
       "...                ...              ...         ...              ...   \n",
       "3209               500              550         200                3   \n",
       "3210               500              550         200                3   \n",
       "3211               500              550         200                3   \n",
       "3212               500              550         200                3   \n",
       "3213              3000             1950         150                1   \n",
       "\n",
       "      rub_per_minute  \n",
       "0                  1  \n",
       "1                  1  \n",
       "2                  1  \n",
       "3                  1  \n",
       "4                  1  \n",
       "...              ...  \n",
       "3209               3  \n",
       "3210               3  \n",
       "3211               3  \n",
       "3212               3  \n",
       "3213               1  \n",
       "\n",
       "[3214 rows x 16 columns]"
      ]
     },
     "execution_count": 33,
     "metadata": {},
     "output_type": "execute_result"
    }
   ],
   "source": [
    "agreg_all = agreg.merge(tariffs, on = 'tariff', how = 'left')\n",
    "agreg_all"
   ]
  },
  {
   "cell_type": "code",
   "execution_count": 34,
   "id": "7ef96405",
   "metadata": {},
   "outputs": [],
   "source": [
    "def sales(row):\n",
    "    summa = row.rub_monthly_fee\n",
    "    if row.duration > row.minutes_included:\n",
    "        summa+= (row.duration-row.minutes_included)*row.rub_per_minute\n",
    "    if row.messages > row.messages_included:\n",
    "        summa+= (row.messages-row.messages_included)*row.rub_per_message\n",
    "    if row.mb_used > row.mb_per_month_included:\n",
    "        summa+= np.ceil((row.mb_used - row.mb_per_month_included)/1024)*row.rub_per_gb\n",
    "    return round(summa,2)"
   ]
  },
  {
   "cell_type": "code",
   "execution_count": 35,
   "id": "9e804021",
   "metadata": {},
   "outputs": [
    {
     "data": {
      "text/plain": [
       "1950.0    905\n",
       "550.0     567\n",
       "950.0      87\n",
       "1150.0     80\n",
       "1350.0     78\n",
       "         ... \n",
       "1073.0      1\n",
       "888.0       1\n",
       "1158.0      1\n",
       "3985.0      1\n",
       "3449.0      1\n",
       "Name: sales, Length: 778, dtype: int64"
      ]
     },
     "metadata": {},
     "output_type": "display_data"
    },
    {
     "data": {
      "text/html": [
       "<div>\n",
       "<style scoped>\n",
       "    .dataframe tbody tr th:only-of-type {\n",
       "        vertical-align: middle;\n",
       "    }\n",
       "\n",
       "    .dataframe tbody tr th {\n",
       "        vertical-align: top;\n",
       "    }\n",
       "\n",
       "    .dataframe thead th {\n",
       "        text-align: right;\n",
       "    }\n",
       "</style>\n",
       "<table border=\"1\" class=\"dataframe\">\n",
       "  <thead>\n",
       "    <tr style=\"text-align: right;\">\n",
       "      <th></th>\n",
       "      <th>user_id</th>\n",
       "      <th>month</th>\n",
       "      <th>calls</th>\n",
       "      <th>duration</th>\n",
       "      <th>messages</th>\n",
       "      <th>mb_used</th>\n",
       "      <th>gb_used</th>\n",
       "      <th>city</th>\n",
       "      <th>tariff</th>\n",
       "      <th>messages_included</th>\n",
       "      <th>mb_per_month_included</th>\n",
       "      <th>minutes_included</th>\n",
       "      <th>rub_monthly_fee</th>\n",
       "      <th>rub_per_gb</th>\n",
       "      <th>rub_per_message</th>\n",
       "      <th>rub_per_minute</th>\n",
       "      <th>sales</th>\n",
       "    </tr>\n",
       "  </thead>\n",
       "  <tbody>\n",
       "    <tr>\n",
       "      <th>0</th>\n",
       "      <td>1000</td>\n",
       "      <td>5</td>\n",
       "      <td>22.0</td>\n",
       "      <td>159.0</td>\n",
       "      <td>22.0</td>\n",
       "      <td>2253.49</td>\n",
       "      <td>3.0</td>\n",
       "      <td>Краснодар</td>\n",
       "      <td>ultra</td>\n",
       "      <td>1000</td>\n",
       "      <td>30720</td>\n",
       "      <td>3000</td>\n",
       "      <td>1950</td>\n",
       "      <td>150</td>\n",
       "      <td>1</td>\n",
       "      <td>1</td>\n",
       "      <td>1950.0</td>\n",
       "    </tr>\n",
       "    <tr>\n",
       "      <th>1</th>\n",
       "      <td>1000</td>\n",
       "      <td>6</td>\n",
       "      <td>43.0</td>\n",
       "      <td>172.0</td>\n",
       "      <td>60.0</td>\n",
       "      <td>23233.77</td>\n",
       "      <td>23.0</td>\n",
       "      <td>Краснодар</td>\n",
       "      <td>ultra</td>\n",
       "      <td>1000</td>\n",
       "      <td>30720</td>\n",
       "      <td>3000</td>\n",
       "      <td>1950</td>\n",
       "      <td>150</td>\n",
       "      <td>1</td>\n",
       "      <td>1</td>\n",
       "      <td>1950.0</td>\n",
       "    </tr>\n",
       "    <tr>\n",
       "      <th>2</th>\n",
       "      <td>1000</td>\n",
       "      <td>7</td>\n",
       "      <td>47.0</td>\n",
       "      <td>340.0</td>\n",
       "      <td>75.0</td>\n",
       "      <td>14003.64</td>\n",
       "      <td>14.0</td>\n",
       "      <td>Краснодар</td>\n",
       "      <td>ultra</td>\n",
       "      <td>1000</td>\n",
       "      <td>30720</td>\n",
       "      <td>3000</td>\n",
       "      <td>1950</td>\n",
       "      <td>150</td>\n",
       "      <td>1</td>\n",
       "      <td>1</td>\n",
       "      <td>1950.0</td>\n",
       "    </tr>\n",
       "    <tr>\n",
       "      <th>3</th>\n",
       "      <td>1000</td>\n",
       "      <td>8</td>\n",
       "      <td>52.0</td>\n",
       "      <td>408.0</td>\n",
       "      <td>81.0</td>\n",
       "      <td>14055.93</td>\n",
       "      <td>14.0</td>\n",
       "      <td>Краснодар</td>\n",
       "      <td>ultra</td>\n",
       "      <td>1000</td>\n",
       "      <td>30720</td>\n",
       "      <td>3000</td>\n",
       "      <td>1950</td>\n",
       "      <td>150</td>\n",
       "      <td>1</td>\n",
       "      <td>1</td>\n",
       "      <td>1950.0</td>\n",
       "    </tr>\n",
       "    <tr>\n",
       "      <th>4</th>\n",
       "      <td>1000</td>\n",
       "      <td>9</td>\n",
       "      <td>58.0</td>\n",
       "      <td>466.0</td>\n",
       "      <td>57.0</td>\n",
       "      <td>14568.91</td>\n",
       "      <td>15.0</td>\n",
       "      <td>Краснодар</td>\n",
       "      <td>ultra</td>\n",
       "      <td>1000</td>\n",
       "      <td>30720</td>\n",
       "      <td>3000</td>\n",
       "      <td>1950</td>\n",
       "      <td>150</td>\n",
       "      <td>1</td>\n",
       "      <td>1</td>\n",
       "      <td>1950.0</td>\n",
       "    </tr>\n",
       "    <tr>\n",
       "      <th>...</th>\n",
       "      <td>...</td>\n",
       "      <td>...</td>\n",
       "      <td>...</td>\n",
       "      <td>...</td>\n",
       "      <td>...</td>\n",
       "      <td>...</td>\n",
       "      <td>...</td>\n",
       "      <td>...</td>\n",
       "      <td>...</td>\n",
       "      <td>...</td>\n",
       "      <td>...</td>\n",
       "      <td>...</td>\n",
       "      <td>...</td>\n",
       "      <td>...</td>\n",
       "      <td>...</td>\n",
       "      <td>...</td>\n",
       "      <td>...</td>\n",
       "    </tr>\n",
       "    <tr>\n",
       "      <th>3209</th>\n",
       "      <td>1489</td>\n",
       "      <td>9</td>\n",
       "      <td>0.0</td>\n",
       "      <td>0.0</td>\n",
       "      <td>32.0</td>\n",
       "      <td>17206.30</td>\n",
       "      <td>17.0</td>\n",
       "      <td>Санкт-Петербург</td>\n",
       "      <td>smart</td>\n",
       "      <td>50</td>\n",
       "      <td>15360</td>\n",
       "      <td>500</td>\n",
       "      <td>550</td>\n",
       "      <td>200</td>\n",
       "      <td>3</td>\n",
       "      <td>3</td>\n",
       "      <td>950.0</td>\n",
       "    </tr>\n",
       "    <tr>\n",
       "      <th>3210</th>\n",
       "      <td>1489</td>\n",
       "      <td>10</td>\n",
       "      <td>0.0</td>\n",
       "      <td>0.0</td>\n",
       "      <td>21.0</td>\n",
       "      <td>19559.44</td>\n",
       "      <td>20.0</td>\n",
       "      <td>Санкт-Петербург</td>\n",
       "      <td>smart</td>\n",
       "      <td>50</td>\n",
       "      <td>15360</td>\n",
       "      <td>500</td>\n",
       "      <td>550</td>\n",
       "      <td>200</td>\n",
       "      <td>3</td>\n",
       "      <td>3</td>\n",
       "      <td>1550.0</td>\n",
       "    </tr>\n",
       "    <tr>\n",
       "      <th>3211</th>\n",
       "      <td>1489</td>\n",
       "      <td>11</td>\n",
       "      <td>0.0</td>\n",
       "      <td>0.0</td>\n",
       "      <td>20.0</td>\n",
       "      <td>17491.56</td>\n",
       "      <td>18.0</td>\n",
       "      <td>Санкт-Петербург</td>\n",
       "      <td>smart</td>\n",
       "      <td>50</td>\n",
       "      <td>15360</td>\n",
       "      <td>500</td>\n",
       "      <td>550</td>\n",
       "      <td>200</td>\n",
       "      <td>3</td>\n",
       "      <td>3</td>\n",
       "      <td>1150.0</td>\n",
       "    </tr>\n",
       "    <tr>\n",
       "      <th>3212</th>\n",
       "      <td>1489</td>\n",
       "      <td>12</td>\n",
       "      <td>0.0</td>\n",
       "      <td>0.0</td>\n",
       "      <td>35.0</td>\n",
       "      <td>17322.51</td>\n",
       "      <td>17.0</td>\n",
       "      <td>Санкт-Петербург</td>\n",
       "      <td>smart</td>\n",
       "      <td>50</td>\n",
       "      <td>15360</td>\n",
       "      <td>500</td>\n",
       "      <td>550</td>\n",
       "      <td>200</td>\n",
       "      <td>3</td>\n",
       "      <td>3</td>\n",
       "      <td>950.0</td>\n",
       "    </tr>\n",
       "    <tr>\n",
       "      <th>3213</th>\n",
       "      <td>1476</td>\n",
       "      <td>4</td>\n",
       "      <td>0.0</td>\n",
       "      <td>0.0</td>\n",
       "      <td>0.0</td>\n",
       "      <td>530.78</td>\n",
       "      <td>1.0</td>\n",
       "      <td>Москва</td>\n",
       "      <td>ultra</td>\n",
       "      <td>1000</td>\n",
       "      <td>30720</td>\n",
       "      <td>3000</td>\n",
       "      <td>1950</td>\n",
       "      <td>150</td>\n",
       "      <td>1</td>\n",
       "      <td>1</td>\n",
       "      <td>1950.0</td>\n",
       "    </tr>\n",
       "  </tbody>\n",
       "</table>\n",
       "<p>3214 rows × 17 columns</p>\n",
       "</div>"
      ],
      "text/plain": [
       "      user_id  month  calls  duration  messages   mb_used  gb_used  \\\n",
       "0        1000      5   22.0     159.0      22.0   2253.49      3.0   \n",
       "1        1000      6   43.0     172.0      60.0  23233.77     23.0   \n",
       "2        1000      7   47.0     340.0      75.0  14003.64     14.0   \n",
       "3        1000      8   52.0     408.0      81.0  14055.93     14.0   \n",
       "4        1000      9   58.0     466.0      57.0  14568.91     15.0   \n",
       "...       ...    ...    ...       ...       ...       ...      ...   \n",
       "3209     1489      9    0.0       0.0      32.0  17206.30     17.0   \n",
       "3210     1489     10    0.0       0.0      21.0  19559.44     20.0   \n",
       "3211     1489     11    0.0       0.0      20.0  17491.56     18.0   \n",
       "3212     1489     12    0.0       0.0      35.0  17322.51     17.0   \n",
       "3213     1476      4    0.0       0.0       0.0    530.78      1.0   \n",
       "\n",
       "                 city tariff  messages_included  mb_per_month_included  \\\n",
       "0           Краснодар  ultra               1000                  30720   \n",
       "1           Краснодар  ultra               1000                  30720   \n",
       "2           Краснодар  ultra               1000                  30720   \n",
       "3           Краснодар  ultra               1000                  30720   \n",
       "4           Краснодар  ultra               1000                  30720   \n",
       "...               ...    ...                ...                    ...   \n",
       "3209  Санкт-Петербург  smart                 50                  15360   \n",
       "3210  Санкт-Петербург  smart                 50                  15360   \n",
       "3211  Санкт-Петербург  smart                 50                  15360   \n",
       "3212  Санкт-Петербург  smart                 50                  15360   \n",
       "3213           Москва  ultra               1000                  30720   \n",
       "\n",
       "      minutes_included  rub_monthly_fee  rub_per_gb  rub_per_message  \\\n",
       "0                 3000             1950         150                1   \n",
       "1                 3000             1950         150                1   \n",
       "2                 3000             1950         150                1   \n",
       "3                 3000             1950         150                1   \n",
       "4                 3000             1950         150                1   \n",
       "...                ...              ...         ...              ...   \n",
       "3209               500              550         200                3   \n",
       "3210               500              550         200                3   \n",
       "3211               500              550         200                3   \n",
       "3212               500              550         200                3   \n",
       "3213              3000             1950         150                1   \n",
       "\n",
       "      rub_per_minute   sales  \n",
       "0                  1  1950.0  \n",
       "1                  1  1950.0  \n",
       "2                  1  1950.0  \n",
       "3                  1  1950.0  \n",
       "4                  1  1950.0  \n",
       "...              ...     ...  \n",
       "3209               3   950.0  \n",
       "3210               3  1550.0  \n",
       "3211               3  1150.0  \n",
       "3212               3   950.0  \n",
       "3213               1  1950.0  \n",
       "\n",
       "[3214 rows x 17 columns]"
      ]
     },
     "execution_count": 35,
     "metadata": {},
     "output_type": "execute_result"
    }
   ],
   "source": [
    "agreg_all['sales'] = agreg_all.apply(sales, axis=1)\n",
    "display(agreg_all['sales'].value_counts())\n",
    "agreg_all"
   ]
  },
  {
   "cell_type": "markdown",
   "id": "44d8f5e4",
   "metadata": {},
   "source": [
    "### Вывод \n",
    "\n",
    "Преобразовала все даты к верному типу, округлила звонки до минут. Проверила данные на возможные ошибки. Ошибок не обнаружила. Добавила дополнительные столбцы с указание месяца для дальнейших расчетов. Сформировала сводную таблицу и посчитала сколько платят клиенты ежемесячно с учетом лимитов по тарифам. \n"
   ]
  },
  {
   "cell_type": "markdown",
   "id": "8e68035e",
   "metadata": {},
   "source": [
    "## Проанализируйте данные"
   ]
  },
  {
   "cell_type": "markdown",
   "id": "9fdeef3e",
   "metadata": {},
   "source": [
    "Опишем поведение клиентов оператора, исходя из выборки. Сколько минут разговора, сколько сообщений и какой объём интернет-трафика требуется пользователям каждого тарифа в месяц? Посчитаем среднее количество, дисперсию и стандартное отклонение. Построим гистограммы. Опишем распределения."
   ]
  },
  {
   "cell_type": "code",
   "execution_count": 36,
   "id": "4967bd49",
   "metadata": {},
   "outputs": [
    {
     "data": {
      "text/plain": [
       "'Тариф Ультра'"
      ]
     },
     "metadata": {},
     "output_type": "display_data"
    },
    {
     "data": {
      "text/html": [
       "<div>\n",
       "<style scoped>\n",
       "    .dataframe tbody tr th:only-of-type {\n",
       "        vertical-align: middle;\n",
       "    }\n",
       "\n",
       "    .dataframe tbody tr th {\n",
       "        vertical-align: top;\n",
       "    }\n",
       "\n",
       "    .dataframe thead th {\n",
       "        text-align: right;\n",
       "    }\n",
       "</style>\n",
       "<table border=\"1\" class=\"dataframe\">\n",
       "  <thead>\n",
       "    <tr style=\"text-align: right;\">\n",
       "      <th></th>\n",
       "      <th>user_id</th>\n",
       "      <th>month</th>\n",
       "      <th>calls</th>\n",
       "      <th>duration</th>\n",
       "      <th>messages</th>\n",
       "      <th>mb_used</th>\n",
       "      <th>gb_used</th>\n",
       "      <th>messages_included</th>\n",
       "      <th>mb_per_month_included</th>\n",
       "      <th>minutes_included</th>\n",
       "      <th>rub_monthly_fee</th>\n",
       "      <th>rub_per_gb</th>\n",
       "      <th>rub_per_message</th>\n",
       "      <th>rub_per_minute</th>\n",
       "      <th>sales</th>\n",
       "    </tr>\n",
       "  </thead>\n",
       "  <tbody>\n",
       "    <tr>\n",
       "      <th>count</th>\n",
       "      <td>985.000000</td>\n",
       "      <td>985.000000</td>\n",
       "      <td>985.000000</td>\n",
       "      <td>985.000000</td>\n",
       "      <td>985.000000</td>\n",
       "      <td>985.000000</td>\n",
       "      <td>985.000000</td>\n",
       "      <td>985.0</td>\n",
       "      <td>985.0</td>\n",
       "      <td>985.0</td>\n",
       "      <td>985.0</td>\n",
       "      <td>985.0</td>\n",
       "      <td>985.0</td>\n",
       "      <td>985.0</td>\n",
       "      <td>985.000000</td>\n",
       "    </tr>\n",
       "    <tr>\n",
       "      <th>mean</th>\n",
       "      <td>1263.094416</td>\n",
       "      <td>8.250761</td>\n",
       "      <td>73.392893</td>\n",
       "      <td>526.623350</td>\n",
       "      <td>49.363452</td>\n",
       "      <td>19468.805208</td>\n",
       "      <td>19.494416</td>\n",
       "      <td>1000.0</td>\n",
       "      <td>30720.0</td>\n",
       "      <td>3000.0</td>\n",
       "      <td>1950.0</td>\n",
       "      <td>150.0</td>\n",
       "      <td>1.0</td>\n",
       "      <td>1.0</td>\n",
       "      <td>2070.152284</td>\n",
       "    </tr>\n",
       "    <tr>\n",
       "      <th>std</th>\n",
       "      <td>140.694908</td>\n",
       "      <td>2.871762</td>\n",
       "      <td>43.916853</td>\n",
       "      <td>317.606098</td>\n",
       "      <td>47.804457</td>\n",
       "      <td>10087.170752</td>\n",
       "      <td>9.853511</td>\n",
       "      <td>0.0</td>\n",
       "      <td>0.0</td>\n",
       "      <td>0.0</td>\n",
       "      <td>0.0</td>\n",
       "      <td>0.0</td>\n",
       "      <td>0.0</td>\n",
       "      <td>0.0</td>\n",
       "      <td>376.187114</td>\n",
       "    </tr>\n",
       "    <tr>\n",
       "      <th>min</th>\n",
       "      <td>1000.000000</td>\n",
       "      <td>1.000000</td>\n",
       "      <td>0.000000</td>\n",
       "      <td>0.000000</td>\n",
       "      <td>0.000000</td>\n",
       "      <td>0.000000</td>\n",
       "      <td>0.000000</td>\n",
       "      <td>1000.0</td>\n",
       "      <td>30720.0</td>\n",
       "      <td>3000.0</td>\n",
       "      <td>1950.0</td>\n",
       "      <td>150.0</td>\n",
       "      <td>1.0</td>\n",
       "      <td>1.0</td>\n",
       "      <td>1950.000000</td>\n",
       "    </tr>\n",
       "    <tr>\n",
       "      <th>25%</th>\n",
       "      <td>1143.000000</td>\n",
       "      <td>6.000000</td>\n",
       "      <td>41.000000</td>\n",
       "      <td>284.000000</td>\n",
       "      <td>6.000000</td>\n",
       "      <td>11770.260000</td>\n",
       "      <td>12.000000</td>\n",
       "      <td>1000.0</td>\n",
       "      <td>30720.0</td>\n",
       "      <td>3000.0</td>\n",
       "      <td>1950.0</td>\n",
       "      <td>150.0</td>\n",
       "      <td>1.0</td>\n",
       "      <td>1.0</td>\n",
       "      <td>1950.000000</td>\n",
       "    </tr>\n",
       "    <tr>\n",
       "      <th>50%</th>\n",
       "      <td>1277.000000</td>\n",
       "      <td>9.000000</td>\n",
       "      <td>74.000000</td>\n",
       "      <td>518.000000</td>\n",
       "      <td>38.000000</td>\n",
       "      <td>19308.010000</td>\n",
       "      <td>19.000000</td>\n",
       "      <td>1000.0</td>\n",
       "      <td>30720.0</td>\n",
       "      <td>3000.0</td>\n",
       "      <td>1950.0</td>\n",
       "      <td>150.0</td>\n",
       "      <td>1.0</td>\n",
       "      <td>1.0</td>\n",
       "      <td>1950.000000</td>\n",
       "    </tr>\n",
       "    <tr>\n",
       "      <th>75%</th>\n",
       "      <td>1381.000000</td>\n",
       "      <td>11.000000</td>\n",
       "      <td>104.000000</td>\n",
       "      <td>752.000000</td>\n",
       "      <td>79.000000</td>\n",
       "      <td>26837.690000</td>\n",
       "      <td>27.000000</td>\n",
       "      <td>1000.0</td>\n",
       "      <td>30720.0</td>\n",
       "      <td>3000.0</td>\n",
       "      <td>1950.0</td>\n",
       "      <td>150.0</td>\n",
       "      <td>1.0</td>\n",
       "      <td>1.0</td>\n",
       "      <td>1950.000000</td>\n",
       "    </tr>\n",
       "    <tr>\n",
       "      <th>max</th>\n",
       "      <td>1495.000000</td>\n",
       "      <td>12.000000</td>\n",
       "      <td>244.000000</td>\n",
       "      <td>1673.000000</td>\n",
       "      <td>224.000000</td>\n",
       "      <td>49745.690000</td>\n",
       "      <td>49.000000</td>\n",
       "      <td>1000.0</td>\n",
       "      <td>30720.0</td>\n",
       "      <td>3000.0</td>\n",
       "      <td>1950.0</td>\n",
       "      <td>150.0</td>\n",
       "      <td>1.0</td>\n",
       "      <td>1.0</td>\n",
       "      <td>4800.000000</td>\n",
       "    </tr>\n",
       "  </tbody>\n",
       "</table>\n",
       "</div>"
      ],
      "text/plain": [
       "           user_id       month       calls     duration    messages  \\\n",
       "count   985.000000  985.000000  985.000000   985.000000  985.000000   \n",
       "mean   1263.094416    8.250761   73.392893   526.623350   49.363452   \n",
       "std     140.694908    2.871762   43.916853   317.606098   47.804457   \n",
       "min    1000.000000    1.000000    0.000000     0.000000    0.000000   \n",
       "25%    1143.000000    6.000000   41.000000   284.000000    6.000000   \n",
       "50%    1277.000000    9.000000   74.000000   518.000000   38.000000   \n",
       "75%    1381.000000   11.000000  104.000000   752.000000   79.000000   \n",
       "max    1495.000000   12.000000  244.000000  1673.000000  224.000000   \n",
       "\n",
       "            mb_used     gb_used  messages_included  mb_per_month_included  \\\n",
       "count    985.000000  985.000000              985.0                  985.0   \n",
       "mean   19468.805208   19.494416             1000.0                30720.0   \n",
       "std    10087.170752    9.853511                0.0                    0.0   \n",
       "min        0.000000    0.000000             1000.0                30720.0   \n",
       "25%    11770.260000   12.000000             1000.0                30720.0   \n",
       "50%    19308.010000   19.000000             1000.0                30720.0   \n",
       "75%    26837.690000   27.000000             1000.0                30720.0   \n",
       "max    49745.690000   49.000000             1000.0                30720.0   \n",
       "\n",
       "       minutes_included  rub_monthly_fee  rub_per_gb  rub_per_message  \\\n",
       "count             985.0            985.0       985.0            985.0   \n",
       "mean             3000.0           1950.0       150.0              1.0   \n",
       "std                 0.0              0.0         0.0              0.0   \n",
       "min              3000.0           1950.0       150.0              1.0   \n",
       "25%              3000.0           1950.0       150.0              1.0   \n",
       "50%              3000.0           1950.0       150.0              1.0   \n",
       "75%              3000.0           1950.0       150.0              1.0   \n",
       "max              3000.0           1950.0       150.0              1.0   \n",
       "\n",
       "       rub_per_minute        sales  \n",
       "count           985.0   985.000000  \n",
       "mean              1.0  2070.152284  \n",
       "std               0.0   376.187114  \n",
       "min               1.0  1950.000000  \n",
       "25%               1.0  1950.000000  \n",
       "50%               1.0  1950.000000  \n",
       "75%               1.0  1950.000000  \n",
       "max               1.0  4800.000000  "
      ]
     },
     "execution_count": 36,
     "metadata": {},
     "output_type": "execute_result"
    }
   ],
   "source": [
    "agreg_all_user_ultra = agreg_all[agreg_all['tariff']=='ultra']\n",
    "display('Тариф Ультра')\n",
    "agreg_all_user_ultra.describe()"
   ]
  },
  {
   "cell_type": "code",
   "execution_count": 37,
   "id": "c21155fb",
   "metadata": {},
   "outputs": [
    {
     "data": {
      "text/plain": [
       "'Тариф Смарт'"
      ]
     },
     "metadata": {},
     "output_type": "display_data"
    },
    {
     "data": {
      "text/html": [
       "<div>\n",
       "<style scoped>\n",
       "    .dataframe tbody tr th:only-of-type {\n",
       "        vertical-align: middle;\n",
       "    }\n",
       "\n",
       "    .dataframe tbody tr th {\n",
       "        vertical-align: top;\n",
       "    }\n",
       "\n",
       "    .dataframe thead th {\n",
       "        text-align: right;\n",
       "    }\n",
       "</style>\n",
       "<table border=\"1\" class=\"dataframe\">\n",
       "  <thead>\n",
       "    <tr style=\"text-align: right;\">\n",
       "      <th></th>\n",
       "      <th>user_id</th>\n",
       "      <th>month</th>\n",
       "      <th>calls</th>\n",
       "      <th>duration</th>\n",
       "      <th>messages</th>\n",
       "      <th>mb_used</th>\n",
       "      <th>gb_used</th>\n",
       "      <th>messages_included</th>\n",
       "      <th>mb_per_month_included</th>\n",
       "      <th>minutes_included</th>\n",
       "      <th>rub_monthly_fee</th>\n",
       "      <th>rub_per_gb</th>\n",
       "      <th>rub_per_message</th>\n",
       "      <th>rub_per_minute</th>\n",
       "      <th>sales</th>\n",
       "    </tr>\n",
       "  </thead>\n",
       "  <tbody>\n",
       "    <tr>\n",
       "      <th>count</th>\n",
       "      <td>2229.000000</td>\n",
       "      <td>2229.000000</td>\n",
       "      <td>2229.000000</td>\n",
       "      <td>2229.000000</td>\n",
       "      <td>2229.000000</td>\n",
       "      <td>2229.000000</td>\n",
       "      <td>2229.000000</td>\n",
       "      <td>2229.0</td>\n",
       "      <td>2229.0</td>\n",
       "      <td>2229.0</td>\n",
       "      <td>2229.0</td>\n",
       "      <td>2229.0</td>\n",
       "      <td>2229.0</td>\n",
       "      <td>2229.0</td>\n",
       "      <td>2229.000000</td>\n",
       "    </tr>\n",
       "    <tr>\n",
       "      <th>mean</th>\n",
       "      <td>1246.506505</td>\n",
       "      <td>8.346792</td>\n",
       "      <td>58.463437</td>\n",
       "      <td>417.934948</td>\n",
       "      <td>33.384029</td>\n",
       "      <td>16208.386990</td>\n",
       "      <td>16.328847</td>\n",
       "      <td>50.0</td>\n",
       "      <td>15360.0</td>\n",
       "      <td>500.0</td>\n",
       "      <td>550.0</td>\n",
       "      <td>200.0</td>\n",
       "      <td>3.0</td>\n",
       "      <td>3.0</td>\n",
       "      <td>1289.973531</td>\n",
       "    </tr>\n",
       "    <tr>\n",
       "      <th>std</th>\n",
       "      <td>146.119496</td>\n",
       "      <td>2.920316</td>\n",
       "      <td>25.939858</td>\n",
       "      <td>190.313730</td>\n",
       "      <td>28.227876</td>\n",
       "      <td>5870.476681</td>\n",
       "      <td>5.747061</td>\n",
       "      <td>0.0</td>\n",
       "      <td>0.0</td>\n",
       "      <td>0.0</td>\n",
       "      <td>0.0</td>\n",
       "      <td>0.0</td>\n",
       "      <td>0.0</td>\n",
       "      <td>0.0</td>\n",
       "      <td>818.404367</td>\n",
       "    </tr>\n",
       "    <tr>\n",
       "      <th>min</th>\n",
       "      <td>1001.000000</td>\n",
       "      <td>1.000000</td>\n",
       "      <td>0.000000</td>\n",
       "      <td>0.000000</td>\n",
       "      <td>0.000000</td>\n",
       "      <td>0.000000</td>\n",
       "      <td>0.000000</td>\n",
       "      <td>50.0</td>\n",
       "      <td>15360.0</td>\n",
       "      <td>500.0</td>\n",
       "      <td>550.0</td>\n",
       "      <td>200.0</td>\n",
       "      <td>3.0</td>\n",
       "      <td>3.0</td>\n",
       "      <td>550.000000</td>\n",
       "    </tr>\n",
       "    <tr>\n",
       "      <th>25%</th>\n",
       "      <td>1121.000000</td>\n",
       "      <td>6.000000</td>\n",
       "      <td>40.000000</td>\n",
       "      <td>282.000000</td>\n",
       "      <td>10.000000</td>\n",
       "      <td>12643.010000</td>\n",
       "      <td>13.000000</td>\n",
       "      <td>50.0</td>\n",
       "      <td>15360.0</td>\n",
       "      <td>500.0</td>\n",
       "      <td>550.0</td>\n",
       "      <td>200.0</td>\n",
       "      <td>3.0</td>\n",
       "      <td>3.0</td>\n",
       "      <td>550.000000</td>\n",
       "    </tr>\n",
       "    <tr>\n",
       "      <th>50%</th>\n",
       "      <td>1239.000000</td>\n",
       "      <td>9.000000</td>\n",
       "      <td>60.000000</td>\n",
       "      <td>422.000000</td>\n",
       "      <td>28.000000</td>\n",
       "      <td>16506.840000</td>\n",
       "      <td>17.000000</td>\n",
       "      <td>50.0</td>\n",
       "      <td>15360.0</td>\n",
       "      <td>500.0</td>\n",
       "      <td>550.0</td>\n",
       "      <td>200.0</td>\n",
       "      <td>3.0</td>\n",
       "      <td>3.0</td>\n",
       "      <td>1023.000000</td>\n",
       "    </tr>\n",
       "    <tr>\n",
       "      <th>75%</th>\n",
       "      <td>1376.000000</td>\n",
       "      <td>11.000000</td>\n",
       "      <td>76.000000</td>\n",
       "      <td>545.000000</td>\n",
       "      <td>51.000000</td>\n",
       "      <td>20042.930000</td>\n",
       "      <td>20.000000</td>\n",
       "      <td>50.0</td>\n",
       "      <td>15360.0</td>\n",
       "      <td>500.0</td>\n",
       "      <td>550.0</td>\n",
       "      <td>200.0</td>\n",
       "      <td>3.0</td>\n",
       "      <td>3.0</td>\n",
       "      <td>1750.000000</td>\n",
       "    </tr>\n",
       "    <tr>\n",
       "      <th>max</th>\n",
       "      <td>1499.000000</td>\n",
       "      <td>12.000000</td>\n",
       "      <td>198.000000</td>\n",
       "      <td>1435.000000</td>\n",
       "      <td>143.000000</td>\n",
       "      <td>38552.450000</td>\n",
       "      <td>38.000000</td>\n",
       "      <td>50.0</td>\n",
       "      <td>15360.0</td>\n",
       "      <td>500.0</td>\n",
       "      <td>550.0</td>\n",
       "      <td>200.0</td>\n",
       "      <td>3.0</td>\n",
       "      <td>3.0</td>\n",
       "      <td>6770.000000</td>\n",
       "    </tr>\n",
       "  </tbody>\n",
       "</table>\n",
       "</div>"
      ],
      "text/plain": [
       "           user_id        month        calls     duration     messages  \\\n",
       "count  2229.000000  2229.000000  2229.000000  2229.000000  2229.000000   \n",
       "mean   1246.506505     8.346792    58.463437   417.934948    33.384029   \n",
       "std     146.119496     2.920316    25.939858   190.313730    28.227876   \n",
       "min    1001.000000     1.000000     0.000000     0.000000     0.000000   \n",
       "25%    1121.000000     6.000000    40.000000   282.000000    10.000000   \n",
       "50%    1239.000000     9.000000    60.000000   422.000000    28.000000   \n",
       "75%    1376.000000    11.000000    76.000000   545.000000    51.000000   \n",
       "max    1499.000000    12.000000   198.000000  1435.000000   143.000000   \n",
       "\n",
       "            mb_used      gb_used  messages_included  mb_per_month_included  \\\n",
       "count   2229.000000  2229.000000             2229.0                 2229.0   \n",
       "mean   16208.386990    16.328847               50.0                15360.0   \n",
       "std     5870.476681     5.747061                0.0                    0.0   \n",
       "min        0.000000     0.000000               50.0                15360.0   \n",
       "25%    12643.010000    13.000000               50.0                15360.0   \n",
       "50%    16506.840000    17.000000               50.0                15360.0   \n",
       "75%    20042.930000    20.000000               50.0                15360.0   \n",
       "max    38552.450000    38.000000               50.0                15360.0   \n",
       "\n",
       "       minutes_included  rub_monthly_fee  rub_per_gb  rub_per_message  \\\n",
       "count            2229.0           2229.0      2229.0           2229.0   \n",
       "mean              500.0            550.0       200.0              3.0   \n",
       "std                 0.0              0.0         0.0              0.0   \n",
       "min               500.0            550.0       200.0              3.0   \n",
       "25%               500.0            550.0       200.0              3.0   \n",
       "50%               500.0            550.0       200.0              3.0   \n",
       "75%               500.0            550.0       200.0              3.0   \n",
       "max               500.0            550.0       200.0              3.0   \n",
       "\n",
       "       rub_per_minute        sales  \n",
       "count          2229.0  2229.000000  \n",
       "mean              3.0  1289.973531  \n",
       "std               0.0   818.404367  \n",
       "min               3.0   550.000000  \n",
       "25%               3.0   550.000000  \n",
       "50%               3.0  1023.000000  \n",
       "75%               3.0  1750.000000  \n",
       "max               3.0  6770.000000  "
      ]
     },
     "execution_count": 37,
     "metadata": {},
     "output_type": "execute_result"
    }
   ],
   "source": [
    "agreg_all_user_smart = agreg_all[agreg_all['tariff']=='smart']\n",
    "display('Тариф Смарт')\n",
    "agreg_all_user_smart.describe()"
   ]
  },
  {
   "cell_type": "code",
   "execution_count": 38,
   "id": "e60e14b1",
   "metadata": {},
   "outputs": [
    {
     "data": {
      "text/html": [
       "<div>\n",
       "<style scoped>\n",
       "    .dataframe tbody tr th:only-of-type {\n",
       "        vertical-align: middle;\n",
       "    }\n",
       "\n",
       "    .dataframe tbody tr th {\n",
       "        vertical-align: top;\n",
       "    }\n",
       "\n",
       "    .dataframe thead th {\n",
       "        text-align: right;\n",
       "    }\n",
       "</style>\n",
       "<table border=\"1\" class=\"dataframe\">\n",
       "  <thead>\n",
       "    <tr style=\"text-align: right;\">\n",
       "      <th></th>\n",
       "      <th>tariff</th>\n",
       "      <th>smart</th>\n",
       "      <th>ultra</th>\n",
       "    </tr>\n",
       "  </thead>\n",
       "  <tbody>\n",
       "    <tr>\n",
       "      <th rowspan=\"4\" valign=\"top\">duration</th>\n",
       "      <th>mean</th>\n",
       "      <td>417</td>\n",
       "      <td>526</td>\n",
       "    </tr>\n",
       "    <tr>\n",
       "      <th>median</th>\n",
       "      <td>422</td>\n",
       "      <td>518</td>\n",
       "    </tr>\n",
       "    <tr>\n",
       "      <th>std</th>\n",
       "      <td>190</td>\n",
       "      <td>317</td>\n",
       "    </tr>\n",
       "    <tr>\n",
       "      <th>var</th>\n",
       "      <td>36219</td>\n",
       "      <td>100873</td>\n",
       "    </tr>\n",
       "    <tr>\n",
       "      <th rowspan=\"4\" valign=\"top\">messages</th>\n",
       "      <th>mean</th>\n",
       "      <td>33</td>\n",
       "      <td>49</td>\n",
       "    </tr>\n",
       "    <tr>\n",
       "      <th>median</th>\n",
       "      <td>28</td>\n",
       "      <td>38</td>\n",
       "    </tr>\n",
       "    <tr>\n",
       "      <th>std</th>\n",
       "      <td>28</td>\n",
       "      <td>47</td>\n",
       "    </tr>\n",
       "    <tr>\n",
       "      <th>var</th>\n",
       "      <td>796</td>\n",
       "      <td>2285</td>\n",
       "    </tr>\n",
       "    <tr>\n",
       "      <th rowspan=\"4\" valign=\"top\">mb_used</th>\n",
       "      <th>mean</th>\n",
       "      <td>16208</td>\n",
       "      <td>19468</td>\n",
       "    </tr>\n",
       "    <tr>\n",
       "      <th>median</th>\n",
       "      <td>16506</td>\n",
       "      <td>19308</td>\n",
       "    </tr>\n",
       "    <tr>\n",
       "      <th>std</th>\n",
       "      <td>5870</td>\n",
       "      <td>10087</td>\n",
       "    </tr>\n",
       "    <tr>\n",
       "      <th>var</th>\n",
       "      <td>34462496</td>\n",
       "      <td>101751013</td>\n",
       "    </tr>\n",
       "    <tr>\n",
       "      <th rowspan=\"4\" valign=\"top\">sales</th>\n",
       "      <th>mean</th>\n",
       "      <td>1289</td>\n",
       "      <td>2070</td>\n",
       "    </tr>\n",
       "    <tr>\n",
       "      <th>median</th>\n",
       "      <td>1023</td>\n",
       "      <td>1950</td>\n",
       "    </tr>\n",
       "    <tr>\n",
       "      <th>std</th>\n",
       "      <td>818</td>\n",
       "      <td>376</td>\n",
       "    </tr>\n",
       "    <tr>\n",
       "      <th>var</th>\n",
       "      <td>669785</td>\n",
       "      <td>141516</td>\n",
       "    </tr>\n",
       "  </tbody>\n",
       "</table>\n",
       "</div>"
      ],
      "text/plain": [
       "tariff              smart      ultra\n",
       "duration mean         417        526\n",
       "         median       422        518\n",
       "         std          190        317\n",
       "         var        36219     100873\n",
       "messages mean          33         49\n",
       "         median        28         38\n",
       "         std           28         47\n",
       "         var          796       2285\n",
       "mb_used  mean       16208      19468\n",
       "         median     16506      19308\n",
       "         std         5870      10087\n",
       "         var     34462496  101751013\n",
       "sales    mean        1289       2070\n",
       "         median      1023       1950\n",
       "         std          818        376\n",
       "         var       669785     141516"
      ]
     },
     "execution_count": 38,
     "metadata": {},
     "output_type": "execute_result"
    }
   ],
   "source": [
    "agreg_all.groupby('tariff').agg({'duration':['mean', 'median', np.std, np.var],\n",
    "                                 'messages':['mean', 'median', np.std, np.var],\n",
    "                                 'mb_used':['mean', 'median', np.std, np.var],\n",
    "                                 'sales':['mean', 'median', np.std, np.var]}).T.astype('int')"
   ]
  },
  {
   "cell_type": "markdown",
   "id": "bfabf05d",
   "metadata": {},
   "source": [
    "\n"
   ]
  },
  {
   "cell_type": "code",
   "execution_count": 39,
   "id": "1d9d3e02",
   "metadata": {},
   "outputs": [
    {
     "data": {
      "text/plain": [
       "<AxesSubplot:>"
      ]
     },
     "execution_count": 39,
     "metadata": {},
     "output_type": "execute_result"
    },
    {
     "data": {
      "image/png": "[encoded data removed]",
      "text/plain": [
       "<Figure size 1296x432 with 2 Axes>"
      ]
     },
     "metadata": {
      "needs_background": "light"
     },
     "output_type": "display_data"
    }
   ],
   "source": [
    "plt.figure(figsize = (18,6))\n",
    "agreg_all_user_ultra.boxplot('duration', ax= plt.subplot(1,2,1))\n",
    "agreg_all_user_smart.boxplot('duration', ax= plt.subplot(1,2,2))"
   ]
  },
  {
   "cell_type": "code",
   "execution_count": 40,
   "id": "10b0df26",
   "metadata": {},
   "outputs": [
    {
     "data": {
      "text/plain": [
       "<AxesSubplot:>"
      ]
     },
     "execution_count": 40,
     "metadata": {},
     "output_type": "execute_result"
    },
    {
     "data": {
      "image/png": "[encoded data removed]",
      "text/plain": [
       "<Figure size 1296x432 with 2 Axes>"
      ]
     },
     "metadata": {
      "needs_background": "light"
     },
     "output_type": "display_data"
    }
   ],
   "source": [
    "plt.figure(figsize = (18,6))\n",
    "agreg_all_user_ultra.boxplot('messages', ax= plt.subplot(1,2,1))\n",
    "agreg_all_user_smart.boxplot('messages', ax= plt.subplot(1,2,2))"
   ]
  },
  {
   "cell_type": "code",
   "execution_count": 41,
   "id": "4cd0690f",
   "metadata": {},
   "outputs": [
    {
     "data": {
      "text/plain": [
       "<AxesSubplot:>"
      ]
     },
     "execution_count": 41,
     "metadata": {},
     "output_type": "execute_result"
    },
    {
     "data": {
      "image/png": "[encoded data removed]",
      "text/plain": [
       "<Figure size 1296x432 with 2 Axes>"
      ]
     },
     "metadata": {
      "needs_background": "light"
     },
     "output_type": "display_data"
    }
   ],
   "source": [
    "plt.figure(figsize = (18,6))\n",
    "agreg_all_user_ultra.boxplot('gb_used', ax= plt.subplot(1,2,1))\n",
    "agreg_all_user_smart.boxplot('gb_used', ax= plt.subplot(1,2,2))"
   ]
  },
  {
   "cell_type": "code",
   "execution_count": 42,
   "id": "42d7ffda",
   "metadata": {},
   "outputs": [
    {
     "data": {
      "text/plain": [
       "<AxesSubplot:>"
      ]
     },
     "execution_count": 42,
     "metadata": {},
     "output_type": "execute_result"
    },
    {
     "data": {
      "image/png": "[encoded data removed]",
      "text/plain": [
       "<Figure size 1296x432 with 2 Axes>"
      ]
     },
     "metadata": {
      "needs_background": "light"
     },
     "output_type": "display_data"
    }
   ],
   "source": [
    "plt.figure(figsize = (18,6))\n",
    "agreg_all_user_ultra.boxplot('sales', ax= plt.subplot(1,2,1))\n",
    "agreg_all_user_smart.boxplot('sales', ax= plt.subplot(1,2,2))"
   ]
  },
  {
   "cell_type": "code",
   "execution_count": 43,
   "id": "b5df1364",
   "metadata": {},
   "outputs": [],
   "source": [
    "def histogram(data_1,data_2,name, x_1,x_2):\n",
    "    plt.figure(figsize=(10,6))\n",
    "    plt.hist(data_1[name], bins=30, color='red', label='тариф Ультра', alpha=0.5, edgecolor='grey', )\n",
    "    plt.hist(data_2[name], bins=30, color='blue', label='тариф Смарт', alpha=0.5, edgecolor='grey')\n",
    "    plt.axvline(data_1[name].mean(), color='red', label='среднее Ультра',linestyle='dashed', linewidth=3)\n",
    "    plt.axvline(data_2[name].mean(), color='blue', label='среднее Смарт',linestyle='dashed', linewidth=3)\n",
    "    plt.axvline(x_1,color='red', label='включено в тариф Ультра', linewidth=3)\n",
    "    plt.axvline(x_2,color='blue', label='включено в тариф Смарт', linewidth=3)\n",
    "    plt.legend()\n",
    "    "
   ]
  },
  {
   "cell_type": "code",
   "execution_count": 44,
   "id": "318be732",
   "metadata": {},
   "outputs": [
    {
     "data": {
      "image/png": "[encoded data removed]",
      "text/plain": [
       "<Figure size 720x432 with 1 Axes>"
      ]
     },
     "metadata": {
      "needs_background": "light"
     },
     "output_type": "display_data"
    }
   ],
   "source": [
    "#agreg_all_user_ultra.hist('duration', bins=15)\n",
    "#agreg_all_user_smart.hist('duration', bins=15)\n",
    "\n",
    "histogram(agreg_all_user_ultra,agreg_all_user_smart, 'duration',3000,500)"
   ]
  },
  {
   "cell_type": "code",
   "execution_count": 45,
   "id": "bcf4f90f",
   "metadata": {},
   "outputs": [
    {
     "data": {
      "image/png": "[encoded data removed]",
      "text/plain": [
       "<Figure size 720x432 with 1 Axes>"
      ]
     },
     "metadata": {
      "needs_background": "light"
     },
     "output_type": "display_data"
    }
   ],
   "source": [
    "#agreg_all_user_ultra.hist('messages', bins=15, title='Ультра смс')\n",
    "#agreg_all_user_smart.hist('messages', bins=15)\n",
    "\n",
    "histogram(agreg_all_user_ultra,agreg_all_user_smart, 'messages',1000,50)"
   ]
  },
  {
   "cell_type": "code",
   "execution_count": 46,
   "id": "746f1286",
   "metadata": {},
   "outputs": [
    {
     "data": {
      "image/png": "[encoded data removed]",
      "text/plain": [
       "<Figure size 720x432 with 1 Axes>"
      ]
     },
     "metadata": {
      "needs_background": "light"
     },
     "output_type": "display_data"
    }
   ],
   "source": [
    "histogram(agreg_all_user_ultra,agreg_all_user_smart, 'gb_used',30,15)"
   ]
  },
  {
   "cell_type": "code",
   "execution_count": 47,
   "id": "af5d9e80",
   "metadata": {},
   "outputs": [
    {
     "data": {
      "image/png": "[encoded data removed]",
      "text/plain": [
       "<Figure size 720x432 with 1 Axes>"
      ]
     },
     "metadata": {
      "needs_background": "light"
     },
     "output_type": "display_data"
    }
   ],
   "source": [
    "histogram(agreg_all_user_ultra,agreg_all_user_smart, 'sales',1950,550)"
   ]
  },
  {
   "cell_type": "code",
   "execution_count": 48,
   "id": "c1730be5",
   "metadata": {},
   "outputs": [
    {
     "name": "stdout",
     "output_type": "stream",
     "text": [
      "Всего пользователей на тарифе Ультра 985\n",
      "Пользователи укладывающиеся в лимит на тарифе Ультра 851\n",
      "----------------------------------------------------\n",
      "Всего пользователей на тарифе Смарт 2229\n",
      "Пользователи укладывающиеся в лимит на тарифе Смарт 567\n"
     ]
    }
   ],
   "source": [
    "print('Всего пользователей на тарифе Ультра',agreg_all_user_ultra['tariff'].count())\n",
    "print('Пользователи укладывающиеся в лимит на тарифе Ультра',agreg_all_user_ultra['tariff'][agreg_all_user_ultra['sales']==1950].count())\n",
    "print('----------------------------------------------------')\n",
    "print('Всего пользователей на тарифе Смарт',agreg_all_user_smart['tariff'].count())\n",
    "print('Пользователи укладывающиеся в лимит на тарифе Смарт', agreg_all_user_smart['tariff'][agreg_all_user_smart['sales']==550].count())"
   ]
  },
  {
   "cell_type": "markdown",
   "id": "23656357",
   "metadata": {},
   "source": [
    "### Вывод\n",
    "\n",
    "Сравним тарифы.\n",
    "\n",
    "Пользователи тарифа Смарт в среднем в месяц тратят меньше минут разговора, чем пользователи тарифа Ультра.\n",
    "На тарифе Смарт пользователи часто не укладываются в лимиты и доплачивают за звонки.\n",
    "Дисперсия и стандартное отклонение выше на тарифе Ультра, но пользователи этого тарифа всегда укладываются в установленные лимиты. Максимальное число минут разговора в месяц значительно меньше заложенных в него 3000.\n",
    "\n",
    "Пользователи тарифа Ультра в среднем чаще отправляют смс, чем пользователи тарифа Смарт. \n",
    "На тарифе Смарт пользовали некоторые пользователи не укладывабтся в лимит и доплачивают за дополнительные смс. На тарифе Ультра в установленный лимит укладываются все.  С дисперсией аналогичная ситуация, что и в звонках: дисперсия и стандартное отклонение выше на тарифе Ультра, но пользователи всегда укладываются в лимит.\n",
    "\n",
    "Пользователи тарифа Ультра в среднем больше пользуются интернетом, чем пользователи тарифа Смарт.Но больше половины пользователей тарифа Смарт не укладываются в установленный лимит и доплачивабт за каждый потраченный дополнительго гб. На тарифе Ультра тоже есть пользователи, которым не хватает лимитированного интернет-трафика. Но таких пользователей значительно меньше, чем на тарифе Смарт.\n",
    "\n",
    "Если смотреть на среднюю плату, то пользователи тарифа Смарт платят меньше на 40%. Но разрыв между медианой и средним большой, а значит есть значительное количество пользователей, которые платят больше среднего. И это заметно по дисперсии и стд отклонению: на тарифе смарт дисперсия больше почти в пять раз, а стд отклонение больше, чем в два раза. И если мы посмотрим на гистрограмму, то увидем, что на тарифе Смарт 75% пользователtq платят сверх установленного тарифа. А на тарифе Ультра около 13% пользователей, не укладываются в лимиты тарифа.\n"
   ]
  },
  {
   "cell_type": "markdown",
   "id": "3bfcbb5b",
   "metadata": {},
   "source": [
    "## Проверка гипотез\n",
    "\n",
    "1. Средняя выручка пользователей Ультра и Смарта различаются.\n",
    "2. Средняя выручка пользователей из Москвы отличается от выручки пользователей из других регионов."
   ]
  },
  {
   "cell_type": "markdown",
   "id": "2e210175",
   "metadata": {},
   "source": [
    "### Проверка гипотезы 1\n",
    "\n",
    "Н0 - Средняя выручка пользователей тарифов «Ультра» и «Смарт» равны, т.е. средние значения равны.<br>\n",
    "Н1 - Средняя выручка пользователей тарифов «Ультра» и «Смарт» не равны, т.е. средние значения не равны.<br>\n",
    "Дисперсии выборок отличаются более чем на 5%"
   ]
  },
  {
   "cell_type": "code",
   "execution_count": 49,
   "id": "157b6d7e",
   "metadata": {},
   "outputs": [
    {
     "data": {
      "text/html": [
       "<div>\n",
       "<style scoped>\n",
       "    .dataframe tbody tr th:only-of-type {\n",
       "        vertical-align: middle;\n",
       "    }\n",
       "\n",
       "    .dataframe tbody tr th {\n",
       "        vertical-align: top;\n",
       "    }\n",
       "\n",
       "    .dataframe thead th {\n",
       "        text-align: right;\n",
       "    }\n",
       "</style>\n",
       "<table border=\"1\" class=\"dataframe\">\n",
       "  <thead>\n",
       "    <tr style=\"text-align: right;\">\n",
       "      <th></th>\n",
       "      <th>tariff</th>\n",
       "      <th>smart</th>\n",
       "      <th>ultra</th>\n",
       "    </tr>\n",
       "  </thead>\n",
       "  <tbody>\n",
       "    <tr>\n",
       "      <th rowspan=\"3\" valign=\"top\">sales</th>\n",
       "      <th>mean</th>\n",
       "      <td>1289</td>\n",
       "      <td>2070</td>\n",
       "    </tr>\n",
       "    <tr>\n",
       "      <th>std</th>\n",
       "      <td>818</td>\n",
       "      <td>376</td>\n",
       "    </tr>\n",
       "    <tr>\n",
       "      <th>var</th>\n",
       "      <td>669785</td>\n",
       "      <td>141516</td>\n",
       "    </tr>\n",
       "  </tbody>\n",
       "</table>\n",
       "</div>"
      ],
      "text/plain": [
       "tariff       smart   ultra\n",
       "sales mean    1289    2070\n",
       "      std      818     376\n",
       "      var   669785  141516"
      ]
     },
     "execution_count": 49,
     "metadata": {},
     "output_type": "execute_result"
    }
   ],
   "source": [
    "agreg_all.groupby('tariff').agg({'sales':['mean', np.std, np.var]}).T.astype('int')"
   ]
  },
  {
   "cell_type": "code",
   "execution_count": 50,
   "id": "f6463b88",
   "metadata": {},
   "outputs": [
    {
     "name": "stdout",
     "output_type": "stream",
     "text": [
      "p-значение:  4.2606313931076085e-250\n",
      "Отвергаем нулевую гипотезу\n"
     ]
    }
   ],
   "source": [
    "alpha = .05\n",
    "results = st.ttest_ind(agreg_all_user_ultra['sales'], agreg_all_user_smart['sales'], equal_var = False)\n",
    "print('p-значение: ', results.pvalue)\n",
    "\n",
    "if results.pvalue < alpha:\n",
    "    print('Отвергаем нулевую гипотезу')\n",
    "else:\n",
    "    print('Не получилось отвергнуть нулевую гипотезу')"
   ]
  },
  {
   "cell_type": "markdown",
   "id": "737140eb",
   "metadata": {},
   "source": [
    "#### Вывод по гипотезе 1:\n",
    "\n",
    "Досточно маленькое p-value говорит нам о том, что вероятность случайного совпадения средних наших выборок ничтожно мало. Нулевая гипотеза отвергается.  \n",
    "А значит мы принимаем альтернативную гипотезу о том, что средние наших выборок отличаются. Т.е. Средние выручки пользователей разных тарифов - разные."
   ]
  },
  {
   "cell_type": "markdown",
   "id": "776966e6",
   "metadata": {},
   "source": [
    "### Проверка гипотезы 2\n",
    "\n",
    "Н0 - Средняя выручка пользователей из Москвы и пользователей из других регионов равны, т.е. средние значения равны.<br>\n",
    "Н1 - Средняя выручка пользователей из Москвы и пользователей из других регионов не равны, т.е. средние значения не равны."
   ]
  },
  {
   "cell_type": "code",
   "execution_count": 51,
   "id": "c74c7471",
   "metadata": {},
   "outputs": [
    {
     "name": "stdout",
     "output_type": "stream",
     "text": [
      "P-value: 0.5257376663729298\n",
      "Не получилось отвергнуть нулевую гипотезу\n"
     ]
    }
   ],
   "source": [
    "alpha = .05\n",
    "results = st.ttest_ind(agreg_all[agreg_all['city'] == 'Москва']['sales'], \\\n",
    "                       agreg_all[agreg_all['city'] != 'Москва']['sales'], equal_var = False)\n",
    "print('P-value:', results.pvalue)\n",
    "\n",
    "if (results.pvalue < alpha):\n",
    "    print(\"Отвергаем нулевую гипотезу\")\n",
    "else:\n",
    "    print(\"Не получилось отвергнуть нулевую гипотезу\")"
   ]
  },
  {
   "cell_type": "markdown",
   "id": "0d710d89",
   "metadata": {},
   "source": [
    "#### Вывод гипотезы 2:\n",
    "\n",
    "Значение p-value равно 0.45, это значит что вероятность того, что отличие средних значений наших выборок случайно очень большая, и мы не можем отвергнуть нулевую гипотезу.\n",
    "Значит cредняя выручка пользователей из Москвы и пользователей из других регионов равны."
   ]
  },
  {
   "cell_type": "markdown",
   "id": "7274534c",
   "metadata": {},
   "source": [
    "##  Общий вывод\n",
    "\n",
    "Предоставленные данные были проверены на пропуски, неверный тип данных. Была обнаружена и устранена ошибка в типе дат. Согласно тарифным планам, округлили длительность звонков до минут в большую сторону. Далее данные были сгруппированы в разрезе пользователей по месяцам. И согласно тарифам, перевели мб в гб.\n",
    "\n",
    "Сформировали сводную таблицу и посчитали траты клиентов с учетом лимитов по тарифам.\n",
    "\n",
    "Проанализировав данные, обнаружила, что 75% пользователей тарифа Смарт платят сверх тарифа, но при этом в среднем пользователь данного тарифа все равно меньше платит на 40%, чем пользователь тарифа Ультра.\n",
    "\n",
    "\n",
    "Средняя выручка по пользователям тарифа Ультра выше выручки от пользователей тарифа Смарт.\n",
    "Средняя выручка пользователей из Москвы и пользователей из других регионов равны.\n",
    "\n",
    "Для компании более выгодно продавать тариф Ультра. Но для конечной рекомендатиции выборка маловата. Возможно следут взять другую подобную выборку и провести такой же анализ. После это уже делать окончательный вывод.\n",
    "\n"
   ]
  }
 ],
 "metadata": {
  "ExecuteTimeLog": [
   {
    "duration": 1258,
    "start_time": "2022-04-04T09:52:11.092Z"
   },
   {
    "duration": 187,
    "start_time": "2022-04-04T09:52:12.352Z"
   },
   {
    "duration": 0,
    "start_time": "2022-04-04T09:52:12.542Z"
   },
   {
    "duration": 0,
    "start_time": "2022-04-04T09:52:12.543Z"
   },
   {
    "duration": 0,
    "start_time": "2022-04-04T09:52:12.544Z"
   },
   {
    "duration": 0,
    "start_time": "2022-04-04T09:52:12.544Z"
   },
   {
    "duration": 0,
    "start_time": "2022-04-04T09:52:12.545Z"
   },
   {
    "duration": 0,
    "start_time": "2022-04-04T09:52:12.546Z"
   },
   {
    "duration": 0,
    "start_time": "2022-04-04T09:52:12.547Z"
   },
   {
    "duration": 0,
    "start_time": "2022-04-04T09:52:12.548Z"
   },
   {
    "duration": 0,
    "start_time": "2022-04-04T09:52:12.549Z"
   },
   {
    "duration": 0,
    "start_time": "2022-04-04T09:52:12.550Z"
   },
   {
    "duration": 0,
    "start_time": "2022-04-04T09:52:12.563Z"
   },
   {
    "duration": 0,
    "start_time": "2022-04-04T09:52:12.564Z"
   },
   {
    "duration": 0,
    "start_time": "2022-04-04T09:52:12.565Z"
   },
   {
    "duration": 0,
    "start_time": "2022-04-04T09:52:12.566Z"
   },
   {
    "duration": 0,
    "start_time": "2022-04-04T09:52:12.567Z"
   },
   {
    "duration": 0,
    "start_time": "2022-04-04T09:52:12.568Z"
   },
   {
    "duration": 0,
    "start_time": "2022-04-04T09:52:12.568Z"
   },
   {
    "duration": 0,
    "start_time": "2022-04-04T09:52:12.569Z"
   },
   {
    "duration": 0,
    "start_time": "2022-04-04T09:52:12.570Z"
   },
   {
    "duration": 0,
    "start_time": "2022-04-04T09:52:12.571Z"
   },
   {
    "duration": 0,
    "start_time": "2022-04-04T09:52:12.572Z"
   },
   {
    "duration": 0,
    "start_time": "2022-04-04T09:52:12.573Z"
   },
   {
    "duration": 0,
    "start_time": "2022-04-04T09:52:12.574Z"
   },
   {
    "duration": 0,
    "start_time": "2022-04-04T09:52:12.576Z"
   },
   {
    "duration": 0,
    "start_time": "2022-04-04T09:52:12.577Z"
   },
   {
    "duration": 0,
    "start_time": "2022-04-04T09:52:12.578Z"
   },
   {
    "duration": 0,
    "start_time": "2022-04-04T09:52:12.579Z"
   },
   {
    "duration": 0,
    "start_time": "2022-04-04T09:52:12.580Z"
   },
   {
    "duration": 0,
    "start_time": "2022-04-04T09:52:12.581Z"
   },
   {
    "duration": 1,
    "start_time": "2022-04-04T09:52:12.581Z"
   },
   {
    "duration": 0,
    "start_time": "2022-04-04T09:52:12.582Z"
   },
   {
    "duration": 0,
    "start_time": "2022-04-04T09:52:12.583Z"
   },
   {
    "duration": 0,
    "start_time": "2022-04-04T09:52:12.584Z"
   },
   {
    "duration": 0,
    "start_time": "2022-04-04T09:52:12.585Z"
   },
   {
    "duration": 0,
    "start_time": "2022-04-04T09:52:12.586Z"
   },
   {
    "duration": 0,
    "start_time": "2022-04-04T09:52:12.587Z"
   },
   {
    "duration": 0,
    "start_time": "2022-04-04T09:52:12.588Z"
   },
   {
    "duration": 0,
    "start_time": "2022-04-04T09:52:12.589Z"
   },
   {
    "duration": 0,
    "start_time": "2022-04-04T09:52:12.590Z"
   },
   {
    "duration": 0,
    "start_time": "2022-04-04T09:52:12.591Z"
   },
   {
    "duration": 0,
    "start_time": "2022-04-04T09:52:12.592Z"
   },
   {
    "duration": 0,
    "start_time": "2022-04-04T09:52:12.593Z"
   },
   {
    "duration": 0,
    "start_time": "2022-04-04T09:52:12.593Z"
   },
   {
    "duration": 0,
    "start_time": "2022-04-04T09:52:12.594Z"
   },
   {
    "duration": 0,
    "start_time": "2022-04-04T09:52:12.595Z"
   },
   {
    "duration": 0,
    "start_time": "2022-04-04T09:52:12.596Z"
   },
   {
    "duration": 1076,
    "start_time": "2022-04-04T09:53:35.780Z"
   },
   {
    "duration": 355,
    "start_time": "2022-04-04T09:53:36.857Z"
   },
   {
    "duration": 15,
    "start_time": "2022-04-04T09:53:37.213Z"
   },
   {
    "duration": 13,
    "start_time": "2022-04-04T09:53:37.229Z"
   },
   {
    "duration": 13,
    "start_time": "2022-04-04T09:53:37.244Z"
   },
   {
    "duration": 27,
    "start_time": "2022-04-04T09:53:37.258Z"
   },
   {
    "duration": 10,
    "start_time": "2022-04-04T09:53:37.286Z"
   },
   {
    "duration": 21,
    "start_time": "2022-04-04T09:53:37.298Z"
   },
   {
    "duration": 12,
    "start_time": "2022-04-04T09:53:37.320Z"
   },
   {
    "duration": 43,
    "start_time": "2022-04-04T09:53:37.334Z"
   },
   {
    "duration": 7,
    "start_time": "2022-04-04T09:53:37.378Z"
   },
   {
    "duration": 11,
    "start_time": "2022-04-04T09:53:37.386Z"
   },
   {
    "duration": 11,
    "start_time": "2022-04-04T09:53:37.398Z"
   },
   {
    "duration": 62,
    "start_time": "2022-04-04T09:53:37.411Z"
   },
   {
    "duration": 30,
    "start_time": "2022-04-04T09:53:37.474Z"
   },
   {
    "duration": 35,
    "start_time": "2022-04-04T09:53:37.506Z"
   },
   {
    "duration": 8,
    "start_time": "2022-04-04T09:53:37.562Z"
   },
   {
    "duration": 12,
    "start_time": "2022-04-04T09:53:37.572Z"
   },
   {
    "duration": 6,
    "start_time": "2022-04-04T09:53:37.586Z"
   },
   {
    "duration": 30,
    "start_time": "2022-04-04T09:53:37.593Z"
   },
   {
    "duration": 5,
    "start_time": "2022-04-04T09:53:37.624Z"
   },
   {
    "duration": 51,
    "start_time": "2022-04-04T09:53:37.631Z"
   },
   {
    "duration": 6,
    "start_time": "2022-04-04T09:53:37.683Z"
   },
   {
    "duration": 26,
    "start_time": "2022-04-04T09:53:37.690Z"
   },
   {
    "duration": 59,
    "start_time": "2022-04-04T09:53:37.717Z"
   },
   {
    "duration": 24,
    "start_time": "2022-04-04T09:53:37.777Z"
   },
   {
    "duration": 30,
    "start_time": "2022-04-04T09:53:37.802Z"
   },
   {
    "duration": 42,
    "start_time": "2022-04-04T09:53:37.836Z"
   },
   {
    "duration": 17,
    "start_time": "2022-04-04T09:53:37.880Z"
   },
   {
    "duration": 20,
    "start_time": "2022-04-04T09:53:37.898Z"
   },
   {
    "duration": 3,
    "start_time": "2022-04-04T09:53:37.920Z"
   },
   {
    "duration": 202,
    "start_time": "2022-04-04T09:53:37.925Z"
   },
   {
    "duration": 54,
    "start_time": "2022-04-04T09:53:38.129Z"
   },
   {
    "duration": 44,
    "start_time": "2022-04-04T09:53:38.185Z"
   },
   {
    "duration": 34,
    "start_time": "2022-04-04T09:53:38.230Z"
   },
   {
    "duration": 213,
    "start_time": "2022-04-04T09:53:38.265Z"
   },
   {
    "duration": 177,
    "start_time": "2022-04-04T09:53:38.479Z"
   },
   {
    "duration": 193,
    "start_time": "2022-04-04T09:53:38.658Z"
   },
   {
    "duration": 190,
    "start_time": "2022-04-04T09:53:38.852Z"
   },
   {
    "duration": 4,
    "start_time": "2022-04-04T09:53:39.044Z"
   },
   {
    "duration": 360,
    "start_time": "2022-04-04T09:53:39.050Z"
   },
   {
    "duration": 384,
    "start_time": "2022-04-04T09:53:39.412Z"
   },
   {
    "duration": 406,
    "start_time": "2022-04-04T09:53:39.798Z"
   },
   {
    "duration": 339,
    "start_time": "2022-04-04T09:53:40.206Z"
   },
   {
    "duration": 7,
    "start_time": "2022-04-04T09:53:40.547Z"
   },
   {
    "duration": 12,
    "start_time": "2022-04-04T09:53:40.562Z"
   },
   {
    "duration": 5,
    "start_time": "2022-04-04T09:53:40.575Z"
   },
   {
    "duration": 8,
    "start_time": "2022-04-04T09:53:40.581Z"
   },
   {
    "duration": 1198,
    "start_time": "2022-04-04T10:00:18.851Z"
   },
   {
    "duration": 356,
    "start_time": "2022-04-04T10:00:20.051Z"
   },
   {
    "duration": 15,
    "start_time": "2022-04-04T10:00:20.408Z"
   },
   {
    "duration": 10,
    "start_time": "2022-04-04T10:00:20.425Z"
   },
   {
    "duration": 17,
    "start_time": "2022-04-04T10:00:20.437Z"
   },
   {
    "duration": 28,
    "start_time": "2022-04-04T10:00:20.456Z"
   },
   {
    "duration": 10,
    "start_time": "2022-04-04T10:00:20.485Z"
   },
   {
    "duration": 21,
    "start_time": "2022-04-04T10:00:20.496Z"
   },
   {
    "duration": 13,
    "start_time": "2022-04-04T10:00:20.518Z"
   },
   {
    "duration": 41,
    "start_time": "2022-04-04T10:00:20.534Z"
   },
   {
    "duration": 7,
    "start_time": "2022-04-04T10:00:20.577Z"
   },
   {
    "duration": 10,
    "start_time": "2022-04-04T10:00:20.586Z"
   },
   {
    "duration": 12,
    "start_time": "2022-04-04T10:00:20.597Z"
   },
   {
    "duration": 65,
    "start_time": "2022-04-04T10:00:20.610Z"
   },
   {
    "duration": 30,
    "start_time": "2022-04-04T10:00:20.676Z"
   },
   {
    "duration": 35,
    "start_time": "2022-04-04T10:00:20.707Z"
   },
   {
    "duration": 8,
    "start_time": "2022-04-04T10:00:20.762Z"
   },
   {
    "duration": 16,
    "start_time": "2022-04-04T10:00:20.771Z"
   },
   {
    "duration": 6,
    "start_time": "2022-04-04T10:00:20.788Z"
   },
   {
    "duration": 32,
    "start_time": "2022-04-04T10:00:20.795Z"
   },
   {
    "duration": 5,
    "start_time": "2022-04-04T10:00:20.828Z"
   },
   {
    "duration": 46,
    "start_time": "2022-04-04T10:00:20.834Z"
   },
   {
    "duration": 6,
    "start_time": "2022-04-04T10:00:20.881Z"
   },
   {
    "duration": 27,
    "start_time": "2022-04-04T10:00:20.888Z"
   },
   {
    "duration": 57,
    "start_time": "2022-04-04T10:00:20.916Z"
   },
   {
    "duration": 27,
    "start_time": "2022-04-04T10:00:20.974Z"
   },
   {
    "duration": 33,
    "start_time": "2022-04-04T10:00:21.002Z"
   },
   {
    "duration": 38,
    "start_time": "2022-04-04T10:00:21.038Z"
   },
   {
    "duration": 16,
    "start_time": "2022-04-04T10:00:21.077Z"
   },
   {
    "duration": 19,
    "start_time": "2022-04-04T10:00:21.095Z"
   },
   {
    "duration": 3,
    "start_time": "2022-04-04T10:00:21.116Z"
   },
   {
    "duration": 205,
    "start_time": "2022-04-04T10:00:21.120Z"
   },
   {
    "duration": 50,
    "start_time": "2022-04-04T10:00:21.327Z"
   },
   {
    "duration": 43,
    "start_time": "2022-04-04T10:00:21.379Z"
   },
   {
    "duration": 17,
    "start_time": "2022-04-04T10:00:21.423Z"
   },
   {
    "duration": 224,
    "start_time": "2022-04-04T10:00:21.442Z"
   },
   {
    "duration": 180,
    "start_time": "2022-04-04T10:00:21.667Z"
   },
   {
    "duration": 188,
    "start_time": "2022-04-04T10:00:21.848Z"
   },
   {
    "duration": 196,
    "start_time": "2022-04-04T10:00:22.038Z"
   },
   {
    "duration": 6,
    "start_time": "2022-04-04T10:00:22.236Z"
   },
   {
    "duration": 371,
    "start_time": "2022-04-04T10:00:22.244Z"
   },
   {
    "duration": 386,
    "start_time": "2022-04-04T10:00:22.617Z"
   },
   {
    "duration": 408,
    "start_time": "2022-04-04T10:00:23.005Z"
   },
   {
    "duration": 373,
    "start_time": "2022-04-04T10:00:23.415Z"
   },
   {
    "duration": 7,
    "start_time": "2022-04-04T10:00:23.789Z"
   },
   {
    "duration": 19,
    "start_time": "2022-04-04T10:00:23.798Z"
   },
   {
    "duration": 5,
    "start_time": "2022-04-04T10:00:23.819Z"
   },
   {
    "duration": 8,
    "start_time": "2022-04-04T10:00:23.826Z"
   },
   {
    "duration": 1020,
    "start_time": "2022-04-14T16:39:22.962Z"
   },
   {
    "duration": 319,
    "start_time": "2022-04-14T16:39:23.984Z"
   },
   {
    "duration": 15,
    "start_time": "2022-04-14T16:39:24.304Z"
   },
   {
    "duration": 13,
    "start_time": "2022-04-14T16:39:24.320Z"
   },
   {
    "duration": 11,
    "start_time": "2022-04-14T16:39:24.334Z"
   },
   {
    "duration": 21,
    "start_time": "2022-04-14T16:39:24.346Z"
   },
   {
    "duration": 10,
    "start_time": "2022-04-14T16:39:24.368Z"
   },
   {
    "duration": 15,
    "start_time": "2022-04-14T16:39:24.380Z"
   },
   {
    "duration": 32,
    "start_time": "2022-04-14T16:39:24.397Z"
   },
   {
    "duration": 17,
    "start_time": "2022-04-14T16:39:24.433Z"
   },
   {
    "duration": 7,
    "start_time": "2022-04-14T16:39:24.452Z"
   },
   {
    "duration": 9,
    "start_time": "2022-04-14T16:39:24.461Z"
   },
   {
    "duration": 11,
    "start_time": "2022-04-14T16:39:24.472Z"
   },
   {
    "duration": 73,
    "start_time": "2022-04-14T16:39:24.485Z"
   },
   {
    "duration": 27,
    "start_time": "2022-04-14T16:39:24.560Z"
   },
   {
    "duration": 52,
    "start_time": "2022-04-14T16:39:24.589Z"
   },
   {
    "duration": 8,
    "start_time": "2022-04-14T16:39:24.643Z"
   },
   {
    "duration": 11,
    "start_time": "2022-04-14T16:39:24.653Z"
   },
   {
    "duration": 8,
    "start_time": "2022-04-14T16:39:24.666Z"
   },
   {
    "duration": 62,
    "start_time": "2022-04-14T16:39:24.676Z"
   },
   {
    "duration": 7,
    "start_time": "2022-04-14T16:39:24.740Z"
   },
   {
    "duration": 21,
    "start_time": "2022-04-14T16:39:24.749Z"
   },
   {
    "duration": 7,
    "start_time": "2022-04-14T16:39:24.772Z"
   },
   {
    "duration": 58,
    "start_time": "2022-04-14T16:39:24.780Z"
   },
   {
    "duration": 36,
    "start_time": "2022-04-14T16:39:24.840Z"
   },
   {
    "duration": 24,
    "start_time": "2022-04-14T16:39:24.878Z"
   },
   {
    "duration": 33,
    "start_time": "2022-04-14T16:39:24.923Z"
   },
   {
    "duration": 22,
    "start_time": "2022-04-14T16:39:24.960Z"
   },
   {
    "duration": 44,
    "start_time": "2022-04-14T16:39:24.984Z"
   },
   {
    "duration": 22,
    "start_time": "2022-04-14T16:39:25.029Z"
   },
   {
    "duration": 4,
    "start_time": "2022-04-14T16:39:25.053Z"
   },
   {
    "duration": 185,
    "start_time": "2022-04-14T16:39:25.058Z"
   },
   {
    "duration": 42,
    "start_time": "2022-04-14T16:39:25.245Z"
   },
   {
    "duration": 62,
    "start_time": "2022-04-14T16:39:25.289Z"
   },
   {
    "duration": 16,
    "start_time": "2022-04-14T16:39:25.353Z"
   },
   {
    "duration": 210,
    "start_time": "2022-04-14T16:39:25.371Z"
   },
   {
    "duration": 174,
    "start_time": "2022-04-14T16:39:25.582Z"
   },
   {
    "duration": 181,
    "start_time": "2022-04-14T16:39:25.758Z"
   },
   {
    "duration": 184,
    "start_time": "2022-04-14T16:39:25.941Z"
   },
   {
    "duration": 6,
    "start_time": "2022-04-14T16:39:26.127Z"
   },
   {
    "duration": 341,
    "start_time": "2022-04-14T16:39:26.134Z"
   },
   {
    "duration": 387,
    "start_time": "2022-04-14T16:39:26.477Z"
   },
   {
    "duration": 396,
    "start_time": "2022-04-14T16:39:26.866Z"
   },
   {
    "duration": 337,
    "start_time": "2022-04-14T16:39:27.264Z"
   },
   {
    "duration": 7,
    "start_time": "2022-04-14T16:39:27.603Z"
   },
   {
    "duration": 17,
    "start_time": "2022-04-14T16:39:27.611Z"
   },
   {
    "duration": 4,
    "start_time": "2022-04-14T16:39:27.630Z"
   },
   {
    "duration": 7,
    "start_time": "2022-04-14T16:39:27.635Z"
   },
   {
    "duration": 47,
    "start_time": "2022-04-17T14:05:39.298Z"
   },
   {
    "duration": 1274,
    "start_time": "2022-04-17T14:06:02.435Z"
   },
   {
    "duration": 65,
    "start_time": "2022-04-17T14:06:17.108Z"
   },
   {
    "duration": 3,
    "start_time": "2022-04-17T14:06:48.092Z"
   },
   {
    "duration": 376,
    "start_time": "2022-04-17T14:06:48.097Z"
   },
   {
    "duration": 16,
    "start_time": "2022-04-17T14:06:48.474Z"
   },
   {
    "duration": 12,
    "start_time": "2022-04-17T14:06:48.492Z"
   },
   {
    "duration": 15,
    "start_time": "2022-04-17T14:06:48.506Z"
   },
   {
    "duration": 30,
    "start_time": "2022-04-17T14:06:48.522Z"
   },
   {
    "duration": 28,
    "start_time": "2022-04-17T14:06:48.554Z"
   },
   {
    "duration": 20,
    "start_time": "2022-04-17T14:06:48.584Z"
   },
   {
    "duration": 13,
    "start_time": "2022-04-17T14:06:48.606Z"
   },
   {
    "duration": 23,
    "start_time": "2022-04-17T14:06:48.621Z"
   },
   {
    "duration": 8,
    "start_time": "2022-04-17T14:06:48.673Z"
   },
   {
    "duration": 12,
    "start_time": "2022-04-17T14:06:48.683Z"
   },
   {
    "duration": 12,
    "start_time": "2022-04-17T14:06:48.699Z"
   },
   {
    "duration": 74,
    "start_time": "2022-04-17T14:06:48.713Z"
   },
   {
    "duration": 31,
    "start_time": "2022-04-17T14:06:48.790Z"
   },
   {
    "duration": 60,
    "start_time": "2022-04-17T14:06:48.822Z"
   },
   {
    "duration": 9,
    "start_time": "2022-04-17T14:06:48.883Z"
   },
   {
    "duration": 16,
    "start_time": "2022-04-17T14:06:48.893Z"
   },
   {
    "duration": 6,
    "start_time": "2022-04-17T14:06:48.911Z"
   },
   {
    "duration": 32,
    "start_time": "2022-04-17T14:06:48.918Z"
   },
   {
    "duration": 25,
    "start_time": "2022-04-17T14:06:48.953Z"
   },
   {
    "duration": 24,
    "start_time": "2022-04-17T14:06:48.980Z"
   },
   {
    "duration": 7,
    "start_time": "2022-04-17T14:06:49.005Z"
   },
   {
    "duration": 61,
    "start_time": "2022-04-17T14:06:49.013Z"
   },
   {
    "duration": 121,
    "start_time": "2022-04-17T14:06:56.613Z"
   },
   {
    "duration": 214,
    "start_time": "2022-04-17T14:09:07.838Z"
   },
   {
    "duration": 114,
    "start_time": "2022-04-17T14:09:51.050Z"
   },
   {
    "duration": 135,
    "start_time": "2022-04-17T14:10:13.448Z"
   },
   {
    "duration": 149,
    "start_time": "2022-04-17T14:11:04.319Z"
   },
   {
    "duration": 135,
    "start_time": "2022-04-17T14:11:46.631Z"
   },
   {
    "duration": 163,
    "start_time": "2022-04-17T14:13:11.266Z"
   },
   {
    "duration": 217,
    "start_time": "2022-04-17T14:13:28.703Z"
   },
   {
    "duration": 158,
    "start_time": "2022-04-17T14:34:30.672Z"
   },
   {
    "duration": 139,
    "start_time": "2022-04-17T14:34:39.220Z"
   },
   {
    "duration": 154,
    "start_time": "2022-04-17T14:34:43.841Z"
   },
   {
    "duration": 143,
    "start_time": "2022-04-17T14:40:08.054Z"
   },
   {
    "duration": 143,
    "start_time": "2022-04-17T14:40:18.685Z"
   },
   {
    "duration": 163,
    "start_time": "2022-04-17T14:41:01.051Z"
   },
   {
    "duration": 152,
    "start_time": "2022-04-17T14:41:40.179Z"
   },
   {
    "duration": 3,
    "start_time": "2022-04-17T14:46:39.353Z"
   },
   {
    "duration": 382,
    "start_time": "2022-04-17T14:46:39.358Z"
   },
   {
    "duration": 11,
    "start_time": "2022-04-17T14:46:39.741Z"
   },
   {
    "duration": 12,
    "start_time": "2022-04-17T14:46:39.754Z"
   },
   {
    "duration": 16,
    "start_time": "2022-04-17T14:46:39.767Z"
   },
   {
    "duration": 26,
    "start_time": "2022-04-17T14:46:39.784Z"
   },
   {
    "duration": 10,
    "start_time": "2022-04-17T14:46:39.811Z"
   },
   {
    "duration": 20,
    "start_time": "2022-04-17T14:46:39.822Z"
   },
   {
    "duration": 34,
    "start_time": "2022-04-17T14:46:39.845Z"
   },
   {
    "duration": 23,
    "start_time": "2022-04-17T14:46:39.881Z"
   },
   {
    "duration": 7,
    "start_time": "2022-04-17T14:46:39.906Z"
   },
   {
    "duration": 12,
    "start_time": "2022-04-17T14:46:39.914Z"
   },
   {
    "duration": 12,
    "start_time": "2022-04-17T14:46:39.927Z"
   },
   {
    "duration": 72,
    "start_time": "2022-04-17T14:46:39.941Z"
   },
   {
    "duration": 34,
    "start_time": "2022-04-17T14:46:40.015Z"
   },
   {
    "duration": 56,
    "start_time": "2022-04-17T14:46:40.050Z"
   },
   {
    "duration": 8,
    "start_time": "2022-04-17T14:46:40.108Z"
   },
   {
    "duration": 12,
    "start_time": "2022-04-17T14:46:40.117Z"
   },
   {
    "duration": 6,
    "start_time": "2022-04-17T14:46:40.130Z"
   },
   {
    "duration": 59,
    "start_time": "2022-04-17T14:46:40.138Z"
   },
   {
    "duration": 6,
    "start_time": "2022-04-17T14:46:40.198Z"
   },
   {
    "duration": 23,
    "start_time": "2022-04-17T14:46:40.206Z"
   },
   {
    "duration": 6,
    "start_time": "2022-04-17T14:46:40.230Z"
   },
   {
    "duration": 55,
    "start_time": "2022-04-17T14:46:40.239Z"
   },
   {
    "duration": 143,
    "start_time": "2022-04-17T14:46:40.296Z"
   },
   {
    "duration": 160,
    "start_time": "2022-04-17T14:46:40.441Z"
   },
   {
    "duration": 156,
    "start_time": "2022-04-17T14:46:40.603Z"
   },
   {
    "duration": 44,
    "start_time": "2022-04-17T14:46:40.761Z"
   },
   {
    "duration": 27,
    "start_time": "2022-04-17T14:46:40.807Z"
   },
   {
    "duration": 162,
    "start_time": "2022-04-17T14:46:40.836Z"
   },
   {
    "duration": 23,
    "start_time": "2022-04-17T14:46:40.999Z"
   },
   {
    "duration": 19,
    "start_time": "2022-04-17T14:46:41.024Z"
   },
   {
    "duration": 43,
    "start_time": "2022-04-17T14:46:41.045Z"
   },
   {
    "duration": 3,
    "start_time": "2022-04-17T14:46:47.361Z"
   },
   {
    "duration": 208,
    "start_time": "2022-04-17T14:46:58.426Z"
   },
   {
    "duration": 1227,
    "start_time": "2022-04-17T15:07:39.944Z"
   },
   {
    "duration": 365,
    "start_time": "2022-04-17T15:07:41.173Z"
   },
   {
    "duration": 16,
    "start_time": "2022-04-17T15:07:41.541Z"
   },
   {
    "duration": 14,
    "start_time": "2022-04-17T15:07:41.559Z"
   },
   {
    "duration": 9,
    "start_time": "2022-04-17T15:07:41.575Z"
   },
   {
    "duration": 26,
    "start_time": "2022-04-17T15:07:41.586Z"
   },
   {
    "duration": 10,
    "start_time": "2022-04-17T15:07:41.613Z"
   },
   {
    "duration": 29,
    "start_time": "2022-04-17T15:07:41.625Z"
   },
   {
    "duration": 27,
    "start_time": "2022-04-17T15:07:41.656Z"
   },
   {
    "duration": 27,
    "start_time": "2022-04-17T15:07:41.686Z"
   },
   {
    "duration": 9,
    "start_time": "2022-04-17T15:07:41.714Z"
   },
   {
    "duration": 21,
    "start_time": "2022-04-17T15:07:41.724Z"
   },
   {
    "duration": 27,
    "start_time": "2022-04-17T15:07:41.747Z"
   },
   {
    "duration": 56,
    "start_time": "2022-04-17T15:07:41.775Z"
   },
   {
    "duration": 41,
    "start_time": "2022-04-17T15:07:41.832Z"
   },
   {
    "duration": 36,
    "start_time": "2022-04-17T15:07:41.875Z"
   },
   {
    "duration": 8,
    "start_time": "2022-04-17T15:07:41.913Z"
   },
   {
    "duration": 14,
    "start_time": "2022-04-17T15:07:41.922Z"
   },
   {
    "duration": 6,
    "start_time": "2022-04-17T15:07:41.938Z"
   },
   {
    "duration": 56,
    "start_time": "2022-04-17T15:07:41.946Z"
   },
   {
    "duration": 6,
    "start_time": "2022-04-17T15:07:42.004Z"
   },
   {
    "duration": 23,
    "start_time": "2022-04-17T15:07:42.012Z"
   },
   {
    "duration": 7,
    "start_time": "2022-04-17T15:07:42.036Z"
   },
   {
    "duration": 28,
    "start_time": "2022-04-17T15:07:42.074Z"
   },
   {
    "duration": 162,
    "start_time": "2022-04-17T15:07:42.104Z"
   },
   {
    "duration": 169,
    "start_time": "2022-04-17T15:07:42.267Z"
   },
   {
    "duration": 155,
    "start_time": "2022-04-17T15:07:42.438Z"
   },
   {
    "duration": 40,
    "start_time": "2022-04-17T15:07:42.596Z"
   },
   {
    "duration": 44,
    "start_time": "2022-04-17T15:07:42.638Z"
   },
   {
    "duration": 33,
    "start_time": "2022-04-17T15:07:42.683Z"
   },
   {
    "duration": 24,
    "start_time": "2022-04-17T15:07:42.717Z"
   },
   {
    "duration": 45,
    "start_time": "2022-04-17T15:07:42.742Z"
   },
   {
    "duration": 22,
    "start_time": "2022-04-17T15:07:42.789Z"
   },
   {
    "duration": 4,
    "start_time": "2022-04-17T15:07:42.812Z"
   },
   {
    "duration": 228,
    "start_time": "2022-04-17T15:07:42.818Z"
   },
   {
    "duration": 57,
    "start_time": "2022-04-17T15:07:43.047Z"
   },
   {
    "duration": 49,
    "start_time": "2022-04-17T15:07:43.105Z"
   },
   {
    "duration": 34,
    "start_time": "2022-04-17T15:07:43.155Z"
   },
   {
    "duration": 224,
    "start_time": "2022-04-17T15:07:43.190Z"
   },
   {
    "duration": 196,
    "start_time": "2022-04-17T15:07:43.415Z"
   },
   {
    "duration": 204,
    "start_time": "2022-04-17T15:07:43.613Z"
   },
   {
    "duration": 204,
    "start_time": "2022-04-17T15:07:43.818Z"
   },
   {
    "duration": 5,
    "start_time": "2022-04-17T15:07:44.023Z"
   },
   {
    "duration": 489,
    "start_time": "2022-04-17T15:07:44.030Z"
   },
   {
    "duration": 410,
    "start_time": "2022-04-17T15:07:44.521Z"
   },
   {
    "duration": 389,
    "start_time": "2022-04-17T15:07:44.933Z"
   },
   {
    "duration": 407,
    "start_time": "2022-04-17T15:07:45.324Z"
   },
   {
    "duration": 7,
    "start_time": "2022-04-17T15:07:45.733Z"
   },
   {
    "duration": 16,
    "start_time": "2022-04-17T15:07:45.741Z"
   },
   {
    "duration": 16,
    "start_time": "2022-04-17T15:07:45.758Z"
   },
   {
    "duration": 11,
    "start_time": "2022-04-17T15:07:45.776Z"
   },
   {
    "duration": 1471,
    "start_time": "2022-04-18T06:58:37.536Z"
   },
   {
    "duration": 431,
    "start_time": "2022-04-18T06:58:39.010Z"
   },
   {
    "duration": 20,
    "start_time": "2022-04-18T06:58:39.443Z"
   },
   {
    "duration": 12,
    "start_time": "2022-04-18T06:58:39.466Z"
   },
   {
    "duration": 11,
    "start_time": "2022-04-18T06:58:39.480Z"
   },
   {
    "duration": 38,
    "start_time": "2022-04-18T06:58:39.493Z"
   },
   {
    "duration": 11,
    "start_time": "2022-04-18T06:58:39.533Z"
   },
   {
    "duration": 28,
    "start_time": "2022-04-18T06:58:39.546Z"
   },
   {
    "duration": 14,
    "start_time": "2022-04-18T06:58:39.575Z"
   },
   {
    "duration": 55,
    "start_time": "2022-04-18T06:58:39.591Z"
   },
   {
    "duration": 9,
    "start_time": "2022-04-18T06:58:39.649Z"
   },
   {
    "duration": 15,
    "start_time": "2022-04-18T06:58:39.660Z"
   },
   {
    "duration": 19,
    "start_time": "2022-04-18T06:58:39.677Z"
   },
   {
    "duration": 89,
    "start_time": "2022-04-18T06:58:39.698Z"
   },
   {
    "duration": 55,
    "start_time": "2022-04-18T06:58:39.789Z"
   },
   {
    "duration": 37,
    "start_time": "2022-04-18T06:58:39.846Z"
   },
   {
    "duration": 9,
    "start_time": "2022-04-18T06:58:39.885Z"
   },
   {
    "duration": 38,
    "start_time": "2022-04-18T06:58:39.896Z"
   },
   {
    "duration": 8,
    "start_time": "2022-04-18T06:58:39.936Z"
   },
   {
    "duration": 38,
    "start_time": "2022-04-18T06:58:39.946Z"
   },
   {
    "duration": 8,
    "start_time": "2022-04-18T06:58:39.986Z"
   },
   {
    "duration": 59,
    "start_time": "2022-04-18T06:58:39.996Z"
   },
   {
    "duration": 8,
    "start_time": "2022-04-18T06:58:40.057Z"
   },
   {
    "duration": 36,
    "start_time": "2022-04-18T06:58:40.067Z"
   },
   {
    "duration": 159,
    "start_time": "2022-04-18T06:58:40.104Z"
   },
   {
    "duration": 226,
    "start_time": "2022-04-18T06:58:40.265Z"
   },
   {
    "duration": 153,
    "start_time": "2022-04-18T06:58:40.493Z"
   },
   {
    "duration": 55,
    "start_time": "2022-04-18T06:58:40.651Z"
   },
   {
    "duration": 35,
    "start_time": "2022-04-18T06:58:40.724Z"
   },
   {
    "duration": 38,
    "start_time": "2022-04-18T06:58:40.761Z"
   },
   {
    "duration": 43,
    "start_time": "2022-04-18T06:58:40.802Z"
   },
   {
    "duration": 22,
    "start_time": "2022-04-18T06:58:40.846Z"
   },
   {
    "duration": 20,
    "start_time": "2022-04-18T06:58:40.870Z"
   },
   {
    "duration": 32,
    "start_time": "2022-04-18T06:58:40.892Z"
   },
   {
    "duration": 208,
    "start_time": "2022-04-18T06:58:40.926Z"
   },
   {
    "duration": 44,
    "start_time": "2022-04-18T06:58:41.136Z"
   },
   {
    "duration": 81,
    "start_time": "2022-04-18T06:58:41.182Z"
   },
   {
    "duration": 24,
    "start_time": "2022-04-18T06:58:41.265Z"
   },
   {
    "duration": 247,
    "start_time": "2022-04-18T06:58:41.291Z"
   },
   {
    "duration": 185,
    "start_time": "2022-04-18T06:58:41.540Z"
   },
   {
    "duration": 196,
    "start_time": "2022-04-18T06:58:41.727Z"
   },
   {
    "duration": 198,
    "start_time": "2022-04-18T06:58:41.925Z"
   },
   {
    "duration": 5,
    "start_time": "2022-04-18T06:58:42.125Z"
   },
   {
    "duration": 449,
    "start_time": "2022-04-18T06:58:42.132Z"
   },
   {
    "duration": 405,
    "start_time": "2022-04-18T06:58:42.583Z"
   },
   {
    "duration": 365,
    "start_time": "2022-04-18T06:58:42.989Z"
   },
   {
    "duration": 352,
    "start_time": "2022-04-18T06:58:43.356Z"
   },
   {
    "duration": 6,
    "start_time": "2022-04-18T06:58:43.710Z"
   },
   {
    "duration": 17,
    "start_time": "2022-04-18T06:58:43.717Z"
   },
   {
    "duration": 4,
    "start_time": "2022-04-18T06:58:43.736Z"
   },
   {
    "duration": 16,
    "start_time": "2022-04-18T06:58:43.741Z"
   },
   {
    "duration": 18,
    "start_time": "2022-04-18T07:00:05.641Z"
   }
  ],
  "kernelspec": {
   "display_name": "Python 3 (ipykernel)",
   "language": "python",
   "name": "python3"
  },
  "language_info": {
   "codemirror_mode": {
    "name": "ipython",
    "version": 3
   },
   "file_extension": ".py",
   "mimetype": "text/x-python",
   "name": "python",
   "nbconvert_exporter": "python",
   "pygments_lexer": "ipython3",
   "version": "3.9.7"
  },
  "toc": {
   "base_numbering": 1,
   "nav_menu": {},
   "number_sections": false,
   "sideBar": true,
   "skip_h1_title": false,
   "title_cell": "Table of Contents",
   "title_sidebar": "Contents",
   "toc_cell": false,
   "toc_position": {},
   "toc_section_display": true,
   "toc_window_display": false
  }
 },
 "nbformat": 4,
 "nbformat_minor": 5
}
