{
 "cells": [
  {
   "cell_type": "markdown",
   "id": "c85460c7",
   "metadata": {},
   "source": [
    "# Исследование надёжности заёмщиков\n",
    "\n",
    "Заказчик — кредитный отдел банка. Нужно разобраться, влияет ли семейное положение и количество детей клиента на факт погашения кредита в срок. Входные данные от банка — статистика о платёжеспособности клиентов.\n",
    "\n",
    "Результаты исследования будут учтены при построении модели **кредитного скоринга** — специальной системы, которая оценивает способность потенциального заёмщика вернуть кредит банку."
   ]
  },
  {
   "cell_type": "markdown",
   "id": "3ececa54",
   "metadata": {},
   "source": [
    "### Шаг 1. Обзор данных"
   ]
  },
  {
   "cell_type": "code",
   "execution_count": 1,
   "id": "861e3ed9",
   "metadata": {
    "scrolled": false
   },
   "outputs": [],
   "source": [
    "# Импорт библиотеки\n",
    "\n",
    "import pandas as pd\n"
   ]
  },
  {
   "cell_type": "code",
   "execution_count": 2,
   "id": "86ac4d11",
   "metadata": {},
   "outputs": [
    {
     "name": "stdout",
     "output_type": "stream",
     "text": [
      "<class 'pandas.core.frame.DataFrame'>\n",
      "RangeIndex: 21525 entries, 0 to 21524\n",
      "Data columns (total 12 columns):\n",
      " #   Column            Non-Null Count  Dtype  \n",
      "---  ------            --------------  -----  \n",
      " 0   children          21525 non-null  int64  \n",
      " 1   days_employed     19351 non-null  float64\n",
      " 2   dob_years         21525 non-null  int64  \n",
      " 3   education         21525 non-null  object \n",
      " 4   education_id      21525 non-null  int64  \n",
      " 5   family_status     21525 non-null  object \n",
      " 6   family_status_id  21525 non-null  int64  \n",
      " 7   gender            21525 non-null  object \n",
      " 8   income_type       21525 non-null  object \n",
      " 9   debt              21525 non-null  int64  \n",
      " 10  total_income      19351 non-null  float64\n",
      " 11  purpose           21525 non-null  object \n",
      "dtypes: float64(2), int64(5), object(5)\n",
      "memory usage: 2.0+ MB\n"
     ]
    }
   ],
   "source": [
    "try:\n",
    "    credit = pd.read_csv('/datasets/data.csv')\n",
    "except:\n",
    "    credit = pd.read_csv('data.csv')\n",
    "credit.info()"
   ]
  },
  {
   "cell_type": "markdown",
   "id": "f84d22b6",
   "metadata": {},
   "source": [
    "Открыли файл и методом info() посмотрели данные датафрейма. Всего имеем 21525 строк.\n",
    "\n",
    "Проанализировав типы серий данных, можно заметить, days_employed - общий трудовой стаж в днях имеет тип float64. Скорее всего это не тот тип, так как стаж в днях это целое число. Возможно это не будет создавать проблемы в будущем, так как столбец не участвует в вопросах исследования.\n",
    "\n",
    "Посмотрим состав уникальных значений в каждом столбце."
   ]
  },
  {
   "cell_type": "code",
   "execution_count": 3,
   "id": "d995c6a9",
   "metadata": {
    "scrolled": true
   },
   "outputs": [
    {
     "data": {
      "text/plain": [
       " 0     14149\n",
       " 1      4818\n",
       " 2      2055\n",
       " 3       330\n",
       " 20       76\n",
       "-1        47\n",
       " 4        41\n",
       " 5         9\n",
       "Name: children, dtype: int64"
      ]
     },
     "execution_count": 3,
     "metadata": {},
     "output_type": "execute_result"
    }
   ],
   "source": [
    "credit['children'].value_counts()"
   ]
  },
  {
   "cell_type": "markdown",
   "id": "31554e77",
   "metadata": {},
   "source": [
    "В колонке количество детей есть отрицательное число -1 и максимальное количество детей 20, т.е.данные скорее всего содержат ошибки."
   ]
  },
  {
   "cell_type": "code",
   "execution_count": 4,
   "id": "58af2165",
   "metadata": {
    "scrolled": true
   },
   "outputs": [
    {
     "data": {
      "text/plain": [
       "-8437.673028      1\n",
       "-3507.818775      1\n",
       " 354500.415854    1\n",
       "-769.717438       1\n",
       "-3963.590317      1\n",
       "                 ..\n",
       "-1099.957609      1\n",
       "-209.984794       1\n",
       " 398099.392433    1\n",
       "-1271.038880      1\n",
       "-1984.507589      1\n",
       "Name: days_employed, Length: 19351, dtype: int64"
      ]
     },
     "execution_count": 4,
     "metadata": {},
     "output_type": "execute_result"
    }
   ],
   "source": [
    "credit['days_employed'].value_counts()"
   ]
  },
  {
   "cell_type": "markdown",
   "id": "8ddee850",
   "metadata": {},
   "source": [
    "В колонке days_employed (общий трудовой стаж в днях) видим отрицательные дробные числа. И присутствут пропуски, так как строк должно быть 21525, а их 19351."
   ]
  },
  {
   "cell_type": "code",
   "execution_count": 5,
   "id": "eaf90817",
   "metadata": {
    "scrolled": true
   },
   "outputs": [
    {
     "data": {
      "text/plain": [
       "35    617\n",
       "40    609\n",
       "41    607\n",
       "34    603\n",
       "38    598\n",
       "42    597\n",
       "33    581\n",
       "39    573\n",
       "31    560\n",
       "36    555\n",
       "44    547\n",
       "29    545\n",
       "30    540\n",
       "48    538\n",
       "37    537\n",
       "50    514\n",
       "43    513\n",
       "32    510\n",
       "49    508\n",
       "28    503\n",
       "45    497\n",
       "27    493\n",
       "56    487\n",
       "52    484\n",
       "47    480\n",
       "54    479\n",
       "46    475\n",
       "58    461\n",
       "57    460\n",
       "53    459\n",
       "51    448\n",
       "59    444\n",
       "55    443\n",
       "26    408\n",
       "60    377\n",
       "25    357\n",
       "61    355\n",
       "62    352\n",
       "63    269\n",
       "64    265\n",
       "24    264\n",
       "23    254\n",
       "65    194\n",
       "22    183\n",
       "66    183\n",
       "67    167\n",
       "21    111\n",
       "0     101\n",
       "68     99\n",
       "69     85\n",
       "70     65\n",
       "71     58\n",
       "20     51\n",
       "72     33\n",
       "19     14\n",
       "73      8\n",
       "74      6\n",
       "75      1\n",
       "Name: dob_years, dtype: int64"
      ]
     },
     "execution_count": 5,
     "metadata": {},
     "output_type": "execute_result"
    }
   ],
   "source": [
    "credit['dob_years'].value_counts()"
   ]
  },
  {
   "cell_type": "markdown",
   "id": "2fd0e6d3",
   "metadata": {},
   "source": [
    "В колонке dob_years (возвраст клиентв в годах) видим неявный пропуск: у 101 заемщика возраст равен 0. "
   ]
  },
  {
   "cell_type": "code",
   "execution_count": 6,
   "id": "58ba6884",
   "metadata": {
    "scrolled": true
   },
   "outputs": [
    {
     "data": {
      "text/plain": [
       "среднее                13750\n",
       "высшее                  4718\n",
       "СРЕДНЕЕ                  772\n",
       "Среднее                  711\n",
       "неоконченное высшее      668\n",
       "ВЫСШЕЕ                   274\n",
       "Высшее                   268\n",
       "начальное                250\n",
       "Неоконченное высшее       47\n",
       "НЕОКОНЧЕННОЕ ВЫСШЕЕ       29\n",
       "НАЧАЛЬНОЕ                 17\n",
       "Начальное                 15\n",
       "ученая степень             4\n",
       "Ученая степень             1\n",
       "УЧЕНАЯ СТЕПЕНЬ             1\n",
       "Name: education, dtype: int64"
      ]
     },
     "execution_count": 6,
     "metadata": {},
     "output_type": "execute_result"
    }
   ],
   "source": [
    "credit['education'].value_counts()"
   ]
  },
  {
   "cell_type": "markdown",
   "id": "c96c2cbb",
   "metadata": {},
   "source": [
    "Столбец education (уровень образования клиента) содержит одни и те же категории данных в разном регистре."
   ]
  },
  {
   "cell_type": "code",
   "execution_count": 7,
   "id": "3037f029",
   "metadata": {
    "scrolled": true
   },
   "outputs": [
    {
     "data": {
      "text/plain": [
       "женат / замужем          12380\n",
       "гражданский брак          4177\n",
       "Не женат / не замужем     2813\n",
       "в разводе                 1195\n",
       "вдовец / вдова             960\n",
       "Name: family_status, dtype: int64"
      ]
     },
     "execution_count": 7,
     "metadata": {},
     "output_type": "execute_result"
    }
   ],
   "source": [
    "credit['family_status'].value_counts()"
   ]
  },
  {
   "cell_type": "markdown",
   "id": "1c16afb9",
   "metadata": {},
   "source": [
    "В данном столбце family_status (семейное положение) визуальных ошибок нет."
   ]
  },
  {
   "cell_type": "code",
   "execution_count": 8,
   "id": "1fef6baf",
   "metadata": {
    "scrolled": true
   },
   "outputs": [
    {
     "data": {
      "text/plain": [
       "F      14236\n",
       "M       7288\n",
       "XNA        1\n",
       "Name: gender, dtype: int64"
      ]
     },
     "execution_count": 8,
     "metadata": {},
     "output_type": "execute_result"
    }
   ],
   "source": [
    "credit['gender'].value_counts()"
   ]
  },
  {
   "cell_type": "markdown",
   "id": "f55177b1",
   "metadata": {},
   "source": [
    "В столбце gender (пол) содержится 1 запись XNA.  "
   ]
  },
  {
   "cell_type": "code",
   "execution_count": 9,
   "id": "5887f9ac",
   "metadata": {
    "scrolled": true
   },
   "outputs": [
    {
     "data": {
      "text/plain": [
       "сотрудник          11119\n",
       "компаньон           5085\n",
       "пенсионер           3856\n",
       "госслужащий         1459\n",
       "безработный            2\n",
       "предприниматель        2\n",
       "студент                1\n",
       "в декрете              1\n",
       "Name: income_type, dtype: int64"
      ]
     },
     "execution_count": 9,
     "metadata": {},
     "output_type": "execute_result"
    }
   ],
   "source": [
    "credit['income_type'].value_counts()"
   ]
  },
  {
   "cell_type": "markdown",
   "id": "bbe7db91",
   "metadata": {},
   "source": [
    "В столбце income_type (тип занятости) ошибок нет. "
   ]
  },
  {
   "cell_type": "code",
   "execution_count": 10,
   "id": "5491a142",
   "metadata": {
    "scrolled": true
   },
   "outputs": [
    {
     "data": {
      "text/plain": [
       "0    19784\n",
       "1     1741\n",
       "Name: debt, dtype: int64"
      ]
     },
     "execution_count": 10,
     "metadata": {},
     "output_type": "execute_result"
    }
   ],
   "source": [
    "credit['debt'].value_counts()"
   ]
  },
  {
   "cell_type": "markdown",
   "id": "8f223526",
   "metadata": {},
   "source": [
    "В стоблце debt (имел ли задолженность по возврату кредитов) есть все данные."
   ]
  },
  {
   "cell_type": "code",
   "execution_count": 11,
   "id": "af1e7d76",
   "metadata": {
    "scrolled": true
   },
   "outputs": [
    {
     "data": {
      "text/plain": [
       "253875.639453    1\n",
       "157691.851056    1\n",
       "70113.902786     1\n",
       "116196.518662    1\n",
       "157205.834562    1\n",
       "                ..\n",
       "168880.592469    1\n",
       "148042.721049    1\n",
       "60039.334460     1\n",
       "175979.762960    1\n",
       "82047.418899     1\n",
       "Name: total_income, Length: 19351, dtype: int64"
      ]
     },
     "execution_count": 11,
     "metadata": {},
     "output_type": "execute_result"
    }
   ],
   "source": [
    "credit['total_income'].value_counts()"
   ]
  },
  {
   "cell_type": "markdown",
   "id": "756feec4",
   "metadata": {},
   "source": [
    "В столбце total_income (ежемесячный доход) есть пропущенные данные NaN, хотя они нужны в данном исследовании."
   ]
  },
  {
   "cell_type": "code",
   "execution_count": 12,
   "id": "7437d7c1",
   "metadata": {
    "scrolled": true
   },
   "outputs": [
    {
     "data": {
      "text/plain": [
       "свадьба                                   797\n",
       "на проведение свадьбы                     777\n",
       "сыграть свадьбу                           774\n",
       "операции с недвижимостью                  676\n",
       "покупка коммерческой недвижимости         664\n",
       "покупка жилья для сдачи                   653\n",
       "операции с жильем                         653\n",
       "операции с коммерческой недвижимостью     651\n",
       "покупка жилья                             647\n",
       "жилье                                     647\n",
       "покупка жилья для семьи                   641\n",
       "строительство собственной недвижимости    635\n",
       "недвижимость                              634\n",
       "операции со своей недвижимостью           630\n",
       "строительство жилой недвижимости          626\n",
       "покупка недвижимости                      624\n",
       "строительство недвижимости                620\n",
       "покупка своего жилья                      620\n",
       "ремонт жилью                              612\n",
       "покупка жилой недвижимости                607\n",
       "на покупку своего автомобиля              505\n",
       "заняться высшим образованием              496\n",
       "автомобиль                                495\n",
       "сделка с подержанным автомобилем          489\n",
       "свой автомобиль                           480\n",
       "на покупку подержанного автомобиля        479\n",
       "автомобили                                478\n",
       "на покупку автомобиля                     472\n",
       "дополнительное образование                462\n",
       "приобретение автомобиля                   462\n",
       "сделка с автомобилем                      455\n",
       "высшее образование                        453\n",
       "образование                               447\n",
       "получение дополнительного образования     447\n",
       "получение образования                     443\n",
       "профильное образование                    436\n",
       "получение высшего образования             426\n",
       "заняться образованием                     412\n",
       "Name: purpose, dtype: int64"
      ]
     },
     "execution_count": 12,
     "metadata": {},
     "output_type": "execute_result"
    }
   ],
   "source": [
    "credit['purpose'].value_counts()"
   ]
  },
  {
   "cell_type": "markdown",
   "id": "69a7f512",
   "metadata": {},
   "source": [
    "Столбец purpose (цель получения кредита) содержит одни и те же категории, сформулированные разным языком, что непосредственно в таком виде мешает категоризации."
   ]
  },
  {
   "cell_type": "markdown",
   "id": "448927b5",
   "metadata": {},
   "source": [
    "### Шаг 2.1 Заполнение пропусков"
   ]
  },
  {
   "cell_type": "markdown",
   "id": "25dbbcd5",
   "metadata": {},
   "source": [
    "Проверяем если ли пропущенные значения медотом isna()."
   ]
  },
  {
   "cell_type": "code",
   "execution_count": 13,
   "id": "b5c2931a",
   "metadata": {
    "scrolled": false
   },
   "outputs": [
    {
     "data": {
      "text/plain": [
       "children               0\n",
       "days_employed       2174\n",
       "dob_years              0\n",
       "education              0\n",
       "education_id           0\n",
       "family_status          0\n",
       "family_status_id       0\n",
       "gender                 0\n",
       "income_type            0\n",
       "debt                   0\n",
       "total_income        2174\n",
       "purpose                0\n",
       "dtype: int64"
      ]
     },
     "execution_count": 13,
     "metadata": {},
     "output_type": "execute_result"
    }
   ],
   "source": [
    "credit.isna().sum()"
   ]
  },
  {
   "cell_type": "code",
   "execution_count": 14,
   "id": "dd214e90",
   "metadata": {
    "scrolled": true
   },
   "outputs": [
    {
     "data": {
      "text/plain": [
       "'пропущенные значения составляют 10%'"
      ]
     },
     "execution_count": 14,
     "metadata": {},
     "output_type": "execute_result"
    }
   ],
   "source": [
    "'пропущенные значения составляют {:.0%}'.format(credit['days_employed'].isna().sum()/len(credit['children']))"
   ]
  },
  {
   "cell_type": "markdown",
   "id": "684edd4a",
   "metadata": {},
   "source": [
    "Пропущенные значения есть в двух стобцах: days_employed и total_income. И количество этих пропущенных значений одинаково. И составляет около 10% от всех данных в этих стоблцах. Это значительный процент и мы не можем просто удалить эти строки. Будем приводить их к нужному виду.\n",
    "\n",
    "В столбце days_employed указывается общий трудовой стаж в днях, а в столбце total_income - ежемесячный доход. Предполагаю, что данные в этих столбцах отсутствует по следующим возможным причинам: \n",
    "\n",
    "- эти данные выгружаются из одной программы и произошел какой-то сбой\n",
    "- клиенты не указали эти данные, тогда не понятно как им вообще выдали кредит\n",
    "\n",
    "Заполним эти пропуски.\n",
    "\n",
    "Ранее мы обнаружили, что в столбце 'days_employed' есть отрицательные значения. Утраним эту ошибку. Кроме того, для удобства переведем стаж в годы."
   ]
  },
  {
   "cell_type": "code",
   "execution_count": 15,
   "id": "60b5e17a",
   "metadata": {
    "scrolled": true
   },
   "outputs": [
    {
     "data": {
      "text/plain": [
       "0         23.116912\n",
       "1         11.026860\n",
       "2         15.406637\n",
       "3         11.300677\n",
       "4        932.235814\n",
       "            ...    \n",
       "21520     12.409087\n",
       "21521    942.294258\n",
       "21522      5.789991\n",
       "21523      8.527347\n",
       "21524      5.437007\n",
       "Name: days_employed, Length: 21525, dtype: float64"
      ]
     },
     "execution_count": 15,
     "metadata": {},
     "output_type": "execute_result"
    }
   ],
   "source": [
    "credit['days_employed'] = credit['days_employed'].abs()\n",
    "credit['days_employed'] = credit['days_employed']/365\n",
    "credit['days_employed']"
   ]
  },
  {
   "cell_type": "markdown",
   "id": "e4257cf0",
   "metadata": {},
   "source": [
    "Теперь увидели новую ошибку: есть стаж более 900 лет))) Посмотрим у кого такой стаж. Отфильтруем всех у кого стаж оказался более 55 лет. А так же посмотрим у кого менее 55 лет."
   ]
  },
  {
   "cell_type": "code",
   "execution_count": 16,
   "id": "a9258f48",
   "metadata": {
    "scrolled": true
   },
   "outputs": [
    {
     "data": {
      "text/plain": [
       "пенсионер      3443\n",
       "безработный       2\n",
       "Name: income_type, dtype: int64"
      ]
     },
     "execution_count": 16,
     "metadata": {},
     "output_type": "execute_result"
    }
   ],
   "source": [
    "immortal = credit.loc[credit['days_employed']>55]\n",
    "\n",
    "immortal['income_type'].value_counts()"
   ]
  },
  {
   "cell_type": "code",
   "execution_count": 17,
   "id": "f1284445",
   "metadata": {
    "scrolled": true
   },
   "outputs": [
    {
     "data": {
      "text/plain": [
       "сотрудник          10014\n",
       "компаньон           4577\n",
       "госслужащий         1312\n",
       "студент                1\n",
       "предприниматель        1\n",
       "в декрете              1\n",
       "Name: income_type, dtype: int64"
      ]
     },
     "execution_count": 17,
     "metadata": {},
     "output_type": "execute_result"
    }
   ],
   "source": [
    "normal = credit.loc[credit['days_employed']<=55]\n",
    "\n",
    "normal['income_type'].value_counts()"
   ]
  },
  {
   "cell_type": "markdown",
   "id": "c96f5913",
   "metadata": {},
   "source": [
    "Получается нереальный стаж у пенсионеров и безработных. Предполагаю, что была допущенная ошибка в этих двух категориях. И стаж указывался не днях, а в часах. Поэтому разделим эти значения на 24часа.\n",
    "Для проверки найдем максимальное значение в столбце days_employed."
   ]
  },
  {
   "cell_type": "code",
   "execution_count": 18,
   "id": "f0f3d43b",
   "metadata": {
    "scrolled": false
   },
   "outputs": [
    {
     "name": "stdout",
     "output_type": "stream",
     "text": [
      "Максимальный стаж  50.38068465909146\n"
     ]
    },
    {
     "data": {
      "text/plain": [
       "0        23.116912\n",
       "1        11.026860\n",
       "2        15.406637\n",
       "3        11.300677\n",
       "4        38.843159\n",
       "           ...    \n",
       "21520    12.409087\n",
       "21521    39.262261\n",
       "21522     5.789991\n",
       "21523     8.527347\n",
       "21524     5.437007\n",
       "Name: days_employed, Length: 21525, dtype: float64"
      ]
     },
     "execution_count": 18,
     "metadata": {},
     "output_type": "execute_result"
    }
   ],
   "source": [
    "credit.loc[credit['income_type']=='пенсионер','days_employed'] = credit['days_employed']/24\n",
    "credit.loc[credit['income_type']=='безработный','days_employed'] = credit['days_employed']/24\n",
    "print('Максимальный стаж ',credit['days_employed'].max())\n",
    "credit['days_employed']"
   ]
  },
  {
   "cell_type": "markdown",
   "id": "8eeaa834",
   "metadata": {},
   "source": [
    "Теперь можно заменить пропущенные значения в этом столбце на среднее значение, сгруппировав по типу деятельности. \n",
    "\n",
    "И снова проверим количество пропусков."
   ]
  },
  {
   "cell_type": "code",
   "execution_count": 19,
   "id": "b968b908",
   "metadata": {
    "scrolled": true
   },
   "outputs": [
    {
     "data": {
      "text/plain": [
       "children               0\n",
       "days_employed          0\n",
       "dob_years              0\n",
       "education              0\n",
       "education_id           0\n",
       "family_status          0\n",
       "family_status_id       0\n",
       "gender                 0\n",
       "income_type            0\n",
       "debt                   0\n",
       "total_income        2174\n",
       "purpose                0\n",
       "dtype: int64"
      ]
     },
     "execution_count": 19,
     "metadata": {},
     "output_type": "execute_result"
    }
   ],
   "source": [
    "group_days_employed = credit.groupby('income_type')['days_employed'].mean()\n",
    "for i in group_days_employed.index:\n",
    "    credit.loc[(credit['income_type'] == i) & (credit['days_employed'].isna()), 'days_employed'] = group_days_employed[i]\n",
    "\n",
    "credit.isna().sum()\n",
    "#credit['days_employed']"
   ]
  },
  {
   "cell_type": "markdown",
   "id": "a6fd384c",
   "metadata": {},
   "source": [
    "Теперь заполним пропуски в столбце total_income (ежемесячный доход). \n",
    "Найдем максимальное и минимальное значения в этом столбце"
   ]
  },
  {
   "cell_type": "code",
   "execution_count": 20,
   "id": "6dcfe357",
   "metadata": {
    "scrolled": true
   },
   "outputs": [
    {
     "name": "stdout",
     "output_type": "stream",
     "text": [
      "min= 20667.26379327158\n",
      "max= 2265604.028722744\n"
     ]
    }
   ],
   "source": [
    "print ('min=',credit['total_income'].min())\n",
    "print ('max=',credit['total_income'].max())"
   ]
  },
  {
   "cell_type": "markdown",
   "id": "c4742691",
   "metadata": {},
   "source": [
    "Разрыв между минимальным и максимальным значениями очень большой, поэтому будем заполнять пропуски медианным значением. \n",
    "\n",
    "Кроме того сделаем группировку по типу занятости."
   ]
  },
  {
   "cell_type": "code",
   "execution_count": 21,
   "id": "2d4d29a0",
   "metadata": {
    "scrolled": true
   },
   "outputs": [],
   "source": [
    "group_total_income = credit.groupby('income_type')['total_income'].median()\n",
    "for i in group_total_income.index:\n",
    "    credit.loc[(credit['income_type'] == i) & (credit['total_income'].isna()), 'total_income'] = group_total_income[i]"
   ]
  },
  {
   "cell_type": "code",
   "execution_count": 22,
   "id": "16f058e1",
   "metadata": {
    "scrolled": true
   },
   "outputs": [
    {
     "data": {
      "text/plain": [
       "income_type\n",
       "в декрете           53829.130729\n",
       "студент             98201.625314\n",
       "пенсионер          118514.486412\n",
       "безработный        131339.751676\n",
       "сотрудник          142594.396847\n",
       "госслужащий        150447.935283\n",
       "компаньон          172357.950966\n",
       "предприниматель    499163.144947\n",
       "Name: total_income, dtype: float64"
      ]
     },
     "metadata": {},
     "output_type": "display_data"
    },
    {
     "data": {
      "text/html": [
       "<div>\n",
       "<style scoped>\n",
       "    .dataframe tbody tr th:only-of-type {\n",
       "        vertical-align: middle;\n",
       "    }\n",
       "\n",
       "    .dataframe tbody tr th {\n",
       "        vertical-align: top;\n",
       "    }\n",
       "\n",
       "    .dataframe thead th {\n",
       "        text-align: right;\n",
       "    }\n",
       "</style>\n",
       "<table border=\"1\" class=\"dataframe\">\n",
       "  <thead>\n",
       "    <tr style=\"text-align: right;\">\n",
       "      <th></th>\n",
       "      <th>total_income</th>\n",
       "      <th>income_type</th>\n",
       "    </tr>\n",
       "  </thead>\n",
       "  <tbody>\n",
       "    <tr>\n",
       "      <th>12</th>\n",
       "      <td>118514.486412</td>\n",
       "      <td>пенсионер</td>\n",
       "    </tr>\n",
       "    <tr>\n",
       "      <th>26</th>\n",
       "      <td>150447.935283</td>\n",
       "      <td>госслужащий</td>\n",
       "    </tr>\n",
       "    <tr>\n",
       "      <th>29</th>\n",
       "      <td>118514.486412</td>\n",
       "      <td>пенсионер</td>\n",
       "    </tr>\n",
       "    <tr>\n",
       "      <th>41</th>\n",
       "      <td>150447.935283</td>\n",
       "      <td>госслужащий</td>\n",
       "    </tr>\n",
       "    <tr>\n",
       "      <th>55</th>\n",
       "      <td>118514.486412</td>\n",
       "      <td>пенсионер</td>\n",
       "    </tr>\n",
       "    <tr>\n",
       "      <th>65</th>\n",
       "      <td>172357.950966</td>\n",
       "      <td>компаньон</td>\n",
       "    </tr>\n",
       "    <tr>\n",
       "      <th>67</th>\n",
       "      <td>118514.486412</td>\n",
       "      <td>пенсионер</td>\n",
       "    </tr>\n",
       "    <tr>\n",
       "      <th>82</th>\n",
       "      <td>142594.396847</td>\n",
       "      <td>сотрудник</td>\n",
       "    </tr>\n",
       "    <tr>\n",
       "      <th>83</th>\n",
       "      <td>142594.396847</td>\n",
       "      <td>сотрудник</td>\n",
       "    </tr>\n",
       "    <tr>\n",
       "      <th>90</th>\n",
       "      <td>142594.396847</td>\n",
       "      <td>сотрудник</td>\n",
       "    </tr>\n",
       "  </tbody>\n",
       "</table>\n",
       "</div>"
      ],
      "text/plain": [
       "     total_income  income_type\n",
       "12  118514.486412    пенсионер\n",
       "26  150447.935283  госслужащий\n",
       "29  118514.486412    пенсионер\n",
       "41  150447.935283  госслужащий\n",
       "55  118514.486412    пенсионер\n",
       "65  172357.950966    компаньон\n",
       "67  118514.486412    пенсионер\n",
       "82  142594.396847    сотрудник\n",
       "83  142594.396847    сотрудник\n",
       "90  142594.396847    сотрудник"
      ]
     },
     "metadata": {},
     "output_type": "display_data"
    }
   ],
   "source": [
    "display(credit.groupby('income_type')['total_income'].median().sort_values()) # выведем список медианных значений по категорям для наглядности\n",
    "display(credit.loc[[12,26,29,41,55,65,67,82,83,90], ['total_income', 'income_type']]) # выведем 10 строк к которых были пропуски в столбце 'total_income' \n"
   ]
  },
  {
   "cell_type": "markdown",
   "id": "a54c8333",
   "metadata": {},
   "source": [
    "Снова проверим данные на пропущенные значения"
   ]
  },
  {
   "cell_type": "code",
   "execution_count": 23,
   "id": "f65ae69a",
   "metadata": {
    "scrolled": true
   },
   "outputs": [
    {
     "data": {
      "text/plain": [
       "children            0\n",
       "days_employed       0\n",
       "dob_years           0\n",
       "education           0\n",
       "education_id        0\n",
       "family_status       0\n",
       "family_status_id    0\n",
       "gender              0\n",
       "income_type         0\n",
       "debt                0\n",
       "total_income        0\n",
       "purpose             0\n",
       "dtype: int64"
      ]
     },
     "execution_count": 23,
     "metadata": {},
     "output_type": "execute_result"
    }
   ],
   "source": [
    "credit.isna().sum()"
   ]
  },
  {
   "cell_type": "markdown",
   "id": "1e1f9d97",
   "metadata": {},
   "source": [
    "### Шаг 2.2 Проверка данных на аномалии и исправления."
   ]
  },
  {
   "cell_type": "markdown",
   "id": "5140ed22",
   "metadata": {},
   "source": [
    "Проверим данные на аномалии, дубликаты.\n",
    "\n",
    "Начнем со столбца children. Ранее мы обнаружили, что там есть значения -1 и 20. Скорее всего были допущены ошибки. Исправим их: -1 заменим на 1, 20 заменим на 2."
   ]
  },
  {
   "cell_type": "code",
   "execution_count": 24,
   "id": "ce7d7497",
   "metadata": {
    "scrolled": true
   },
   "outputs": [
    {
     "data": {
      "text/plain": [
       "0    14149\n",
       "1     4865\n",
       "2     2131\n",
       "3      330\n",
       "4       41\n",
       "5        9\n",
       "Name: children, dtype: int64"
      ]
     },
     "execution_count": 24,
     "metadata": {},
     "output_type": "execute_result"
    }
   ],
   "source": [
    "credit.loc[credit['children'] == -1, 'children'] = 1\n",
    "credit.loc[credit['children'] == 20, 'children'] = 2\n",
    "credit['children'].value_counts()"
   ]
  },
  {
   "cell_type": "markdown",
   "id": "a686a503",
   "metadata": {},
   "source": [
    "Остальные уникальные значения все допустимы.\n",
    "\n",
    "Перейдем к следующему столбцу dob_years - возраст клиента в годах. Ранее обнаружили, что у некоторых клиентов стоит возраст 0. Заполним возвраст медианным значение, сгруппировав по типу занятости.\n",
    "\n",
    "Проверим уникальные значения в столбце, чтобы убедится что нет 0."
   ]
  },
  {
   "cell_type": "code",
   "execution_count": 25,
   "id": "42d9a4a5",
   "metadata": {
    "scrolled": true
   },
   "outputs": [
    {
     "data": {
      "text/plain": [
       "39.0    648\n",
       "35.0    617\n",
       "40.0    615\n",
       "41.0    607\n",
       "34.0    603\n",
       "38.0    598\n",
       "42.0    597\n",
       "33.0    581\n",
       "31.0    560\n",
       "36.0    555\n",
       "44.0    547\n",
       "29.0    545\n",
       "30.0    540\n",
       "48.0    538\n",
       "37.0    537\n",
       "50.0    514\n",
       "43.0    513\n",
       "32.0    510\n",
       "49.0    508\n",
       "28.0    503\n",
       "45.0    497\n",
       "27.0    493\n",
       "56.0    487\n",
       "52.0    484\n",
       "47.0    480\n",
       "54.0    479\n",
       "46.0    475\n",
       "58.0    461\n",
       "57.0    460\n",
       "53.0    459\n",
       "51.0    448\n",
       "59.0    444\n",
       "55.0    443\n",
       "26.0    408\n",
       "60.0    397\n",
       "25.0    357\n",
       "61.0    355\n",
       "62.0    352\n",
       "63.0    269\n",
       "64.0    265\n",
       "24.0    264\n",
       "23.0    254\n",
       "65.0    194\n",
       "22.0    183\n",
       "66.0    183\n",
       "67.0    167\n",
       "21.0    111\n",
       "68.0     99\n",
       "69.0     85\n",
       "70.0     65\n",
       "71.0     58\n",
       "20.0     51\n",
       "72.0     33\n",
       "19.0     14\n",
       "73.0      8\n",
       "74.0      6\n",
       "75.0      1\n",
       "Name: dob_years, dtype: int64"
      ]
     },
     "execution_count": 25,
     "metadata": {},
     "output_type": "execute_result"
    }
   ],
   "source": [
    "group_dob_years = credit.groupby('income_type')['dob_years'].median()\n",
    "for i in group_dob_years.index:\n",
    "    credit.loc[(credit['income_type'] == i) & (credit['dob_years']==0), 'dob_years'] = group_dob_years[i]\n",
    "\n",
    "    \n",
    "#print(group_dob_years)\n",
    "credit['dob_years'].value_counts()"
   ]
  },
  {
   "cell_type": "markdown",
   "id": "748f8949",
   "metadata": {},
   "source": [
    "### Шаг 2.3. Изменение типов данных."
   ]
  },
  {
   "cell_type": "markdown",
   "id": "46a54b9d",
   "metadata": {},
   "source": [
    "Мы определяли проблему в типе даннных days_employed. Так как это количество дней, то число должно быть целым.\n",
    "Так же заменим вещественный тип данных на целочисленный у столбца total_income. Копейки в доходе - несущественная информация для исследования.\n"
   ]
  },
  {
   "cell_type": "code",
   "execution_count": 26,
   "id": "7d390406",
   "metadata": {
    "scrolled": true
   },
   "outputs": [
    {
     "name": "stdout",
     "output_type": "stream",
     "text": [
      "<class 'pandas.core.frame.DataFrame'>\n",
      "RangeIndex: 21525 entries, 0 to 21524\n",
      "Data columns (total 12 columns):\n",
      " #   Column            Non-Null Count  Dtype  \n",
      "---  ------            --------------  -----  \n",
      " 0   children          21525 non-null  int64  \n",
      " 1   days_employed     21525 non-null  int64  \n",
      " 2   dob_years         21525 non-null  float64\n",
      " 3   education         21525 non-null  object \n",
      " 4   education_id      21525 non-null  int64  \n",
      " 5   family_status     21525 non-null  object \n",
      " 6   family_status_id  21525 non-null  int64  \n",
      " 7   gender            21525 non-null  object \n",
      " 8   income_type       21525 non-null  object \n",
      " 9   debt              21525 non-null  int64  \n",
      " 10  total_income      21525 non-null  int64  \n",
      " 11  purpose           21525 non-null  object \n",
      "dtypes: float64(1), int64(6), object(5)\n",
      "memory usage: 2.0+ MB\n"
     ]
    }
   ],
   "source": [
    "credit['days_employed'] = credit['days_employed'].astype('int')\n",
    "credit['total_income'] = credit['total_income'].astype('int')\n",
    "\n",
    "credit.info()"
   ]
  },
  {
   "cell_type": "markdown",
   "id": "294fd15e",
   "metadata": {},
   "source": [
    "### Шаг 2.4. Удаление дубликатов."
   ]
  },
  {
   "cell_type": "markdown",
   "id": "262936aa",
   "metadata": {},
   "source": [
    "Ранее мы обнаружили, что в столбце education (уровень образования клиента) содержатся одни и те же категории данных в разном регистре. Исправим это. "
   ]
  },
  {
   "cell_type": "code",
   "execution_count": 27,
   "id": "e0ce3f5e",
   "metadata": {
    "scrolled": true
   },
   "outputs": [
    {
     "data": {
      "text/plain": [
       "среднее                15233\n",
       "высшее                  5260\n",
       "неоконченное высшее      744\n",
       "начальное                282\n",
       "ученая степень             6\n",
       "Name: education, dtype: int64"
      ]
     },
     "execution_count": 27,
     "metadata": {},
     "output_type": "execute_result"
    }
   ],
   "source": [
    "credit['education'] = credit['education'].str.lower()\n",
    "credit['education'].value_counts()"
   ]
  },
  {
   "cell_type": "markdown",
   "id": "74c861bf",
   "metadata": {},
   "source": [
    "Проверим на дупликаты."
   ]
  },
  {
   "cell_type": "code",
   "execution_count": 28,
   "id": "663eb0e8",
   "metadata": {
    "scrolled": true
   },
   "outputs": [
    {
     "data": {
      "text/plain": [
       "71"
      ]
     },
     "execution_count": 28,
     "metadata": {},
     "output_type": "execute_result"
    }
   ],
   "source": [
    "credit.duplicated().sum()"
   ]
  },
  {
   "cell_type": "markdown",
   "id": "1ed9053a",
   "metadata": {},
   "source": [
    "Удалим все дубликаты."
   ]
  },
  {
   "cell_type": "code",
   "execution_count": 29,
   "id": "9e4d13a9",
   "metadata": {
    "scrolled": true
   },
   "outputs": [],
   "source": [
    "credit = credit.drop_duplicates().reset_index()"
   ]
  },
  {
   "cell_type": "markdown",
   "id": "a3086c77",
   "metadata": {},
   "source": [
    "### Шаг 2.5. Формирование дополнительных датафреймов словарей, декомпозиция исходного датафрейма."
   ]
  },
  {
   "cell_type": "markdown",
   "id": "953e430a",
   "metadata": {},
   "source": [
    "Создадим два словаря: education и family. Сохраним в каждом id и наименовнание значения."
   ]
  },
  {
   "cell_type": "code",
   "execution_count": 30,
   "id": "8fd5b471",
   "metadata": {
    "scrolled": true
   },
   "outputs": [
    {
     "data": {
      "text/html": [
       "<div>\n",
       "<style scoped>\n",
       "    .dataframe tbody tr th:only-of-type {\n",
       "        vertical-align: middle;\n",
       "    }\n",
       "\n",
       "    .dataframe tbody tr th {\n",
       "        vertical-align: top;\n",
       "    }\n",
       "\n",
       "    .dataframe thead th {\n",
       "        text-align: right;\n",
       "    }\n",
       "</style>\n",
       "<table border=\"1\" class=\"dataframe\">\n",
       "  <thead>\n",
       "    <tr style=\"text-align: right;\">\n",
       "      <th></th>\n",
       "      <th>education_id</th>\n",
       "      <th>education</th>\n",
       "    </tr>\n",
       "  </thead>\n",
       "  <tbody>\n",
       "    <tr>\n",
       "      <th>0</th>\n",
       "      <td>0</td>\n",
       "      <td>высшее</td>\n",
       "    </tr>\n",
       "    <tr>\n",
       "      <th>1</th>\n",
       "      <td>1</td>\n",
       "      <td>среднее</td>\n",
       "    </tr>\n",
       "    <tr>\n",
       "      <th>2</th>\n",
       "      <td>1</td>\n",
       "      <td>среднее</td>\n",
       "    </tr>\n",
       "    <tr>\n",
       "      <th>3</th>\n",
       "      <td>1</td>\n",
       "      <td>среднее</td>\n",
       "    </tr>\n",
       "    <tr>\n",
       "      <th>4</th>\n",
       "      <td>1</td>\n",
       "      <td>среднее</td>\n",
       "    </tr>\n",
       "    <tr>\n",
       "      <th>5</th>\n",
       "      <td>0</td>\n",
       "      <td>высшее</td>\n",
       "    </tr>\n",
       "    <tr>\n",
       "      <th>6</th>\n",
       "      <td>0</td>\n",
       "      <td>высшее</td>\n",
       "    </tr>\n",
       "    <tr>\n",
       "      <th>7</th>\n",
       "      <td>1</td>\n",
       "      <td>среднее</td>\n",
       "    </tr>\n",
       "    <tr>\n",
       "      <th>8</th>\n",
       "      <td>0</td>\n",
       "      <td>высшее</td>\n",
       "    </tr>\n",
       "    <tr>\n",
       "      <th>9</th>\n",
       "      <td>1</td>\n",
       "      <td>среднее</td>\n",
       "    </tr>\n",
       "  </tbody>\n",
       "</table>\n",
       "</div>"
      ],
      "text/plain": [
       "   education_id education\n",
       "0             0    высшее\n",
       "1             1   среднее\n",
       "2             1   среднее\n",
       "3             1   среднее\n",
       "4             1   среднее\n",
       "5             0    высшее\n",
       "6             0    высшее\n",
       "7             1   среднее\n",
       "8             0    высшее\n",
       "9             1   среднее"
      ]
     },
     "execution_count": 30,
     "metadata": {},
     "output_type": "execute_result"
    }
   ],
   "source": [
    "education = credit[['education_id','education']]\n",
    "education.head(10)"
   ]
  },
  {
   "cell_type": "code",
   "execution_count": 31,
   "id": "dfd4feec",
   "metadata": {
    "scrolled": true
   },
   "outputs": [
    {
     "data": {
      "text/html": [
       "<div>\n",
       "<style scoped>\n",
       "    .dataframe tbody tr th:only-of-type {\n",
       "        vertical-align: middle;\n",
       "    }\n",
       "\n",
       "    .dataframe tbody tr th {\n",
       "        vertical-align: top;\n",
       "    }\n",
       "\n",
       "    .dataframe thead th {\n",
       "        text-align: right;\n",
       "    }\n",
       "</style>\n",
       "<table border=\"1\" class=\"dataframe\">\n",
       "  <thead>\n",
       "    <tr style=\"text-align: right;\">\n",
       "      <th></th>\n",
       "      <th>family_status_id</th>\n",
       "      <th>family_status</th>\n",
       "    </tr>\n",
       "  </thead>\n",
       "  <tbody>\n",
       "    <tr>\n",
       "      <th>0</th>\n",
       "      <td>0</td>\n",
       "      <td>женат / замужем</td>\n",
       "    </tr>\n",
       "    <tr>\n",
       "      <th>1</th>\n",
       "      <td>0</td>\n",
       "      <td>женат / замужем</td>\n",
       "    </tr>\n",
       "    <tr>\n",
       "      <th>2</th>\n",
       "      <td>0</td>\n",
       "      <td>женат / замужем</td>\n",
       "    </tr>\n",
       "    <tr>\n",
       "      <th>3</th>\n",
       "      <td>0</td>\n",
       "      <td>женат / замужем</td>\n",
       "    </tr>\n",
       "    <tr>\n",
       "      <th>4</th>\n",
       "      <td>1</td>\n",
       "      <td>гражданский брак</td>\n",
       "    </tr>\n",
       "    <tr>\n",
       "      <th>5</th>\n",
       "      <td>1</td>\n",
       "      <td>гражданский брак</td>\n",
       "    </tr>\n",
       "    <tr>\n",
       "      <th>6</th>\n",
       "      <td>0</td>\n",
       "      <td>женат / замужем</td>\n",
       "    </tr>\n",
       "    <tr>\n",
       "      <th>7</th>\n",
       "      <td>0</td>\n",
       "      <td>женат / замужем</td>\n",
       "    </tr>\n",
       "    <tr>\n",
       "      <th>8</th>\n",
       "      <td>1</td>\n",
       "      <td>гражданский брак</td>\n",
       "    </tr>\n",
       "    <tr>\n",
       "      <th>9</th>\n",
       "      <td>0</td>\n",
       "      <td>женат / замужем</td>\n",
       "    </tr>\n",
       "  </tbody>\n",
       "</table>\n",
       "</div>"
      ],
      "text/plain": [
       "   family_status_id     family_status\n",
       "0                 0   женат / замужем\n",
       "1                 0   женат / замужем\n",
       "2                 0   женат / замужем\n",
       "3                 0   женат / замужем\n",
       "4                 1  гражданский брак\n",
       "5                 1  гражданский брак\n",
       "6                 0   женат / замужем\n",
       "7                 0   женат / замужем\n",
       "8                 1  гражданский брак\n",
       "9                 0   женат / замужем"
      ]
     },
     "execution_count": 31,
     "metadata": {},
     "output_type": "execute_result"
    }
   ],
   "source": [
    "family = credit[['family_status_id','family_status']]\n",
    "family.head(10)"
   ]
  },
  {
   "cell_type": "markdown",
   "id": "39ee77da",
   "metadata": {},
   "source": [
    "Найдем в новых датафреймах дубликаты и удалим их."
   ]
  },
  {
   "cell_type": "code",
   "execution_count": 32,
   "id": "8adfb2d5",
   "metadata": {
    "scrolled": true
   },
   "outputs": [
    {
     "data": {
      "text/plain": [
       "21449"
      ]
     },
     "execution_count": 32,
     "metadata": {},
     "output_type": "execute_result"
    }
   ],
   "source": [
    "education.duplicated().sum()"
   ]
  },
  {
   "cell_type": "code",
   "execution_count": 33,
   "id": "fadb5345",
   "metadata": {
    "scrolled": true
   },
   "outputs": [
    {
     "data": {
      "text/html": [
       "<div>\n",
       "<style scoped>\n",
       "    .dataframe tbody tr th:only-of-type {\n",
       "        vertical-align: middle;\n",
       "    }\n",
       "\n",
       "    .dataframe tbody tr th {\n",
       "        vertical-align: top;\n",
       "    }\n",
       "\n",
       "    .dataframe thead th {\n",
       "        text-align: right;\n",
       "    }\n",
       "</style>\n",
       "<table border=\"1\" class=\"dataframe\">\n",
       "  <thead>\n",
       "    <tr style=\"text-align: right;\">\n",
       "      <th></th>\n",
       "      <th>index</th>\n",
       "      <th>education_id</th>\n",
       "      <th>education</th>\n",
       "    </tr>\n",
       "  </thead>\n",
       "  <tbody>\n",
       "    <tr>\n",
       "      <th>0</th>\n",
       "      <td>0</td>\n",
       "      <td>0</td>\n",
       "      <td>высшее</td>\n",
       "    </tr>\n",
       "    <tr>\n",
       "      <th>1</th>\n",
       "      <td>1</td>\n",
       "      <td>1</td>\n",
       "      <td>среднее</td>\n",
       "    </tr>\n",
       "    <tr>\n",
       "      <th>2</th>\n",
       "      <td>13</td>\n",
       "      <td>2</td>\n",
       "      <td>неоконченное высшее</td>\n",
       "    </tr>\n",
       "    <tr>\n",
       "      <th>3</th>\n",
       "      <td>31</td>\n",
       "      <td>3</td>\n",
       "      <td>начальное</td>\n",
       "    </tr>\n",
       "    <tr>\n",
       "      <th>4</th>\n",
       "      <td>2962</td>\n",
       "      <td>4</td>\n",
       "      <td>ученая степень</td>\n",
       "    </tr>\n",
       "  </tbody>\n",
       "</table>\n",
       "</div>"
      ],
      "text/plain": [
       "   index  education_id            education\n",
       "0      0             0               высшее\n",
       "1      1             1              среднее\n",
       "2     13             2  неоконченное высшее\n",
       "3     31             3            начальное\n",
       "4   2962             4       ученая степень"
      ]
     },
     "execution_count": 33,
     "metadata": {},
     "output_type": "execute_result"
    }
   ],
   "source": [
    "education = education.drop_duplicates().reset_index()\n",
    "education"
   ]
  },
  {
   "cell_type": "code",
   "execution_count": 34,
   "id": "99920e48",
   "metadata": {
    "scrolled": true
   },
   "outputs": [
    {
     "data": {
      "text/plain": [
       "21449"
      ]
     },
     "execution_count": 34,
     "metadata": {},
     "output_type": "execute_result"
    }
   ],
   "source": [
    "family.duplicated().sum()"
   ]
  },
  {
   "cell_type": "code",
   "execution_count": 35,
   "id": "0d10215d",
   "metadata": {
    "scrolled": true
   },
   "outputs": [
    {
     "data": {
      "text/html": [
       "<div>\n",
       "<style scoped>\n",
       "    .dataframe tbody tr th:only-of-type {\n",
       "        vertical-align: middle;\n",
       "    }\n",
       "\n",
       "    .dataframe tbody tr th {\n",
       "        vertical-align: top;\n",
       "    }\n",
       "\n",
       "    .dataframe thead th {\n",
       "        text-align: right;\n",
       "    }\n",
       "</style>\n",
       "<table border=\"1\" class=\"dataframe\">\n",
       "  <thead>\n",
       "    <tr style=\"text-align: right;\">\n",
       "      <th></th>\n",
       "      <th>index</th>\n",
       "      <th>family_status_id</th>\n",
       "      <th>family_status</th>\n",
       "    </tr>\n",
       "  </thead>\n",
       "  <tbody>\n",
       "    <tr>\n",
       "      <th>0</th>\n",
       "      <td>0</td>\n",
       "      <td>0</td>\n",
       "      <td>женат / замужем</td>\n",
       "    </tr>\n",
       "    <tr>\n",
       "      <th>1</th>\n",
       "      <td>4</td>\n",
       "      <td>1</td>\n",
       "      <td>гражданский брак</td>\n",
       "    </tr>\n",
       "    <tr>\n",
       "      <th>2</th>\n",
       "      <td>18</td>\n",
       "      <td>2</td>\n",
       "      <td>вдовец / вдова</td>\n",
       "    </tr>\n",
       "    <tr>\n",
       "      <th>3</th>\n",
       "      <td>19</td>\n",
       "      <td>3</td>\n",
       "      <td>в разводе</td>\n",
       "    </tr>\n",
       "    <tr>\n",
       "      <th>4</th>\n",
       "      <td>24</td>\n",
       "      <td>4</td>\n",
       "      <td>Не женат / не замужем</td>\n",
       "    </tr>\n",
       "  </tbody>\n",
       "</table>\n",
       "</div>"
      ],
      "text/plain": [
       "   index  family_status_id          family_status\n",
       "0      0                 0        женат / замужем\n",
       "1      4                 1       гражданский брак\n",
       "2     18                 2         вдовец / вдова\n",
       "3     19                 3              в разводе\n",
       "4     24                 4  Не женат / не замужем"
      ]
     },
     "execution_count": 35,
     "metadata": {},
     "output_type": "execute_result"
    }
   ],
   "source": [
    "family = family.drop_duplicates().reset_index()\n",
    "family"
   ]
  },
  {
   "cell_type": "markdown",
   "id": "e36213c4",
   "metadata": {},
   "source": [
    "Получили два новых \"словаря\", в которых расшифровывается какой id чему соответствует. Теперь можно удалить из основной таблицы столбец education и family_status, тем самым ее оптимизируем."
   ]
  },
  {
   "cell_type": "code",
   "execution_count": 36,
   "id": "35282bdd",
   "metadata": {
    "scrolled": true
   },
   "outputs": [
    {
     "data": {
      "text/html": [
       "<div>\n",
       "<style scoped>\n",
       "    .dataframe tbody tr th:only-of-type {\n",
       "        vertical-align: middle;\n",
       "    }\n",
       "\n",
       "    .dataframe tbody tr th {\n",
       "        vertical-align: top;\n",
       "    }\n",
       "\n",
       "    .dataframe thead th {\n",
       "        text-align: right;\n",
       "    }\n",
       "</style>\n",
       "<table border=\"1\" class=\"dataframe\">\n",
       "  <thead>\n",
       "    <tr style=\"text-align: right;\">\n",
       "      <th></th>\n",
       "      <th>index</th>\n",
       "      <th>children</th>\n",
       "      <th>days_employed</th>\n",
       "      <th>dob_years</th>\n",
       "      <th>education_id</th>\n",
       "      <th>family_status_id</th>\n",
       "      <th>gender</th>\n",
       "      <th>income_type</th>\n",
       "      <th>debt</th>\n",
       "      <th>total_income</th>\n",
       "      <th>purpose</th>\n",
       "    </tr>\n",
       "  </thead>\n",
       "  <tbody>\n",
       "    <tr>\n",
       "      <th>0</th>\n",
       "      <td>0</td>\n",
       "      <td>1</td>\n",
       "      <td>23</td>\n",
       "      <td>42.0</td>\n",
       "      <td>0</td>\n",
       "      <td>0</td>\n",
       "      <td>F</td>\n",
       "      <td>сотрудник</td>\n",
       "      <td>0</td>\n",
       "      <td>253875</td>\n",
       "      <td>покупка жилья</td>\n",
       "    </tr>\n",
       "    <tr>\n",
       "      <th>1</th>\n",
       "      <td>1</td>\n",
       "      <td>1</td>\n",
       "      <td>11</td>\n",
       "      <td>36.0</td>\n",
       "      <td>1</td>\n",
       "      <td>0</td>\n",
       "      <td>F</td>\n",
       "      <td>сотрудник</td>\n",
       "      <td>0</td>\n",
       "      <td>112080</td>\n",
       "      <td>приобретение автомобиля</td>\n",
       "    </tr>\n",
       "    <tr>\n",
       "      <th>2</th>\n",
       "      <td>2</td>\n",
       "      <td>0</td>\n",
       "      <td>15</td>\n",
       "      <td>33.0</td>\n",
       "      <td>1</td>\n",
       "      <td>0</td>\n",
       "      <td>M</td>\n",
       "      <td>сотрудник</td>\n",
       "      <td>0</td>\n",
       "      <td>145885</td>\n",
       "      <td>покупка жилья</td>\n",
       "    </tr>\n",
       "    <tr>\n",
       "      <th>3</th>\n",
       "      <td>3</td>\n",
       "      <td>3</td>\n",
       "      <td>11</td>\n",
       "      <td>32.0</td>\n",
       "      <td>1</td>\n",
       "      <td>0</td>\n",
       "      <td>M</td>\n",
       "      <td>сотрудник</td>\n",
       "      <td>0</td>\n",
       "      <td>267628</td>\n",
       "      <td>дополнительное образование</td>\n",
       "    </tr>\n",
       "    <tr>\n",
       "      <th>4</th>\n",
       "      <td>4</td>\n",
       "      <td>0</td>\n",
       "      <td>38</td>\n",
       "      <td>53.0</td>\n",
       "      <td>1</td>\n",
       "      <td>1</td>\n",
       "      <td>F</td>\n",
       "      <td>пенсионер</td>\n",
       "      <td>0</td>\n",
       "      <td>158616</td>\n",
       "      <td>сыграть свадьбу</td>\n",
       "    </tr>\n",
       "    <tr>\n",
       "      <th>5</th>\n",
       "      <td>5</td>\n",
       "      <td>0</td>\n",
       "      <td>2</td>\n",
       "      <td>27.0</td>\n",
       "      <td>0</td>\n",
       "      <td>1</td>\n",
       "      <td>M</td>\n",
       "      <td>компаньон</td>\n",
       "      <td>0</td>\n",
       "      <td>255763</td>\n",
       "      <td>покупка жилья</td>\n",
       "    </tr>\n",
       "    <tr>\n",
       "      <th>6</th>\n",
       "      <td>6</td>\n",
       "      <td>0</td>\n",
       "      <td>7</td>\n",
       "      <td>43.0</td>\n",
       "      <td>0</td>\n",
       "      <td>0</td>\n",
       "      <td>F</td>\n",
       "      <td>компаньон</td>\n",
       "      <td>0</td>\n",
       "      <td>240525</td>\n",
       "      <td>операции с жильем</td>\n",
       "    </tr>\n",
       "    <tr>\n",
       "      <th>7</th>\n",
       "      <td>7</td>\n",
       "      <td>0</td>\n",
       "      <td>0</td>\n",
       "      <td>50.0</td>\n",
       "      <td>1</td>\n",
       "      <td>0</td>\n",
       "      <td>M</td>\n",
       "      <td>сотрудник</td>\n",
       "      <td>0</td>\n",
       "      <td>135823</td>\n",
       "      <td>образование</td>\n",
       "    </tr>\n",
       "    <tr>\n",
       "      <th>8</th>\n",
       "      <td>8</td>\n",
       "      <td>2</td>\n",
       "      <td>18</td>\n",
       "      <td>35.0</td>\n",
       "      <td>0</td>\n",
       "      <td>1</td>\n",
       "      <td>F</td>\n",
       "      <td>сотрудник</td>\n",
       "      <td>0</td>\n",
       "      <td>95856</td>\n",
       "      <td>на проведение свадьбы</td>\n",
       "    </tr>\n",
       "    <tr>\n",
       "      <th>9</th>\n",
       "      <td>9</td>\n",
       "      <td>0</td>\n",
       "      <td>5</td>\n",
       "      <td>41.0</td>\n",
       "      <td>1</td>\n",
       "      <td>0</td>\n",
       "      <td>M</td>\n",
       "      <td>сотрудник</td>\n",
       "      <td>0</td>\n",
       "      <td>144425</td>\n",
       "      <td>покупка жилья для семьи</td>\n",
       "    </tr>\n",
       "  </tbody>\n",
       "</table>\n",
       "</div>"
      ],
      "text/plain": [
       "   index  children  days_employed  dob_years  education_id  family_status_id  \\\n",
       "0      0         1             23       42.0             0                 0   \n",
       "1      1         1             11       36.0             1                 0   \n",
       "2      2         0             15       33.0             1                 0   \n",
       "3      3         3             11       32.0             1                 0   \n",
       "4      4         0             38       53.0             1                 1   \n",
       "5      5         0              2       27.0             0                 1   \n",
       "6      6         0              7       43.0             0                 0   \n",
       "7      7         0              0       50.0             1                 0   \n",
       "8      8         2             18       35.0             0                 1   \n",
       "9      9         0              5       41.0             1                 0   \n",
       "\n",
       "  gender income_type  debt  total_income                     purpose  \n",
       "0      F   сотрудник     0        253875               покупка жилья  \n",
       "1      F   сотрудник     0        112080     приобретение автомобиля  \n",
       "2      M   сотрудник     0        145885               покупка жилья  \n",
       "3      M   сотрудник     0        267628  дополнительное образование  \n",
       "4      F   пенсионер     0        158616             сыграть свадьбу  \n",
       "5      M   компаньон     0        255763               покупка жилья  \n",
       "6      F   компаньон     0        240525           операции с жильем  \n",
       "7      M   сотрудник     0        135823                 образование  \n",
       "8      F   сотрудник     0         95856       на проведение свадьбы  \n",
       "9      M   сотрудник     0        144425     покупка жилья для семьи  "
      ]
     },
     "execution_count": 36,
     "metadata": {},
     "output_type": "execute_result"
    }
   ],
   "source": [
    "\n",
    "credit = credit.drop(['family_status','education'], axis=1)\n",
    "\n",
    "credit.head(10)"
   ]
  },
  {
   "cell_type": "markdown",
   "id": "da9c3a9b",
   "metadata": {},
   "source": [
    "### Шаг 2.6. Категоризация дохода."
   ]
  },
  {
   "cell_type": "markdown",
   "id": "2099ad94",
   "metadata": {},
   "source": [
    "Категоризируем доход в соответствии со следующей градацией:\n",
    "- 0-30000 -'E'\n",
    "- 30001-50000 - 'D'\n",
    "- 50001-200000 - 'C'\n",
    "- 200001-1000000 - 'B'\n",
    "- 1000001 и выше - 'A'\n",
    "\n",
    "И добавим новый столбец с этой категорией total_income_category.\n",
    "\n",
    "Напишем функцию, которая будет проверять сумму на попадание в нужные диапазоны."
   ]
  },
  {
   "cell_type": "code",
   "execution_count": 37,
   "id": "f51ff89f",
   "metadata": {
    "scrolled": true
   },
   "outputs": [
    {
     "data": {
      "text/html": [
       "<div>\n",
       "<style scoped>\n",
       "    .dataframe tbody tr th:only-of-type {\n",
       "        vertical-align: middle;\n",
       "    }\n",
       "\n",
       "    .dataframe tbody tr th {\n",
       "        vertical-align: top;\n",
       "    }\n",
       "\n",
       "    .dataframe thead th {\n",
       "        text-align: right;\n",
       "    }\n",
       "</style>\n",
       "<table border=\"1\" class=\"dataframe\">\n",
       "  <thead>\n",
       "    <tr style=\"text-align: right;\">\n",
       "      <th></th>\n",
       "      <th>index</th>\n",
       "      <th>children</th>\n",
       "      <th>days_employed</th>\n",
       "      <th>dob_years</th>\n",
       "      <th>education_id</th>\n",
       "      <th>family_status_id</th>\n",
       "      <th>gender</th>\n",
       "      <th>income_type</th>\n",
       "      <th>debt</th>\n",
       "      <th>total_income</th>\n",
       "      <th>purpose</th>\n",
       "      <th>total_income_category</th>\n",
       "    </tr>\n",
       "  </thead>\n",
       "  <tbody>\n",
       "    <tr>\n",
       "      <th>0</th>\n",
       "      <td>0</td>\n",
       "      <td>1</td>\n",
       "      <td>23</td>\n",
       "      <td>42.0</td>\n",
       "      <td>0</td>\n",
       "      <td>0</td>\n",
       "      <td>F</td>\n",
       "      <td>сотрудник</td>\n",
       "      <td>0</td>\n",
       "      <td>253875</td>\n",
       "      <td>покупка жилья</td>\n",
       "      <td>B</td>\n",
       "    </tr>\n",
       "    <tr>\n",
       "      <th>1</th>\n",
       "      <td>1</td>\n",
       "      <td>1</td>\n",
       "      <td>11</td>\n",
       "      <td>36.0</td>\n",
       "      <td>1</td>\n",
       "      <td>0</td>\n",
       "      <td>F</td>\n",
       "      <td>сотрудник</td>\n",
       "      <td>0</td>\n",
       "      <td>112080</td>\n",
       "      <td>приобретение автомобиля</td>\n",
       "      <td>C</td>\n",
       "    </tr>\n",
       "    <tr>\n",
       "      <th>2</th>\n",
       "      <td>2</td>\n",
       "      <td>0</td>\n",
       "      <td>15</td>\n",
       "      <td>33.0</td>\n",
       "      <td>1</td>\n",
       "      <td>0</td>\n",
       "      <td>M</td>\n",
       "      <td>сотрудник</td>\n",
       "      <td>0</td>\n",
       "      <td>145885</td>\n",
       "      <td>покупка жилья</td>\n",
       "      <td>C</td>\n",
       "    </tr>\n",
       "    <tr>\n",
       "      <th>3</th>\n",
       "      <td>3</td>\n",
       "      <td>3</td>\n",
       "      <td>11</td>\n",
       "      <td>32.0</td>\n",
       "      <td>1</td>\n",
       "      <td>0</td>\n",
       "      <td>M</td>\n",
       "      <td>сотрудник</td>\n",
       "      <td>0</td>\n",
       "      <td>267628</td>\n",
       "      <td>дополнительное образование</td>\n",
       "      <td>B</td>\n",
       "    </tr>\n",
       "    <tr>\n",
       "      <th>4</th>\n",
       "      <td>4</td>\n",
       "      <td>0</td>\n",
       "      <td>38</td>\n",
       "      <td>53.0</td>\n",
       "      <td>1</td>\n",
       "      <td>1</td>\n",
       "      <td>F</td>\n",
       "      <td>пенсионер</td>\n",
       "      <td>0</td>\n",
       "      <td>158616</td>\n",
       "      <td>сыграть свадьбу</td>\n",
       "      <td>C</td>\n",
       "    </tr>\n",
       "  </tbody>\n",
       "</table>\n",
       "</div>"
      ],
      "text/plain": [
       "   index  children  days_employed  dob_years  education_id  family_status_id  \\\n",
       "0      0         1             23       42.0             0                 0   \n",
       "1      1         1             11       36.0             1                 0   \n",
       "2      2         0             15       33.0             1                 0   \n",
       "3      3         3             11       32.0             1                 0   \n",
       "4      4         0             38       53.0             1                 1   \n",
       "\n",
       "  gender income_type  debt  total_income                     purpose  \\\n",
       "0      F   сотрудник     0        253875               покупка жилья   \n",
       "1      F   сотрудник     0        112080     приобретение автомобиля   \n",
       "2      M   сотрудник     0        145885               покупка жилья   \n",
       "3      M   сотрудник     0        267628  дополнительное образование   \n",
       "4      F   пенсионер     0        158616             сыграть свадьбу   \n",
       "\n",
       "  total_income_category  \n",
       "0                     B  \n",
       "1                     C  \n",
       "2                     C  \n",
       "3                     B  \n",
       "4                     C  "
      ]
     },
     "execution_count": 37,
     "metadata": {},
     "output_type": "execute_result"
    }
   ],
   "source": [
    "def category(row):\n",
    "    if row <= 30000:\n",
    "        return 'E'\n",
    "    if row >= 30001 and row <= 50000:\n",
    "        return 'D'\n",
    "    if row >= 50001 and row <= 200000:\n",
    "        return 'C'\n",
    "    if row >= 200001 and row <= 1000000:\n",
    "        return 'B'\n",
    "    if row >=1000001:\n",
    "        return 'A'\n",
    "\n",
    "#category(3000000)\n",
    "\n",
    "credit['total_income_category'] = credit['total_income'].apply(category)\n",
    "credit.head()"
   ]
  },
  {
   "cell_type": "code",
   "execution_count": 38,
   "id": "d1fd783e",
   "metadata": {
    "scrolled": true
   },
   "outputs": [
    {
     "data": {
      "text/plain": [
       "C    16015\n",
       "B     5042\n",
       "D      350\n",
       "A       25\n",
       "E       22\n",
       "Name: total_income_category, dtype: int64"
      ]
     },
     "execution_count": 38,
     "metadata": {},
     "output_type": "execute_result"
    }
   ],
   "source": [
    "credit['total_income_category'].value_counts()"
   ]
  },
  {
   "cell_type": "markdown",
   "id": "9cdd5100",
   "metadata": {},
   "source": [
    "### Шаг 2.7. Категоризация целей кредита."
   ]
  },
  {
   "cell_type": "markdown",
   "id": "2b8ceaa6",
   "metadata": {},
   "source": [
    "Столбец purpose (цель получения кредита) содержит одни и те же категории, сформулированные разным языком, что непосредственно в таком виде мешает категоризации. \n",
    "Создадим функцию, которая на основании данных из столбца purpose сформирует новый столбец purpose_category, в который войдут следующие категории:\n",
    "- операции с автомобилем\n",
    "- операции с недвижимостью\n",
    "- проведение свадеб\n",
    "- получение образования"
   ]
  },
  {
   "cell_type": "code",
   "execution_count": 39,
   "id": "39b71500",
   "metadata": {
    "scrolled": true
   },
   "outputs": [
    {
     "data": {
      "text/html": [
       "<div>\n",
       "<style scoped>\n",
       "    .dataframe tbody tr th:only-of-type {\n",
       "        vertical-align: middle;\n",
       "    }\n",
       "\n",
       "    .dataframe tbody tr th {\n",
       "        vertical-align: top;\n",
       "    }\n",
       "\n",
       "    .dataframe thead th {\n",
       "        text-align: right;\n",
       "    }\n",
       "</style>\n",
       "<table border=\"1\" class=\"dataframe\">\n",
       "  <thead>\n",
       "    <tr style=\"text-align: right;\">\n",
       "      <th></th>\n",
       "      <th>index</th>\n",
       "      <th>children</th>\n",
       "      <th>days_employed</th>\n",
       "      <th>dob_years</th>\n",
       "      <th>education_id</th>\n",
       "      <th>family_status_id</th>\n",
       "      <th>gender</th>\n",
       "      <th>income_type</th>\n",
       "      <th>debt</th>\n",
       "      <th>total_income</th>\n",
       "      <th>purpose</th>\n",
       "      <th>total_income_category</th>\n",
       "      <th>purpose_category</th>\n",
       "    </tr>\n",
       "  </thead>\n",
       "  <tbody>\n",
       "    <tr>\n",
       "      <th>0</th>\n",
       "      <td>0</td>\n",
       "      <td>1</td>\n",
       "      <td>23</td>\n",
       "      <td>42.0</td>\n",
       "      <td>0</td>\n",
       "      <td>0</td>\n",
       "      <td>F</td>\n",
       "      <td>сотрудник</td>\n",
       "      <td>0</td>\n",
       "      <td>253875</td>\n",
       "      <td>покупка жилья</td>\n",
       "      <td>B</td>\n",
       "      <td>операции с недвижимостью</td>\n",
       "    </tr>\n",
       "    <tr>\n",
       "      <th>1</th>\n",
       "      <td>1</td>\n",
       "      <td>1</td>\n",
       "      <td>11</td>\n",
       "      <td>36.0</td>\n",
       "      <td>1</td>\n",
       "      <td>0</td>\n",
       "      <td>F</td>\n",
       "      <td>сотрудник</td>\n",
       "      <td>0</td>\n",
       "      <td>112080</td>\n",
       "      <td>приобретение автомобиля</td>\n",
       "      <td>C</td>\n",
       "      <td>операции с автомобилем</td>\n",
       "    </tr>\n",
       "    <tr>\n",
       "      <th>2</th>\n",
       "      <td>2</td>\n",
       "      <td>0</td>\n",
       "      <td>15</td>\n",
       "      <td>33.0</td>\n",
       "      <td>1</td>\n",
       "      <td>0</td>\n",
       "      <td>M</td>\n",
       "      <td>сотрудник</td>\n",
       "      <td>0</td>\n",
       "      <td>145885</td>\n",
       "      <td>покупка жилья</td>\n",
       "      <td>C</td>\n",
       "      <td>операции с недвижимостью</td>\n",
       "    </tr>\n",
       "    <tr>\n",
       "      <th>3</th>\n",
       "      <td>3</td>\n",
       "      <td>3</td>\n",
       "      <td>11</td>\n",
       "      <td>32.0</td>\n",
       "      <td>1</td>\n",
       "      <td>0</td>\n",
       "      <td>M</td>\n",
       "      <td>сотрудник</td>\n",
       "      <td>0</td>\n",
       "      <td>267628</td>\n",
       "      <td>дополнительное образование</td>\n",
       "      <td>B</td>\n",
       "      <td>получение образования</td>\n",
       "    </tr>\n",
       "    <tr>\n",
       "      <th>4</th>\n",
       "      <td>4</td>\n",
       "      <td>0</td>\n",
       "      <td>38</td>\n",
       "      <td>53.0</td>\n",
       "      <td>1</td>\n",
       "      <td>1</td>\n",
       "      <td>F</td>\n",
       "      <td>пенсионер</td>\n",
       "      <td>0</td>\n",
       "      <td>158616</td>\n",
       "      <td>сыграть свадьбу</td>\n",
       "      <td>C</td>\n",
       "      <td>проведение свадеб</td>\n",
       "    </tr>\n",
       "    <tr>\n",
       "      <th>5</th>\n",
       "      <td>5</td>\n",
       "      <td>0</td>\n",
       "      <td>2</td>\n",
       "      <td>27.0</td>\n",
       "      <td>0</td>\n",
       "      <td>1</td>\n",
       "      <td>M</td>\n",
       "      <td>компаньон</td>\n",
       "      <td>0</td>\n",
       "      <td>255763</td>\n",
       "      <td>покупка жилья</td>\n",
       "      <td>B</td>\n",
       "      <td>операции с недвижимостью</td>\n",
       "    </tr>\n",
       "    <tr>\n",
       "      <th>6</th>\n",
       "      <td>6</td>\n",
       "      <td>0</td>\n",
       "      <td>7</td>\n",
       "      <td>43.0</td>\n",
       "      <td>0</td>\n",
       "      <td>0</td>\n",
       "      <td>F</td>\n",
       "      <td>компаньон</td>\n",
       "      <td>0</td>\n",
       "      <td>240525</td>\n",
       "      <td>операции с жильем</td>\n",
       "      <td>B</td>\n",
       "      <td>операции с недвижимостью</td>\n",
       "    </tr>\n",
       "    <tr>\n",
       "      <th>7</th>\n",
       "      <td>7</td>\n",
       "      <td>0</td>\n",
       "      <td>0</td>\n",
       "      <td>50.0</td>\n",
       "      <td>1</td>\n",
       "      <td>0</td>\n",
       "      <td>M</td>\n",
       "      <td>сотрудник</td>\n",
       "      <td>0</td>\n",
       "      <td>135823</td>\n",
       "      <td>образование</td>\n",
       "      <td>C</td>\n",
       "      <td>получение образования</td>\n",
       "    </tr>\n",
       "    <tr>\n",
       "      <th>8</th>\n",
       "      <td>8</td>\n",
       "      <td>2</td>\n",
       "      <td>18</td>\n",
       "      <td>35.0</td>\n",
       "      <td>0</td>\n",
       "      <td>1</td>\n",
       "      <td>F</td>\n",
       "      <td>сотрудник</td>\n",
       "      <td>0</td>\n",
       "      <td>95856</td>\n",
       "      <td>на проведение свадьбы</td>\n",
       "      <td>C</td>\n",
       "      <td>проведение свадеб</td>\n",
       "    </tr>\n",
       "    <tr>\n",
       "      <th>9</th>\n",
       "      <td>9</td>\n",
       "      <td>0</td>\n",
       "      <td>5</td>\n",
       "      <td>41.0</td>\n",
       "      <td>1</td>\n",
       "      <td>0</td>\n",
       "      <td>M</td>\n",
       "      <td>сотрудник</td>\n",
       "      <td>0</td>\n",
       "      <td>144425</td>\n",
       "      <td>покупка жилья для семьи</td>\n",
       "      <td>C</td>\n",
       "      <td>операции с недвижимостью</td>\n",
       "    </tr>\n",
       "  </tbody>\n",
       "</table>\n",
       "</div>"
      ],
      "text/plain": [
       "   index  children  days_employed  dob_years  education_id  family_status_id  \\\n",
       "0      0         1             23       42.0             0                 0   \n",
       "1      1         1             11       36.0             1                 0   \n",
       "2      2         0             15       33.0             1                 0   \n",
       "3      3         3             11       32.0             1                 0   \n",
       "4      4         0             38       53.0             1                 1   \n",
       "5      5         0              2       27.0             0                 1   \n",
       "6      6         0              7       43.0             0                 0   \n",
       "7      7         0              0       50.0             1                 0   \n",
       "8      8         2             18       35.0             0                 1   \n",
       "9      9         0              5       41.0             1                 0   \n",
       "\n",
       "  gender income_type  debt  total_income                     purpose  \\\n",
       "0      F   сотрудник     0        253875               покупка жилья   \n",
       "1      F   сотрудник     0        112080     приобретение автомобиля   \n",
       "2      M   сотрудник     0        145885               покупка жилья   \n",
       "3      M   сотрудник     0        267628  дополнительное образование   \n",
       "4      F   пенсионер     0        158616             сыграть свадьбу   \n",
       "5      M   компаньон     0        255763               покупка жилья   \n",
       "6      F   компаньон     0        240525           операции с жильем   \n",
       "7      M   сотрудник     0        135823                 образование   \n",
       "8      F   сотрудник     0         95856       на проведение свадьбы   \n",
       "9      M   сотрудник     0        144425     покупка жилья для семьи   \n",
       "\n",
       "  total_income_category          purpose_category  \n",
       "0                     B  операции с недвижимостью  \n",
       "1                     C    операции с автомобилем  \n",
       "2                     C  операции с недвижимостью  \n",
       "3                     B     получение образования  \n",
       "4                     C         проведение свадеб  \n",
       "5                     B  операции с недвижимостью  \n",
       "6                     B  операции с недвижимостью  \n",
       "7                     C     получение образования  \n",
       "8                     C         проведение свадеб  \n",
       "9                     C  операции с недвижимостью  "
      ]
     },
     "metadata": {},
     "output_type": "display_data"
    },
    {
     "data": {
      "text/plain": [
       "операции с недвижимостью    10811\n",
       "операции с автомобилем       4306\n",
       "получение образования        4013\n",
       "проведение свадеб            2324\n",
       "Name: purpose_category, dtype: int64"
      ]
     },
     "execution_count": 39,
     "metadata": {},
     "output_type": "execute_result"
    }
   ],
   "source": [
    "def purpose_category(row):\n",
    "    if 'автомобил'in row:\n",
    "        return 'операции с автомобилем'\n",
    "    if 'недвижим'in row or 'жиль' in row or 'строител' in row or 'ремонт' in row:\n",
    "        return 'операции с недвижимостью'\n",
    "    if 'свадьб'in row:\n",
    "        return 'проведение свадеб'\n",
    "    if 'образов'in row:\n",
    "        return 'получение образования'\n",
    "\n",
    "#purpose_category ('отремонтировать квартиру')\n",
    "\n",
    "credit['purpose_category'] = credit['purpose'].apply(purpose_category)\n",
    "display(credit.head(10))\n",
    "credit['purpose_category'].value_counts()"
   ]
  },
  {
   "cell_type": "markdown",
   "id": "801d9c19",
   "metadata": {},
   "source": [
    "### Ответы на вопросы."
   ]
  },
  {
   "cell_type": "markdown",
   "id": "ea317e35",
   "metadata": {},
   "source": [
    "##### Вопрос 1:"
   ]
  },
  {
   "cell_type": "markdown",
   "id": "051ee9d4",
   "metadata": {},
   "source": [
    "Есть ли зависимость между количеством детей и возвратом кредита в срок?\n"
   ]
  },
  {
   "cell_type": "code",
   "execution_count": 40,
   "id": "b8b69d37",
   "metadata": {
    "scrolled": true
   },
   "outputs": [
    {
     "data": {
      "text/html": [
       "<div>\n",
       "<style scoped>\n",
       "    .dataframe tbody tr th:only-of-type {\n",
       "        vertical-align: middle;\n",
       "    }\n",
       "\n",
       "    .dataframe tbody tr th {\n",
       "        vertical-align: top;\n",
       "    }\n",
       "\n",
       "    .dataframe thead th {\n",
       "        text-align: right;\n",
       "    }\n",
       "</style>\n",
       "<table border=\"1\" class=\"dataframe\">\n",
       "  <thead>\n",
       "    <tr style=\"text-align: right;\">\n",
       "      <th></th>\n",
       "      <th>debt_children_count</th>\n",
       "      <th>debt_children_sum</th>\n",
       "      <th>debt_children_ratio</th>\n",
       "    </tr>\n",
       "    <tr>\n",
       "      <th>children</th>\n",
       "      <th></th>\n",
       "      <th></th>\n",
       "      <th></th>\n",
       "    </tr>\n",
       "  </thead>\n",
       "  <tbody>\n",
       "    <tr>\n",
       "      <th>4</th>\n",
       "      <td>41</td>\n",
       "      <td>4</td>\n",
       "      <td>9.756098</td>\n",
       "    </tr>\n",
       "    <tr>\n",
       "      <th>2</th>\n",
       "      <td>2128</td>\n",
       "      <td>202</td>\n",
       "      <td>9.492481</td>\n",
       "    </tr>\n",
       "    <tr>\n",
       "      <th>1</th>\n",
       "      <td>4855</td>\n",
       "      <td>445</td>\n",
       "      <td>9.165808</td>\n",
       "    </tr>\n",
       "    <tr>\n",
       "      <th>3</th>\n",
       "      <td>330</td>\n",
       "      <td>27</td>\n",
       "      <td>8.181818</td>\n",
       "    </tr>\n",
       "    <tr>\n",
       "      <th>0</th>\n",
       "      <td>14091</td>\n",
       "      <td>1063</td>\n",
       "      <td>7.543822</td>\n",
       "    </tr>\n",
       "    <tr>\n",
       "      <th>5</th>\n",
       "      <td>9</td>\n",
       "      <td>0</td>\n",
       "      <td>0.000000</td>\n",
       "    </tr>\n",
       "  </tbody>\n",
       "</table>\n",
       "</div>"
      ],
      "text/plain": [
       "          debt_children_count  debt_children_sum  debt_children_ratio\n",
       "children                                                             \n",
       "4                          41                  4             9.756098\n",
       "2                        2128                202             9.492481\n",
       "1                        4855                445             9.165808\n",
       "3                         330                 27             8.181818\n",
       "0                       14091               1063             7.543822\n",
       "5                           9                  0             0.000000"
      ]
     },
     "execution_count": 40,
     "metadata": {},
     "output_type": "execute_result"
    }
   ],
   "source": [
    "debt_children = pd.DataFrame()\n",
    "debt_children['debt_children_count'] = credit.groupby('children')['debt'].count()\n",
    "debt_children['debt_children_sum'] = credit.groupby('children')['debt'].sum()\n",
    "debt_children['debt_children_ratio'] = debt_children['debt_children_sum']/debt_children['debt_children_count']*100\n",
    "debt_children = debt_children.sort_values(by='debt_children_ratio', ascending=False)\n",
    "\n",
    "debt_children"
   ]
  },
  {
   "cell_type": "markdown",
   "id": "b5bf766e",
   "metadata": {},
   "source": [
    "##### Вывод 1:"
   ]
  },
  {
   "cell_type": "markdown",
   "id": "436d5ae6",
   "metadata": {},
   "source": [
    "Получается, что наличие детей отрицательно влияет на возврат кредита в срок. Как можно заметить из таблицы невозврат кредита в срок у бездетных заемщиков 7,5%, а у заемщиков с детьми вырастает до 9,7%."
   ]
  },
  {
   "cell_type": "markdown",
   "id": "cafb8d54",
   "metadata": {},
   "source": [
    "##### Вопрос 2:\n",
    "Есть ли зависимость между семейным положением и возвратом кредита в срок?"
   ]
  },
  {
   "cell_type": "code",
   "execution_count": 41,
   "id": "54944c28",
   "metadata": {
    "scrolled": true
   },
   "outputs": [
    {
     "data": {
      "text/html": [
       "<div>\n",
       "<style scoped>\n",
       "    .dataframe tbody tr th:only-of-type {\n",
       "        vertical-align: middle;\n",
       "    }\n",
       "\n",
       "    .dataframe tbody tr th {\n",
       "        vertical-align: top;\n",
       "    }\n",
       "\n",
       "    .dataframe thead th {\n",
       "        text-align: right;\n",
       "    }\n",
       "</style>\n",
       "<table border=\"1\" class=\"dataframe\">\n",
       "  <thead>\n",
       "    <tr style=\"text-align: right;\">\n",
       "      <th></th>\n",
       "      <th>family_status_id</th>\n",
       "      <th>debt_family_status_count</th>\n",
       "      <th>debt_family_status_sum</th>\n",
       "      <th>debt_family_status_ratio</th>\n",
       "      <th>index</th>\n",
       "      <th>family_status</th>\n",
       "    </tr>\n",
       "  </thead>\n",
       "  <tbody>\n",
       "    <tr>\n",
       "      <th>0</th>\n",
       "      <td>4</td>\n",
       "      <td>2810</td>\n",
       "      <td>274</td>\n",
       "      <td>0.097509</td>\n",
       "      <td>24</td>\n",
       "      <td>Не женат / не замужем</td>\n",
       "    </tr>\n",
       "    <tr>\n",
       "      <th>1</th>\n",
       "      <td>1</td>\n",
       "      <td>4151</td>\n",
       "      <td>388</td>\n",
       "      <td>0.093471</td>\n",
       "      <td>4</td>\n",
       "      <td>гражданский брак</td>\n",
       "    </tr>\n",
       "    <tr>\n",
       "      <th>2</th>\n",
       "      <td>0</td>\n",
       "      <td>12339</td>\n",
       "      <td>931</td>\n",
       "      <td>0.075452</td>\n",
       "      <td>0</td>\n",
       "      <td>женат / замужем</td>\n",
       "    </tr>\n",
       "    <tr>\n",
       "      <th>3</th>\n",
       "      <td>3</td>\n",
       "      <td>1195</td>\n",
       "      <td>85</td>\n",
       "      <td>0.071130</td>\n",
       "      <td>19</td>\n",
       "      <td>в разводе</td>\n",
       "    </tr>\n",
       "    <tr>\n",
       "      <th>4</th>\n",
       "      <td>2</td>\n",
       "      <td>959</td>\n",
       "      <td>63</td>\n",
       "      <td>0.065693</td>\n",
       "      <td>18</td>\n",
       "      <td>вдовец / вдова</td>\n",
       "    </tr>\n",
       "  </tbody>\n",
       "</table>\n",
       "</div>"
      ],
      "text/plain": [
       "   family_status_id  debt_family_status_count  debt_family_status_sum  \\\n",
       "0                 4                      2810                     274   \n",
       "1                 1                      4151                     388   \n",
       "2                 0                     12339                     931   \n",
       "3                 3                      1195                      85   \n",
       "4                 2                       959                      63   \n",
       "\n",
       "   debt_family_status_ratio  index          family_status  \n",
       "0                  0.097509     24  Не женат / не замужем  \n",
       "1                  0.093471      4       гражданский брак  \n",
       "2                  0.075452      0        женат / замужем  \n",
       "3                  0.071130     19              в разводе  \n",
       "4                  0.065693     18         вдовец / вдова  "
      ]
     },
     "execution_count": 41,
     "metadata": {},
     "output_type": "execute_result"
    }
   ],
   "source": [
    "debt_family_status = pd.DataFrame()\n",
    "debt_family_status['debt_family_status_count'] = credit.groupby('family_status_id')['debt'].count()\n",
    "debt_family_status['debt_family_status_sum'] = credit.groupby('family_status_id')['debt'].sum()\n",
    "debt_family_status['debt_family_status_ratio'] = (debt_family_status['debt_family_status_sum']/debt_family_status['debt_family_status_count'])\n",
    "debt_family_status = debt_family_status.sort_values(by='debt_family_status_ratio', ascending=False)\n",
    "\n",
    "debt_family_status_all = debt_family_status.merge (family, on = 'family_status_id', how = 'left')\n",
    "\n",
    "debt_family_status_all"
   ]
  },
  {
   "cell_type": "markdown",
   "id": "e7e9ce11",
   "metadata": {},
   "source": [
    "##### Вывод 2:\n",
    "\n",
    "Одинокие заемщики (в разводе - 7.1%, вдовец / вдова - 6.6%) или заемщики в оформленных отношениях (женат / замужем - 7.5%) имеют просрочку реже, чем не Не женат / не замужем - 9.7% или гражданский брак - 9.3%"
   ]
  },
  {
   "cell_type": "markdown",
   "id": "37f6de46",
   "metadata": {},
   "source": [
    "##### Вопрос 3:"
   ]
  },
  {
   "cell_type": "markdown",
   "id": "d68f58af",
   "metadata": {},
   "source": [
    "Есть ли зависимость между уровнем дохода и возвратом кредита в срок?"
   ]
  },
  {
   "cell_type": "code",
   "execution_count": 42,
   "id": "2a6cf228",
   "metadata": {
    "scrolled": true
   },
   "outputs": [
    {
     "data": {
      "text/html": [
       "<div>\n",
       "<style scoped>\n",
       "    .dataframe tbody tr th:only-of-type {\n",
       "        vertical-align: middle;\n",
       "    }\n",
       "\n",
       "    .dataframe tbody tr th {\n",
       "        vertical-align: top;\n",
       "    }\n",
       "\n",
       "    .dataframe thead th {\n",
       "        text-align: right;\n",
       "    }\n",
       "</style>\n",
       "<table border=\"1\" class=\"dataframe\">\n",
       "  <thead>\n",
       "    <tr style=\"text-align: right;\">\n",
       "      <th></th>\n",
       "      <th>total_income_category_count</th>\n",
       "      <th>total_income_category_sum</th>\n",
       "      <th>total_income_category_ratio</th>\n",
       "    </tr>\n",
       "    <tr>\n",
       "      <th>total_income_category</th>\n",
       "      <th></th>\n",
       "      <th></th>\n",
       "      <th></th>\n",
       "    </tr>\n",
       "  </thead>\n",
       "  <tbody>\n",
       "    <tr>\n",
       "      <th>E</th>\n",
       "      <td>22</td>\n",
       "      <td>2</td>\n",
       "      <td>9.090909</td>\n",
       "    </tr>\n",
       "    <tr>\n",
       "      <th>C</th>\n",
       "      <td>16015</td>\n",
       "      <td>1360</td>\n",
       "      <td>8.492039</td>\n",
       "    </tr>\n",
       "    <tr>\n",
       "      <th>A</th>\n",
       "      <td>25</td>\n",
       "      <td>2</td>\n",
       "      <td>8.000000</td>\n",
       "    </tr>\n",
       "    <tr>\n",
       "      <th>B</th>\n",
       "      <td>5042</td>\n",
       "      <td>356</td>\n",
       "      <td>7.060690</td>\n",
       "    </tr>\n",
       "    <tr>\n",
       "      <th>D</th>\n",
       "      <td>350</td>\n",
       "      <td>21</td>\n",
       "      <td>6.000000</td>\n",
       "    </tr>\n",
       "  </tbody>\n",
       "</table>\n",
       "</div>"
      ],
      "text/plain": [
       "                       total_income_category_count  total_income_category_sum  \\\n",
       "total_income_category                                                           \n",
       "E                                               22                          2   \n",
       "C                                            16015                       1360   \n",
       "A                                               25                          2   \n",
       "B                                             5042                        356   \n",
       "D                                              350                         21   \n",
       "\n",
       "                       total_income_category_ratio  \n",
       "total_income_category                               \n",
       "E                                         9.090909  \n",
       "C                                         8.492039  \n",
       "A                                         8.000000  \n",
       "B                                         7.060690  \n",
       "D                                         6.000000  "
      ]
     },
     "execution_count": 42,
     "metadata": {},
     "output_type": "execute_result"
    }
   ],
   "source": [
    "debt_income = pd.DataFrame()\n",
    "debt_income['total_income_category_count'] = credit.groupby('total_income_category')['debt'].count()\n",
    "debt_income['total_income_category_sum'] = credit.groupby('total_income_category')['debt'].sum()\n",
    "debt_income['total_income_category_ratio'] = debt_income['total_income_category_sum']/debt_income['total_income_category_count']*100\n",
    "debt_income = debt_income.sort_values(by='total_income_category_ratio', ascending=False)\n",
    "\n",
    "debt_income"
   ]
  },
  {
   "cell_type": "markdown",
   "id": "c9249fd0",
   "metadata": {},
   "source": [
    "#####  Вывод 3:"
   ]
  },
  {
   "cell_type": "markdown",
   "id": "8ac0cced",
   "metadata": {},
   "source": [
    "Люди со средним и выше среднего уровнем дохода чаще оказываются в должниках, чем с низким или высоким."
   ]
  },
  {
   "cell_type": "markdown",
   "id": "68c2624e",
   "metadata": {},
   "source": [
    "##### Вопрос 4:"
   ]
  },
  {
   "cell_type": "markdown",
   "id": "10b13484",
   "metadata": {},
   "source": [
    "Как разные цели кредита влияют на его возврат в срок?"
   ]
  },
  {
   "cell_type": "code",
   "execution_count": 43,
   "id": "8d431093",
   "metadata": {
    "scrolled": true
   },
   "outputs": [
    {
     "data": {
      "text/html": [
       "<div>\n",
       "<style scoped>\n",
       "    .dataframe tbody tr th:only-of-type {\n",
       "        vertical-align: middle;\n",
       "    }\n",
       "\n",
       "    .dataframe tbody tr th {\n",
       "        vertical-align: top;\n",
       "    }\n",
       "\n",
       "    .dataframe thead tr th {\n",
       "        text-align: left;\n",
       "    }\n",
       "\n",
       "    .dataframe thead tr:last-of-type th {\n",
       "        text-align: right;\n",
       "    }\n",
       "</style>\n",
       "<table border=\"1\" class=\"dataframe\">\n",
       "  <thead>\n",
       "    <tr>\n",
       "      <th></th>\n",
       "      <th>sum</th>\n",
       "      <th>count</th>\n",
       "      <th>mean</th>\n",
       "    </tr>\n",
       "    <tr>\n",
       "      <th></th>\n",
       "      <th>debt</th>\n",
       "      <th>debt</th>\n",
       "      <th>debt</th>\n",
       "    </tr>\n",
       "    <tr>\n",
       "      <th>purpose_category</th>\n",
       "      <th></th>\n",
       "      <th></th>\n",
       "      <th></th>\n",
       "    </tr>\n",
       "  </thead>\n",
       "  <tbody>\n",
       "    <tr>\n",
       "      <th>операции с автомобилем</th>\n",
       "      <td>403</td>\n",
       "      <td>4306</td>\n",
       "      <td>0.093590</td>\n",
       "    </tr>\n",
       "    <tr>\n",
       "      <th>операции с недвижимостью</th>\n",
       "      <td>782</td>\n",
       "      <td>10811</td>\n",
       "      <td>0.072334</td>\n",
       "    </tr>\n",
       "    <tr>\n",
       "      <th>получение образования</th>\n",
       "      <td>370</td>\n",
       "      <td>4013</td>\n",
       "      <td>0.092200</td>\n",
       "    </tr>\n",
       "    <tr>\n",
       "      <th>проведение свадеб</th>\n",
       "      <td>186</td>\n",
       "      <td>2324</td>\n",
       "      <td>0.080034</td>\n",
       "    </tr>\n",
       "  </tbody>\n",
       "</table>\n",
       "</div>"
      ],
      "text/plain": [
       "                          sum  count      mean\n",
       "                         debt   debt      debt\n",
       "purpose_category                              \n",
       "операции с автомобилем    403   4306  0.093590\n",
       "операции с недвижимостью  782  10811  0.072334\n",
       "получение образования     370   4013  0.092200\n",
       "проведение свадеб         186   2324  0.080034"
      ]
     },
     "execution_count": 43,
     "metadata": {},
     "output_type": "execute_result"
    }
   ],
   "source": [
    "debt_purposes= pd.DataFrame()\n",
    "debt_purposes['debt_purposes_count'] = credit.groupby('purpose_category')['debt'].count()\n",
    "debt_purposes['debt_purposes_sum'] = credit.groupby('purpose_category')['debt'].sum()\n",
    "debt_purposes['debt_purposes_ratio'] = debt_purposes['debt_purposes_sum']/debt_purposes['debt_purposes_count']*100\n",
    "debt_purposes = debt_purposes.sort_values(by='debt_purposes_ratio', ascending=False)\n",
    "\n",
    "debt_purposes\n",
    "\n",
    "credit_pivot = credit.pivot_table(index=['purpose_category'],values='debt',aggfunc=['sum','count','mean'])\n",
    "                                  \n",
    "credit_pivot\n",
    "\n",
    "\n"
   ]
  },
  {
   "cell_type": "markdown",
   "id": "263cd19d",
   "metadata": {},
   "source": [
    "##### Вывод 4:"
   ]
  },
  {
   "cell_type": "markdown",
   "id": "491621b0",
   "metadata": {},
   "source": [
    "Из таблицы мы видим зависимость процента невозврата кредита в зависимости от целей его получения. Кредиты на покупку авто и образование имеют максимальный процент невозврата - 9,3% и 9,2% соотвественно. Операции с недвижимостью и проведение свадеб наименьшее - 7,2% и 8% соответсвенно."
   ]
  },
  {
   "cell_type": "markdown",
   "id": "4e54daab",
   "metadata": {},
   "source": [
    "## Общий вывод:"
   ]
  },
  {
   "cell_type": "markdown",
   "id": "a2578b47",
   "metadata": {},
   "source": [
    "Была рассмотрена зависимость невозврата кредита от наличия детей у заемщика, уровня дохода и цели, на которую данный кредит брался.\n",
    "\n",
    "Обнаружена зависимость невозврата кредита в срок от наличия детей. В целом уровень просроченных кредитов у заемщиком с детьми выше, чем без детей. \n",
    "\n",
    "Наибольший процент невозврата в срок у заемщиков с 4 детьми, чуть меньше с одним или двумя детьми. У заемщиков с 3 детьми самый низкий процент не возврата в срок. А вот у заемщиков с 5 детьми задолженность вообще отсутствует.\n",
    "\n",
    "Заемщики, которые в разводе или вдовцы и заемщики, в оформленных отношениях, имеют просрочку реже, чем те кто не женат или не замужем, либо находятся в гражданском браке. Получается статус официальных отношений положительно сказывается на возврате кредита.\n",
    "\n",
    "Люди со средним и выше среднего уровнем дохода чаще оказываются в должниках, чем с низким или высоким.\n",
    "\n",
    "Кредиты на покупку авто и образование имеют максимальный процент невозврата кредита в срок. Операции с  недвижимостью наименьший."
   ]
  }
 ],
 "metadata": {
  "ExecuteTimeLog": [
   {
    "duration": 3103,
    "start_time": "2022-03-13T06:56:03.545Z"
   },
   {
    "duration": -4805,
    "start_time": "2022-03-13T06:56:11.457Z"
   },
   {
    "duration": -4805,
    "start_time": "2022-03-13T06:56:11.459Z"
   },
   {
    "duration": -4805,
    "start_time": "2022-03-13T06:56:11.460Z"
   },
   {
    "duration": -4804,
    "start_time": "2022-03-13T06:56:11.461Z"
   },
   {
    "duration": -4803,
    "start_time": "2022-03-13T06:56:11.462Z"
   },
   {
    "duration": -4803,
    "start_time": "2022-03-13T06:56:11.463Z"
   },
   {
    "duration": -4803,
    "start_time": "2022-03-13T06:56:11.464Z"
   },
   {
    "duration": -4802,
    "start_time": "2022-03-13T06:56:11.465Z"
   },
   {
    "duration": -4802,
    "start_time": "2022-03-13T06:56:11.466Z"
   },
   {
    "duration": -4800,
    "start_time": "2022-03-13T06:56:11.466Z"
   },
   {
    "duration": -4800,
    "start_time": "2022-03-13T06:56:11.467Z"
   },
   {
    "duration": -4799,
    "start_time": "2022-03-13T06:56:11.468Z"
   },
   {
    "duration": -4799,
    "start_time": "2022-03-13T06:56:11.469Z"
   },
   {
    "duration": -4798,
    "start_time": "2022-03-13T06:56:11.470Z"
   },
   {
    "duration": -4798,
    "start_time": "2022-03-13T06:56:11.471Z"
   },
   {
    "duration": -4797,
    "start_time": "2022-03-13T06:56:11.472Z"
   },
   {
    "duration": -4837,
    "start_time": "2022-03-13T06:56:11.513Z"
   },
   {
    "duration": -4837,
    "start_time": "2022-03-13T06:56:11.514Z"
   },
   {
    "duration": -4836,
    "start_time": "2022-03-13T06:56:11.515Z"
   },
   {
    "duration": -4835,
    "start_time": "2022-03-13T06:56:11.516Z"
   },
   {
    "duration": -4835,
    "start_time": "2022-03-13T06:56:11.517Z"
   },
   {
    "duration": -4833,
    "start_time": "2022-03-13T06:56:11.517Z"
   },
   {
    "duration": -4833,
    "start_time": "2022-03-13T06:56:11.518Z"
   },
   {
    "duration": -4832,
    "start_time": "2022-03-13T06:56:11.519Z"
   },
   {
    "duration": -4832,
    "start_time": "2022-03-13T06:56:11.520Z"
   },
   {
    "duration": -4832,
    "start_time": "2022-03-13T06:56:11.521Z"
   },
   {
    "duration": -4832,
    "start_time": "2022-03-13T06:56:11.522Z"
   },
   {
    "duration": -4832,
    "start_time": "2022-03-13T06:56:11.523Z"
   },
   {
    "duration": -4792,
    "start_time": "2022-03-13T06:56:11.524Z"
   },
   {
    "duration": -4790,
    "start_time": "2022-03-13T06:56:11.524Z"
   },
   {
    "duration": -4789,
    "start_time": "2022-03-13T06:56:11.525Z"
   },
   {
    "duration": -4789,
    "start_time": "2022-03-13T06:56:11.526Z"
   },
   {
    "duration": -4788,
    "start_time": "2022-03-13T06:56:11.527Z"
   },
   {
    "duration": -4787,
    "start_time": "2022-03-13T06:56:11.528Z"
   },
   {
    "duration": -4787,
    "start_time": "2022-03-13T06:56:11.529Z"
   },
   {
    "duration": -4786,
    "start_time": "2022-03-13T06:56:11.530Z"
   },
   {
    "duration": -4786,
    "start_time": "2022-03-13T06:56:11.531Z"
   },
   {
    "duration": -4784,
    "start_time": "2022-03-13T06:56:11.531Z"
   },
   {
    "duration": 826,
    "start_time": "2022-03-13T08:21:27.270Z"
   },
   {
    "duration": 16,
    "start_time": "2022-03-13T08:21:28.099Z"
   },
   {
    "duration": 11,
    "start_time": "2022-03-13T08:21:28.119Z"
   },
   {
    "duration": 9,
    "start_time": "2022-03-13T08:21:28.132Z"
   },
   {
    "duration": 45,
    "start_time": "2022-03-13T08:21:28.143Z"
   },
   {
    "duration": 10,
    "start_time": "2022-03-13T08:21:28.191Z"
   },
   {
    "duration": 11,
    "start_time": "2022-03-13T08:21:28.204Z"
   },
   {
    "duration": 16,
    "start_time": "2022-03-13T08:21:28.217Z"
   },
   {
    "duration": 12,
    "start_time": "2022-03-13T08:21:28.237Z"
   },
   {
    "duration": 43,
    "start_time": "2022-03-13T08:21:28.252Z"
   },
   {
    "duration": 11,
    "start_time": "2022-03-13T08:21:28.297Z"
   },
   {
    "duration": 12,
    "start_time": "2022-03-13T08:21:28.310Z"
   },
   {
    "duration": 6,
    "start_time": "2022-03-13T08:21:28.325Z"
   },
   {
    "duration": 14,
    "start_time": "2022-03-13T08:21:28.333Z"
   },
   {
    "duration": 11,
    "start_time": "2022-03-13T08:21:28.387Z"
   },
   {
    "duration": 13,
    "start_time": "2022-03-13T08:21:28.401Z"
   },
   {
    "duration": 20,
    "start_time": "2022-03-13T08:21:28.416Z"
   },
   {
    "duration": 88,
    "start_time": "2022-03-13T08:21:28.438Z"
   },
   {
    "duration": 6,
    "start_time": "2022-03-13T08:21:28.529Z"
   },
   {
    "duration": 63,
    "start_time": "2022-03-13T08:21:28.537Z"
   },
   {
    "duration": 11,
    "start_time": "2022-03-13T08:21:28.602Z"
   },
   {
    "duration": 17,
    "start_time": "2022-03-13T08:21:28.615Z"
   },
   {
    "duration": 79,
    "start_time": "2022-03-13T08:21:28.634Z"
   },
   {
    "duration": 18,
    "start_time": "2022-03-13T08:21:28.715Z"
   },
   {
    "duration": 22,
    "start_time": "2022-03-13T08:21:28.735Z"
   },
   {
    "duration": 47,
    "start_time": "2022-03-13T08:21:28.759Z"
   },
   {
    "duration": 25,
    "start_time": "2022-03-13T08:21:28.811Z"
   },
   {
    "duration": 16,
    "start_time": "2022-03-13T08:21:28.839Z"
   },
   {
    "duration": 42,
    "start_time": "2022-03-13T08:21:28.857Z"
   },
   {
    "duration": 10,
    "start_time": "2022-03-13T08:21:28.901Z"
   },
   {
    "duration": 13,
    "start_time": "2022-03-13T08:21:28.914Z"
   },
   {
    "duration": 8,
    "start_time": "2022-03-13T08:21:28.930Z"
   },
   {
    "duration": 59,
    "start_time": "2022-03-13T08:21:28.940Z"
   },
   {
    "duration": 21,
    "start_time": "2022-03-13T08:21:29.002Z"
   },
   {
    "duration": 30,
    "start_time": "2022-03-13T08:21:29.025Z"
   },
   {
    "duration": 40,
    "start_time": "2022-03-13T08:21:29.088Z"
   },
   {
    "duration": 24,
    "start_time": "2022-03-13T08:21:29.130Z"
   },
   {
    "duration": 51,
    "start_time": "2022-03-13T08:21:29.156Z"
   },
   {
    "duration": 25,
    "start_time": "2022-03-13T08:21:29.209Z"
   },
   {
    "duration": 563,
    "start_time": "2022-03-13T19:29:15.871Z"
   },
   {
    "duration": 10,
    "start_time": "2022-03-13T19:29:16.436Z"
   },
   {
    "duration": 8,
    "start_time": "2022-03-13T19:29:16.450Z"
   },
   {
    "duration": 5,
    "start_time": "2022-03-13T19:29:16.459Z"
   },
   {
    "duration": 9,
    "start_time": "2022-03-13T19:29:16.466Z"
   },
   {
    "duration": 8,
    "start_time": "2022-03-13T19:29:16.477Z"
   },
   {
    "duration": 9,
    "start_time": "2022-03-13T19:29:16.487Z"
   },
   {
    "duration": 39,
    "start_time": "2022-03-13T19:29:16.499Z"
   },
   {
    "duration": 6,
    "start_time": "2022-03-13T19:29:16.539Z"
   },
   {
    "duration": 10,
    "start_time": "2022-03-13T19:29:16.546Z"
   },
   {
    "duration": 7,
    "start_time": "2022-03-13T19:29:16.557Z"
   },
   {
    "duration": 9,
    "start_time": "2022-03-13T19:29:16.565Z"
   },
   {
    "duration": 5,
    "start_time": "2022-03-13T19:29:16.575Z"
   },
   {
    "duration": 9,
    "start_time": "2022-03-13T19:29:16.581Z"
   },
   {
    "duration": 6,
    "start_time": "2022-03-13T19:29:16.591Z"
   },
   {
    "duration": 9,
    "start_time": "2022-03-13T19:29:16.633Z"
   },
   {
    "duration": 12,
    "start_time": "2022-03-13T19:29:16.643Z"
   },
   {
    "duration": 31,
    "start_time": "2022-03-13T19:29:16.656Z"
   },
   {
    "duration": 4,
    "start_time": "2022-03-13T19:29:16.689Z"
   },
   {
    "duration": 61,
    "start_time": "2022-03-13T19:29:16.694Z"
   },
   {
    "duration": 9,
    "start_time": "2022-03-13T19:29:16.756Z"
   },
   {
    "duration": 10,
    "start_time": "2022-03-13T19:29:16.766Z"
   },
   {
    "duration": 31,
    "start_time": "2022-03-13T19:29:16.778Z"
   },
   {
    "duration": 28,
    "start_time": "2022-03-13T19:29:16.810Z"
   },
   {
    "duration": 16,
    "start_time": "2022-03-13T19:29:16.840Z"
   },
   {
    "duration": 15,
    "start_time": "2022-03-13T19:29:16.859Z"
   },
   {
    "duration": 16,
    "start_time": "2022-03-13T19:29:16.876Z"
   },
   {
    "duration": 43,
    "start_time": "2022-03-13T19:29:16.894Z"
   },
   {
    "duration": 8,
    "start_time": "2022-03-13T19:29:16.939Z"
   },
   {
    "duration": 7,
    "start_time": "2022-03-13T19:29:16.948Z"
   },
   {
    "duration": 9,
    "start_time": "2022-03-13T19:29:16.957Z"
   },
   {
    "duration": 6,
    "start_time": "2022-03-13T19:29:16.967Z"
   },
   {
    "duration": 8,
    "start_time": "2022-03-13T19:29:16.975Z"
   },
   {
    "duration": 48,
    "start_time": "2022-03-13T19:29:16.985Z"
   },
   {
    "duration": 19,
    "start_time": "2022-03-13T19:29:17.035Z"
   },
   {
    "duration": 23,
    "start_time": "2022-03-13T19:29:17.056Z"
   },
   {
    "duration": 13,
    "start_time": "2022-03-13T19:29:17.081Z"
   },
   {
    "duration": 43,
    "start_time": "2022-03-13T19:29:17.095Z"
   },
   {
    "duration": 15,
    "start_time": "2022-03-13T19:29:17.139Z"
   },
   {
    "duration": 14,
    "start_time": "2022-03-13T19:31:15.315Z"
   },
   {
    "duration": 6,
    "start_time": "2022-03-13T19:32:42.627Z"
   },
   {
    "duration": 613,
    "start_time": "2022-03-14T09:05:39.389Z"
   },
   {
    "duration": 12,
    "start_time": "2022-03-14T09:05:40.004Z"
   },
   {
    "duration": 13,
    "start_time": "2022-03-14T09:05:40.019Z"
   },
   {
    "duration": 8,
    "start_time": "2022-03-14T09:05:40.034Z"
   },
   {
    "duration": 11,
    "start_time": "2022-03-14T09:05:40.044Z"
   },
   {
    "duration": 11,
    "start_time": "2022-03-14T09:05:40.057Z"
   },
   {
    "duration": 13,
    "start_time": "2022-03-14T09:05:40.070Z"
   },
   {
    "duration": 15,
    "start_time": "2022-03-14T09:05:40.086Z"
   },
   {
    "duration": 35,
    "start_time": "2022-03-14T09:05:40.104Z"
   },
   {
    "duration": 13,
    "start_time": "2022-03-14T09:05:40.142Z"
   },
   {
    "duration": 8,
    "start_time": "2022-03-14T09:05:40.158Z"
   },
   {
    "duration": 12,
    "start_time": "2022-03-14T09:05:40.168Z"
   },
   {
    "duration": 7,
    "start_time": "2022-03-14T09:05:40.183Z"
   },
   {
    "duration": 13,
    "start_time": "2022-03-14T09:05:40.191Z"
   },
   {
    "duration": 11,
    "start_time": "2022-03-14T09:05:40.237Z"
   },
   {
    "duration": 11,
    "start_time": "2022-03-14T09:05:40.250Z"
   },
   {
    "duration": 17,
    "start_time": "2022-03-14T09:05:40.262Z"
   },
   {
    "duration": 74,
    "start_time": "2022-03-14T09:05:40.281Z"
   },
   {
    "duration": 5,
    "start_time": "2022-03-14T09:05:40.357Z"
   },
   {
    "duration": 33,
    "start_time": "2022-03-14T09:05:40.364Z"
   },
   {
    "duration": 14,
    "start_time": "2022-03-14T09:05:40.399Z"
   },
   {
    "duration": 30,
    "start_time": "2022-03-14T09:05:40.415Z"
   },
   {
    "duration": 11,
    "start_time": "2022-03-14T09:05:40.449Z"
   },
   {
    "duration": 36,
    "start_time": "2022-03-14T09:05:40.462Z"
   },
   {
    "duration": 43,
    "start_time": "2022-03-14T09:05:40.500Z"
   },
   {
    "duration": 19,
    "start_time": "2022-03-14T09:05:40.545Z"
   },
   {
    "duration": 21,
    "start_time": "2022-03-14T09:05:40.565Z"
   },
   {
    "duration": 19,
    "start_time": "2022-03-14T09:05:40.588Z"
   },
   {
    "duration": 35,
    "start_time": "2022-03-14T09:05:40.609Z"
   },
   {
    "duration": 8,
    "start_time": "2022-03-14T09:05:40.646Z"
   },
   {
    "duration": 11,
    "start_time": "2022-03-14T09:05:40.655Z"
   },
   {
    "duration": 13,
    "start_time": "2022-03-14T09:05:40.667Z"
   },
   {
    "duration": 7,
    "start_time": "2022-03-14T09:05:40.681Z"
   },
   {
    "duration": 11,
    "start_time": "2022-03-14T09:05:40.689Z"
   },
   {
    "duration": 16,
    "start_time": "2022-03-14T09:05:40.738Z"
   },
   {
    "duration": 21,
    "start_time": "2022-03-14T09:05:40.756Z"
   },
   {
    "duration": 14,
    "start_time": "2022-03-14T09:05:40.778Z"
   },
   {
    "duration": 49,
    "start_time": "2022-03-14T09:05:40.794Z"
   },
   {
    "duration": 17,
    "start_time": "2022-03-14T09:05:40.845Z"
   },
   {
    "duration": 252,
    "start_time": "2022-03-14T09:05:40.864Z"
   },
   {
    "duration": -9,
    "start_time": "2022-03-14T09:05:41.127Z"
   },
   {
    "duration": -15,
    "start_time": "2022-03-14T09:05:41.134Z"
   },
   {
    "duration": 15,
    "start_time": "2022-03-14T09:10:04.069Z"
   },
   {
    "duration": 15,
    "start_time": "2022-03-14T09:21:50.742Z"
   },
   {
    "duration": 21,
    "start_time": "2022-03-14T09:21:58.339Z"
   },
   {
    "duration": 15,
    "start_time": "2022-03-14T09:24:49.234Z"
   },
   {
    "duration": 18,
    "start_time": "2022-03-14T09:24:56.103Z"
   },
   {
    "duration": 29,
    "start_time": "2022-03-14T09:31:27.017Z"
   },
   {
    "duration": 16,
    "start_time": "2022-03-14T09:34:41.837Z"
   },
   {
    "duration": 240,
    "start_time": "2022-03-14T09:38:36.210Z"
   },
   {
    "duration": 206,
    "start_time": "2022-03-14T10:36:08.381Z"
   },
   {
    "duration": 486,
    "start_time": "2022-03-14T10:36:34.225Z"
   },
   {
    "duration": 34,
    "start_time": "2022-03-14T10:36:42.143Z"
   },
   {
    "duration": 26,
    "start_time": "2022-03-14T10:45:40.045Z"
   },
   {
    "duration": 476,
    "start_time": "2022-03-14T10:47:42.708Z"
   },
   {
    "duration": 29,
    "start_time": "2022-03-14T10:47:56.123Z"
   },
   {
    "duration": 240,
    "start_time": "2022-03-14T10:48:23.568Z"
   },
   {
    "duration": 28,
    "start_time": "2022-03-14T10:50:18.154Z"
   },
   {
    "duration": 72,
    "start_time": "2022-03-14T10:55:01.837Z"
   },
   {
    "duration": 72,
    "start_time": "2022-03-14T10:55:13.692Z"
   },
   {
    "duration": 72,
    "start_time": "2022-03-14T11:02:40.556Z"
   },
   {
    "duration": 72,
    "start_time": "2022-03-14T11:02:58.401Z"
   },
   {
    "duration": 724,
    "start_time": "2022-03-14T11:03:15.115Z"
   },
   {
    "duration": 11,
    "start_time": "2022-03-14T11:03:15.841Z"
   },
   {
    "duration": 9,
    "start_time": "2022-03-14T11:03:15.854Z"
   },
   {
    "duration": 5,
    "start_time": "2022-03-14T11:03:15.865Z"
   },
   {
    "duration": 11,
    "start_time": "2022-03-14T11:03:15.872Z"
   },
   {
    "duration": 10,
    "start_time": "2022-03-14T11:03:15.884Z"
   },
   {
    "duration": 15,
    "start_time": "2022-03-14T11:03:15.896Z"
   },
   {
    "duration": 32,
    "start_time": "2022-03-14T11:03:15.913Z"
   },
   {
    "duration": 6,
    "start_time": "2022-03-14T11:03:15.948Z"
   },
   {
    "duration": 7,
    "start_time": "2022-03-14T11:03:15.956Z"
   },
   {
    "duration": 8,
    "start_time": "2022-03-14T11:03:15.965Z"
   },
   {
    "duration": 16,
    "start_time": "2022-03-14T11:03:15.975Z"
   },
   {
    "duration": 7,
    "start_time": "2022-03-14T11:03:15.993Z"
   },
   {
    "duration": 9,
    "start_time": "2022-03-14T11:03:16.037Z"
   },
   {
    "duration": 17,
    "start_time": "2022-03-14T11:03:16.048Z"
   },
   {
    "duration": 23,
    "start_time": "2022-03-14T11:03:16.067Z"
   },
   {
    "duration": 19,
    "start_time": "2022-03-14T11:03:16.092Z"
   },
   {
    "duration": 64,
    "start_time": "2022-03-14T11:03:16.113Z"
   },
   {
    "duration": 5,
    "start_time": "2022-03-14T11:03:16.179Z"
   },
   {
    "duration": 30,
    "start_time": "2022-03-14T11:03:16.185Z"
   },
   {
    "duration": 32,
    "start_time": "2022-03-14T11:03:16.216Z"
   },
   {
    "duration": 9,
    "start_time": "2022-03-14T11:03:16.250Z"
   },
   {
    "duration": 12,
    "start_time": "2022-03-14T11:03:16.261Z"
   },
   {
    "duration": 35,
    "start_time": "2022-03-14T11:03:16.275Z"
   },
   {
    "duration": 38,
    "start_time": "2022-03-14T11:03:16.311Z"
   },
   {
    "duration": 16,
    "start_time": "2022-03-14T11:03:16.351Z"
   },
   {
    "duration": 18,
    "start_time": "2022-03-14T11:03:16.371Z"
   },
   {
    "duration": 47,
    "start_time": "2022-03-14T11:03:16.391Z"
   },
   {
    "duration": 9,
    "start_time": "2022-03-14T11:03:16.440Z"
   },
   {
    "duration": 9,
    "start_time": "2022-03-14T11:03:16.451Z"
   },
   {
    "duration": 9,
    "start_time": "2022-03-14T11:03:16.461Z"
   },
   {
    "duration": 12,
    "start_time": "2022-03-14T11:03:16.472Z"
   },
   {
    "duration": 6,
    "start_time": "2022-03-14T11:03:16.486Z"
   },
   {
    "duration": 44,
    "start_time": "2022-03-14T11:03:16.494Z"
   },
   {
    "duration": 16,
    "start_time": "2022-03-14T11:03:16.540Z"
   },
   {
    "duration": 22,
    "start_time": "2022-03-14T11:03:16.558Z"
   },
   {
    "duration": 9,
    "start_time": "2022-03-14T11:03:16.581Z"
   },
   {
    "duration": 52,
    "start_time": "2022-03-14T11:03:16.592Z"
   },
   {
    "duration": 16,
    "start_time": "2022-03-14T11:03:16.646Z"
   },
   {
    "duration": 19,
    "start_time": "2022-03-14T11:03:16.663Z"
   },
   {
    "duration": 14,
    "start_time": "2022-03-14T11:03:16.684Z"
   },
   {
    "duration": 70,
    "start_time": "2022-03-14T11:03:16.700Z"
   },
   {
    "duration": 24,
    "start_time": "2022-03-14T11:03:57.229Z"
   },
   {
    "duration": 25,
    "start_time": "2022-03-14T11:04:03.564Z"
   },
   {
    "duration": 24,
    "start_time": "2022-03-14T11:04:06.400Z"
   },
   {
    "duration": 32,
    "start_time": "2022-03-14T11:04:15.091Z"
   },
   {
    "duration": 32,
    "start_time": "2022-03-14T11:12:25.622Z"
   },
   {
    "duration": 604,
    "start_time": "2022-03-14T15:08:55.537Z"
   },
   {
    "duration": 9,
    "start_time": "2022-03-14T15:08:56.143Z"
   },
   {
    "duration": 5,
    "start_time": "2022-03-14T15:08:56.156Z"
   },
   {
    "duration": 12,
    "start_time": "2022-03-14T15:08:56.163Z"
   },
   {
    "duration": 13,
    "start_time": "2022-03-14T15:08:56.177Z"
   },
   {
    "duration": 11,
    "start_time": "2022-03-14T15:08:56.192Z"
   },
   {
    "duration": 8,
    "start_time": "2022-03-14T15:08:56.205Z"
   },
   {
    "duration": 7,
    "start_time": "2022-03-14T15:08:56.214Z"
   },
   {
    "duration": 6,
    "start_time": "2022-03-14T15:08:56.222Z"
   },
   {
    "duration": 9,
    "start_time": "2022-03-14T15:08:56.229Z"
   },
   {
    "duration": 9,
    "start_time": "2022-03-14T15:08:56.239Z"
   },
   {
    "duration": 14,
    "start_time": "2022-03-14T15:08:56.249Z"
   },
   {
    "duration": 4,
    "start_time": "2022-03-14T15:08:56.264Z"
   },
   {
    "duration": 33,
    "start_time": "2022-03-14T15:08:56.269Z"
   },
   {
    "duration": 6,
    "start_time": "2022-03-14T15:08:56.303Z"
   },
   {
    "duration": 8,
    "start_time": "2022-03-14T15:08:56.310Z"
   },
   {
    "duration": 12,
    "start_time": "2022-03-14T15:08:56.320Z"
   },
   {
    "duration": 33,
    "start_time": "2022-03-14T15:08:56.333Z"
   },
   {
    "duration": 4,
    "start_time": "2022-03-14T15:08:56.368Z"
   },
   {
    "duration": 25,
    "start_time": "2022-03-14T15:08:56.401Z"
   },
   {
    "duration": 13,
    "start_time": "2022-03-14T15:08:56.427Z"
   },
   {
    "duration": 8,
    "start_time": "2022-03-14T15:08:56.443Z"
   },
   {
    "duration": 10,
    "start_time": "2022-03-14T15:08:56.453Z"
   },
   {
    "duration": 57,
    "start_time": "2022-03-14T15:08:56.465Z"
   },
   {
    "duration": 12,
    "start_time": "2022-03-14T15:08:56.524Z"
   },
   {
    "duration": 16,
    "start_time": "2022-03-14T15:08:56.537Z"
   },
   {
    "duration": 22,
    "start_time": "2022-03-14T15:08:56.554Z"
   },
   {
    "duration": 31,
    "start_time": "2022-03-14T15:08:56.578Z"
   },
   {
    "duration": 7,
    "start_time": "2022-03-14T15:08:56.611Z"
   },
   {
    "duration": 14,
    "start_time": "2022-03-14T15:08:56.620Z"
   },
   {
    "duration": 8,
    "start_time": "2022-03-14T15:08:56.636Z"
   },
   {
    "duration": 10,
    "start_time": "2022-03-14T15:08:56.646Z"
   },
   {
    "duration": 8,
    "start_time": "2022-03-14T15:08:56.658Z"
   },
   {
    "duration": 11,
    "start_time": "2022-03-14T15:08:56.668Z"
   },
   {
    "duration": 29,
    "start_time": "2022-03-14T15:08:56.680Z"
   },
   {
    "duration": 16,
    "start_time": "2022-03-14T15:08:56.711Z"
   },
   {
    "duration": 6,
    "start_time": "2022-03-14T15:08:56.728Z"
   },
   {
    "duration": 24,
    "start_time": "2022-03-14T15:08:56.736Z"
   },
   {
    "duration": 14,
    "start_time": "2022-03-14T15:08:56.761Z"
   },
   {
    "duration": 37,
    "start_time": "2022-03-14T15:08:56.776Z"
   },
   {
    "duration": 11,
    "start_time": "2022-03-14T15:08:56.815Z"
   },
   {
    "duration": 25,
    "start_time": "2022-03-14T15:08:56.828Z"
   },
   {
    "duration": 21,
    "start_time": "2022-03-14T15:08:56.854Z"
   },
   {
    "duration": 27,
    "start_time": "2022-03-14T15:09:06.391Z"
   },
   {
    "duration": 368,
    "start_time": "2022-03-14T15:15:30.511Z"
   },
   {
    "duration": 727,
    "start_time": "2022-03-14T15:15:50.042Z"
   },
   {
    "duration": 12,
    "start_time": "2022-03-14T15:15:50.771Z"
   },
   {
    "duration": 13,
    "start_time": "2022-03-14T15:15:50.785Z"
   },
   {
    "duration": 6,
    "start_time": "2022-03-14T15:15:50.800Z"
   },
   {
    "duration": 24,
    "start_time": "2022-03-14T15:15:50.808Z"
   },
   {
    "duration": 13,
    "start_time": "2022-03-14T15:15:50.834Z"
   },
   {
    "duration": 10,
    "start_time": "2022-03-14T15:15:50.848Z"
   },
   {
    "duration": 13,
    "start_time": "2022-03-14T15:15:50.860Z"
   },
   {
    "duration": 12,
    "start_time": "2022-03-14T15:15:50.876Z"
   },
   {
    "duration": 12,
    "start_time": "2022-03-14T15:15:50.890Z"
   },
   {
    "duration": 9,
    "start_time": "2022-03-14T15:15:50.904Z"
   },
   {
    "duration": 28,
    "start_time": "2022-03-14T15:15:50.914Z"
   },
   {
    "duration": 13,
    "start_time": "2022-03-14T15:15:50.943Z"
   },
   {
    "duration": 26,
    "start_time": "2022-03-14T15:15:50.958Z"
   },
   {
    "duration": 9,
    "start_time": "2022-03-14T15:15:50.986Z"
   },
   {
    "duration": 21,
    "start_time": "2022-03-14T15:15:50.996Z"
   },
   {
    "duration": 27,
    "start_time": "2022-03-14T15:15:51.019Z"
   },
   {
    "duration": 41,
    "start_time": "2022-03-14T15:15:51.047Z"
   },
   {
    "duration": 5,
    "start_time": "2022-03-14T15:15:51.089Z"
   },
   {
    "duration": 61,
    "start_time": "2022-03-14T15:15:51.096Z"
   },
   {
    "duration": 16,
    "start_time": "2022-03-14T15:15:51.159Z"
   },
   {
    "duration": 11,
    "start_time": "2022-03-14T15:15:51.177Z"
   },
   {
    "duration": 13,
    "start_time": "2022-03-14T15:15:51.189Z"
   },
   {
    "duration": 65,
    "start_time": "2022-03-14T15:15:51.203Z"
   },
   {
    "duration": 15,
    "start_time": "2022-03-14T15:15:51.270Z"
   },
   {
    "duration": 19,
    "start_time": "2022-03-14T15:15:51.287Z"
   },
   {
    "duration": 18,
    "start_time": "2022-03-14T15:15:51.335Z"
   },
   {
    "duration": 19,
    "start_time": "2022-03-14T15:15:51.356Z"
   },
   {
    "duration": 11,
    "start_time": "2022-03-14T15:15:51.377Z"
   },
   {
    "duration": 43,
    "start_time": "2022-03-14T15:15:51.390Z"
   },
   {
    "duration": 10,
    "start_time": "2022-03-14T15:15:51.435Z"
   },
   {
    "duration": 15,
    "start_time": "2022-03-14T15:15:51.447Z"
   },
   {
    "duration": 7,
    "start_time": "2022-03-14T15:15:51.464Z"
   },
   {
    "duration": 13,
    "start_time": "2022-03-14T15:15:51.473Z"
   },
   {
    "duration": 45,
    "start_time": "2022-03-14T15:15:51.488Z"
   },
   {
    "duration": 25,
    "start_time": "2022-03-14T15:15:51.535Z"
   },
   {
    "duration": 7,
    "start_time": "2022-03-14T15:15:51.562Z"
   },
   {
    "duration": 44,
    "start_time": "2022-03-14T15:15:51.571Z"
   },
   {
    "duration": 27,
    "start_time": "2022-03-14T15:15:51.617Z"
   },
   {
    "duration": 20,
    "start_time": "2022-03-14T15:15:51.646Z"
   },
   {
    "duration": 16,
    "start_time": "2022-03-14T15:15:51.668Z"
   },
   {
    "duration": 77,
    "start_time": "2022-03-14T15:15:51.686Z"
   }
  ],
  "kernelspec": {
   "display_name": "Python 3 (ipykernel)",
   "language": "python",
   "name": "python3"
  },
  "language_info": {
   "codemirror_mode": {
    "name": "ipython",
    "version": 3
   },
   "file_extension": ".py",
   "mimetype": "text/x-python",
   "name": "python",
   "nbconvert_exporter": "python",
   "pygments_lexer": "ipython3",
   "version": "3.9.7"
  },
  "toc": {
   "base_numbering": 1,
   "nav_menu": {},
   "number_sections": true,
   "sideBar": true,
   "skip_h1_title": true,
   "title_cell": "Table of Contents",
   "title_sidebar": "Contents",
   "toc_cell": false,
   "toc_position": {},
   "toc_section_display": true,
   "toc_window_display": false
  }
 },
 "nbformat": 4,
 "nbformat_minor": 5
}
