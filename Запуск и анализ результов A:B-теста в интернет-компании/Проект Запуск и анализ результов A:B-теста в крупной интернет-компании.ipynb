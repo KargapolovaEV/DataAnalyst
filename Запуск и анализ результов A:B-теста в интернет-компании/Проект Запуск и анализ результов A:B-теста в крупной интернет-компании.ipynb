{
 "cells": [
  {
   "cell_type": "markdown",
   "metadata": {},
   "source": [
    "# Запуск и анализ результов A/B-теста в крупной интернет-компании"
   ]
  },
  {
   "cell_type": "markdown",
   "metadata": {},
   "source": [
    "Требуется приоритизировать гипотезы из списка, запустить A/B-тест и проанализировать результаты.\n",
    "\n",
    "У нас есть 9 гипотез по увеличению выручки интернет-магазина с указанными параметрами Reach, Impact, Confidence, Effort.\n",
    "\n",
    "Задача\n",
    "\n",
    "- Применить фреймворк ICE для приоритизации гипотез. Отсортировать их по убыванию приоритета.\n",
    "- Применить фреймворк RICE для приоритизации гипотез. Отсортировать их по убыванию приоритета.\n",
    "- Описать, как изменилась приоритизация гипотез при применении RICE вместо ICE.\n",
    "\n",
    "После проведения A/B-тест получили результаты, которые описаны в файлах /datasets/orders.csv и /datasets/visitors.csv.\n",
    "\n",
    "Задача\n",
    "Проанализирировать A/B-тест. Для этого:\n",
    "- Построим график кумулятивной выручки по группам. \n",
    "- Построим график кумулятивного среднего чека по группам. \n",
    "- Построим график относительного изменения кумулятивного среднего чека группы B к группе A.\n",
    "- Построим график кумулятивной конверсии по группам. \n",
    "- Построим график относительного изменения кумулятивной конверсии группы B к группе A. \n",
    "- Построим точечный график количества заказов по пользователям. \n",
    "- Посчитаем 95-й и 99-й перцентили количества заказов на пользователя. Выберем границу для определения аномальных пользователей.\n",
    "- Построим точечный график стоимостей заказов. \n",
    "- Посчитаем 95-й и 99-й перцентили стоимости заказов. Выберем границу для определения аномальных заказов.\n",
    "- Посчитаем статистическую значимость различий в конверсии между группами по «сырым» данным. \n",
    "- Посчитаем статистическую значимость различий в среднем чеке заказа между группами по «сырым» данным. \n",
    "- Посчитаем статистическую значимость различий в конверсии между группами по «очищенным» данным. \n",
    "- Посчитаем статистическую значимость различий в среднем чеке заказа между группами по «очищенным» данным. \n",
    "\n",
    "Описание данных\n",
    "\n",
    "Данные для первой части<br>\n",
    "Файл /datasets/hypothesis.csv:<br>\n",
    "\n",
    "Hypothesis — краткое описание гипотезы;<br>\n",
    "Reach — охват пользователей по 10-балльной шкале;<br>\n",
    "Impact — влияние на пользователей по 10-балльной шкале;<br>\n",
    "Confidence — уверенность в гипотезе по 10-балльной шкале;<br>\n",
    "Efforts — затраты ресурсов на проверку гипотезы по 10-балльной шкале. Чем больше значение Efforts, тем дороже проверка гипотезы.<br>\n",
    "\n",
    "Данные для второй части<br>\n",
    "Файл /datasets/orders.csv:<br>\n",
    "\n",
    "transactionId — идентификатор заказа;<br>\n",
    "visitorId — идентификатор пользователя, совершившего заказ;<br>\n",
    "date — дата, когда был совершён заказ;<br>\n",
    "revenue — выручка заказа;<br>\n",
    "group — группа A/B-теста, в которую попал заказ.<br>\n",
    "\n",
    "Файл /datasets/visitors.csv:<br>\n",
    "\n",
    "date — дата;<br>\n",
    "group — группа A/B-теста;<br>\n",
    "visitors — количество пользователей в указанную дату в указанной группе A/B-теста\n"
   ]
  },
  {
   "cell_type": "code",
   "execution_count": 1,
   "metadata": {},
   "outputs": [],
   "source": [
    "#библиотеки\n",
    "import pandas as pd\n",
    "import scipy.stats as stats\n",
    "import matplotlib.pyplot as plt\n",
    "import datetime as dt\n",
    "import numpy as np"
   ]
  },
  {
   "cell_type": "code",
   "execution_count": 2,
   "metadata": {},
   "outputs": [],
   "source": [
    "try:\n",
    "    hypothesis, orders, visitors = (pd.read_csv('hypothesis.csv'),\n",
    "         pd.read_csv('orders.csv'),\n",
    "         pd.read_csv('visitors.csv'))\n",
    "except:\n",
    "    hypothesis, orders, visitors = (pd.read_csv('/datasets/hypothesis.csv'),\n",
    "         pd.read_csv('/datasets/orders.csv'),\n",
    "         pd.read_csv('/datasets/visitors.csv'))\n",
    "    \n"
   ]
  },
  {
   "cell_type": "markdown",
   "metadata": {},
   "source": [
    "##  Выбор гипотезы"
   ]
  },
  {
   "cell_type": "code",
   "execution_count": 3,
   "metadata": {},
   "outputs": [
    {
     "name": "stdout",
     "output_type": "stream",
     "text": [
      "<class 'pandas.core.frame.DataFrame'>\n",
      "RangeIndex: 9 entries, 0 to 8\n",
      "Data columns (total 5 columns):\n",
      " #   Column      Non-Null Count  Dtype \n",
      "---  ------      --------------  ----- \n",
      " 0   Hypothesis  9 non-null      object\n",
      " 1   Reach       9 non-null      int64 \n",
      " 2   Impact      9 non-null      int64 \n",
      " 3   Confidence  9 non-null      int64 \n",
      " 4   Efforts     9 non-null      int64 \n",
      "dtypes: int64(4), object(1)\n",
      "memory usage: 488.0+ bytes\n"
     ]
    },
    {
     "data": {
      "text/html": [
       "<div>\n",
       "<style scoped>\n",
       "    .dataframe tbody tr th:only-of-type {\n",
       "        vertical-align: middle;\n",
       "    }\n",
       "\n",
       "    .dataframe tbody tr th {\n",
       "        vertical-align: top;\n",
       "    }\n",
       "\n",
       "    .dataframe thead th {\n",
       "        text-align: right;\n",
       "    }\n",
       "</style>\n",
       "<table border=\"1\" class=\"dataframe\">\n",
       "  <thead>\n",
       "    <tr style=\"text-align: right;\">\n",
       "      <th></th>\n",
       "      <th>Hypothesis</th>\n",
       "      <th>Reach</th>\n",
       "      <th>Impact</th>\n",
       "      <th>Confidence</th>\n",
       "      <th>Efforts</th>\n",
       "    </tr>\n",
       "  </thead>\n",
       "  <tbody>\n",
       "    <tr>\n",
       "      <th>0</th>\n",
       "      <td>Добавить два новых канала привлечения трафика, что позволит привлекать на 30% больше пользователей</td>\n",
       "      <td>3</td>\n",
       "      <td>10</td>\n",
       "      <td>8</td>\n",
       "      <td>6</td>\n",
       "    </tr>\n",
       "    <tr>\n",
       "      <th>1</th>\n",
       "      <td>Запустить собственную службу доставки, что сократит срок доставки заказов</td>\n",
       "      <td>2</td>\n",
       "      <td>5</td>\n",
       "      <td>4</td>\n",
       "      <td>10</td>\n",
       "    </tr>\n",
       "    <tr>\n",
       "      <th>2</th>\n",
       "      <td>Добавить блоки рекомендаций товаров на сайт интернет магазина, чтобы повысить конверсию и средни...</td>\n",
       "      <td>8</td>\n",
       "      <td>3</td>\n",
       "      <td>7</td>\n",
       "      <td>3</td>\n",
       "    </tr>\n",
       "    <tr>\n",
       "      <th>3</th>\n",
       "      <td>Изменить структура категорий, что увеличит конверсию, т.к. пользователи быстрее найдут нужный товар</td>\n",
       "      <td>8</td>\n",
       "      <td>3</td>\n",
       "      <td>3</td>\n",
       "      <td>8</td>\n",
       "    </tr>\n",
       "    <tr>\n",
       "      <th>4</th>\n",
       "      <td>Изменить цвет фона главной страницы, чтобы увеличить вовлеченность пользователей</td>\n",
       "      <td>3</td>\n",
       "      <td>1</td>\n",
       "      <td>1</td>\n",
       "      <td>1</td>\n",
       "    </tr>\n",
       "    <tr>\n",
       "      <th>5</th>\n",
       "      <td>Добавить страницу отзывов клиентов о магазине, что позволит увеличить количество заказов</td>\n",
       "      <td>3</td>\n",
       "      <td>2</td>\n",
       "      <td>2</td>\n",
       "      <td>3</td>\n",
       "    </tr>\n",
       "    <tr>\n",
       "      <th>6</th>\n",
       "      <td>Показать на главной странице баннеры с актуальными акциями и распродажами, чтобы увеличить конве...</td>\n",
       "      <td>5</td>\n",
       "      <td>3</td>\n",
       "      <td>8</td>\n",
       "      <td>3</td>\n",
       "    </tr>\n",
       "    <tr>\n",
       "      <th>7</th>\n",
       "      <td>Добавить форму подписки на все основные страницы, чтобы собрать базу клиентов для email-рассылок</td>\n",
       "      <td>10</td>\n",
       "      <td>7</td>\n",
       "      <td>8</td>\n",
       "      <td>5</td>\n",
       "    </tr>\n",
       "    <tr>\n",
       "      <th>8</th>\n",
       "      <td>Запустить акцию, дающую скидку на товар в день рождения</td>\n",
       "      <td>1</td>\n",
       "      <td>9</td>\n",
       "      <td>9</td>\n",
       "      <td>5</td>\n",
       "    </tr>\n",
       "  </tbody>\n",
       "</table>\n",
       "</div>"
      ],
      "text/plain": [
       "                                                                                            Hypothesis  \\\n",
       "0   Добавить два новых канала привлечения трафика, что позволит привлекать на 30% больше пользователей   \n",
       "1                            Запустить собственную службу доставки, что сократит срок доставки заказов   \n",
       "2  Добавить блоки рекомендаций товаров на сайт интернет магазина, чтобы повысить конверсию и средни...   \n",
       "3  Изменить структура категорий, что увеличит конверсию, т.к. пользователи быстрее найдут нужный товар   \n",
       "4                     Изменить цвет фона главной страницы, чтобы увеличить вовлеченность пользователей   \n",
       "5             Добавить страницу отзывов клиентов о магазине, что позволит увеличить количество заказов   \n",
       "6  Показать на главной странице баннеры с актуальными акциями и распродажами, чтобы увеличить конве...   \n",
       "7     Добавить форму подписки на все основные страницы, чтобы собрать базу клиентов для email-рассылок   \n",
       "8                                              Запустить акцию, дающую скидку на товар в день рождения   \n",
       "\n",
       "   Reach  Impact  Confidence  Efforts  \n",
       "0      3      10           8        6  \n",
       "1      2       5           4       10  \n",
       "2      8       3           7        3  \n",
       "3      8       3           3        8  \n",
       "4      3       1           1        1  \n",
       "5      3       2           2        3  \n",
       "6      5       3           8        3  \n",
       "7     10       7           8        5  \n",
       "8      1       9           9        5  "
      ]
     },
     "execution_count": 3,
     "metadata": {},
     "output_type": "execute_result"
    }
   ],
   "source": [
    "# проверим тип данных\n",
    "hypothesis.info()\n",
    "pd.options.display.max_colwidth = 100\n",
    "hypothesis"
   ]
  },
  {
   "cell_type": "code",
   "execution_count": 4,
   "metadata": {},
   "outputs": [
    {
     "data": {
      "text/html": [
       "<div>\n",
       "<style scoped>\n",
       "    .dataframe tbody tr th:only-of-type {\n",
       "        vertical-align: middle;\n",
       "    }\n",
       "\n",
       "    .dataframe tbody tr th {\n",
       "        vertical-align: top;\n",
       "    }\n",
       "\n",
       "    .dataframe thead th {\n",
       "        text-align: right;\n",
       "    }\n",
       "</style>\n",
       "<table border=\"1\" class=\"dataframe\">\n",
       "  <thead>\n",
       "    <tr style=\"text-align: right;\">\n",
       "      <th></th>\n",
       "      <th>Hypothesis</th>\n",
       "      <th>Reach</th>\n",
       "      <th>Impact</th>\n",
       "      <th>Confidence</th>\n",
       "      <th>Efforts</th>\n",
       "      <th>ICE</th>\n",
       "    </tr>\n",
       "  </thead>\n",
       "  <tbody>\n",
       "    <tr>\n",
       "      <th>8</th>\n",
       "      <td>Запустить акцию, дающую скидку на товар в день рождения</td>\n",
       "      <td>1</td>\n",
       "      <td>9</td>\n",
       "      <td>9</td>\n",
       "      <td>5</td>\n",
       "      <td>16.200000</td>\n",
       "    </tr>\n",
       "    <tr>\n",
       "      <th>0</th>\n",
       "      <td>Добавить два новых канала привлечения трафика, что позволит привлекать на 30% больше пользователей</td>\n",
       "      <td>3</td>\n",
       "      <td>10</td>\n",
       "      <td>8</td>\n",
       "      <td>6</td>\n",
       "      <td>13.333333</td>\n",
       "    </tr>\n",
       "    <tr>\n",
       "      <th>7</th>\n",
       "      <td>Добавить форму подписки на все основные страницы, чтобы собрать базу клиентов для email-рассылок</td>\n",
       "      <td>10</td>\n",
       "      <td>7</td>\n",
       "      <td>8</td>\n",
       "      <td>5</td>\n",
       "      <td>11.200000</td>\n",
       "    </tr>\n",
       "    <tr>\n",
       "      <th>6</th>\n",
       "      <td>Показать на главной странице баннеры с актуальными акциями и распродажами, чтобы увеличить конве...</td>\n",
       "      <td>5</td>\n",
       "      <td>3</td>\n",
       "      <td>8</td>\n",
       "      <td>3</td>\n",
       "      <td>8.000000</td>\n",
       "    </tr>\n",
       "    <tr>\n",
       "      <th>2</th>\n",
       "      <td>Добавить блоки рекомендаций товаров на сайт интернет магазина, чтобы повысить конверсию и средни...</td>\n",
       "      <td>8</td>\n",
       "      <td>3</td>\n",
       "      <td>7</td>\n",
       "      <td>3</td>\n",
       "      <td>7.000000</td>\n",
       "    </tr>\n",
       "    <tr>\n",
       "      <th>1</th>\n",
       "      <td>Запустить собственную службу доставки, что сократит срок доставки заказов</td>\n",
       "      <td>2</td>\n",
       "      <td>5</td>\n",
       "      <td>4</td>\n",
       "      <td>10</td>\n",
       "      <td>2.000000</td>\n",
       "    </tr>\n",
       "    <tr>\n",
       "      <th>5</th>\n",
       "      <td>Добавить страницу отзывов клиентов о магазине, что позволит увеличить количество заказов</td>\n",
       "      <td>3</td>\n",
       "      <td>2</td>\n",
       "      <td>2</td>\n",
       "      <td>3</td>\n",
       "      <td>1.333333</td>\n",
       "    </tr>\n",
       "    <tr>\n",
       "      <th>3</th>\n",
       "      <td>Изменить структура категорий, что увеличит конверсию, т.к. пользователи быстрее найдут нужный товар</td>\n",
       "      <td>8</td>\n",
       "      <td>3</td>\n",
       "      <td>3</td>\n",
       "      <td>8</td>\n",
       "      <td>1.125000</td>\n",
       "    </tr>\n",
       "    <tr>\n",
       "      <th>4</th>\n",
       "      <td>Изменить цвет фона главной страницы, чтобы увеличить вовлеченность пользователей</td>\n",
       "      <td>3</td>\n",
       "      <td>1</td>\n",
       "      <td>1</td>\n",
       "      <td>1</td>\n",
       "      <td>1.000000</td>\n",
       "    </tr>\n",
       "  </tbody>\n",
       "</table>\n",
       "</div>"
      ],
      "text/plain": [
       "                                                                                            Hypothesis  \\\n",
       "8                                              Запустить акцию, дающую скидку на товар в день рождения   \n",
       "0   Добавить два новых канала привлечения трафика, что позволит привлекать на 30% больше пользователей   \n",
       "7     Добавить форму подписки на все основные страницы, чтобы собрать базу клиентов для email-рассылок   \n",
       "6  Показать на главной странице баннеры с актуальными акциями и распродажами, чтобы увеличить конве...   \n",
       "2  Добавить блоки рекомендаций товаров на сайт интернет магазина, чтобы повысить конверсию и средни...   \n",
       "1                            Запустить собственную службу доставки, что сократит срок доставки заказов   \n",
       "5             Добавить страницу отзывов клиентов о магазине, что позволит увеличить количество заказов   \n",
       "3  Изменить структура категорий, что увеличит конверсию, т.к. пользователи быстрее найдут нужный товар   \n",
       "4                     Изменить цвет фона главной страницы, чтобы увеличить вовлеченность пользователей   \n",
       "\n",
       "   Reach  Impact  Confidence  Efforts        ICE  \n",
       "8      1       9           9        5  16.200000  \n",
       "0      3      10           8        6  13.333333  \n",
       "7     10       7           8        5  11.200000  \n",
       "6      5       3           8        3   8.000000  \n",
       "2      8       3           7        3   7.000000  \n",
       "1      2       5           4       10   2.000000  \n",
       "5      3       2           2        3   1.333333  \n",
       "3      8       3           3        8   1.125000  \n",
       "4      3       1           1        1   1.000000  "
      ]
     },
     "execution_count": 4,
     "metadata": {},
     "output_type": "execute_result"
    }
   ],
   "source": [
    "#посчитаем ICE\n",
    "hypothesis['ICE'] = hypothesis['Impact']*hypothesis['Confidence']/hypothesis['Efforts']\n",
    "hypothesis.sort_values(by='ICE', ascending=False)"
   ]
  },
  {
   "cell_type": "code",
   "execution_count": 5,
   "metadata": {},
   "outputs": [
    {
     "data": {
      "text/html": [
       "<div>\n",
       "<style scoped>\n",
       "    .dataframe tbody tr th:only-of-type {\n",
       "        vertical-align: middle;\n",
       "    }\n",
       "\n",
       "    .dataframe tbody tr th {\n",
       "        vertical-align: top;\n",
       "    }\n",
       "\n",
       "    .dataframe thead th {\n",
       "        text-align: right;\n",
       "    }\n",
       "</style>\n",
       "<table border=\"1\" class=\"dataframe\">\n",
       "  <thead>\n",
       "    <tr style=\"text-align: right;\">\n",
       "      <th></th>\n",
       "      <th>Hypothesis</th>\n",
       "      <th>Reach</th>\n",
       "      <th>Impact</th>\n",
       "      <th>Confidence</th>\n",
       "      <th>Efforts</th>\n",
       "      <th>ICE</th>\n",
       "      <th>RICE</th>\n",
       "    </tr>\n",
       "  </thead>\n",
       "  <tbody>\n",
       "    <tr>\n",
       "      <th>7</th>\n",
       "      <td>Добавить форму подписки на все основные страницы, чтобы собрать базу клиентов для email-рассылок</td>\n",
       "      <td>10</td>\n",
       "      <td>7</td>\n",
       "      <td>8</td>\n",
       "      <td>5</td>\n",
       "      <td>11.200000</td>\n",
       "      <td>112.0</td>\n",
       "    </tr>\n",
       "    <tr>\n",
       "      <th>2</th>\n",
       "      <td>Добавить блоки рекомендаций товаров на сайт интернет магазина, чтобы повысить конверсию и средни...</td>\n",
       "      <td>8</td>\n",
       "      <td>3</td>\n",
       "      <td>7</td>\n",
       "      <td>3</td>\n",
       "      <td>7.000000</td>\n",
       "      <td>56.0</td>\n",
       "    </tr>\n",
       "    <tr>\n",
       "      <th>0</th>\n",
       "      <td>Добавить два новых канала привлечения трафика, что позволит привлекать на 30% больше пользователей</td>\n",
       "      <td>3</td>\n",
       "      <td>10</td>\n",
       "      <td>8</td>\n",
       "      <td>6</td>\n",
       "      <td>13.333333</td>\n",
       "      <td>40.0</td>\n",
       "    </tr>\n",
       "    <tr>\n",
       "      <th>6</th>\n",
       "      <td>Показать на главной странице баннеры с актуальными акциями и распродажами, чтобы увеличить конве...</td>\n",
       "      <td>5</td>\n",
       "      <td>3</td>\n",
       "      <td>8</td>\n",
       "      <td>3</td>\n",
       "      <td>8.000000</td>\n",
       "      <td>40.0</td>\n",
       "    </tr>\n",
       "    <tr>\n",
       "      <th>8</th>\n",
       "      <td>Запустить акцию, дающую скидку на товар в день рождения</td>\n",
       "      <td>1</td>\n",
       "      <td>9</td>\n",
       "      <td>9</td>\n",
       "      <td>5</td>\n",
       "      <td>16.200000</td>\n",
       "      <td>16.2</td>\n",
       "    </tr>\n",
       "    <tr>\n",
       "      <th>3</th>\n",
       "      <td>Изменить структура категорий, что увеличит конверсию, т.к. пользователи быстрее найдут нужный товар</td>\n",
       "      <td>8</td>\n",
       "      <td>3</td>\n",
       "      <td>3</td>\n",
       "      <td>8</td>\n",
       "      <td>1.125000</td>\n",
       "      <td>9.0</td>\n",
       "    </tr>\n",
       "    <tr>\n",
       "      <th>1</th>\n",
       "      <td>Запустить собственную службу доставки, что сократит срок доставки заказов</td>\n",
       "      <td>2</td>\n",
       "      <td>5</td>\n",
       "      <td>4</td>\n",
       "      <td>10</td>\n",
       "      <td>2.000000</td>\n",
       "      <td>4.0</td>\n",
       "    </tr>\n",
       "    <tr>\n",
       "      <th>5</th>\n",
       "      <td>Добавить страницу отзывов клиентов о магазине, что позволит увеличить количество заказов</td>\n",
       "      <td>3</td>\n",
       "      <td>2</td>\n",
       "      <td>2</td>\n",
       "      <td>3</td>\n",
       "      <td>1.333333</td>\n",
       "      <td>4.0</td>\n",
       "    </tr>\n",
       "    <tr>\n",
       "      <th>4</th>\n",
       "      <td>Изменить цвет фона главной страницы, чтобы увеличить вовлеченность пользователей</td>\n",
       "      <td>3</td>\n",
       "      <td>1</td>\n",
       "      <td>1</td>\n",
       "      <td>1</td>\n",
       "      <td>1.000000</td>\n",
       "      <td>3.0</td>\n",
       "    </tr>\n",
       "  </tbody>\n",
       "</table>\n",
       "</div>"
      ],
      "text/plain": [
       "                                                                                            Hypothesis  \\\n",
       "7     Добавить форму подписки на все основные страницы, чтобы собрать базу клиентов для email-рассылок   \n",
       "2  Добавить блоки рекомендаций товаров на сайт интернет магазина, чтобы повысить конверсию и средни...   \n",
       "0   Добавить два новых канала привлечения трафика, что позволит привлекать на 30% больше пользователей   \n",
       "6  Показать на главной странице баннеры с актуальными акциями и распродажами, чтобы увеличить конве...   \n",
       "8                                              Запустить акцию, дающую скидку на товар в день рождения   \n",
       "3  Изменить структура категорий, что увеличит конверсию, т.к. пользователи быстрее найдут нужный товар   \n",
       "1                            Запустить собственную службу доставки, что сократит срок доставки заказов   \n",
       "5             Добавить страницу отзывов клиентов о магазине, что позволит увеличить количество заказов   \n",
       "4                     Изменить цвет фона главной страницы, чтобы увеличить вовлеченность пользователей   \n",
       "\n",
       "   Reach  Impact  Confidence  Efforts        ICE   RICE  \n",
       "7     10       7           8        5  11.200000  112.0  \n",
       "2      8       3           7        3   7.000000   56.0  \n",
       "0      3      10           8        6  13.333333   40.0  \n",
       "6      5       3           8        3   8.000000   40.0  \n",
       "8      1       9           9        5  16.200000   16.2  \n",
       "3      8       3           3        8   1.125000    9.0  \n",
       "1      2       5           4       10   2.000000    4.0  \n",
       "5      3       2           2        3   1.333333    4.0  \n",
       "4      3       1           1        1   1.000000    3.0  "
      ]
     },
     "execution_count": 5,
     "metadata": {},
     "output_type": "execute_result"
    }
   ],
   "source": [
    "# посчитаем RICE\n",
    "hypothesis['RICE'] = hypothesis['Reach']*hypothesis['Impact']*hypothesis['Confidence']/hypothesis['Efforts']\n",
    "hypothesis.sort_values(by='RICE', ascending=False)"
   ]
  },
  {
   "cell_type": "code",
   "execution_count": 6,
   "metadata": {},
   "outputs": [
    {
     "data": {
      "image/png": "[encoded data removed]",
      "text/plain": [
       "<Figure size 720x720 with 1 Axes>"
      ]
     },
     "metadata": {
      "needs_background": "light"
     },
     "output_type": "display_data"
    }
   ],
   "source": [
    "y = hypothesis['ICE'] \n",
    "z = hypothesis['RICE'] \n",
    "n = hypothesis.index \n",
    "\n",
    "fig, ax = plt.subplots()\n",
    "ax.scatter(z, y)\n",
    "\n",
    "for i, txt in enumerate(n):\n",
    "    ax.annotate(txt, (z[i], y[i]))\n",
    "\n",
    "plt.title(\"ICE and RICE гипотезы\") \n",
    "plt.xlabel(\"RICE\") \n",
    "plt.ylabel(\"ICE\")\n",
    "    \n",
    "fig.set_figheight(10)\n",
    "fig.set_figwidth(10) \n",
    "plt.show()  "
   ]
  },
  {
   "cell_type": "markdown",
   "metadata": {},
   "source": [
    "### Вывод\n",
    "\n",
    "Наиболее перспективные гипотезы по ICE: 8, 0 и 7.\n",
    "Наиболее перспективные гипотезы по RICE: 7, 2, 0 и 6.\n",
    "Как видим лидеры сменились, и все это произошло, потому что у гипотезы 8 очень низкий параметр RICH, всего 1. В то время как у гипотезы 7 этот параметр имеем макимальное значение 10. Так же и гипотеза 2 поднялась с 5 места на второе, из-за высокого значения параметр RICH = 8. \n",
    "\n",
    "Получается гипотезы 7 и 2 заденут наибольшее количество пользователей."
   ]
  },
  {
   "cell_type": "markdown",
   "metadata": {},
   "source": [
    "##  Анализ А/В-теста"
   ]
  },
  {
   "cell_type": "code",
   "execution_count": 7,
   "metadata": {},
   "outputs": [
    {
     "name": "stdout",
     "output_type": "stream",
     "text": [
      "<class 'pandas.core.frame.DataFrame'>\n",
      "RangeIndex: 1197 entries, 0 to 1196\n",
      "Data columns (total 5 columns):\n",
      " #   Column         Non-Null Count  Dtype \n",
      "---  ------         --------------  ----- \n",
      " 0   transactionId  1197 non-null   int64 \n",
      " 1   visitorId      1197 non-null   int64 \n",
      " 2   date           1197 non-null   object\n",
      " 3   revenue        1197 non-null   int64 \n",
      " 4   group          1197 non-null   object\n",
      "dtypes: int64(3), object(2)\n",
      "memory usage: 46.9+ KB\n"
     ]
    },
    {
     "data": {
      "text/html": [
       "<div>\n",
       "<style scoped>\n",
       "    .dataframe tbody tr th:only-of-type {\n",
       "        vertical-align: middle;\n",
       "    }\n",
       "\n",
       "    .dataframe tbody tr th {\n",
       "        vertical-align: top;\n",
       "    }\n",
       "\n",
       "    .dataframe thead th {\n",
       "        text-align: right;\n",
       "    }\n",
       "</style>\n",
       "<table border=\"1\" class=\"dataframe\">\n",
       "  <thead>\n",
       "    <tr style=\"text-align: right;\">\n",
       "      <th></th>\n",
       "      <th>transactionId</th>\n",
       "      <th>visitorId</th>\n",
       "      <th>date</th>\n",
       "      <th>revenue</th>\n",
       "      <th>group</th>\n",
       "    </tr>\n",
       "  </thead>\n",
       "  <tbody>\n",
       "    <tr>\n",
       "      <th>0</th>\n",
       "      <td>3667963787</td>\n",
       "      <td>3312258926</td>\n",
       "      <td>2019-08-15</td>\n",
       "      <td>1650</td>\n",
       "      <td>B</td>\n",
       "    </tr>\n",
       "    <tr>\n",
       "      <th>1</th>\n",
       "      <td>2804400009</td>\n",
       "      <td>3642806036</td>\n",
       "      <td>2019-08-15</td>\n",
       "      <td>730</td>\n",
       "      <td>B</td>\n",
       "    </tr>\n",
       "    <tr>\n",
       "      <th>2</th>\n",
       "      <td>2961555356</td>\n",
       "      <td>4069496402</td>\n",
       "      <td>2019-08-15</td>\n",
       "      <td>400</td>\n",
       "      <td>A</td>\n",
       "    </tr>\n",
       "    <tr>\n",
       "      <th>3</th>\n",
       "      <td>3797467345</td>\n",
       "      <td>1196621759</td>\n",
       "      <td>2019-08-15</td>\n",
       "      <td>9759</td>\n",
       "      <td>B</td>\n",
       "    </tr>\n",
       "    <tr>\n",
       "      <th>4</th>\n",
       "      <td>2282983706</td>\n",
       "      <td>2322279887</td>\n",
       "      <td>2019-08-15</td>\n",
       "      <td>2308</td>\n",
       "      <td>B</td>\n",
       "    </tr>\n",
       "    <tr>\n",
       "      <th>...</th>\n",
       "      <td>...</td>\n",
       "      <td>...</td>\n",
       "      <td>...</td>\n",
       "      <td>...</td>\n",
       "      <td>...</td>\n",
       "    </tr>\n",
       "    <tr>\n",
       "      <th>1192</th>\n",
       "      <td>2662137336</td>\n",
       "      <td>3733762160</td>\n",
       "      <td>2019-08-14</td>\n",
       "      <td>6490</td>\n",
       "      <td>B</td>\n",
       "    </tr>\n",
       "    <tr>\n",
       "      <th>1193</th>\n",
       "      <td>2203539145</td>\n",
       "      <td>370388673</td>\n",
       "      <td>2019-08-14</td>\n",
       "      <td>3190</td>\n",
       "      <td>A</td>\n",
       "    </tr>\n",
       "    <tr>\n",
       "      <th>1194</th>\n",
       "      <td>1807773912</td>\n",
       "      <td>573423106</td>\n",
       "      <td>2019-08-14</td>\n",
       "      <td>10550</td>\n",
       "      <td>A</td>\n",
       "    </tr>\n",
       "    <tr>\n",
       "      <th>1195</th>\n",
       "      <td>1947021204</td>\n",
       "      <td>1614305549</td>\n",
       "      <td>2019-08-14</td>\n",
       "      <td>100</td>\n",
       "      <td>A</td>\n",
       "    </tr>\n",
       "    <tr>\n",
       "      <th>1196</th>\n",
       "      <td>3936777065</td>\n",
       "      <td>2108080724</td>\n",
       "      <td>2019-08-15</td>\n",
       "      <td>202740</td>\n",
       "      <td>B</td>\n",
       "    </tr>\n",
       "  </tbody>\n",
       "</table>\n",
       "<p>1197 rows × 5 columns</p>\n",
       "</div>"
      ],
      "text/plain": [
       "      transactionId   visitorId        date  revenue group\n",
       "0        3667963787  3312258926  2019-08-15     1650     B\n",
       "1        2804400009  3642806036  2019-08-15      730     B\n",
       "2        2961555356  4069496402  2019-08-15      400     A\n",
       "3        3797467345  1196621759  2019-08-15     9759     B\n",
       "4        2282983706  2322279887  2019-08-15     2308     B\n",
       "...             ...         ...         ...      ...   ...\n",
       "1192     2662137336  3733762160  2019-08-14     6490     B\n",
       "1193     2203539145   370388673  2019-08-14     3190     A\n",
       "1194     1807773912   573423106  2019-08-14    10550     A\n",
       "1195     1947021204  1614305549  2019-08-14      100     A\n",
       "1196     3936777065  2108080724  2019-08-15   202740     B\n",
       "\n",
       "[1197 rows x 5 columns]"
      ]
     },
     "execution_count": 7,
     "metadata": {},
     "output_type": "execute_result"
    }
   ],
   "source": [
    "# проверим тип данных\n",
    "orders.info()\n",
    "orders"
   ]
  },
  {
   "cell_type": "code",
   "execution_count": 8,
   "metadata": {},
   "outputs": [
    {
     "name": "stdout",
     "output_type": "stream",
     "text": [
      "<class 'pandas.core.frame.DataFrame'>\n",
      "RangeIndex: 62 entries, 0 to 61\n",
      "Data columns (total 3 columns):\n",
      " #   Column    Non-Null Count  Dtype \n",
      "---  ------    --------------  ----- \n",
      " 0   date      62 non-null     object\n",
      " 1   group     62 non-null     object\n",
      " 2   visitors  62 non-null     int64 \n",
      "dtypes: int64(1), object(2)\n",
      "memory usage: 1.6+ KB\n"
     ]
    },
    {
     "data": {
      "text/html": [
       "<div>\n",
       "<style scoped>\n",
       "    .dataframe tbody tr th:only-of-type {\n",
       "        vertical-align: middle;\n",
       "    }\n",
       "\n",
       "    .dataframe tbody tr th {\n",
       "        vertical-align: top;\n",
       "    }\n",
       "\n",
       "    .dataframe thead th {\n",
       "        text-align: right;\n",
       "    }\n",
       "</style>\n",
       "<table border=\"1\" class=\"dataframe\">\n",
       "  <thead>\n",
       "    <tr style=\"text-align: right;\">\n",
       "      <th></th>\n",
       "      <th>date</th>\n",
       "      <th>group</th>\n",
       "      <th>visitors</th>\n",
       "    </tr>\n",
       "  </thead>\n",
       "  <tbody>\n",
       "    <tr>\n",
       "      <th>0</th>\n",
       "      <td>2019-08-01</td>\n",
       "      <td>A</td>\n",
       "      <td>719</td>\n",
       "    </tr>\n",
       "    <tr>\n",
       "      <th>31</th>\n",
       "      <td>2019-08-01</td>\n",
       "      <td>B</td>\n",
       "      <td>713</td>\n",
       "    </tr>\n",
       "    <tr>\n",
       "      <th>1</th>\n",
       "      <td>2019-08-02</td>\n",
       "      <td>A</td>\n",
       "      <td>619</td>\n",
       "    </tr>\n",
       "    <tr>\n",
       "      <th>32</th>\n",
       "      <td>2019-08-02</td>\n",
       "      <td>B</td>\n",
       "      <td>581</td>\n",
       "    </tr>\n",
       "    <tr>\n",
       "      <th>2</th>\n",
       "      <td>2019-08-03</td>\n",
       "      <td>A</td>\n",
       "      <td>507</td>\n",
       "    </tr>\n",
       "    <tr>\n",
       "      <th>...</th>\n",
       "      <td>...</td>\n",
       "      <td>...</td>\n",
       "      <td>...</td>\n",
       "    </tr>\n",
       "    <tr>\n",
       "      <th>28</th>\n",
       "      <td>2019-08-29</td>\n",
       "      <td>A</td>\n",
       "      <td>577</td>\n",
       "    </tr>\n",
       "    <tr>\n",
       "      <th>60</th>\n",
       "      <td>2019-08-30</td>\n",
       "      <td>B</td>\n",
       "      <td>490</td>\n",
       "    </tr>\n",
       "    <tr>\n",
       "      <th>29</th>\n",
       "      <td>2019-08-30</td>\n",
       "      <td>A</td>\n",
       "      <td>490</td>\n",
       "    </tr>\n",
       "    <tr>\n",
       "      <th>30</th>\n",
       "      <td>2019-08-31</td>\n",
       "      <td>A</td>\n",
       "      <td>699</td>\n",
       "    </tr>\n",
       "    <tr>\n",
       "      <th>61</th>\n",
       "      <td>2019-08-31</td>\n",
       "      <td>B</td>\n",
       "      <td>718</td>\n",
       "    </tr>\n",
       "  </tbody>\n",
       "</table>\n",
       "<p>62 rows × 3 columns</p>\n",
       "</div>"
      ],
      "text/plain": [
       "          date group  visitors\n",
       "0   2019-08-01     A       719\n",
       "31  2019-08-01     B       713\n",
       "1   2019-08-02     A       619\n",
       "32  2019-08-02     B       581\n",
       "2   2019-08-03     A       507\n",
       "..         ...   ...       ...\n",
       "28  2019-08-29     A       577\n",
       "60  2019-08-30     B       490\n",
       "29  2019-08-30     A       490\n",
       "30  2019-08-31     A       699\n",
       "61  2019-08-31     B       718\n",
       "\n",
       "[62 rows x 3 columns]"
      ]
     },
     "execution_count": 8,
     "metadata": {},
     "output_type": "execute_result"
    }
   ],
   "source": [
    "# проверим тип данных\n",
    "visitors.info()\n",
    "visitors.sort_values(['date'])"
   ]
  },
  {
   "cell_type": "code",
   "execution_count": 9,
   "metadata": {},
   "outputs": [],
   "source": [
    "# преобразуем даты\n",
    "\n",
    "orders['date'] = orders['date'].map(lambda x: dt.datetime.strptime(x, '%Y-%m-%d'))\n",
    "\n",
    "visitors['date'] = visitors['date'].map(lambda x: dt.datetime.strptime(x, '%Y-%m-%d'))"
   ]
  },
  {
   "cell_type": "code",
   "execution_count": 10,
   "metadata": {},
   "outputs": [
    {
     "data": {
      "text/plain": [
       "0"
      ]
     },
     "execution_count": 10,
     "metadata": {},
     "output_type": "execute_result"
    }
   ],
   "source": [
    "orders.duplicated().sum()"
   ]
  },
  {
   "cell_type": "code",
   "execution_count": 11,
   "metadata": {},
   "outputs": [
    {
     "data": {
      "text/plain": [
       "0"
      ]
     },
     "execution_count": 11,
     "metadata": {},
     "output_type": "execute_result"
    }
   ],
   "source": [
    "visitors.duplicated().sum()"
   ]
  },
  {
   "cell_type": "markdown",
   "metadata": {},
   "source": [
    "Проверила на дубликаты и их не обнаружила"
   ]
  },
  {
   "cell_type": "code",
   "execution_count": 12,
   "metadata": {},
   "outputs": [
    {
     "data": {
      "text/html": [
       "<div>\n",
       "<style scoped>\n",
       "    .dataframe tbody tr th:only-of-type {\n",
       "        vertical-align: middle;\n",
       "    }\n",
       "\n",
       "    .dataframe tbody tr th {\n",
       "        vertical-align: top;\n",
       "    }\n",
       "\n",
       "    .dataframe thead th {\n",
       "        text-align: right;\n",
       "    }\n",
       "</style>\n",
       "<table border=\"1\" class=\"dataframe\">\n",
       "  <thead>\n",
       "    <tr style=\"text-align: right;\">\n",
       "      <th></th>\n",
       "      <th>visitorId</th>\n",
       "    </tr>\n",
       "    <tr>\n",
       "      <th>group</th>\n",
       "      <th></th>\n",
       "    </tr>\n",
       "  </thead>\n",
       "  <tbody>\n",
       "    <tr>\n",
       "      <th>A</th>\n",
       "      <td>557</td>\n",
       "    </tr>\n",
       "    <tr>\n",
       "      <th>B</th>\n",
       "      <td>640</td>\n",
       "    </tr>\n",
       "  </tbody>\n",
       "</table>\n",
       "</div>"
      ],
      "text/plain": [
       "       visitorId\n",
       "group           \n",
       "A            557\n",
       "B            640"
      ]
     },
     "execution_count": 12,
     "metadata": {},
     "output_type": "execute_result"
    }
   ],
   "source": [
    "orders.groupby('group').agg({'visitorId':'count'})"
   ]
  },
  {
   "cell_type": "code",
   "execution_count": 13,
   "metadata": {},
   "outputs": [
    {
     "name": "stdout",
     "output_type": "stream",
     "text": [
      "Начало теста 2019-08-01 00:00:00\n",
      "Конец теста 2019-08-31 00:00:00\n"
     ]
    }
   ],
   "source": [
    "print('Начало теста', orders['date'].min())\n",
    "print('Конец теста', orders['date'].max())"
   ]
  },
  {
   "cell_type": "markdown",
   "metadata": {},
   "source": [
    "В нашем тесте участвуют две группы: А и В. Период теста: август 2019 года"
   ]
  },
  {
   "cell_type": "markdown",
   "metadata": {},
   "source": [
    "### График кумулятивной выручки по группам"
   ]
  },
  {
   "cell_type": "code",
   "execution_count": 14,
   "metadata": {},
   "outputs": [
    {
     "data": {
      "text/html": [
       "<div>\n",
       "<style scoped>\n",
       "    .dataframe tbody tr th:only-of-type {\n",
       "        vertical-align: middle;\n",
       "    }\n",
       "\n",
       "    .dataframe tbody tr th {\n",
       "        vertical-align: top;\n",
       "    }\n",
       "\n",
       "    .dataframe thead th {\n",
       "        text-align: right;\n",
       "    }\n",
       "</style>\n",
       "<table border=\"1\" class=\"dataframe\">\n",
       "  <thead>\n",
       "    <tr style=\"text-align: right;\">\n",
       "      <th></th>\n",
       "      <th>date</th>\n",
       "      <th>group</th>\n",
       "    </tr>\n",
       "  </thead>\n",
       "  <tbody>\n",
       "    <tr>\n",
       "      <th>55</th>\n",
       "      <td>2019-08-01</td>\n",
       "      <td>A</td>\n",
       "    </tr>\n",
       "    <tr>\n",
       "      <th>66</th>\n",
       "      <td>2019-08-01</td>\n",
       "      <td>B</td>\n",
       "    </tr>\n",
       "    <tr>\n",
       "      <th>0</th>\n",
       "      <td>2019-08-15</td>\n",
       "      <td>B</td>\n",
       "    </tr>\n",
       "    <tr>\n",
       "      <th>2</th>\n",
       "      <td>2019-08-15</td>\n",
       "      <td>A</td>\n",
       "    </tr>\n",
       "    <tr>\n",
       "      <th>45</th>\n",
       "      <td>2019-08-16</td>\n",
       "      <td>A</td>\n",
       "    </tr>\n",
       "    <tr>\n",
       "      <th>47</th>\n",
       "      <td>2019-08-16</td>\n",
       "      <td>B</td>\n",
       "    </tr>\n",
       "    <tr>\n",
       "      <th>124</th>\n",
       "      <td>2019-08-17</td>\n",
       "      <td>A</td>\n",
       "    </tr>\n",
       "    <tr>\n",
       "      <th>125</th>\n",
       "      <td>2019-08-17</td>\n",
       "      <td>B</td>\n",
       "    </tr>\n",
       "    <tr>\n",
       "      <th>85</th>\n",
       "      <td>2019-08-22</td>\n",
       "      <td>B</td>\n",
       "    </tr>\n",
       "    <tr>\n",
       "      <th>86</th>\n",
       "      <td>2019-08-22</td>\n",
       "      <td>A</td>\n",
       "    </tr>\n",
       "  </tbody>\n",
       "</table>\n",
       "</div>"
      ],
      "text/plain": [
       "          date group\n",
       "55  2019-08-01     A\n",
       "66  2019-08-01     B\n",
       "0   2019-08-15     B\n",
       "2   2019-08-15     A\n",
       "45  2019-08-16     A\n",
       "47  2019-08-16     B\n",
       "124 2019-08-17     A\n",
       "125 2019-08-17     B\n",
       "85  2019-08-22     B\n",
       "86  2019-08-22     A"
      ]
     },
     "execution_count": 14,
     "metadata": {},
     "output_type": "execute_result"
    }
   ],
   "source": [
    "# создаем массив уникальных пар значений дат и групп теста\n",
    "datesGroups = orders[['date','group']].drop_duplicates()\n",
    "datesGroups.head(10).sort_values(['date'])"
   ]
  },
  {
   "cell_type": "code",
   "execution_count": 15,
   "metadata": {},
   "outputs": [],
   "source": [
    "# получаем агрегированные кумулятивные по дням данные о заказах \n",
    "ordersAggregated = datesGroups.apply(lambda x: orders[np.logical_and(orders['date'] <= x['date'], orders['group'] == x['group'])]\\\n",
    ".agg({'date' : 'max', 'group' : 'max', 'transactionId' : 'nunique', 'revenue' : 'sum'}), axis=1).sort_values(by=['date','group'])\n",
    "\n",
    "# получаем агрегированные кумулятивные по дням данные о посетителях интернет-магазина\n",
    "visitorsAggregated = datesGroups.apply(lambda x: visitors[np.logical_and(visitors['date'] <= x['date'], visitors['group'] == x['group'])]\\\n",
    ".agg({'date' : 'max', 'group' : 'max', 'visitors' : 'sum'}), axis=1).sort_values(by=['date','group'])\n",
    "\n",
    "# объединяем кумулятивные данные в одной таблице и присваиваем ее столбцам понятные названия\n",
    "cumulativeData = ordersAggregated.merge(visitorsAggregated, on=['date', 'group'])\n",
    "cumulativeData.columns = ['date', 'group', 'orders', 'revenue', 'visitors']"
   ]
  },
  {
   "cell_type": "code",
   "execution_count": 16,
   "metadata": {},
   "outputs": [
    {
     "data": {
      "text/html": [
       "<div>\n",
       "<style scoped>\n",
       "    .dataframe tbody tr th:only-of-type {\n",
       "        vertical-align: middle;\n",
       "    }\n",
       "\n",
       "    .dataframe tbody tr th {\n",
       "        vertical-align: top;\n",
       "    }\n",
       "\n",
       "    .dataframe thead th {\n",
       "        text-align: right;\n",
       "    }\n",
       "</style>\n",
       "<table border=\"1\" class=\"dataframe\">\n",
       "  <thead>\n",
       "    <tr style=\"text-align: right;\">\n",
       "      <th></th>\n",
       "      <th>date</th>\n",
       "      <th>group</th>\n",
       "      <th>orders</th>\n",
       "      <th>revenue</th>\n",
       "      <th>visitors</th>\n",
       "    </tr>\n",
       "  </thead>\n",
       "  <tbody>\n",
       "    <tr>\n",
       "      <th>0</th>\n",
       "      <td>2019-08-01</td>\n",
       "      <td>A</td>\n",
       "      <td>24</td>\n",
       "      <td>148579</td>\n",
       "      <td>719</td>\n",
       "    </tr>\n",
       "    <tr>\n",
       "      <th>1</th>\n",
       "      <td>2019-08-01</td>\n",
       "      <td>B</td>\n",
       "      <td>21</td>\n",
       "      <td>101217</td>\n",
       "      <td>713</td>\n",
       "    </tr>\n",
       "    <tr>\n",
       "      <th>2</th>\n",
       "      <td>2019-08-02</td>\n",
       "      <td>A</td>\n",
       "      <td>44</td>\n",
       "      <td>242401</td>\n",
       "      <td>1338</td>\n",
       "    </tr>\n",
       "    <tr>\n",
       "      <th>3</th>\n",
       "      <td>2019-08-02</td>\n",
       "      <td>B</td>\n",
       "      <td>45</td>\n",
       "      <td>266748</td>\n",
       "      <td>1294</td>\n",
       "    </tr>\n",
       "    <tr>\n",
       "      <th>4</th>\n",
       "      <td>2019-08-03</td>\n",
       "      <td>A</td>\n",
       "      <td>68</td>\n",
       "      <td>354874</td>\n",
       "      <td>1845</td>\n",
       "    </tr>\n",
       "    <tr>\n",
       "      <th>...</th>\n",
       "      <td>...</td>\n",
       "      <td>...</td>\n",
       "      <td>...</td>\n",
       "      <td>...</td>\n",
       "      <td>...</td>\n",
       "    </tr>\n",
       "    <tr>\n",
       "      <th>57</th>\n",
       "      <td>2019-08-29</td>\n",
       "      <td>B</td>\n",
       "      <td>596</td>\n",
       "      <td>5559398</td>\n",
       "      <td>17708</td>\n",
       "    </tr>\n",
       "    <tr>\n",
       "      <th>58</th>\n",
       "      <td>2019-08-30</td>\n",
       "      <td>A</td>\n",
       "      <td>545</td>\n",
       "      <td>4022970</td>\n",
       "      <td>18037</td>\n",
       "    </tr>\n",
       "    <tr>\n",
       "      <th>59</th>\n",
       "      <td>2019-08-30</td>\n",
       "      <td>B</td>\n",
       "      <td>620</td>\n",
       "      <td>5774631</td>\n",
       "      <td>18198</td>\n",
       "    </tr>\n",
       "    <tr>\n",
       "      <th>60</th>\n",
       "      <td>2019-08-31</td>\n",
       "      <td>A</td>\n",
       "      <td>557</td>\n",
       "      <td>4084803</td>\n",
       "      <td>18736</td>\n",
       "    </tr>\n",
       "    <tr>\n",
       "      <th>61</th>\n",
       "      <td>2019-08-31</td>\n",
       "      <td>B</td>\n",
       "      <td>640</td>\n",
       "      <td>5907760</td>\n",
       "      <td>18916</td>\n",
       "    </tr>\n",
       "  </tbody>\n",
       "</table>\n",
       "<p>62 rows × 5 columns</p>\n",
       "</div>"
      ],
      "text/plain": [
       "         date group  orders  revenue  visitors\n",
       "0  2019-08-01     A      24   148579       719\n",
       "1  2019-08-01     B      21   101217       713\n",
       "2  2019-08-02     A      44   242401      1338\n",
       "3  2019-08-02     B      45   266748      1294\n",
       "4  2019-08-03     A      68   354874      1845\n",
       "..        ...   ...     ...      ...       ...\n",
       "57 2019-08-29     B     596  5559398     17708\n",
       "58 2019-08-30     A     545  4022970     18037\n",
       "59 2019-08-30     B     620  5774631     18198\n",
       "60 2019-08-31     A     557  4084803     18736\n",
       "61 2019-08-31     B     640  5907760     18916\n",
       "\n",
       "[62 rows x 5 columns]"
      ]
     },
     "execution_count": 16,
     "metadata": {},
     "output_type": "execute_result"
    }
   ],
   "source": [
    "cumulativeData"
   ]
  },
  {
   "cell_type": "code",
   "execution_count": 17,
   "metadata": {},
   "outputs": [
    {
     "name": "stdout",
     "output_type": "stream",
     "text": [
      "Начало теста 2019-08-01 00:00:00\n",
      "Конец теста 2019-08-31 00:00:00\n"
     ]
    }
   ],
   "source": [
    "print('Начало теста', cumulativeData['date'].min())\n",
    "print('Конец теста', cumulativeData['date'].max())"
   ]
  },
  {
   "cell_type": "markdown",
   "metadata": {},
   "source": [
    "Период теста: август 2019 года. "
   ]
  },
  {
   "cell_type": "code",
   "execution_count": 18,
   "metadata": {},
   "outputs": [
    {
     "data": {
      "image/png": "[encoded data removed]",
      "text/plain": [
       "<Figure size 432x288 with 1 Axes>"
      ]
     },
     "metadata": {
      "needs_background": "light"
     },
     "output_type": "display_data"
    }
   ],
   "source": [
    "# датафрейм с кумулятивным количеством заказов и кумулятивной выручкой по дням в группе А\n",
    "cumulativeRevenueA = cumulativeData[cumulativeData['group']=='A'][['date','revenue', 'orders']]\n",
    "\n",
    "# датафрейм с кумулятивным количеством заказов и кумулятивной выручкой по дням в группе B\n",
    "cumulativeRevenueB = cumulativeData[cumulativeData['group']=='B'][['date','revenue', 'orders']]\n",
    "\n",
    "plt.title ('График кумулятивной выручки по группам ')\n",
    "\n",
    "plt.plot(cumulativeRevenueA['date'], cumulativeRevenueA['revenue'], label='A')\n",
    "plt.plot(cumulativeRevenueB['date'], cumulativeRevenueB['revenue'], label='B')\n",
    "plt.xticks(rotation=45, ha='right')\n",
    "plt.legend() \n",
    "plt.show()\n",
    "#cumulativeRevenueA"
   ]
  },
  {
   "cell_type": "markdown",
   "metadata": {},
   "source": [
    "По графику видно, что выручка сначала росла одинаково, потом у группу В она стала выше, потом группа А подтянулась. но группа В сделала качественный рывок и ушла вверх. Такой резкий скачок может быть либо из-за всплеска заказов, либо о появлении очень дорогиз заказов в выборке. К концу периода выручка группы В больше в полтора раза."
   ]
  },
  {
   "cell_type": "markdown",
   "metadata": {},
   "source": [
    "### График кумулятивного среднего чека по группам"
   ]
  },
  {
   "cell_type": "code",
   "execution_count": 19,
   "metadata": {},
   "outputs": [
    {
     "data": {
      "image/png": "[encoded data removed]",
      "text/plain": [
       "<Figure size 432x288 with 1 Axes>"
      ]
     },
     "metadata": {
      "needs_background": "light"
     },
     "output_type": "display_data"
    }
   ],
   "source": [
    "plt.title ('График кумулятивного среднего чека по группам ')\n",
    "plt.plot(cumulativeRevenueA['date'], cumulativeRevenueA['revenue']/cumulativeRevenueA['orders'], label='A')\n",
    "plt.plot(cumulativeRevenueB['date'], cumulativeRevenueB['revenue']/cumulativeRevenueB['orders'], label='B')\n",
    "plt.xticks(rotation=45, ha='right')\n",
    "plt.legend()\n",
    "plt.show()"
   ]
  },
  {
   "cell_type": "markdown",
   "metadata": {},
   "source": [
    "Средний чек у группы А тоже ниже среднего чека группы В. И опять видим скачок у группы В. А значит в выборку попали чеки с большой суммой. На конец периода средний чек группа В больше 1,28 раз, чем чек у группы А. "
   ]
  },
  {
   "cell_type": "markdown",
   "metadata": {},
   "source": [
    "### График относительного изменения кумулятивного среднего чека группы В к группе А"
   ]
  },
  {
   "cell_type": "code",
   "execution_count": 20,
   "metadata": {},
   "outputs": [
    {
     "data": {
      "image/png": "[encoded data removed]",
      "text/plain": [
       "<Figure size 432x288 with 1 Axes>"
      ]
     },
     "metadata": {
      "needs_background": "light"
     },
     "output_type": "display_data"
    }
   ],
   "source": [
    "# собираем данные в одном датафрейме\n",
    "mergedCumulativeRevenue = cumulativeRevenueA.merge(cumulativeRevenueB, on='date', how='left', suffixes=['A', 'B'])\n",
    "\n",
    "# cтроим отношение средних чеков\n",
    "plt.title('Отношение средних чеков')\n",
    "plt.plot(mergedCumulativeRevenue['date'], (mergedCumulativeRevenue['revenueB']/mergedCumulativeRevenue['ordersB'])/(mergedCumulativeRevenue['revenueA']/mergedCumulativeRevenue['ordersA'])-1)\n",
    "plt.axhline(y=0, color='black', linestyle='--') \n",
    "plt.xticks(rotation=45)\n",
    "plt.show()\n",
    "\n",
    "#mergedCumulativeRevenue"
   ]
  },
  {
   "cell_type": "markdown",
   "metadata": {},
   "source": [
    "На графике видны резкие изменения отношения средних чеков. Скорее всего в эти дни были больше чеки или выбросы. И видим, что под конец средний чек группы В стабильны выше чека группы А."
   ]
  },
  {
   "cell_type": "markdown",
   "metadata": {},
   "source": [
    "### График кумулятивной конверсии по группам"
   ]
  },
  {
   "cell_type": "code",
   "execution_count": 21,
   "metadata": {},
   "outputs": [
    {
     "data": {
      "image/png": "[encoded data removed]",
      "text/plain": [
       "<Figure size 432x288 with 1 Axes>"
      ]
     },
     "metadata": {
      "needs_background": "light"
     },
     "output_type": "display_data"
    }
   ],
   "source": [
    "# считаем кумулятивную конверсию\n",
    "cumulativeData['conversion'] = cumulativeData['orders']/cumulativeData['visitors']\n",
    "\n",
    "# отделяем данные по группе A\n",
    "cumulativeDataA = cumulativeData[cumulativeData['group']=='A']\n",
    "\n",
    "# отделяем данные по группе B\n",
    "cumulativeDataB = cumulativeData[cumulativeData['group']=='B']\n",
    "\n",
    "# строим графики\n",
    "plt.title('Кумулятивная конверсия по группам')\n",
    "plt.plot(cumulativeDataA['date'], cumulativeDataA['conversion'], label='A')\n",
    "plt.plot(cumulativeDataB['date'], cumulativeDataB['conversion'], label='B')\n",
    "plt.legend()\n",
    "plt.xticks(rotation=45)\n",
    "plt.show()\n"
   ]
  },
  {
   "cell_type": "markdown",
   "metadata": {},
   "source": [
    "В начале были колебания, но затем конверсия группы В ушла вперед. И стабильно держится выше конверсии группы А. "
   ]
  },
  {
   "cell_type": "markdown",
   "metadata": {},
   "source": [
    "### График относительного изменения кумулятивной конверсии группы В к группе А"
   ]
  },
  {
   "cell_type": "code",
   "execution_count": 22,
   "metadata": {},
   "outputs": [
    {
     "data": {
      "image/png": "[encoded data removed]",
      "text/plain": [
       "<Figure size 432x288 with 1 Axes>"
      ]
     },
     "metadata": {
      "needs_background": "light"
     },
     "output_type": "display_data"
    }
   ],
   "source": [
    "mergedCumulativeConversions = cumulativeDataA[['date','conversion']].merge(cumulativeDataB[['date','conversion']], left_on='date', right_on='date', how='left', suffixes=['A', 'B'])\n",
    "\n",
    "plt.plot(mergedCumulativeConversions['date'], mergedCumulativeConversions['conversionB']/mergedCumulativeConversions['conversionA']-1, label=\"Относительный прирост конверсии группы B относительно группы A\")\n",
    "\n",
    "plt.title('Относительное изменение кумулятивной конверсии группы В к группе А')\n",
    "plt.axhline(y=0, color='black', linestyle='--')\n",
    "plt.axhline(y=0.1, color='grey', linestyle='--')\n",
    "plt.xticks(rotation=45)\n",
    "\n",
    "plt.show()"
   ]
  },
  {
   "cell_type": "markdown",
   "metadata": {},
   "source": [
    "В начале видим колебание конверсий, но затем конверсия группы В стала расти. И подконец она немного снизилась, но все равно выше коверсии группы А."
   ]
  },
  {
   "cell_type": "markdown",
   "metadata": {},
   "source": [
    "### График количества заказов по пользователям"
   ]
  },
  {
   "cell_type": "code",
   "execution_count": 23,
   "metadata": {},
   "outputs": [
    {
     "data": {
      "text/html": [
       "<div>\n",
       "<style scoped>\n",
       "    .dataframe tbody tr th:only-of-type {\n",
       "        vertical-align: middle;\n",
       "    }\n",
       "\n",
       "    .dataframe tbody tr th {\n",
       "        vertical-align: top;\n",
       "    }\n",
       "\n",
       "    .dataframe thead th {\n",
       "        text-align: right;\n",
       "    }\n",
       "</style>\n",
       "<table border=\"1\" class=\"dataframe\">\n",
       "  <thead>\n",
       "    <tr style=\"text-align: right;\">\n",
       "      <th></th>\n",
       "      <th>visitorId</th>\n",
       "      <th>transactionId</th>\n",
       "    </tr>\n",
       "  </thead>\n",
       "  <tbody>\n",
       "    <tr>\n",
       "      <th>1023</th>\n",
       "      <td>4256040402</td>\n",
       "      <td>11</td>\n",
       "    </tr>\n",
       "    <tr>\n",
       "      <th>591</th>\n",
       "      <td>2458001652</td>\n",
       "      <td>11</td>\n",
       "    </tr>\n",
       "    <tr>\n",
       "      <th>569</th>\n",
       "      <td>2378935119</td>\n",
       "      <td>9</td>\n",
       "    </tr>\n",
       "    <tr>\n",
       "      <th>487</th>\n",
       "      <td>2038680547</td>\n",
       "      <td>8</td>\n",
       "    </tr>\n",
       "    <tr>\n",
       "      <th>44</th>\n",
       "      <td>199603092</td>\n",
       "      <td>5</td>\n",
       "    </tr>\n",
       "    <tr>\n",
       "      <th>...</th>\n",
       "      <td>...</td>\n",
       "      <td>...</td>\n",
       "    </tr>\n",
       "    <tr>\n",
       "      <th>359</th>\n",
       "      <td>1484903144</td>\n",
       "      <td>1</td>\n",
       "    </tr>\n",
       "    <tr>\n",
       "      <th>360</th>\n",
       "      <td>1485964287</td>\n",
       "      <td>1</td>\n",
       "    </tr>\n",
       "    <tr>\n",
       "      <th>361</th>\n",
       "      <td>1494664757</td>\n",
       "      <td>1</td>\n",
       "    </tr>\n",
       "    <tr>\n",
       "      <th>362</th>\n",
       "      <td>1495112755</td>\n",
       "      <td>1</td>\n",
       "    </tr>\n",
       "    <tr>\n",
       "      <th>1030</th>\n",
       "      <td>4283872382</td>\n",
       "      <td>1</td>\n",
       "    </tr>\n",
       "  </tbody>\n",
       "</table>\n",
       "<p>1031 rows × 2 columns</p>\n",
       "</div>"
      ],
      "text/plain": [
       "       visitorId  transactionId\n",
       "1023  4256040402             11\n",
       "591   2458001652             11\n",
       "569   2378935119              9\n",
       "487   2038680547              8\n",
       "44     199603092              5\n",
       "...          ...            ...\n",
       "359   1484903144              1\n",
       "360   1485964287              1\n",
       "361   1494664757              1\n",
       "362   1495112755              1\n",
       "1030  4283872382              1\n",
       "\n",
       "[1031 rows x 2 columns]"
      ]
     },
     "execution_count": 23,
     "metadata": {},
     "output_type": "execute_result"
    }
   ],
   "source": [
    "ordersByUsers = orders.groupby('visitorId', as_index=False).agg({'transactionId': pd.Series.nunique})\n",
    "ordersByUsers.sort_values('transactionId', ascending=False)"
   ]
  },
  {
   "cell_type": "code",
   "execution_count": 24,
   "metadata": {},
   "outputs": [
    {
     "data": {
      "image/png": "[encoded data removed]",
      "text/plain": [
       "<Figure size 1440x432 with 1 Axes>"
      ]
     },
     "metadata": {
      "needs_background": "light"
     },
     "output_type": "display_data"
    }
   ],
   "source": [
    "# строим график количества заказов\n",
    "\n",
    "plt.figure(figsize=(20,6))\n",
    "ordersByUsers['transactionId'].plot(style='o', title = 'Количество заказов по пользователям')\n",
    "#plt.plot(y='кол-во заказов')\n",
    "\n",
    "plt.show()"
   ]
  },
  {
   "cell_type": "markdown",
   "metadata": {},
   "source": [
    "На графике видно, что очень много пользователей делают по одному заказу. Довольно много делают по 2 заказа. А вот 3 и более заказов делают не так много пользователей. Думаю это выбросы, от которых надо будет очистить данные. Отсеять всех пользователей с заказами больше 2."
   ]
  },
  {
   "cell_type": "markdown",
   "metadata": {},
   "source": [
    "### Перцентили количества заказов на пользователя"
   ]
  },
  {
   "cell_type": "code",
   "execution_count": 25,
   "metadata": {},
   "outputs": [
    {
     "data": {
      "text/plain": [
       "array([2., 4.])"
      ]
     },
     "execution_count": 25,
     "metadata": {},
     "output_type": "execute_result"
    }
   ],
   "source": [
    "np.percentile(ordersByUsers['transactionId'], [95, 99])"
   ]
  },
  {
   "cell_type": "markdown",
   "metadata": {},
   "source": [
    "Посмотрев перцентили, определили, что 1% делает более 4 заказов, 5% более 2. Это подтверждает предположение сделанное по графику. Отсеем всех покупателей с покупками более 2 раз. "
   ]
  },
  {
   "cell_type": "markdown",
   "metadata": {},
   "source": [
    "### График стоимости заказов"
   ]
  },
  {
   "cell_type": "code",
   "execution_count": 26,
   "metadata": {},
   "outputs": [
    {
     "data": {
      "image/png": "[encoded data removed]",
      "text/plain": [
       "<Figure size 1440x720 with 1 Axes>"
      ]
     },
     "metadata": {
      "needs_background": "light"
     },
     "output_type": "display_data"
    }
   ],
   "source": [
    "# построим график по стоимости заказов\n",
    "plt.figure(figsize=(20,10))\n",
    "orders['revenue'].plot(style='o', title = 'Стоимость заказов')\n",
    "plt.show()"
   ]
  },
  {
   "cell_type": "code",
   "execution_count": 27,
   "metadata": {},
   "outputs": [
    {
     "data": {
      "text/plain": [
       "584          50\n",
       "1091         50\n",
       "756          50\n",
       "459          50\n",
       "1013         60\n",
       "         ...   \n",
       "744       86620\n",
       "1136      92550\n",
       "858       93940\n",
       "1196     202740\n",
       "425     1294500\n",
       "Name: revenue, Length: 1197, dtype: int64"
      ]
     },
     "execution_count": 27,
     "metadata": {},
     "output_type": "execute_result"
    }
   ],
   "source": [
    "orders['revenue'].sort_values()"
   ]
  },
  {
   "cell_type": "markdown",
   "metadata": {},
   "source": [
    "На графике видно, что есть заказ на очень большую сумму(1 294 500 руб). Из-за него на графике плохо видно какие выбросы еще есть. Надо очистить данные от этих выбросов."
   ]
  },
  {
   "cell_type": "markdown",
   "metadata": {},
   "source": [
    "### Перцентили стоимости заказов"
   ]
  },
  {
   "cell_type": "code",
   "execution_count": 28,
   "metadata": {},
   "outputs": [
    {
     "data": {
      "text/plain": [
       "array([28000. , 58233.2])"
      ]
     },
     "execution_count": 28,
     "metadata": {},
     "output_type": "execute_result"
    }
   ],
   "source": [
    "np.percentile(orders['revenue'], [95, 99])"
   ]
  },
  {
   "cell_type": "markdown",
   "metadata": {},
   "source": [
    "1% делает заказов на сумму более 58233 и 5% на сумму более 28000. Можно откинуть все заказы более 28000."
   ]
  },
  {
   "cell_type": "code",
   "execution_count": 29,
   "metadata": {},
   "outputs": [],
   "source": [
    "# уберем заказы суммой более 28000\n",
    "orders_clear = orders[orders['revenue']<=np.percentile(orders['revenue'], [95, 99])[0]]"
   ]
  },
  {
   "cell_type": "code",
   "execution_count": 30,
   "metadata": {},
   "outputs": [
    {
     "data": {
      "image/png": "[encoded data removed]",
      "text/plain": [
       "<Figure size 1440x720 with 1 Axes>"
      ]
     },
     "metadata": {
      "needs_background": "light"
     },
     "output_type": "display_data"
    }
   ],
   "source": [
    "# посмотрим на очищенный график\n",
    "plt.figure(figsize=(20,10))\n",
    "orders_clear['revenue'].plot(style='o', title = ' Стоимость заказов суммой меньше или равной 28000')\n",
    "plt.show()"
   ]
  },
  {
   "cell_type": "markdown",
   "metadata": {},
   "source": [
    "### Статистическая значимость различий в конверсии"
   ]
  },
  {
   "cell_type": "markdown",
   "metadata": {},
   "source": [
    "Посчитаем статистическую значимость различий в конверсии и среднем чеке между группами по «сырым» данным — без удаления аномальных пользователей.\n",
    "Сформулируем гипотезы. Нулевая: различий в конверсии между группами нет. Альтернативная: различия в конверсии между группами есть."
   ]
  },
  {
   "cell_type": "code",
   "execution_count": 31,
   "metadata": {},
   "outputs": [
    {
     "name": "stdout",
     "output_type": "stream",
     "text": [
      "P-value 0.015\n",
      "Конверсия группы В относительно конверсии группы А 0.144\n"
     ]
    }
   ],
   "source": [
    "# Создадим переменные ordersByUsersA и ordersByUsersB со столбцами ['visitorId', 'transactionId']. \n",
    "# В них для пользователей, которые заказывали хотя бы 1 раз, укажем число совершённых заказов\n",
    "\n",
    "ordersByUsersA = (\n",
    "    orders[orders['group'] == 'A']\n",
    "    .groupby('visitorId', as_index=False)\n",
    "    .agg({'transactionId': pd.Series.nunique})\n",
    ")\n",
    "ordersByUsersA.columns = ['visitorId', 'transactionId']\n",
    "\n",
    "ordersByUsersB = (\n",
    "    orders[orders['group'] == 'B']\n",
    "    .groupby('visitorId', as_index=False)\n",
    "    .agg({'transactionId': pd.Series.nunique})\n",
    ")\n",
    "ordersByUsersB.columns = ['visitorId', 'transactionId']\n",
    "\n",
    "# собираем информацию о визитах по группам\n",
    "visitorsADaily = cumulativeData[cumulativeData['group'] == 'A'][['date', 'visitors']]\n",
    "visitorsADaily.columns = ['date', 'visitorsPerDateA']\n",
    "\n",
    "visitorsBDaily = cumulativeData[cumulativeData['group'] == 'B'][['date', 'visitors']]\n",
    "visitorsBDaily.columns = ['date', 'visitorsPerDateB']\n",
    "\n",
    "# Объявим переменные sampleA и sampleB, в которых пользователям из разных групп будет соответствовать количество \n",
    "#заказов. Тем, кто ничего не заказал, будут соответствовать нули.\n",
    "\n",
    "sampleA = pd.concat([ordersByUsersA['transactionId'],pd.Series(0, index=np.arange(visitorsADaily['visitorsPerDateA'].sum() - len(ordersByUsersA['visitorId'])), name='visitorId')],axis=0)\n",
    "\n",
    "sampleB = pd.concat([ordersByUsersB['transactionId'],pd.Series(0, index=np.arange(visitorsBDaily['visitorsPerDateB'].sum() - len(ordersByUsersB['visitorId'])), name='visitorId')],axis=0)\n",
    "\n",
    "print('P-value', \"{0:.3f}\".format(stats.mannwhitneyu(sampleA, sampleB)[1]))\n",
    "\n",
    "print('Конверсия группы В относительно конверсии группы А',\"{0:.3f}\".format(sampleB.mean() / sampleA.mean() - 1))"
   ]
  },
  {
   "cell_type": "markdown",
   "metadata": {},
   "source": [
    "Вывод: По «сырым» данным в конверсии групп A и B есть различия.\n",
    "\n",
    "Первое число — p-value = 0.015 меньше 0.05. Значит, нулевую гипотезу о том, что статистически значимых различий в конверсии между группами нет, отвергаем. Относительный выигрыш группы B равен 14.4% — второе число в выводе.\n"
   ]
  },
  {
   "cell_type": "markdown",
   "metadata": {},
   "source": [
    "### Статистическая значимость различий в среднем чеке заказа"
   ]
  },
  {
   "cell_type": "markdown",
   "metadata": {},
   "source": [
    "Теперь проверим статистическую значимость различий в среднем чеке между сегментами. Нулевая гипотеза: различий в среднем чеке между группами нет. Альтернативная гипотеза: различия в среднем чеке между группами есть."
   ]
  },
  {
   "cell_type": "code",
   "execution_count": 32,
   "metadata": {},
   "outputs": [
    {
     "name": "stdout",
     "output_type": "stream",
     "text": [
      "P-value 0.729\n",
      "Различие между средними чеками группы В относительно группы А 0.259\n"
     ]
    }
   ],
   "source": [
    "print('P-value','{0:.3f}'.format(stats.mannwhitneyu(orders[orders['group']=='A']['revenue'], orders[orders['group']=='B']['revenue'])[1]))\n",
    "print('Различие между средними чеками группы В относительно группы А','{0:.3f}'.format(orders[orders['group']=='B']['revenue'].mean()/orders[orders['group']=='A']['revenue'].mean()-1))\n",
    "        "
   ]
  },
  {
   "cell_type": "markdown",
   "metadata": {},
   "source": [
    "P-value значительно больше 0.05. Значит, причин отвергать нулевую гипотезу и считать, что в среднем чеке есть различия, нет. Cредний чек группы B больше среднего чека группы A на 25.9%. "
   ]
  },
  {
   "cell_type": "markdown",
   "metadata": {},
   "source": [
    "### Статистическая значимость различий в конверсии по \"очищенным\" данным"
   ]
  },
  {
   "cell_type": "markdown",
   "metadata": {},
   "source": [
    "Очистим данные от аномальных. Отсеем всех пользователей, кто сделал более 2 заказов, и все заказы, стоимостью более 28тыс."
   ]
  },
  {
   "cell_type": "code",
   "execution_count": 33,
   "metadata": {},
   "outputs": [
    {
     "name": "stdout",
     "output_type": "stream",
     "text": [
      "Количество аномальных пользователей 74\n"
     ]
    }
   ],
   "source": [
    "usersWithManyOrders = pd.concat(\n",
    "    [\n",
    "        ordersByUsersA[ordersByUsersA['transactionId'] > np.percentile(ordersByUsers['transactionId'], [95, 99])[0]]['visitorId'],\n",
    "        ordersByUsersB[ordersByUsersB['transactionId'] > np.percentile(ordersByUsers['transactionId'], [95, 99])[0]]['visitorId'],\n",
    "    ],\n",
    "    axis=0,\n",
    ")\n",
    "usersWithExpensiveOrders = orders[orders['revenue'] > np.percentile(orders['revenue'], [95, 99])[0]]['visitorId']\n",
    "abnormalUsers = (\n",
    "    pd.concat([usersWithManyOrders, usersWithExpensiveOrders], axis=0)\n",
    "    .drop_duplicates()\n",
    "    .sort_values()\n",
    ")\n",
    "print('Количество аномальных пользователей',abnormalUsers.shape[0])"
   ]
  },
  {
   "cell_type": "markdown",
   "metadata": {},
   "source": [
    "Обнаружили 74 аномальных пользователя. Очистим данные и снова проведем тесты. Сформулируем гипотезы. Нулевая: различий в конверсии между группами нет. Альтернативная: различия в конверсии между группами есть."
   ]
  },
  {
   "cell_type": "code",
   "execution_count": 34,
   "metadata": {},
   "outputs": [],
   "source": [
    "sampleAFiltered = pd.concat(\n",
    "    [\n",
    "        ordersByUsersA[\n",
    "            np.logical_not(ordersByUsersA['visitorId'].isin(abnormalUsers))\n",
    "        ]['transactionId'],\n",
    "        pd.Series(\n",
    "            0,\n",
    "            index=np.arange(\n",
    "                visitorsADaily['visitorsPerDateA'].sum() - len(ordersByUsersA['visitorId'])\n",
    "            ),\n",
    "            name='visitorId',\n",
    "        ),\n",
    "    ],\n",
    "    axis=0,\n",
    ")\n",
    "\n",
    "sampleBFiltered = pd.concat(\n",
    "    [\n",
    "        ordersByUsersB[\n",
    "            np.logical_not(ordersByUsersB['visitorId'].isin(abnormalUsers))\n",
    "        ]['transactionId'],\n",
    "        pd.Series(\n",
    "            0,\n",
    "            index=np.arange(\n",
    "                visitorsBDaily['visitorsPerDateB'].sum() - len(ordersByUsersB['visitorId'])\n",
    "            ),\n",
    "            name='visitorId',\n",
    "        ),\n",
    "    ],\n",
    "    axis=0,\n",
    ") "
   ]
  },
  {
   "cell_type": "code",
   "execution_count": 35,
   "metadata": {},
   "outputs": [
    {
     "name": "stdout",
     "output_type": "stream",
     "text": [
      "P-value 0.011\n",
      "Конверсия 0.178\n"
     ]
    }
   ],
   "source": [
    "print('P-value','{0:.3f}'.format(stats.mannwhitneyu(sampleAFiltered, sampleBFiltered)[1]))\n",
    "print('Конверсия','{0:.3f}'.format(sampleBFiltered.mean()/sampleAFiltered.mean()-1))"
   ]
  },
  {
   "cell_type": "markdown",
   "metadata": {},
   "source": [
    "И снова тот же вывод: По «очищенным» данным в конверсии групп A и B есть различия.\n",
    "\n",
    "Первое число — p-value = 0.011 меньше 0.05. Значит, нулевую гипотезу о том, что статистически значимых различий в конверсии между группами нет, отвергаем. Относительный выигрыш группы B стал еще больше 17.8% — второе число в выводе."
   ]
  },
  {
   "cell_type": "markdown",
   "metadata": {},
   "source": [
    "### Статистическая значимость различий в среднем чеке заказа по \"очищенным\" данным"
   ]
  },
  {
   "cell_type": "markdown",
   "metadata": {},
   "source": [
    "Теперь проверим статистическую значимость различий в среднем чеке между сегментами по \"очищенным\" данным. Нулевая гипотеза: различий в среднем чеке между группами нет. Альтернативная гипотеза: различия в среднем чеке между группами есть."
   ]
  },
  {
   "cell_type": "code",
   "execution_count": 36,
   "metadata": {},
   "outputs": [
    {
     "name": "stdout",
     "output_type": "stream",
     "text": [
      "P-value 0.738\n",
      "Различие между средними чеками группы В относительно группы А -0.020\n"
     ]
    }
   ],
   "source": [
    "print(\n",
    "    'P-value',\n",
    "    '{0:.3f}'.format(\n",
    "        stats.mannwhitneyu(\n",
    "            orders[\n",
    "                np.logical_and(\n",
    "                    orders['group'] == 'A',\n",
    "                    np.logical_not(orders['visitorId'].isin(abnormalUsers)),\n",
    "                )\n",
    "            ]['revenue'],\n",
    "            orders[\n",
    "                np.logical_and(\n",
    "                    orders['group'] == 'B',\n",
    "                    np.logical_not(orders['visitorId'].isin(abnormalUsers)),\n",
    "                )\n",
    "            ]['revenue'],\n",
    "        )[1]\n",
    "    )\n",
    ")\n",
    "\n",
    "print(\n",
    "    'Различие между средними чеками группы В относительно группы А',\n",
    "    \"{0:.3f}\".format(\n",
    "        orders[\n",
    "            np.logical_and(\n",
    "                orders['group'] == 'B',\n",
    "                np.logical_not(orders['visitorId'].isin(abnormalUsers)),\n",
    "            )\n",
    "        ]['revenue'].mean()\n",
    "        / orders[\n",
    "            np.logical_and(\n",
    "                orders['group'] == 'A',\n",
    "                np.logical_not(orders['visitorId'].isin(abnormalUsers)),\n",
    "            )\n",
    "        ]['revenue'].mean()\n",
    "        - 1\n",
    "    )\n",
    ")"
   ]
  },
  {
   "cell_type": "markdown",
   "metadata": {},
   "source": [
    "P-value практически не изменился и остался значительно больше 0.05. Значит, причин отвергать нулевую гипотезу и считать, что в среднем чеке есть различия, нет. А вот средний чек группы B стал меньше среднего чека группы A на 2%. "
   ]
  },
  {
   "cell_type": "markdown",
   "metadata": {},
   "source": [
    "### Вывод"
   ]
  },
  {
   "cell_type": "markdown",
   "metadata": {},
   "source": [
    "Какие выводы по тесту можем сделать?\n",
    "\n",
    "Имеющиеся факты:\n",
    "\n",
    "- Есть статистически значимое различие по конверсии между группами и по «сырым», и по данным после фильтрации аномалий;\n",
    "- Нет статистически значимого различия по среднему чеку между группами ни по «сырым», ни по данным после фильтрации аномалий;\n",
    "- График различия конверсии между группами сообщает, что результаты группы B лучше группы A;\n",
    "- График различия среднего чека говорит о том, что результаты группы B значительно лучше группы А;\n",
    "\n",
    "Исходя из обнаруженных фактов, тест следует остановить и признать его успешным. По всем тестам и графикам группа В показывает себя лучше, чем группа А."
   ]
  }
 ],
 "metadata": {
  "ExecuteTimeLog": [
   {
    "duration": 1163,
    "start_time": "2022-05-27T06:47:15.022Z"
   },
   {
    "duration": 194,
    "start_time": "2022-05-27T06:47:16.187Z"
   },
   {
    "duration": 20,
    "start_time": "2022-05-27T06:47:16.383Z"
   },
   {
    "duration": 12,
    "start_time": "2022-05-27T06:47:16.405Z"
   },
   {
    "duration": 12,
    "start_time": "2022-05-27T06:47:16.419Z"
   },
   {
    "duration": 30,
    "start_time": "2022-05-27T06:47:16.433Z"
   },
   {
    "duration": 37,
    "start_time": "2022-05-27T06:47:16.465Z"
   },
   {
    "duration": 13,
    "start_time": "2022-05-27T06:47:16.504Z"
   },
   {
    "duration": 12,
    "start_time": "2022-05-27T06:47:16.520Z"
   },
   {
    "duration": 279,
    "start_time": "2022-05-27T06:47:16.534Z"
   },
   {
    "duration": 12,
    "start_time": "2022-05-27T06:47:16.815Z"
   },
   {
    "duration": 307,
    "start_time": "2022-05-27T06:47:16.828Z"
   },
   {
    "duration": 277,
    "start_time": "2022-05-27T06:47:17.137Z"
   },
   {
    "duration": 291,
    "start_time": "2022-05-27T06:47:17.416Z"
   },
   {
    "duration": 204,
    "start_time": "2022-05-27T06:47:17.708Z"
   },
   {
    "duration": 281,
    "start_time": "2022-05-27T06:47:17.914Z"
   },
   {
    "duration": 136,
    "start_time": "2022-05-27T06:47:18.197Z"
   },
   {
    "duration": 151,
    "start_time": "2022-05-27T06:47:18.335Z"
   },
   {
    "duration": 5,
    "start_time": "2022-05-27T06:47:18.488Z"
   },
   {
    "duration": 186,
    "start_time": "2022-05-27T06:47:18.495Z"
   },
   {
    "duration": 7,
    "start_time": "2022-05-27T06:47:18.684Z"
   },
   {
    "duration": 8,
    "start_time": "2022-05-27T06:47:18.693Z"
   },
   {
    "duration": 5,
    "start_time": "2022-05-27T06:47:18.703Z"
   },
   {
    "duration": 206,
    "start_time": "2022-05-27T06:47:18.709Z"
   },
   {
    "duration": 548,
    "start_time": "2022-05-27T06:47:18.917Z"
   },
   {
    "duration": 19,
    "start_time": "2022-05-27T06:47:19.466Z"
   },
   {
    "duration": 8,
    "start_time": "2022-05-27T06:47:19.486Z"
   },
   {
    "duration": 15,
    "start_time": "2022-05-27T06:47:19.497Z"
   },
   {
    "duration": 431,
    "start_time": "2022-05-27T06:47:19.513Z"
   },
   {
    "duration": 14,
    "start_time": "2022-05-27T06:47:19.945Z"
   },
   {
    "duration": 1113,
    "start_time": "2022-05-27T09:34:44.465Z"
   },
   {
    "duration": 180,
    "start_time": "2022-05-27T09:34:45.580Z"
   },
   {
    "duration": 18,
    "start_time": "2022-05-27T09:34:45.762Z"
   },
   {
    "duration": 11,
    "start_time": "2022-05-27T09:34:45.782Z"
   },
   {
    "duration": 12,
    "start_time": "2022-05-27T09:34:45.795Z"
   },
   {
    "duration": 21,
    "start_time": "2022-05-27T09:34:45.808Z"
   },
   {
    "duration": 27,
    "start_time": "2022-05-27T09:34:45.831Z"
   },
   {
    "duration": 22,
    "start_time": "2022-05-27T09:34:45.860Z"
   },
   {
    "duration": 32,
    "start_time": "2022-05-27T09:34:45.884Z"
   },
   {
    "duration": 278,
    "start_time": "2022-05-27T09:34:45.919Z"
   },
   {
    "duration": 15,
    "start_time": "2022-05-27T09:34:46.199Z"
   },
   {
    "duration": 360,
    "start_time": "2022-05-27T09:34:46.215Z"
   },
   {
    "duration": 269,
    "start_time": "2022-05-27T09:34:46.577Z"
   },
   {
    "duration": 285,
    "start_time": "2022-05-27T09:34:46.847Z"
   },
   {
    "duration": 228,
    "start_time": "2022-05-27T09:34:47.134Z"
   },
   {
    "duration": 287,
    "start_time": "2022-05-27T09:34:47.363Z"
   },
   {
    "duration": 154,
    "start_time": "2022-05-27T09:34:47.652Z"
   },
   {
    "duration": 166,
    "start_time": "2022-05-27T09:34:47.808Z"
   },
   {
    "duration": 5,
    "start_time": "2022-05-27T09:34:47.976Z"
   },
   {
    "duration": 217,
    "start_time": "2022-05-27T09:34:47.983Z"
   },
   {
    "duration": 15,
    "start_time": "2022-05-27T09:34:48.202Z"
   },
   {
    "duration": 26,
    "start_time": "2022-05-27T09:34:48.219Z"
   },
   {
    "duration": 35,
    "start_time": "2022-05-27T09:34:48.246Z"
   },
   {
    "duration": 237,
    "start_time": "2022-05-27T09:34:48.282Z"
   },
   {
    "duration": 559,
    "start_time": "2022-05-27T09:34:48.521Z"
   },
   {
    "duration": 11,
    "start_time": "2022-05-27T09:34:49.081Z"
   },
   {
    "duration": 15,
    "start_time": "2022-05-27T09:34:49.093Z"
   },
   {
    "duration": 28,
    "start_time": "2022-05-27T09:34:49.111Z"
   },
   {
    "duration": 420,
    "start_time": "2022-05-27T09:34:49.141Z"
   },
   {
    "duration": 14,
    "start_time": "2022-05-27T09:34:49.562Z"
   },
   {
    "duration": 66,
    "start_time": "2022-05-27T11:06:21.323Z"
   },
   {
    "duration": 1443,
    "start_time": "2022-05-27T11:06:34.172Z"
   },
   {
    "duration": 232,
    "start_time": "2022-05-27T11:06:35.620Z"
   },
   {
    "duration": 24,
    "start_time": "2022-05-27T11:06:37.219Z"
   },
   {
    "duration": 625,
    "start_time": "2022-05-27T11:30:07.273Z"
   },
   {
    "duration": 553,
    "start_time": "2022-05-27T11:31:01.393Z"
   },
   {
    "duration": 475,
    "start_time": "2022-05-27T11:31:36.011Z"
   },
   {
    "duration": 1077,
    "start_time": "2022-05-27T11:32:58.546Z"
   },
   {
    "duration": 76,
    "start_time": "2022-05-27T11:32:59.625Z"
   },
   {
    "duration": 21,
    "start_time": "2022-05-27T11:32:59.704Z"
   },
   {
    "duration": 12,
    "start_time": "2022-05-27T11:32:59.727Z"
   },
   {
    "duration": 11,
    "start_time": "2022-05-27T11:32:59.741Z"
   },
   {
    "duration": 223,
    "start_time": "2022-05-27T11:32:59.754Z"
   },
   {
    "duration": 26,
    "start_time": "2022-05-27T11:32:59.979Z"
   },
   {
    "duration": 18,
    "start_time": "2022-05-27T11:33:00.007Z"
   },
   {
    "duration": 16,
    "start_time": "2022-05-27T11:33:00.027Z"
   },
   {
    "duration": 17,
    "start_time": "2022-05-27T11:33:00.045Z"
   },
   {
    "duration": 306,
    "start_time": "2022-05-27T11:33:00.064Z"
   },
   {
    "duration": 12,
    "start_time": "2022-05-27T11:33:00.372Z"
   },
   {
    "duration": 389,
    "start_time": "2022-05-27T11:33:00.385Z"
   },
   {
    "duration": 196,
    "start_time": "2022-05-27T11:33:00.776Z"
   },
   {
    "duration": 364,
    "start_time": "2022-05-27T11:33:00.974Z"
   },
   {
    "duration": 241,
    "start_time": "2022-05-27T11:33:01.341Z"
   },
   {
    "duration": 326,
    "start_time": "2022-05-27T11:33:01.583Z"
   },
   {
    "duration": 161,
    "start_time": "2022-05-27T11:33:01.910Z"
   },
   {
    "duration": 157,
    "start_time": "2022-05-27T11:33:02.072Z"
   },
   {
    "duration": 6,
    "start_time": "2022-05-27T11:33:02.230Z"
   },
   {
    "duration": 225,
    "start_time": "2022-05-27T11:33:02.237Z"
   },
   {
    "duration": 7,
    "start_time": "2022-05-27T11:33:02.464Z"
   },
   {
    "duration": 15,
    "start_time": "2022-05-27T11:33:02.473Z"
   },
   {
    "duration": 15,
    "start_time": "2022-05-27T11:33:02.490Z"
   },
   {
    "duration": 222,
    "start_time": "2022-05-27T11:33:02.506Z"
   },
   {
    "duration": 646,
    "start_time": "2022-05-27T11:33:02.730Z"
   },
   {
    "duration": 25,
    "start_time": "2022-05-27T11:33:03.378Z"
   },
   {
    "duration": 9,
    "start_time": "2022-05-27T11:33:03.406Z"
   },
   {
    "duration": 31,
    "start_time": "2022-05-27T11:33:03.417Z"
   },
   {
    "duration": 470,
    "start_time": "2022-05-27T11:33:03.450Z"
   },
   {
    "duration": 18,
    "start_time": "2022-05-27T11:33:03.922Z"
   },
   {
    "duration": 9,
    "start_time": "2022-05-27T11:43:39.949Z"
   },
   {
    "duration": 7,
    "start_time": "2022-05-27T11:43:47.274Z"
   },
   {
    "duration": 8,
    "start_time": "2022-05-27T11:44:10.939Z"
   },
   {
    "duration": 14,
    "start_time": "2022-05-27T11:47:01.446Z"
   },
   {
    "duration": 109,
    "start_time": "2022-05-27T11:52:26.521Z"
   },
   {
    "duration": 9,
    "start_time": "2022-05-27T11:52:34.396Z"
   },
   {
    "duration": 10,
    "start_time": "2022-05-27T11:56:53.311Z"
   },
   {
    "duration": 289,
    "start_time": "2022-05-27T11:57:56.359Z"
   },
   {
    "duration": 5,
    "start_time": "2022-05-27T12:01:06.090Z"
   },
   {
    "duration": 202,
    "start_time": "2022-05-27T12:01:15.124Z"
   },
   {
    "duration": 923,
    "start_time": "2022-05-27T12:03:20.976Z"
   },
   {
    "duration": 724,
    "start_time": "2022-05-27T12:03:53.822Z"
   },
   {
    "duration": 809,
    "start_time": "2022-05-27T12:04:18.223Z"
   },
   {
    "duration": 12,
    "start_time": "2022-05-27T12:08:49.265Z"
   },
   {
    "duration": 34,
    "start_time": "2022-05-27T12:14:12.045Z"
   },
   {
    "duration": 36,
    "start_time": "2022-05-27T12:14:39.565Z"
   },
   {
    "duration": 43,
    "start_time": "2022-05-27T12:15:46.754Z"
   },
   {
    "duration": 45,
    "start_time": "2022-05-27T12:16:08.523Z"
   },
   {
    "duration": 0,
    "start_time": "2022-05-27T12:16:08.570Z"
   },
   {
    "duration": 18,
    "start_time": "2022-05-27T12:16:08.575Z"
   },
   {
    "duration": 530,
    "start_time": "2022-05-27T12:16:08.596Z"
   },
   {
    "duration": 16,
    "start_time": "2022-05-27T12:16:09.127Z"
   },
   {
    "duration": 1212,
    "start_time": "2022-05-27T12:16:42.686Z"
   },
   {
    "duration": 80,
    "start_time": "2022-05-27T12:16:43.900Z"
   },
   {
    "duration": 25,
    "start_time": "2022-05-27T12:16:43.982Z"
   },
   {
    "duration": 19,
    "start_time": "2022-05-27T12:16:44.013Z"
   },
   {
    "duration": 14,
    "start_time": "2022-05-27T12:16:44.034Z"
   },
   {
    "duration": 217,
    "start_time": "2022-05-27T12:16:44.050Z"
   },
   {
    "duration": 21,
    "start_time": "2022-05-27T12:16:44.269Z"
   },
   {
    "duration": 30,
    "start_time": "2022-05-27T12:16:44.302Z"
   },
   {
    "duration": 13,
    "start_time": "2022-05-27T12:16:44.334Z"
   },
   {
    "duration": 7,
    "start_time": "2022-05-27T12:16:44.350Z"
   },
   {
    "duration": 6,
    "start_time": "2022-05-27T12:16:44.358Z"
   },
   {
    "duration": 9,
    "start_time": "2022-05-27T12:16:44.366Z"
   },
   {
    "duration": 42,
    "start_time": "2022-05-27T12:16:44.377Z"
   },
   {
    "duration": 10,
    "start_time": "2022-05-27T12:16:44.420Z"
   },
   {
    "duration": 292,
    "start_time": "2022-05-27T12:16:44.433Z"
   },
   {
    "duration": 14,
    "start_time": "2022-05-27T12:16:44.727Z"
   },
   {
    "duration": 11,
    "start_time": "2022-05-27T12:16:44.742Z"
   },
   {
    "duration": 430,
    "start_time": "2022-05-27T12:16:44.755Z"
   },
   {
    "duration": 229,
    "start_time": "2022-05-27T12:16:45.187Z"
   },
   {
    "duration": 306,
    "start_time": "2022-05-27T12:16:45.420Z"
   },
   {
    "duration": 236,
    "start_time": "2022-05-27T12:16:45.728Z"
   },
   {
    "duration": 373,
    "start_time": "2022-05-27T12:16:45.966Z"
   },
   {
    "duration": 157,
    "start_time": "2022-05-27T12:16:46.341Z"
   },
   {
    "duration": 187,
    "start_time": "2022-05-27T12:16:46.502Z"
   },
   {
    "duration": 6,
    "start_time": "2022-05-27T12:16:46.691Z"
   },
   {
    "duration": 260,
    "start_time": "2022-05-27T12:16:46.698Z"
   },
   {
    "duration": 6,
    "start_time": "2022-05-27T12:16:46.960Z"
   },
   {
    "duration": 6,
    "start_time": "2022-05-27T12:16:46.970Z"
   },
   {
    "duration": 27,
    "start_time": "2022-05-27T12:16:46.978Z"
   },
   {
    "duration": 261,
    "start_time": "2022-05-27T12:16:47.007Z"
   },
   {
    "duration": 737,
    "start_time": "2022-05-27T12:16:47.270Z"
   },
   {
    "duration": 13,
    "start_time": "2022-05-27T12:16:48.010Z"
   },
   {
    "duration": 0,
    "start_time": "2022-05-27T12:16:48.025Z"
   },
   {
    "duration": 0,
    "start_time": "2022-05-27T12:16:48.027Z"
   },
   {
    "duration": 0,
    "start_time": "2022-05-27T12:16:48.028Z"
   },
   {
    "duration": 0,
    "start_time": "2022-05-27T12:16:48.029Z"
   },
   {
    "duration": 14,
    "start_time": "2022-05-27T12:18:00.236Z"
   },
   {
    "duration": 2539,
    "start_time": "2022-05-27T12:25:05.388Z"
   },
   {
    "duration": 81,
    "start_time": "2022-05-27T12:25:07.929Z"
   },
   {
    "duration": 32,
    "start_time": "2022-05-27T12:25:08.013Z"
   },
   {
    "duration": 13,
    "start_time": "2022-05-27T12:25:08.047Z"
   },
   {
    "duration": 13,
    "start_time": "2022-05-27T12:25:08.063Z"
   },
   {
    "duration": 268,
    "start_time": "2022-05-27T12:25:08.077Z"
   },
   {
    "duration": 26,
    "start_time": "2022-05-27T12:25:08.347Z"
   },
   {
    "duration": 51,
    "start_time": "2022-05-27T12:25:08.375Z"
   },
   {
    "duration": 20,
    "start_time": "2022-05-27T12:25:08.428Z"
   },
   {
    "duration": 14,
    "start_time": "2022-05-27T12:25:08.452Z"
   },
   {
    "duration": 14,
    "start_time": "2022-05-27T12:25:08.468Z"
   },
   {
    "duration": 22,
    "start_time": "2022-05-27T12:25:08.484Z"
   },
   {
    "duration": 38,
    "start_time": "2022-05-27T12:25:08.508Z"
   },
   {
    "duration": 13,
    "start_time": "2022-05-27T12:25:08.550Z"
   },
   {
    "duration": 327,
    "start_time": "2022-05-27T12:25:08.566Z"
   },
   {
    "duration": 29,
    "start_time": "2022-05-27T12:25:08.895Z"
   },
   {
    "duration": 11,
    "start_time": "2022-05-27T12:25:08.925Z"
   },
   {
    "duration": 437,
    "start_time": "2022-05-27T12:25:08.938Z"
   },
   {
    "duration": 222,
    "start_time": "2022-05-27T12:25:09.377Z"
   },
   {
    "duration": 321,
    "start_time": "2022-05-27T12:25:09.600Z"
   },
   {
    "duration": 263,
    "start_time": "2022-05-27T12:25:09.923Z"
   },
   {
    "duration": 354,
    "start_time": "2022-05-27T12:25:10.188Z"
   },
   {
    "duration": 183,
    "start_time": "2022-05-27T12:25:10.544Z"
   },
   {
    "duration": 214,
    "start_time": "2022-05-27T12:25:10.729Z"
   },
   {
    "duration": 6,
    "start_time": "2022-05-27T12:25:10.945Z"
   },
   {
    "duration": 314,
    "start_time": "2022-05-27T12:25:10.954Z"
   },
   {
    "duration": 8,
    "start_time": "2022-05-27T12:25:11.270Z"
   },
   {
    "duration": 34,
    "start_time": "2022-05-27T12:25:11.279Z"
   },
   {
    "duration": 8,
    "start_time": "2022-05-27T12:25:11.315Z"
   },
   {
    "duration": 259,
    "start_time": "2022-05-27T12:25:11.325Z"
   },
   {
    "duration": 939,
    "start_time": "2022-05-27T12:25:11.586Z"
   },
   {
    "duration": 14,
    "start_time": "2022-05-27T12:25:12.526Z"
   },
   {
    "duration": 12,
    "start_time": "2022-05-27T12:25:12.541Z"
   },
   {
    "duration": 17,
    "start_time": "2022-05-27T12:25:12.555Z"
   },
   {
    "duration": 568,
    "start_time": "2022-05-27T12:25:12.602Z"
   },
   {
    "duration": 16,
    "start_time": "2022-05-27T12:25:13.172Z"
   },
   {
    "duration": 206,
    "start_time": "2022-05-27T12:26:40.186Z"
   },
   {
    "duration": 291,
    "start_time": "2022-05-27T12:26:53.995Z"
   },
   {
    "duration": 20,
    "start_time": "2022-05-27T12:29:21.304Z"
   },
   {
    "duration": 17,
    "start_time": "2022-05-27T12:29:40.625Z"
   },
   {
    "duration": 27,
    "start_time": "2022-05-27T12:31:55.691Z"
   },
   {
    "duration": 36,
    "start_time": "2022-05-27T12:33:34.431Z"
   },
   {
    "duration": 1275,
    "start_time": "2022-05-27T12:34:52.679Z"
   },
   {
    "duration": 86,
    "start_time": "2022-05-27T12:34:53.956Z"
   },
   {
    "duration": 24,
    "start_time": "2022-05-27T12:34:54.044Z"
   },
   {
    "duration": 16,
    "start_time": "2022-05-27T12:34:54.070Z"
   },
   {
    "duration": 24,
    "start_time": "2022-05-27T12:34:54.088Z"
   },
   {
    "duration": 241,
    "start_time": "2022-05-27T12:34:54.114Z"
   },
   {
    "duration": 21,
    "start_time": "2022-05-27T12:34:54.356Z"
   },
   {
    "duration": 47,
    "start_time": "2022-05-27T12:34:54.379Z"
   },
   {
    "duration": 24,
    "start_time": "2022-05-27T12:34:54.428Z"
   },
   {
    "duration": 12,
    "start_time": "2022-05-27T12:34:54.455Z"
   },
   {
    "duration": 9,
    "start_time": "2022-05-27T12:34:54.470Z"
   },
   {
    "duration": 10,
    "start_time": "2022-05-27T12:34:54.480Z"
   },
   {
    "duration": 29,
    "start_time": "2022-05-27T12:34:54.492Z"
   },
   {
    "duration": 13,
    "start_time": "2022-05-27T12:34:54.523Z"
   },
   {
    "duration": 313,
    "start_time": "2022-05-27T12:34:54.538Z"
   },
   {
    "duration": 12,
    "start_time": "2022-05-27T12:34:54.853Z"
   },
   {
    "duration": 12,
    "start_time": "2022-05-27T12:34:54.867Z"
   },
   {
    "duration": 423,
    "start_time": "2022-05-27T12:34:54.881Z"
   },
   {
    "duration": 214,
    "start_time": "2022-05-27T12:34:55.306Z"
   },
   {
    "duration": 315,
    "start_time": "2022-05-27T12:34:55.522Z"
   },
   {
    "duration": 236,
    "start_time": "2022-05-27T12:34:55.839Z"
   },
   {
    "duration": 347,
    "start_time": "2022-05-27T12:34:56.077Z"
   },
   {
    "duration": 143,
    "start_time": "2022-05-27T12:34:56.426Z"
   },
   {
    "duration": 177,
    "start_time": "2022-05-27T12:34:56.571Z"
   },
   {
    "duration": 6,
    "start_time": "2022-05-27T12:34:56.750Z"
   },
   {
    "duration": 221,
    "start_time": "2022-05-27T12:34:56.758Z"
   },
   {
    "duration": 6,
    "start_time": "2022-05-27T12:34:56.981Z"
   },
   {
    "duration": 15,
    "start_time": "2022-05-27T12:34:56.990Z"
   },
   {
    "duration": 8,
    "start_time": "2022-05-27T12:34:57.012Z"
   },
   {
    "duration": 230,
    "start_time": "2022-05-27T12:34:57.022Z"
   },
   {
    "duration": 678,
    "start_time": "2022-05-27T12:34:57.254Z"
   },
   {
    "duration": 16,
    "start_time": "2022-05-27T12:34:57.934Z"
   },
   {
    "duration": 12,
    "start_time": "2022-05-27T12:34:57.951Z"
   },
   {
    "duration": 55,
    "start_time": "2022-05-27T12:34:57.964Z"
   },
   {
    "duration": 545,
    "start_time": "2022-05-27T12:34:58.021Z"
   },
   {
    "duration": 18,
    "start_time": "2022-05-27T12:34:58.568Z"
   }
  ],
  "kernelspec": {
   "display_name": "Python 3 (ipykernel)",
   "language": "python",
   "name": "python3"
  },
  "language_info": {
   "codemirror_mode": {
    "name": "ipython",
    "version": 3
   },
   "file_extension": ".py",
   "mimetype": "text/x-python",
   "name": "python",
   "nbconvert_exporter": "python",
   "pygments_lexer": "ipython3",
   "version": "3.9.7"
  },
  "toc": {
   "base_numbering": 1,
   "nav_menu": {},
   "number_sections": true,
   "sideBar": true,
   "skip_h1_title": true,
   "title_cell": "Table of Contents",
   "title_sidebar": "Contents",
   "toc_cell": false,
   "toc_position": {},
   "toc_section_display": true,
   "toc_window_display": false
  }
 },
 "nbformat": 4,
 "nbformat_minor": 2
}
