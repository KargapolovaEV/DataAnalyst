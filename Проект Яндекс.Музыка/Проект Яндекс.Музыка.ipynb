{
 "cells": [
  {
   "cell_type": "markdown",
   "metadata": {
    "id": "E0vqbgi9ay0H"
   },
   "source": [
    "# Яндекс.Музыка"
   ]
  },
  {
   "cell_type": "markdown",
   "metadata": {
    "id": "VUC88oWjTJw2"
   },
   "source": [
    "Сравнение Москвы и Петербурга окружено мифами. Например:\n",
    " * Москва — мегаполис, подчинённый жёсткому ритму рабочей недели;\n",
    " * Петербург — культурная столица, со своими вкусами.\n",
    "\n",
    "На данных Яндекс.Музыки сравним поведение пользователей двух столиц.\n",
    "\n",
    "**Цель исследования** — проверить три гипотезы:\n",
    "1. Активность пользователей зависит от дня недели. Причём в Москве и Петербурге это проявляется по-разному.\n",
    "2. В понедельник утром в Москве преобладают одни жанры, а в Петербурге — другие. Так же и вечером пятницы преобладают разные жанры — в зависимости от города. \n",
    "3. Москва и Петербург предпочитают разные жанры музыки. В Москве чаще слушают поп-музыку, в Петербурге — русский рэп.\n",
    "\n",
    "**Ход исследования**\n",
    "\n",
    "У нас есть данные о поведении пользователей в файле `yandex_music_project.csv`. О качестве данных ничего не известно. Поэтому перед проверкой гипотез понадобится обзор данных. \n",
    "\n",
    "Проверим данные на ошибки и оценим их влияние на исследование. Затем, на этапе предобработки поищим возможность исправить самые критичные ошибки данных.\n",
    " \n",
    "Таким образом, исследование пройдёт в три этапа:\n",
    " 1. Обзор данных.\n",
    " 2. Предобработка данных.\n",
    " 3. Проверка гипотез.\n",
    "\n"
   ]
  },
  {
   "cell_type": "markdown",
   "metadata": {
    "id": "Ml1hmfXC_Zcs"
   },
   "source": [
    "## Обзор данных"
   ]
  },
  {
   "cell_type": "code",
   "execution_count": 1,
   "metadata": {
    "id": "AXN7PHPN_Zcs"
   },
   "outputs": [],
   "source": [
    "# импорт библиотеки pandas\n",
    "\n",
    "import pandas as pd"
   ]
  },
  {
   "cell_type": "code",
   "execution_count": 2,
   "metadata": {
    "id": "fFVu7vqh_Zct"
   },
   "outputs": [],
   "source": [
    "# чтение файла с данными и сохранение в df\n",
    "\n",
    "try:\n",
    "    df = pd.read_csv('/datasets/yandex_music_project.csv')\n",
    "except:\n",
    "    df = pd.read_csv('yandex_music_project.csv')"
   ]
  },
  {
   "cell_type": "code",
   "execution_count": 3,
   "metadata": {
    "id": "oWTVX3gW_Zct"
   },
   "outputs": [
    {
     "data": {
      "text/html": [
       "<div>\n",
       "<style scoped>\n",
       "    .dataframe tbody tr th:only-of-type {\n",
       "        vertical-align: middle;\n",
       "    }\n",
       "\n",
       "    .dataframe tbody tr th {\n",
       "        vertical-align: top;\n",
       "    }\n",
       "\n",
       "    .dataframe thead th {\n",
       "        text-align: right;\n",
       "    }\n",
       "</style>\n",
       "<table border=\"1\" class=\"dataframe\">\n",
       "  <thead>\n",
       "    <tr style=\"text-align: right;\">\n",
       "      <th></th>\n",
       "      <th>userID</th>\n",
       "      <th>Track</th>\n",
       "      <th>artist</th>\n",
       "      <th>genre</th>\n",
       "      <th>City</th>\n",
       "      <th>time</th>\n",
       "      <th>Day</th>\n",
       "    </tr>\n",
       "  </thead>\n",
       "  <tbody>\n",
       "    <tr>\n",
       "      <th>0</th>\n",
       "      <td>FFB692EC</td>\n",
       "      <td>Kamigata To Boots</td>\n",
       "      <td>The Mass Missile</td>\n",
       "      <td>rock</td>\n",
       "      <td>Saint-Petersburg</td>\n",
       "      <td>20:28:33</td>\n",
       "      <td>Wednesday</td>\n",
       "    </tr>\n",
       "    <tr>\n",
       "      <th>1</th>\n",
       "      <td>55204538</td>\n",
       "      <td>Delayed Because of Accident</td>\n",
       "      <td>Andreas Rönnberg</td>\n",
       "      <td>rock</td>\n",
       "      <td>Moscow</td>\n",
       "      <td>14:07:09</td>\n",
       "      <td>Friday</td>\n",
       "    </tr>\n",
       "    <tr>\n",
       "      <th>2</th>\n",
       "      <td>20EC38</td>\n",
       "      <td>Funiculì funiculà</td>\n",
       "      <td>Mario Lanza</td>\n",
       "      <td>pop</td>\n",
       "      <td>Saint-Petersburg</td>\n",
       "      <td>20:58:07</td>\n",
       "      <td>Wednesday</td>\n",
       "    </tr>\n",
       "    <tr>\n",
       "      <th>3</th>\n",
       "      <td>A3DD03C9</td>\n",
       "      <td>Dragons in the Sunset</td>\n",
       "      <td>Fire + Ice</td>\n",
       "      <td>folk</td>\n",
       "      <td>Saint-Petersburg</td>\n",
       "      <td>08:37:09</td>\n",
       "      <td>Monday</td>\n",
       "    </tr>\n",
       "    <tr>\n",
       "      <th>4</th>\n",
       "      <td>E2DC1FAE</td>\n",
       "      <td>Soul People</td>\n",
       "      <td>Space Echo</td>\n",
       "      <td>dance</td>\n",
       "      <td>Moscow</td>\n",
       "      <td>08:34:34</td>\n",
       "      <td>Monday</td>\n",
       "    </tr>\n",
       "    <tr>\n",
       "      <th>5</th>\n",
       "      <td>842029A1</td>\n",
       "      <td>Преданная</td>\n",
       "      <td>IMPERVTOR</td>\n",
       "      <td>rusrap</td>\n",
       "      <td>Saint-Petersburg</td>\n",
       "      <td>13:09:41</td>\n",
       "      <td>Friday</td>\n",
       "    </tr>\n",
       "    <tr>\n",
       "      <th>6</th>\n",
       "      <td>4CB90AA5</td>\n",
       "      <td>True</td>\n",
       "      <td>Roman Messer</td>\n",
       "      <td>dance</td>\n",
       "      <td>Moscow</td>\n",
       "      <td>13:00:07</td>\n",
       "      <td>Wednesday</td>\n",
       "    </tr>\n",
       "    <tr>\n",
       "      <th>7</th>\n",
       "      <td>F03E1C1F</td>\n",
       "      <td>Feeling This Way</td>\n",
       "      <td>Polina Griffith</td>\n",
       "      <td>dance</td>\n",
       "      <td>Moscow</td>\n",
       "      <td>20:47:49</td>\n",
       "      <td>Wednesday</td>\n",
       "    </tr>\n",
       "    <tr>\n",
       "      <th>8</th>\n",
       "      <td>8FA1D3BE</td>\n",
       "      <td>И вновь продолжается бой</td>\n",
       "      <td>NaN</td>\n",
       "      <td>ruspop</td>\n",
       "      <td>Moscow</td>\n",
       "      <td>09:17:40</td>\n",
       "      <td>Friday</td>\n",
       "    </tr>\n",
       "    <tr>\n",
       "      <th>9</th>\n",
       "      <td>E772D5C0</td>\n",
       "      <td>Pessimist</td>\n",
       "      <td>NaN</td>\n",
       "      <td>dance</td>\n",
       "      <td>Saint-Petersburg</td>\n",
       "      <td>21:20:49</td>\n",
       "      <td>Wednesday</td>\n",
       "    </tr>\n",
       "  </tbody>\n",
       "</table>\n",
       "</div>"
      ],
      "text/plain": [
       "     userID                        Track            artist   genre  \\\n",
       "0  FFB692EC            Kamigata To Boots  The Mass Missile    rock   \n",
       "1  55204538  Delayed Because of Accident  Andreas Rönnberg    rock   \n",
       "2    20EC38            Funiculì funiculà       Mario Lanza     pop   \n",
       "3  A3DD03C9        Dragons in the Sunset        Fire + Ice    folk   \n",
       "4  E2DC1FAE                  Soul People        Space Echo   dance   \n",
       "5  842029A1                    Преданная         IMPERVTOR  rusrap   \n",
       "6  4CB90AA5                         True      Roman Messer   dance   \n",
       "7  F03E1C1F             Feeling This Way   Polina Griffith   dance   \n",
       "8  8FA1D3BE     И вновь продолжается бой               NaN  ruspop   \n",
       "9  E772D5C0                    Pessimist               NaN   dance   \n",
       "\n",
       "             City        time        Day  \n",
       "0  Saint-Petersburg  20:28:33  Wednesday  \n",
       "1            Moscow  14:07:09     Friday  \n",
       "2  Saint-Petersburg  20:58:07  Wednesday  \n",
       "3  Saint-Petersburg  08:37:09     Monday  \n",
       "4            Moscow  08:34:34     Monday  \n",
       "5  Saint-Petersburg  13:09:41     Friday  \n",
       "6            Moscow  13:00:07  Wednesday  \n",
       "7            Moscow  20:47:49  Wednesday  \n",
       "8            Moscow  09:17:40     Friday  \n",
       "9  Saint-Petersburg  21:20:49  Wednesday  "
      ]
     },
     "execution_count": 3,
     "metadata": {},
     "output_type": "execute_result"
    }
   ],
   "source": [
    "# получение первых 10 строк таблицы df\n",
    "\n",
    "df.head(10) "
   ]
  },
  {
   "cell_type": "code",
   "execution_count": 4,
   "metadata": {
    "id": "DSf2kIb-_Zct"
   },
   "outputs": [
    {
     "name": "stdout",
     "output_type": "stream",
     "text": [
      "<class 'pandas.core.frame.DataFrame'>\n",
      "RangeIndex: 65079 entries, 0 to 65078\n",
      "Data columns (total 7 columns):\n",
      " #   Column    Non-Null Count  Dtype \n",
      "---  ------    --------------  ----- \n",
      " 0     userID  65079 non-null  object\n",
      " 1   Track     63848 non-null  object\n",
      " 2   artist    57876 non-null  object\n",
      " 3   genre     63881 non-null  object\n",
      " 4     City    65079 non-null  object\n",
      " 5   time      65079 non-null  object\n",
      " 6   Day       65079 non-null  object\n",
      "dtypes: object(7)\n",
      "memory usage: 3.5+ MB\n"
     ]
    }
   ],
   "source": [
    "# получение общей информации о данных в таблице df\n",
    "\n",
    "df.info()"
   ]
  },
  {
   "cell_type": "markdown",
   "metadata": {
    "id": "TaQ2Iwbr_Zct"
   },
   "source": [
    "Итак, в таблице семь столбцов. Тип данных во всех столбцах — `object`.\n",
    "\n",
    "Согласно документации к данным:\n",
    "* `userID` — идентификатор пользователя;\n",
    "* `Track` — название трека;  \n",
    "* `artist` — имя исполнителя;\n",
    "* `genre` — название жанра;\n",
    "* `City` — город пользователя;\n",
    "* `time` — время начала прослушивания;\n",
    "* `Day` — день недели.\n",
    "\n",
    "В названиях колонок видны три нарушения стиля:\n",
    "1. Строчные буквы сочетаются с прописными.\n",
    "2. Встречаются пробелы.\n",
    "3. Не используется принцип змеиного регистра.\n",
    "\n",
    "Количество значений в столбцах различается. Значит, в данных есть пропущенные значения.\n"
   ]
  },
  {
   "cell_type": "markdown",
   "metadata": {
    "id": "MCB6-dXG_Zct"
   },
   "source": [
    "**Выводы**\n",
    "\n",
    "В каждой строке таблицы — данные о прослушанном треке. Часть колонок описывает саму композицию: название, исполнителя и жанр. Остальные данные рассказывают о пользователе: из какого он города, когда он слушал музыку. \n",
    "\n",
    "Предварительно можно утверждать, что данных достаточно для проверки гипотез. Но встречаются пропуски в данных, а в названиях колонок — расхождения с хорошим стилем.\n",
    "\n",
    "Чтобы двигаться дальше, нужно устранить проблемы в данных."
   ]
  },
  {
   "cell_type": "markdown",
   "metadata": {
    "id": "SjYF6Ub9_Zct"
   },
   "source": [
    "## Предобработка данных"
   ]
  },
  {
   "cell_type": "markdown",
   "metadata": {
    "id": "dIaKXr29_Zct"
   },
   "source": [
    "### Стиль заголовков"
   ]
  },
  {
   "cell_type": "code",
   "execution_count": 5,
   "metadata": {
    "id": "oKOTdF_Q_Zct"
   },
   "outputs": [
    {
     "data": {
      "text/plain": [
       "Index(['  userID', 'Track', 'artist', 'genre', '  City  ', 'time', 'Day'], dtype='object')"
      ]
     },
     "execution_count": 5,
     "metadata": {},
     "output_type": "execute_result"
    }
   ],
   "source": [
    "# перечень названий столбцов таблицы df\n",
    "\n",
    "df.columns"
   ]
  },
  {
   "cell_type": "code",
   "execution_count": 6,
   "metadata": {
    "id": "ISlFqs5y_Zct"
   },
   "outputs": [],
   "source": [
    "# переименование столбцов\n",
    "\n",
    "df = df.rename(columns={'  userID':'user_id', 'Track':'track','  City  ':'city', 'Day':'day'}) "
   ]
  },
  {
   "cell_type": "code",
   "execution_count": 7,
   "metadata": {
    "id": "d4NOAmTW_Zct"
   },
   "outputs": [
    {
     "data": {
      "text/plain": [
       "Index(['user_id', 'track', 'artist', 'genre', 'city', 'time', 'day'], dtype='object')"
      ]
     },
     "execution_count": 7,
     "metadata": {},
     "output_type": "execute_result"
    }
   ],
   "source": [
    "# проверка результатов - перечень названий столбцов\n",
    "\n",
    "df.columns"
   ]
  },
  {
   "cell_type": "markdown",
   "metadata": {
    "id": "5ISfbcfY_Zct"
   },
   "source": [
    "### Пропуски значений"
   ]
  },
  {
   "cell_type": "code",
   "execution_count": 8,
   "metadata": {
    "id": "RskX29qr_Zct"
   },
   "outputs": [
    {
     "data": {
      "text/plain": [
       "user_id       0\n",
       "track      1231\n",
       "artist     7203\n",
       "genre      1198\n",
       "city          0\n",
       "time          0\n",
       "day           0\n",
       "dtype: int64"
      ]
     },
     "execution_count": 8,
     "metadata": {},
     "output_type": "execute_result"
    }
   ],
   "source": [
    "# подсчёт пропусков\n",
    "\n",
    "df.isna().sum() "
   ]
  },
  {
   "cell_type": "markdown",
   "metadata": {
    "id": "qubhgnlO_Zct"
   },
   "source": [
    "Не все пропущенные значения влияют на исследование. Так в `track` и `artist` пропуски не важны для нашей работы. Достаточно заменить их явными обозначениями.\n",
    "\n",
    "Но пропуски в `genre` могут помешать сравнению музыкальных вкусов в Москве и Санкт-Петербурге. Придётся:\n",
    "* заполнить и эти пропуски явными обозначениями,\n",
    "* оценить, насколько они повредят расчётам. "
   ]
  },
  {
   "cell_type": "code",
   "execution_count": 9,
   "metadata": {
    "id": "KplB5qWs_Zct"
   },
   "outputs": [],
   "source": [
    "# перебор названий столбцов в цикле и замена пропущенных значений на 'unknown'\n",
    "\n",
    "columns_to_replace = ['track', 'artist', 'genre'] \n",
    "for name in columns_to_replace:\n",
    "    df[name] = df[name].fillna('unknown')"
   ]
  },
  {
   "cell_type": "code",
   "execution_count": 10,
   "metadata": {
    "id": "Tq4nYRX4_Zct"
   },
   "outputs": [
    {
     "data": {
      "text/plain": [
       "user_id    0\n",
       "track      0\n",
       "artist     0\n",
       "genre      0\n",
       "city       0\n",
       "time       0\n",
       "day        0\n",
       "dtype: int64"
      ]
     },
     "execution_count": 10,
     "metadata": {},
     "output_type": "execute_result"
    }
   ],
   "source": [
    "# подсчёт пропусков\n",
    "df.isna().sum()"
   ]
  },
  {
   "cell_type": "markdown",
   "metadata": {
    "id": "BWKRtBJ3_Zct"
   },
   "source": [
    "### Дубликаты\n"
   ]
  },
  {
   "cell_type": "code",
   "execution_count": 11,
   "metadata": {
    "id": "36eES_S0_Zct"
   },
   "outputs": [
    {
     "data": {
      "text/plain": [
       "3826"
      ]
     },
     "execution_count": 11,
     "metadata": {},
     "output_type": "execute_result"
    }
   ],
   "source": [
    "# подсчёт явных дубликатов\n",
    "\n",
    "df.duplicated().sum()"
   ]
  },
  {
   "cell_type": "code",
   "execution_count": 12,
   "metadata": {
    "id": "exFHq6tt_Zct"
   },
   "outputs": [],
   "source": [
    "# удаление явных дубликатов \n",
    "\n",
    "df = df.drop_duplicates()"
   ]
  },
  {
   "cell_type": "code",
   "execution_count": 13,
   "metadata": {
    "id": "-8PuNWQ0_Zct"
   },
   "outputs": [
    {
     "data": {
      "text/plain": [
       "0"
      ]
     },
     "execution_count": 13,
     "metadata": {},
     "output_type": "execute_result"
    }
   ],
   "source": [
    "# проверка на отсутствие дубликатов\n",
    "\n",
    "df.duplicated().sum()"
   ]
  },
  {
   "cell_type": "code",
   "execution_count": 14,
   "metadata": {
    "id": "JIUcqzZN_Zct"
   },
   "outputs": [
    {
     "data": {
      "text/plain": [
       "array(['acid', 'acoustic', 'action', 'adult', 'africa', 'afrikaans',\n",
       "       'alternative', 'alternativepunk', 'ambient', 'americana',\n",
       "       'animated', 'anime', 'arabesk', 'arabic', 'arena',\n",
       "       'argentinetango', 'art', 'audiobook', 'author', 'avantgarde',\n",
       "       'axé', 'baile', 'balkan', 'beats', 'bigroom', 'black', 'bluegrass',\n",
       "       'blues', 'bollywood', 'bossa', 'brazilian', 'breakbeat', 'breaks',\n",
       "       'broadway', 'cantautori', 'cantopop', 'canzone', 'caribbean',\n",
       "       'caucasian', 'celtic', 'chamber', 'chanson', 'children', 'chill',\n",
       "       'chinese', 'choral', 'christian', 'christmas', 'classical',\n",
       "       'classicmetal', 'club', 'colombian', 'comedy', 'conjazz',\n",
       "       'contemporary', 'country', 'cuban', 'dance', 'dancehall',\n",
       "       'dancepop', 'dark', 'death', 'deep', 'deutschrock', 'deutschspr',\n",
       "       'dirty', 'disco', 'dnb', 'documentary', 'downbeat', 'downtempo',\n",
       "       'drum', 'dub', 'dubstep', 'eastern', 'easy', 'electronic',\n",
       "       'electropop', 'emo', 'entehno', 'epicmetal', 'estrada', 'ethnic',\n",
       "       'eurofolk', 'european', 'experimental', 'extrememetal', 'fado',\n",
       "       'fairytail', 'film', 'fitness', 'flamenco', 'folk', 'folklore',\n",
       "       'folkmetal', 'folkrock', 'folktronica', 'forró', 'frankreich',\n",
       "       'französisch', 'french', 'funk', 'future', 'gangsta', 'garage',\n",
       "       'german', 'ghazal', 'gitarre', 'glitch', 'gospel', 'gothic',\n",
       "       'grime', 'grunge', 'gypsy', 'handsup', \"hard'n'heavy\", 'hardcore',\n",
       "       'hardstyle', 'hardtechno', 'hip', 'hip-hop', 'hiphop',\n",
       "       'historisch', 'holiday', 'hop', 'horror', 'house', 'hymn', 'idm',\n",
       "       'independent', 'indian', 'indie', 'indipop', 'industrial',\n",
       "       'inspirational', 'instrumental', 'international', 'irish', 'jam',\n",
       "       'japanese', 'jazz', 'jewish', 'jpop', 'jungle', 'k-pop',\n",
       "       'karadeniz', 'karaoke', 'kayokyoku', 'korean', 'laiko', 'latin',\n",
       "       'latino', 'leftfield', 'local', 'lounge', 'loungeelectronic',\n",
       "       'lovers', 'malaysian', 'mandopop', 'marschmusik', 'meditative',\n",
       "       'mediterranean', 'melodic', 'metal', 'metalcore', 'mexican',\n",
       "       'middle', 'minimal', 'miscellaneous', 'modern', 'mood', 'mpb',\n",
       "       'muslim', 'native', 'neoklassik', 'neue', 'new', 'newage',\n",
       "       'newwave', 'nu', 'nujazz', 'numetal', 'oceania', 'old', 'opera',\n",
       "       'orchestral', 'other', 'piano', 'podcasts', 'pop', 'popdance',\n",
       "       'popelectronic', 'popeurodance', 'poprussian', 'post',\n",
       "       'posthardcore', 'postrock', 'power', 'progmetal', 'progressive',\n",
       "       'psychedelic', 'punjabi', 'punk', 'quebecois', 'ragga', 'ram',\n",
       "       'rancheras', 'rap', 'rave', 'reggae', 'reggaeton', 'regional',\n",
       "       'relax', 'religious', 'retro', 'rhythm', 'rnb', 'rnr', 'rock',\n",
       "       'rockabilly', 'rockalternative', 'rockindie', 'rockother',\n",
       "       'romance', 'roots', 'ruspop', 'rusrap', 'rusrock', 'russian',\n",
       "       'salsa', 'samba', 'scenic', 'schlager', 'self', 'sertanejo',\n",
       "       'shanson', 'shoegazing', 'showtunes', 'singer', 'ska', 'skarock',\n",
       "       'slow', 'smooth', 'soft', 'soul', 'soulful', 'sound', 'soundtrack',\n",
       "       'southern', 'specialty', 'speech', 'spiritual', 'sport',\n",
       "       'stonerrock', 'surf', 'swing', 'synthpop', 'synthrock',\n",
       "       'sängerportrait', 'tango', 'tanzorchester', 'taraftar', 'tatar',\n",
       "       'tech', 'techno', 'teen', 'thrash', 'top', 'traditional',\n",
       "       'tradjazz', 'trance', 'tribal', 'trip', 'triphop', 'tropical',\n",
       "       'türk', 'türkçe', 'ukrrock', 'unknown', 'urban', 'uzbek',\n",
       "       'variété', 'vi', 'videogame', 'vocal', 'western', 'world',\n",
       "       'worldbeat', 'ïîï', 'электроника'], dtype=object)"
      ]
     },
     "execution_count": 14,
     "metadata": {},
     "output_type": "execute_result"
    }
   ],
   "source": [
    "# Просмотр уникальных названий жанров\n",
    " \n",
    "df['genre'].sort_values().unique()"
   ]
  },
  {
   "cell_type": "code",
   "execution_count": 15,
   "metadata": {
    "id": "ErNDkmns_Zct"
   },
   "outputs": [],
   "source": [
    "# Функция для замены неявных дубликатов\n",
    "\n",
    "def replace_wrong_genres(wrong_genres,correct_genre):\n",
    "    for i in wrong_genres:\n",
    "        df['genre'].replace(i,correct_genre,inplace=True)"
   ]
  },
  {
   "cell_type": "code",
   "execution_count": 16,
   "metadata": {
    "id": "YN5i2hpmSo09",
    "scrolled": true
   },
   "outputs": [],
   "source": [
    "# Устранение неявных дубликатов\n",
    "\n",
    "replace_wrong_genres(['hip','hop','hip-hop'],'hiphop')"
   ]
  },
  {
   "cell_type": "code",
   "execution_count": 17,
   "metadata": {
    "id": "wvixALnFG15m"
   },
   "outputs": [
    {
     "data": {
      "text/plain": [
       "array(['acid', 'acoustic', 'action', 'adult', 'africa', 'afrikaans',\n",
       "       'alternative', 'alternativepunk', 'ambient', 'americana',\n",
       "       'animated', 'anime', 'arabesk', 'arabic', 'arena',\n",
       "       'argentinetango', 'art', 'audiobook', 'author', 'avantgarde',\n",
       "       'axé', 'baile', 'balkan', 'beats', 'bigroom', 'black', 'bluegrass',\n",
       "       'blues', 'bollywood', 'bossa', 'brazilian', 'breakbeat', 'breaks',\n",
       "       'broadway', 'cantautori', 'cantopop', 'canzone', 'caribbean',\n",
       "       'caucasian', 'celtic', 'chamber', 'chanson', 'children', 'chill',\n",
       "       'chinese', 'choral', 'christian', 'christmas', 'classical',\n",
       "       'classicmetal', 'club', 'colombian', 'comedy', 'conjazz',\n",
       "       'contemporary', 'country', 'cuban', 'dance', 'dancehall',\n",
       "       'dancepop', 'dark', 'death', 'deep', 'deutschrock', 'deutschspr',\n",
       "       'dirty', 'disco', 'dnb', 'documentary', 'downbeat', 'downtempo',\n",
       "       'drum', 'dub', 'dubstep', 'eastern', 'easy', 'electronic',\n",
       "       'electropop', 'emo', 'entehno', 'epicmetal', 'estrada', 'ethnic',\n",
       "       'eurofolk', 'european', 'experimental', 'extrememetal', 'fado',\n",
       "       'fairytail', 'film', 'fitness', 'flamenco', 'folk', 'folklore',\n",
       "       'folkmetal', 'folkrock', 'folktronica', 'forró', 'frankreich',\n",
       "       'französisch', 'french', 'funk', 'future', 'gangsta', 'garage',\n",
       "       'german', 'ghazal', 'gitarre', 'glitch', 'gospel', 'gothic',\n",
       "       'grime', 'grunge', 'gypsy', 'handsup', \"hard'n'heavy\", 'hardcore',\n",
       "       'hardstyle', 'hardtechno', 'hiphop', 'historisch', 'holiday',\n",
       "       'horror', 'house', 'hymn', 'idm', 'independent', 'indian', 'indie',\n",
       "       'indipop', 'industrial', 'inspirational', 'instrumental',\n",
       "       'international', 'irish', 'jam', 'japanese', 'jazz', 'jewish',\n",
       "       'jpop', 'jungle', 'k-pop', 'karadeniz', 'karaoke', 'kayokyoku',\n",
       "       'korean', 'laiko', 'latin', 'latino', 'leftfield', 'local',\n",
       "       'lounge', 'loungeelectronic', 'lovers', 'malaysian', 'mandopop',\n",
       "       'marschmusik', 'meditative', 'mediterranean', 'melodic', 'metal',\n",
       "       'metalcore', 'mexican', 'middle', 'minimal', 'miscellaneous',\n",
       "       'modern', 'mood', 'mpb', 'muslim', 'native', 'neoklassik', 'neue',\n",
       "       'new', 'newage', 'newwave', 'nu', 'nujazz', 'numetal', 'oceania',\n",
       "       'old', 'opera', 'orchestral', 'other', 'piano', 'podcasts', 'pop',\n",
       "       'popdance', 'popelectronic', 'popeurodance', 'poprussian', 'post',\n",
       "       'posthardcore', 'postrock', 'power', 'progmetal', 'progressive',\n",
       "       'psychedelic', 'punjabi', 'punk', 'quebecois', 'ragga', 'ram',\n",
       "       'rancheras', 'rap', 'rave', 'reggae', 'reggaeton', 'regional',\n",
       "       'relax', 'religious', 'retro', 'rhythm', 'rnb', 'rnr', 'rock',\n",
       "       'rockabilly', 'rockalternative', 'rockindie', 'rockother',\n",
       "       'romance', 'roots', 'ruspop', 'rusrap', 'rusrock', 'russian',\n",
       "       'salsa', 'samba', 'scenic', 'schlager', 'self', 'sertanejo',\n",
       "       'shanson', 'shoegazing', 'showtunes', 'singer', 'ska', 'skarock',\n",
       "       'slow', 'smooth', 'soft', 'soul', 'soulful', 'sound', 'soundtrack',\n",
       "       'southern', 'specialty', 'speech', 'spiritual', 'sport',\n",
       "       'stonerrock', 'surf', 'swing', 'synthpop', 'synthrock',\n",
       "       'sängerportrait', 'tango', 'tanzorchester', 'taraftar', 'tatar',\n",
       "       'tech', 'techno', 'teen', 'thrash', 'top', 'traditional',\n",
       "       'tradjazz', 'trance', 'tribal', 'trip', 'triphop', 'tropical',\n",
       "       'türk', 'türkçe', 'ukrrock', 'unknown', 'urban', 'uzbek',\n",
       "       'variété', 'vi', 'videogame', 'vocal', 'western', 'world',\n",
       "       'worldbeat', 'ïîï', 'электроника'], dtype=object)"
      ]
     },
     "execution_count": 17,
     "metadata": {},
     "output_type": "execute_result"
    }
   ],
   "source": [
    "# Проверка на неявные дубликаты\n",
    "\n",
    "df['genre'].sort_values().unique()"
   ]
  },
  {
   "cell_type": "markdown",
   "metadata": {
    "id": "jz6a9-7HQUDd"
   },
   "source": [
    "**Выводы**\n",
    "\n",
    "Предобработка обнаружила три проблемы в данных:\n",
    "\n",
    "- нарушения в стиле заголовков,\n",
    "- пропущенные значения,\n",
    "- дубликаты — явные и неявные.\n",
    "\n",
    "Исправили заголовки, чтобы упростить работу с таблицей. Без дубликатов исследование станет более точным.\n",
    "\n",
    "Пропущенные значения заменили на `'unknown'`. Ещё предстоит увидеть, не повредят ли исследованию пропуски в колонке `genre`.\n",
    "\n",
    "Теперь можно перейти к проверке гипотез. "
   ]
  },
  {
   "cell_type": "markdown",
   "metadata": {
    "id": "WttZHXH0SqKk"
   },
   "source": [
    "## Проверка гипотез"
   ]
  },
  {
   "cell_type": "markdown",
   "metadata": {
    "id": "Im936VVi_Zcu"
   },
   "source": [
    "### Сравнение поведения пользователей двух столиц"
   ]
  },
  {
   "cell_type": "markdown",
   "metadata": {
    "id": "nwt_MuaL_Zcu"
   },
   "source": [
    "Первая гипотеза утверждает, что пользователи по-разному слушают музыку в Москве и Санкт-Петербурге. Проверим это предположение по данным о трёх днях недели — понедельнике, среде и пятнице. Для этого:\n",
    "\n",
    "* Разделим пользователей Москвы и Санкт-Петербурга\n",
    "* Сравним, сколько треков послушала каждая группа пользователей в понедельник, среду и пятницу.\n"
   ]
  },
  {
   "cell_type": "code",
   "execution_count": 18,
   "metadata": {
    "id": "0_Qs96oh_Zcu"
   },
   "outputs": [
    {
     "data": {
      "text/plain": [
       "city\n",
       "Moscow              42741\n",
       "Saint-Petersburg    18512\n",
       "Name: time, dtype: int64"
      ]
     },
     "execution_count": 18,
     "metadata": {},
     "output_type": "execute_result"
    }
   ],
   "source": [
    "# Подсчёт прослушиваний в каждом городе\n",
    "\n",
    "df.groupby('city')['time'].count()"
   ]
  },
  {
   "cell_type": "markdown",
   "metadata": {
    "id": "dzli3w8o_Zcu"
   },
   "source": [
    "В Москве прослушиваний больше, чем в Петербурге. Из этого не следует, что московские пользователи чаще слушают музыку. Просто самих пользователей в Москве больше.\n",
    "\n",
    "Теперь сгруппируем данные по дню недели и подсчитаем прослушивания в понедельник, среду и пятницу. \n"
   ]
  },
  {
   "cell_type": "code",
   "execution_count": 19,
   "metadata": {
    "id": "uZMKjiJz_Zcu"
   },
   "outputs": [
    {
     "data": {
      "text/plain": [
       "day\n",
       "Friday       21840\n",
       "Monday       21354\n",
       "Wednesday    18059\n",
       "Name: time, dtype: int64"
      ]
     },
     "execution_count": 19,
     "metadata": {},
     "output_type": "execute_result"
    }
   ],
   "source": [
    "# Подсчёт прослушиваний в каждый из трёх дней\n",
    "\n",
    "df.groupby('day')['time'].count()"
   ]
  },
  {
   "cell_type": "markdown",
   "metadata": {
    "id": "cC2tNrlL_Zcu"
   },
   "source": [
    "В среднем пользователи из двух городов менее активны по средам. Но картина может измениться, если рассмотреть каждый город в отдельности."
   ]
  },
  {
   "cell_type": "code",
   "execution_count": 20,
   "metadata": {
    "id": "Nz3GdQB1_Zcu"
   },
   "outputs": [],
   "source": [
    "# <создание функции number_tracks()>\n",
    "# Объявляется функция с двумя параметрами: day, city.    \n",
    "# В переменной track_list сохраняются те строки таблицы df, для которых \n",
    "# значение в столбце 'day' равно параметру day и одновременно значение\n",
    "# в столбце 'city' равно параметру city (используйте последовательную фильтрацию\n",
    "# с помощью логической индексации).\n",
    "# В переменной track_list_count сохраняется число значений столбца 'user_id',\n",
    "# рассчитанное методом count() для таблицы track_list.\n",
    "# Функция возвращает число - значение track_list_count.\n",
    "\n",
    "def number_tracks(day,city):    \n",
    "    track_list=df[df['day']==day]\n",
    "    track_list=track_list[track_list['city']==city]\n",
    "    track_list_count=track_list['user_id'].count()\n",
    "    \n",
    "    return track_list_count\n",
    "\n",
    "\n",
    "# Функция для подсчёта прослушиваний для конкретного города и дня.\n",
    "# С помощью последовательной фильтрации с логической индексацией она \n",
    "# сначала получит из исходной таблицы строки с нужным днём,\n",
    "# затем из результата отфильтрует строки с нужным городом,\n",
    "# методом count() посчитает количество значений в колонке user_id. \n",
    "# Это количество функция вернёт в качестве результата\n",
    "\n",
    "\n"
   ]
  },
  {
   "cell_type": "code",
   "execution_count": 21,
   "metadata": {
    "id": "rJcRATNQ_Zcu",
    "scrolled": false
   },
   "outputs": [],
   "source": [
    "# количество прослушиваний в Москве по понедельникам\n",
    "\n",
    "data_moscow = ['Moscow']\n",
    "data_moscow.append(number_tracks(day='Monday',city='Moscow'))\n"
   ]
  },
  {
   "cell_type": "code",
   "execution_count": 22,
   "metadata": {
    "id": "hq_ncZ5T_Zcu"
   },
   "outputs": [],
   "source": [
    "# количество прослушиваний в Санкт-Петербурге по понедельникам\n",
    "\n",
    "data_spb = ['Saint-Petersburg']\n",
    "data_spb.append(number_tracks(day='Monday',city='Saint-Petersburg'))"
   ]
  },
  {
   "cell_type": "code",
   "execution_count": 23,
   "metadata": {
    "id": "_NTy2VPU_Zcu"
   },
   "outputs": [],
   "source": [
    "# количество прослушиваний в Москве по средам\n",
    "\n",
    "data_moscow.append(number_tracks(day='Wednesday',city='Moscow'))\n"
   ]
  },
  {
   "cell_type": "code",
   "execution_count": 24,
   "metadata": {
    "id": "j2y3TAwo_Zcu"
   },
   "outputs": [],
   "source": [
    "# количество прослушиваний в Санкт-Петербурге по средам\n",
    "\n",
    "data_spb.append(number_tracks(day='Wednesday',city='Saint-Petersburg'))"
   ]
  },
  {
   "cell_type": "code",
   "execution_count": 25,
   "metadata": {
    "id": "vYDw5u_K_Zcu"
   },
   "outputs": [
    {
     "data": {
      "text/plain": [
       "['Moscow', 15740, 11056, 15945]"
      ]
     },
     "execution_count": 25,
     "metadata": {},
     "output_type": "execute_result"
    }
   ],
   "source": [
    "# количество прослушиваний в Москве по пятницам\n",
    "\n",
    "data_moscow.append(number_tracks(day='Friday', city='Moscow'))\n",
    "data_moscow"
   ]
  },
  {
   "cell_type": "code",
   "execution_count": 26,
   "metadata": {
    "id": "8_yzFtW3_Zcu"
   },
   "outputs": [
    {
     "data": {
      "text/plain": [
       "['Saint-Petersburg', 5614, 7003, 5895]"
      ]
     },
     "execution_count": 26,
     "metadata": {},
     "output_type": "execute_result"
    }
   ],
   "source": [
    "# количество прослушиваний в Санкт-Петербурге по пятницам\n",
    "\n",
    "data_spb.append(number_tracks(day='Friday', city='Saint-Petersburg'))\n",
    "data_spb"
   ]
  },
  {
   "cell_type": "code",
   "execution_count": 27,
   "metadata": {
    "id": "APAcLpOr_Zcu"
   },
   "outputs": [
    {
     "data": {
      "text/html": [
       "<div>\n",
       "<style scoped>\n",
       "    .dataframe tbody tr th:only-of-type {\n",
       "        vertical-align: middle;\n",
       "    }\n",
       "\n",
       "    .dataframe tbody tr th {\n",
       "        vertical-align: top;\n",
       "    }\n",
       "\n",
       "    .dataframe thead th {\n",
       "        text-align: right;\n",
       "    }\n",
       "</style>\n",
       "<table border=\"1\" class=\"dataframe\">\n",
       "  <thead>\n",
       "    <tr style=\"text-align: right;\">\n",
       "      <th></th>\n",
       "      <th>city</th>\n",
       "      <th>monday</th>\n",
       "      <th>wednesday</th>\n",
       "      <th>friday</th>\n",
       "    </tr>\n",
       "  </thead>\n",
       "  <tbody>\n",
       "    <tr>\n",
       "      <th>0</th>\n",
       "      <td>Moscow</td>\n",
       "      <td>15740</td>\n",
       "      <td>11056</td>\n",
       "      <td>15945</td>\n",
       "    </tr>\n",
       "    <tr>\n",
       "      <th>1</th>\n",
       "      <td>Saint-Petersburg</td>\n",
       "      <td>5614</td>\n",
       "      <td>7003</td>\n",
       "      <td>5895</td>\n",
       "    </tr>\n",
       "  </tbody>\n",
       "</table>\n",
       "</div>"
      ],
      "text/plain": [
       "               city  monday  wednesday  friday\n",
       "0            Moscow   15740      11056   15945\n",
       "1  Saint-Petersburg    5614       7003    5895"
      ]
     },
     "execution_count": 27,
     "metadata": {},
     "output_type": "execute_result"
    }
   ],
   "source": [
    "# Таблица с результатами\n",
    "\n",
    "columns_name=['city','monday','wednesday','friday']\n",
    "data=[data_moscow,data_spb]\n",
    "result = pd.DataFrame(data=data,columns=columns_name)\n",
    "result"
   ]
  },
  {
   "cell_type": "markdown",
   "metadata": {
    "id": "-EgPIHYu_Zcu"
   },
   "source": [
    "**Выводы**\n",
    "\n",
    "Данные показывают разницу поведения пользователей:\n",
    "\n",
    "- В Москве пик прослушиваний приходится на понедельник и пятницу, а в среду заметен спад.\n",
    "- В Петербурге, наоборот, больше слушают музыку по средам. Активность в понедельник и пятницу здесь почти в равной мере уступает среде.\n",
    "\n",
    "Значит, данные говорят в пользу первой гипотезы."
   ]
  },
  {
   "cell_type": "markdown",
   "metadata": {
    "id": "atZAxtq4_Zcu"
   },
   "source": [
    "### Музыка в начале и в конце недели"
   ]
  },
  {
   "cell_type": "markdown",
   "metadata": {
    "id": "eXrQqXFH_Zcu"
   },
   "source": [
    "Согласно второй гипотезе, утром в понедельник в Москве преобладают одни жанры, а в Петербурге — другие. Так же и вечером пятницы преобладают разные жанры — в зависимости от города."
   ]
  },
  {
   "cell_type": "code",
   "execution_count": 28,
   "metadata": {
    "id": "qeaFfM_P_Zcu",
    "scrolled": false
   },
   "outputs": [],
   "source": [
    "# получение таблицы moscow_general из тех строк таблицы df, \n",
    "# для которых значение в столбце 'city' равно 'Moscow'\n",
    "\n",
    "moscow_general = df[df['city']=='Moscow']\n"
   ]
  },
  {
   "cell_type": "code",
   "execution_count": 29,
   "metadata": {
    "id": "ORaVRKto_Zcu"
   },
   "outputs": [],
   "source": [
    "# получение таблицы spb_general из тех строк таблицы df,\n",
    "# для которых значение в столбце 'city' равно 'Saint-Petersburg'\n",
    "\n",
    "spb_general = df[df['city']=='Saint-Petersburg']\n"
   ]
  },
  {
   "cell_type": "code",
   "execution_count": 30,
   "metadata": {
    "id": "laJT9BYl_Zcu"
   },
   "outputs": [],
   "source": [
    "# Объявление функции genre_weekday() с параметрами table, day, time1, time2,\n",
    "# которая возвращает информацию о самых популярных жанрах в указанный день в\n",
    "# заданное время:\n",
    "# 1) в переменную genre_df сохраняются те строки переданного датафрейма table, для\n",
    "#    которых одновременно:\n",
    "#    - значение в столбце day равно значению аргумента day\n",
    "#    - значение в столбце time больше значения аргумента time1\n",
    "#    - значение в столбце time меньше значения аргумента time2\n",
    "#    Используйте последовательную фильтрацию с помощью логической индексации.\n",
    "# 2) сгруппировать датафрейм genre_df по столбцу genre, взять один из его\n",
    "#    столбцов и посчитать методом count() количество записей для каждого из\n",
    "#    присутствующих жанров, получившийся Series записать в переменную\n",
    "#    genre_df_count\n",
    "# 3) отсортировать genre_df_count по убыванию встречаемости и сохранить\n",
    "#    в переменную genre_df_sorted\n",
    "# 4) вернуть Series из 10 первых значений genre_df_sorted, это будут топ-10\n",
    "#    популярных жанров (в указанный день, в заданное время)\n",
    "\n",
    "def genre_weekday(table,day,time1,time2):\n",
    "    genre_df = table[table['day']==day]\n",
    "    genre_df = genre_df[genre_df['time']>=time1]\n",
    "    genre_df = genre_df[genre_df['time']<=time2]\n",
    "    genre_df_count = genre_df.groupby('genre')['day'].count()\n",
    "    genre_df_sorted = genre_df_count.sort_values(ascending=False)\n",
    "    \n",
    "    return genre_df_sorted.head(10)\n",
    "    "
   ]
  },
  {
   "cell_type": "markdown",
   "metadata": {
    "id": "la2s2_PF_Zcu"
   },
   "source": [
    "Cравним результаты функции `genre_weekday()` для Москвы и Санкт-Петербурга в понедельник утром (с 7:00 до 11:00) и в пятницу вечером (с 17:00 до 23:00):"
   ]
  },
  {
   "cell_type": "code",
   "execution_count": 31,
   "metadata": {
    "id": "yz7itPUQ_Zcu"
   },
   "outputs": [
    {
     "data": {
      "text/plain": [
       "genre\n",
       "pop            781\n",
       "dance          549\n",
       "electronic     480\n",
       "rock           474\n",
       "hiphop         286\n",
       "ruspop         186\n",
       "world          181\n",
       "rusrap         175\n",
       "alternative    164\n",
       "unknown        161\n",
       "Name: day, dtype: int64"
      ]
     },
     "execution_count": 31,
     "metadata": {},
     "output_type": "execute_result"
    }
   ],
   "source": [
    "# вызов функции для утра понедельника в Москве (вместо df — таблица moscow_general)\n",
    "# объекты, хранящие время, являются строками и сравниваются как строки\n",
    "# пример вызова: genre_weekday(moscow_general, 'Monday', '07:00', '11:00')\n",
    "\n",
    "genre_weekday(moscow_general,'Monday','07:00','11:00')"
   ]
  },
  {
   "cell_type": "code",
   "execution_count": 32,
   "metadata": {
    "id": "kwUcHPdy_Zcu"
   },
   "outputs": [
    {
     "data": {
      "text/plain": [
       "genre\n",
       "pop            218\n",
       "dance          182\n",
       "rock           162\n",
       "electronic     147\n",
       "hiphop          80\n",
       "ruspop          64\n",
       "alternative     58\n",
       "rusrap          55\n",
       "jazz            44\n",
       "classical       40\n",
       "Name: day, dtype: int64"
      ]
     },
     "execution_count": 32,
     "metadata": {},
     "output_type": "execute_result"
    }
   ],
   "source": [
    "# вызов функции для утра понедельника в Петербурге (вместо df — таблица spb_general)\n",
    "genre_weekday(spb_general,'Monday','07:00','11:00')"
   ]
  },
  {
   "cell_type": "code",
   "execution_count": 33,
   "metadata": {
    "id": "EzXVRE1o_Zcu"
   },
   "outputs": [
    {
     "data": {
      "text/plain": [
       "genre\n",
       "pop            713\n",
       "rock           517\n",
       "dance          495\n",
       "electronic     482\n",
       "hiphop         273\n",
       "world          208\n",
       "ruspop         170\n",
       "alternative    163\n",
       "classical      163\n",
       "rusrap         142\n",
       "Name: day, dtype: int64"
      ]
     },
     "execution_count": 33,
     "metadata": {},
     "output_type": "execute_result"
    }
   ],
   "source": [
    "# вызов функции для вечера пятницы в Москве\n",
    "genre_weekday(moscow_general,'Friday','17:00','23:00')"
   ]
  },
  {
   "cell_type": "code",
   "execution_count": 34,
   "metadata": {
    "id": "JZaEKu5v_Zcu"
   },
   "outputs": [
    {
     "data": {
      "text/plain": [
       "genre\n",
       "pop            256\n",
       "electronic     216\n",
       "rock           216\n",
       "dance          210\n",
       "hiphop          97\n",
       "alternative     63\n",
       "jazz            61\n",
       "classical       60\n",
       "rusrap          59\n",
       "world           54\n",
       "Name: day, dtype: int64"
      ]
     },
     "execution_count": 34,
     "metadata": {},
     "output_type": "execute_result"
    }
   ],
   "source": [
    "# вызов функции для вечера пятницы в Петербурге\n",
    "genre_weekday(spb_general,'Friday','17:00','23:00')"
   ]
  },
  {
   "cell_type": "markdown",
   "metadata": {
    "id": "wrCe4MNX_Zcu"
   },
   "source": [
    "**Выводы**\n",
    "\n",
    "Если сравнить топ-10 жанров в понедельник утром, можно сделать такие выводы:\n",
    "\n",
    "1. В Москве и Петербурге слушают похожую музыку. Единственное отличие — в московский рейтинг вошёл жанр “world”, а в петербургский — джаз и классика.\n",
    "\n",
    "2. В Москве пропущенных значений оказалось так много, что значение `'unknown'` заняло десятое место среди самых популярных жанров. Значит, пропущенные значения занимают существенную долю в данных и угрожают достоверности исследования.\n",
    "\n",
    "Вечер пятницы не меняет эту картину. Некоторые жанры поднимаются немного выше, другие спускаются, но в целом топ-10 остаётся тем же самым.\n",
    "\n",
    "Таким образом, вторая гипотеза подтвердилась лишь частично:\n",
    "* Пользователи слушают похожую музыку в начале недели и в конце.\n",
    "* Разница между Москвой и Петербургом не слишком выражена. В Москве чаще слушают русскую популярную музыку, в Петербурге — джаз.\n",
    "\n",
    "Однако пропуски в данных ставят под сомнение этот результат. В Москве их так много, что рейтинг топ-10 мог бы выглядеть иначе, если бы не утерянные  данные о жанрах."
   ]
  },
  {
   "cell_type": "markdown",
   "metadata": {
    "id": "JolODAqr_Zcu"
   },
   "source": [
    "### Жанровые предпочтения в Москве и Петербурге\n",
    "\n",
    "Гипотеза: Петербург — столица рэпа, музыку этого жанра там слушают чаще, чем в Москве.  А Москва — город контрастов, в котором, тем не менее, преобладает поп-музыка."
   ]
  },
  {
   "cell_type": "code",
   "execution_count": 35,
   "metadata": {
    "id": "r19lIPke_Zcu",
    "scrolled": true
   },
   "outputs": [],
   "source": [
    "# одной строкой: группировка таблицы moscow_general по столбцу 'genre', \n",
    "# подсчёт числа значений 'genre' в этой группировке методом count(), \n",
    "# сортировка получившегося Series в порядке убывания и сохранение в moscow_genres\n",
    "\n",
    "moscow_genres = moscow_general.groupby('genre')['track'].count().sort_values(ascending=False)\n"
   ]
  },
  {
   "cell_type": "code",
   "execution_count": 36,
   "metadata": {
    "id": "WhCSooF8_Zcv"
   },
   "outputs": [
    {
     "data": {
      "text/plain": [
       "genre\n",
       "pop            5892\n",
       "dance          4435\n",
       "rock           3965\n",
       "electronic     3786\n",
       "hiphop         2096\n",
       "classical      1616\n",
       "world          1432\n",
       "alternative    1379\n",
       "ruspop         1372\n",
       "rusrap         1161\n",
       "Name: track, dtype: int64"
      ]
     },
     "execution_count": 36,
     "metadata": {},
     "output_type": "execute_result"
    }
   ],
   "source": [
    "# просмотр первых 10 строк moscow_genres\n",
    "moscow_genres.head(10)\n"
   ]
  },
  {
   "cell_type": "code",
   "execution_count": 37,
   "metadata": {
    "id": "gluLIpE7_Zcv",
    "scrolled": true
   },
   "outputs": [],
   "source": [
    "# одной строкой: группировка таблицы spb_general по столбцу 'genre', \n",
    "# подсчёт числа значений 'genre' в этой группировке методом count(), \n",
    "# сортировка получившегося Series в порядке убывания и сохранение в spb_genres\n",
    "\n",
    "spb_genres = spb_general.groupby('genre')['track'].count().sort_values(ascending=False)\n",
    "\n"
   ]
  },
  {
   "cell_type": "code",
   "execution_count": 38,
   "metadata": {
    "id": "uaGJHjVU_Zcv"
   },
   "outputs": [
    {
     "data": {
      "text/plain": [
       "genre\n",
       "pop            2431\n",
       "dance          1932\n",
       "rock           1879\n",
       "electronic     1736\n",
       "hiphop          960\n",
       "alternative     649\n",
       "classical       646\n",
       "rusrap          564\n",
       "ruspop          538\n",
       "world           515\n",
       "Name: track, dtype: int64"
      ]
     },
     "execution_count": 38,
     "metadata": {},
     "output_type": "execute_result"
    }
   ],
   "source": [
    "# просмотр первых 10 строк spb_genres\n",
    "\n",
    "spb_genres.head(10)"
   ]
  },
  {
   "cell_type": "markdown",
   "metadata": {
    "id": "RY51YJYu_Zcv"
   },
   "source": [
    "**Выводы**"
   ]
  },
  {
   "cell_type": "markdown",
   "metadata": {
    "id": "nVhnJEm__Zcv"
   },
   "source": [
    "Гипотеза частично подтвердилась:\n",
    "* Поп-музыка — самый популярный жанр в Москве, как и предполагала гипотеза. Более того, в топ-10 жанров встречается близкий жанр — русская популярная музыка.\n",
    "* Вопреки ожиданиям, рэп одинаково популярен в Москве и Петербурге. \n"
   ]
  },
  {
   "cell_type": "markdown",
   "metadata": {
    "id": "ykKQ0N65_Zcv"
   },
   "source": [
    "## Итоги исследования"
   ]
  },
  {
   "cell_type": "markdown",
   "metadata": {
    "id": "tjUwbHb3_Zcv"
   },
   "source": [
    "Проверили три гипотезы и установили:\n",
    "\n",
    "1. День недели по-разному влияет на активность пользователей в Москве и Петербурге. \n",
    "\n",
    "Первая гипотеза полностью подтвердилась.\n",
    "\n",
    "2. Музыкальные предпочтения не сильно меняются в течение недели — будь то Москва или Петербург. Небольшие различия заметны в начале недели, по понедельникам:\n",
    "* в Москве слушают музыку жанра “world”,\n",
    "* в Петербурге — джаз и классику.\n",
    "\n",
    "Таким образом, вторая гипотеза подтвердилась лишь отчасти. Этот результат мог оказаться иным, если бы не пропуски в данных.\n",
    "\n",
    "3. Во вкусах пользователей Москвы и Петербурга больше общего чем различий. Вопреки ожиданиям, предпочтения жанров в Петербурге напоминают московские.\n",
    "\n",
    "Третья гипотеза не подтвердилась. Если различия в предпочтениях и существуют, на основной массе пользователей они незаметны.\n",
    "\n",
    "**На практике исследования содержат проверки статистических гипотез.**\n",
    "Из данных одного сервиса не всегда можно сделать вывод о всех жителях города.\n",
    "Проверки статистических гипотез покажут, насколько они достоверны, исходя из имеющихся данных. \n"
   ]
  }
 ],
 "metadata": {
  "ExecuteTimeLog": [
   {
    "duration": 325,
    "start_time": "2022-02-14T08:48:37.134Z"
   },
   {
    "duration": 604,
    "start_time": "2022-02-14T08:49:03.753Z"
   },
   {
    "duration": 148,
    "start_time": "2022-02-14T08:49:07.171Z"
   },
   {
    "duration": 17,
    "start_time": "2022-02-14T08:49:10.495Z"
   },
   {
    "duration": 26,
    "start_time": "2022-02-14T08:50:00.763Z"
   },
   {
    "duration": 5,
    "start_time": "2022-02-14T08:54:02.332Z"
   },
   {
    "duration": 83,
    "start_time": "2022-02-14T08:56:41.688Z"
   },
   {
    "duration": 95,
    "start_time": "2022-02-14T08:57:02.308Z"
   },
   {
    "duration": 21,
    "start_time": "2022-02-14T08:58:52.791Z"
   },
   {
    "duration": 5,
    "start_time": "2022-02-14T08:59:15.440Z"
   },
   {
    "duration": 28,
    "start_time": "2022-02-14T08:59:58.341Z"
   },
   {
    "duration": 298,
    "start_time": "2022-02-14T09:09:55.056Z"
   },
   {
    "duration": 18,
    "start_time": "2022-02-14T09:10:42.263Z"
   },
   {
    "duration": 26,
    "start_time": "2022-02-14T09:11:01.800Z"
   },
   {
    "duration": 62,
    "start_time": "2022-02-14T09:11:49.575Z"
   },
   {
    "duration": 66,
    "start_time": "2022-02-14T09:12:34.955Z"
   },
   {
    "duration": 24,
    "start_time": "2022-02-14T09:12:43.026Z"
   },
   {
    "duration": 61,
    "start_time": "2022-02-14T09:12:59.694Z"
   },
   {
    "duration": 45,
    "start_time": "2022-02-14T09:18:14.719Z"
   },
   {
    "duration": 3527,
    "start_time": "2022-02-14T09:18:29.618Z"
   },
   {
    "duration": 53,
    "start_time": "2022-02-14T09:19:11.168Z"
   },
   {
    "duration": 42,
    "start_time": "2022-02-14T09:20:41.268Z"
   },
   {
    "duration": 45,
    "start_time": "2022-02-14T09:20:56.321Z"
   },
   {
    "duration": 44,
    "start_time": "2022-02-14T09:22:37.407Z"
   },
   {
    "duration": 5,
    "start_time": "2022-02-14T09:38:18.683Z"
   },
   {
    "duration": 46,
    "start_time": "2022-02-14T09:38:37.487Z"
   },
   {
    "duration": 48,
    "start_time": "2022-02-14T09:40:06.264Z"
   },
   {
    "duration": 3,
    "start_time": "2022-02-14T12:14:02.051Z"
   },
   {
    "duration": 703,
    "start_time": "2022-02-14T12:15:01.827Z"
   },
   {
    "duration": 146,
    "start_time": "2022-02-14T12:15:02.532Z"
   },
   {
    "duration": 16,
    "start_time": "2022-02-14T12:15:02.680Z"
   },
   {
    "duration": 48,
    "start_time": "2022-02-14T12:15:02.698Z"
   },
   {
    "duration": 15,
    "start_time": "2022-02-14T12:15:02.748Z"
   },
   {
    "duration": 29,
    "start_time": "2022-02-14T12:15:02.765Z"
   },
   {
    "duration": 24,
    "start_time": "2022-02-14T12:15:02.795Z"
   },
   {
    "duration": 28,
    "start_time": "2022-02-14T12:15:02.822Z"
   },
   {
    "duration": 25,
    "start_time": "2022-02-14T12:15:02.852Z"
   },
   {
    "duration": 27,
    "start_time": "2022-02-14T12:15:02.879Z"
   },
   {
    "duration": 71,
    "start_time": "2022-02-14T12:15:02.919Z"
   },
   {
    "duration": 75,
    "start_time": "2022-02-14T12:15:02.992Z"
   },
   {
    "duration": 64,
    "start_time": "2022-02-14T12:15:03.069Z"
   },
   {
    "duration": 40,
    "start_time": "2022-02-14T12:15:03.135Z"
   },
   {
    "duration": 8,
    "start_time": "2022-02-14T12:15:03.177Z"
   },
   {
    "duration": 17,
    "start_time": "2022-02-14T12:15:03.186Z"
   },
   {
    "duration": 11,
    "start_time": "2022-02-14T12:15:03.204Z"
   },
   {
    "duration": 15,
    "start_time": "2022-02-14T12:15:03.216Z"
   },
   {
    "duration": 21,
    "start_time": "2022-02-14T12:15:03.233Z"
   },
   {
    "duration": 8,
    "start_time": "2022-02-14T12:15:03.255Z"
   },
   {
    "duration": 15,
    "start_time": "2022-02-14T12:15:03.264Z"
   },
   {
    "duration": 6,
    "start_time": "2022-02-14T12:15:03.280Z"
   },
   {
    "duration": 5,
    "start_time": "2022-02-14T12:15:03.289Z"
   },
   {
    "duration": 6,
    "start_time": "2022-02-14T12:15:03.296Z"
   },
   {
    "duration": 5,
    "start_time": "2022-02-14T12:15:03.303Z"
   },
   {
    "duration": 11,
    "start_time": "2022-02-14T12:15:03.309Z"
   },
   {
    "duration": 6,
    "start_time": "2022-02-14T12:15:03.321Z"
   },
   {
    "duration": 5,
    "start_time": "2022-02-14T12:15:03.329Z"
   },
   {
    "duration": 11,
    "start_time": "2022-02-14T12:15:03.335Z"
   },
   {
    "duration": 28,
    "start_time": "2022-02-14T12:15:03.347Z"
   },
   {
    "duration": 27,
    "start_time": "2022-02-14T12:15:03.376Z"
   },
   {
    "duration": 14,
    "start_time": "2022-02-14T12:15:03.405Z"
   },
   {
    "duration": 23,
    "start_time": "2022-02-14T12:15:03.421Z"
   },
   {
    "duration": 27,
    "start_time": "2022-02-14T12:15:03.445Z"
   },
   {
    "duration": 17,
    "start_time": "2022-02-14T12:15:03.474Z"
   },
   {
    "duration": 29,
    "start_time": "2022-02-14T12:15:03.493Z"
   },
   {
    "duration": 10,
    "start_time": "2022-02-14T12:15:03.524Z"
   },
   {
    "duration": 25,
    "start_time": "2022-02-14T12:15:03.536Z"
   },
   {
    "duration": 325,
    "start_time": "2022-02-14T12:16:16.320Z"
   },
   {
    "duration": 3,
    "start_time": "2022-02-14T12:18:23.785Z"
   },
   {
    "duration": 342,
    "start_time": "2022-02-14T12:18:51.908Z"
   },
   {
    "duration": 14,
    "start_time": "2022-02-14T12:18:52.238Z"
   },
   {
    "duration": 13,
    "start_time": "2022-02-14T12:18:52.240Z"
   },
   {
    "duration": -15,
    "start_time": "2022-02-14T12:18:52.270Z"
   },
   {
    "duration": -16,
    "start_time": "2022-02-14T12:18:52.272Z"
   },
   {
    "duration": -18,
    "start_time": "2022-02-14T12:18:52.276Z"
   },
   {
    "duration": -20,
    "start_time": "2022-02-14T12:18:52.279Z"
   },
   {
    "duration": -23,
    "start_time": "2022-02-14T12:18:52.284Z"
   },
   {
    "duration": -34,
    "start_time": "2022-02-14T12:18:52.296Z"
   },
   {
    "duration": -35,
    "start_time": "2022-02-14T12:18:52.299Z"
   },
   {
    "duration": -37,
    "start_time": "2022-02-14T12:18:52.302Z"
   },
   {
    "duration": -38,
    "start_time": "2022-02-14T12:18:52.305Z"
   },
   {
    "duration": -39,
    "start_time": "2022-02-14T12:18:52.307Z"
   },
   {
    "duration": -41,
    "start_time": "2022-02-14T12:18:52.310Z"
   },
   {
    "duration": -42,
    "start_time": "2022-02-14T12:18:52.313Z"
   },
   {
    "duration": -45,
    "start_time": "2022-02-14T12:18:52.317Z"
   },
   {
    "duration": -45,
    "start_time": "2022-02-14T12:18:52.319Z"
   },
   {
    "duration": -47,
    "start_time": "2022-02-14T12:18:52.322Z"
   },
   {
    "duration": -49,
    "start_time": "2022-02-14T12:18:52.325Z"
   },
   {
    "duration": -50,
    "start_time": "2022-02-14T12:18:52.328Z"
   },
   {
    "duration": -51,
    "start_time": "2022-02-14T12:18:52.330Z"
   },
   {
    "duration": -53,
    "start_time": "2022-02-14T12:18:52.334Z"
   },
   {
    "duration": -64,
    "start_time": "2022-02-14T12:18:52.347Z"
   },
   {
    "duration": 2,
    "start_time": "2022-02-14T12:19:53.760Z"
   },
   {
    "duration": 137,
    "start_time": "2022-02-14T12:19:53.764Z"
   },
   {
    "duration": 17,
    "start_time": "2022-02-14T12:19:53.903Z"
   },
   {
    "duration": 32,
    "start_time": "2022-02-14T12:19:53.922Z"
   },
   {
    "duration": 28,
    "start_time": "2022-02-14T12:19:53.956Z"
   },
   {
    "duration": 99,
    "start_time": "2022-02-14T12:19:53.986Z"
   },
   {
    "duration": 9,
    "start_time": "2022-02-14T12:19:54.087Z"
   },
   {
    "duration": 29,
    "start_time": "2022-02-14T12:19:54.098Z"
   },
   {
    "duration": 20,
    "start_time": "2022-02-14T12:19:54.129Z"
   },
   {
    "duration": 29,
    "start_time": "2022-02-14T12:19:54.151Z"
   },
   {
    "duration": 68,
    "start_time": "2022-02-14T12:19:54.181Z"
   },
   {
    "duration": 66,
    "start_time": "2022-02-14T12:19:54.252Z"
   },
   {
    "duration": 50,
    "start_time": "2022-02-14T12:19:54.320Z"
   },
   {
    "duration": 49,
    "start_time": "2022-02-14T12:19:54.372Z"
   },
   {
    "duration": 2,
    "start_time": "2022-02-14T12:19:54.423Z"
   },
   {
    "duration": 243,
    "start_time": "2022-02-14T12:20:06.558Z"
   },
   {
    "duration": 8,
    "start_time": "2022-02-14T12:21:12.161Z"
   },
   {
    "duration": 41,
    "start_time": "2022-02-14T12:24:25.816Z"
   },
   {
    "duration": 11,
    "start_time": "2022-02-14T12:34:46.086Z"
   },
   {
    "duration": 231,
    "start_time": "2022-02-14T12:36:54.240Z"
   },
   {
    "duration": 9,
    "start_time": "2022-02-14T12:36:59.660Z"
   },
   {
    "duration": 267,
    "start_time": "2022-02-14T12:37:03.116Z"
   },
   {
    "duration": 12,
    "start_time": "2022-02-14T12:38:14.832Z"
   },
   {
    "duration": 11,
    "start_time": "2022-02-14T12:38:19.205Z"
   },
   {
    "duration": 12,
    "start_time": "2022-02-14T12:58:04.892Z"
   },
   {
    "duration": 11,
    "start_time": "2022-02-14T12:58:07.849Z"
   },
   {
    "duration": 11,
    "start_time": "2022-02-14T12:58:34.730Z"
   },
   {
    "duration": 12,
    "start_time": "2022-02-14T12:58:37.430Z"
   },
   {
    "duration": 11,
    "start_time": "2022-02-14T12:58:39.069Z"
   },
   {
    "duration": 11,
    "start_time": "2022-02-14T12:59:13.686Z"
   },
   {
    "duration": 3,
    "start_time": "2022-02-14T13:00:03.020Z"
   },
   {
    "duration": 506,
    "start_time": "2022-02-14T13:00:11.321Z"
   },
   {
    "duration": 80,
    "start_time": "2022-02-14T13:08:51.799Z"
   },
   {
    "duration": 241,
    "start_time": "2022-02-14T13:32:13.940Z"
   },
   {
    "duration": 4,
    "start_time": "2022-02-14T13:32:47.567Z"
   },
   {
    "duration": 4,
    "start_time": "2022-02-14T13:32:58.869Z"
   },
   {
    "duration": 510,
    "start_time": "2022-02-14T13:33:23.457Z"
   },
   {
    "duration": 3,
    "start_time": "2022-02-14T13:34:05.038Z"
   },
   {
    "duration": 597,
    "start_time": "2022-02-14T13:34:06.962Z"
   },
   {
    "duration": 504,
    "start_time": "2022-02-14T13:36:32.394Z"
   },
   {
    "duration": 4,
    "start_time": "2022-02-14T13:36:42.146Z"
   },
   {
    "duration": 3,
    "start_time": "2022-02-14T13:36:44.941Z"
   },
   {
    "duration": 4,
    "start_time": "2022-02-14T13:37:04.782Z"
   },
   {
    "duration": 850,
    "start_time": "2022-02-14T13:38:21.182Z"
   },
   {
    "duration": 501,
    "start_time": "2022-02-14T13:39:32.625Z"
   },
   {
    "duration": 502,
    "start_time": "2022-02-14T13:41:09.431Z"
   },
   {
    "duration": 3,
    "start_time": "2022-02-14T13:41:37.137Z"
   },
   {
    "duration": 140,
    "start_time": "2022-02-14T13:41:37.142Z"
   },
   {
    "duration": 11,
    "start_time": "2022-02-14T13:41:37.284Z"
   },
   {
    "duration": 37,
    "start_time": "2022-02-14T13:41:37.297Z"
   },
   {
    "duration": 34,
    "start_time": "2022-02-14T13:41:37.336Z"
   },
   {
    "duration": 24,
    "start_time": "2022-02-14T13:41:37.372Z"
   },
   {
    "duration": 4,
    "start_time": "2022-02-14T13:41:37.398Z"
   },
   {
    "duration": 26,
    "start_time": "2022-02-14T13:41:37.404Z"
   },
   {
    "duration": 18,
    "start_time": "2022-02-14T13:41:37.432Z"
   },
   {
    "duration": 33,
    "start_time": "2022-02-14T13:41:37.452Z"
   },
   {
    "duration": 71,
    "start_time": "2022-02-14T13:41:37.487Z"
   },
   {
    "duration": 73,
    "start_time": "2022-02-14T13:41:37.559Z"
   },
   {
    "duration": 55,
    "start_time": "2022-02-14T13:41:37.634Z"
   },
   {
    "duration": 56,
    "start_time": "2022-02-14T13:41:37.691Z"
   },
   {
    "duration": 3,
    "start_time": "2022-02-14T13:41:37.749Z"
   },
   {
    "duration": 14,
    "start_time": "2022-02-14T13:41:37.754Z"
   },
   {
    "duration": 58,
    "start_time": "2022-02-14T13:41:37.769Z"
   },
   {
    "duration": 12,
    "start_time": "2022-02-14T13:41:37.829Z"
   },
   {
    "duration": 12,
    "start_time": "2022-02-14T13:41:37.845Z"
   },
   {
    "duration": 4,
    "start_time": "2022-02-14T13:41:37.859Z"
   },
   {
    "duration": 813,
    "start_time": "2022-02-14T13:41:42.915Z"
   },
   {
    "duration": 564,
    "start_time": "2022-02-14T13:42:41.537Z"
   },
   {
    "duration": 3,
    "start_time": "2022-02-14T13:42:51.085Z"
   },
   {
    "duration": 702,
    "start_time": "2022-02-14T13:42:53.605Z"
   },
   {
    "duration": 88,
    "start_time": "2022-02-14T13:52:03.874Z"
   },
   {
    "duration": 4,
    "start_time": "2022-02-14T13:52:09.963Z"
   },
   {
    "duration": 5,
    "start_time": "2022-02-14T13:52:13.488Z"
   },
   {
    "duration": 5,
    "start_time": "2022-02-14T13:52:17.270Z"
   },
   {
    "duration": 498,
    "start_time": "2022-02-14T13:54:21.494Z"
   },
   {
    "duration": 3,
    "start_time": "2022-02-14T13:54:31.814Z"
   },
   {
    "duration": 4,
    "start_time": "2022-02-14T13:54:34.328Z"
   },
   {
    "duration": 702,
    "start_time": "2022-02-14T13:54:37.193Z"
   },
   {
    "duration": 4,
    "start_time": "2022-02-14T13:55:16.066Z"
   },
   {
    "duration": 23,
    "start_time": "2022-02-14T13:55:27.688Z"
   },
   {
    "duration": 25,
    "start_time": "2022-02-14T13:57:17.102Z"
   },
   {
    "duration": 22,
    "start_time": "2022-02-14T14:00:21.061Z"
   },
   {
    "duration": 19,
    "start_time": "2022-02-14T14:00:25.843Z"
   },
   {
    "duration": 23,
    "start_time": "2022-02-14T14:00:26.694Z"
   },
   {
    "duration": 21,
    "start_time": "2022-02-14T14:00:27.646Z"
   },
   {
    "duration": 302,
    "start_time": "2022-02-16T03:58:56.983Z"
   },
   {
    "duration": 705,
    "start_time": "2022-02-16T03:59:59.576Z"
   },
   {
    "duration": 186,
    "start_time": "2022-02-16T04:00:00.283Z"
   },
   {
    "duration": 25,
    "start_time": "2022-02-16T04:00:00.472Z"
   },
   {
    "duration": 55,
    "start_time": "2022-02-16T04:00:00.500Z"
   },
   {
    "duration": 5,
    "start_time": "2022-02-16T04:00:00.557Z"
   },
   {
    "duration": 31,
    "start_time": "2022-02-16T04:00:00.564Z"
   },
   {
    "duration": 29,
    "start_time": "2022-02-16T04:00:00.598Z"
   },
   {
    "duration": 36,
    "start_time": "2022-02-16T04:00:00.630Z"
   },
   {
    "duration": 26,
    "start_time": "2022-02-16T04:00:00.669Z"
   },
   {
    "duration": 42,
    "start_time": "2022-02-16T04:00:00.698Z"
   },
   {
    "duration": 103,
    "start_time": "2022-02-16T04:00:00.742Z"
   },
   {
    "duration": 106,
    "start_time": "2022-02-16T04:00:00.848Z"
   },
   {
    "duration": 86,
    "start_time": "2022-02-16T04:00:00.956Z"
   },
   {
    "duration": 56,
    "start_time": "2022-02-16T04:00:01.044Z"
   },
   {
    "duration": 22,
    "start_time": "2022-02-16T04:00:01.102Z"
   },
   {
    "duration": 19,
    "start_time": "2022-02-16T04:00:01.126Z"
   },
   {
    "duration": 66,
    "start_time": "2022-02-16T04:00:01.148Z"
   },
   {
    "duration": 18,
    "start_time": "2022-02-16T04:00:01.216Z"
   },
   {
    "duration": 34,
    "start_time": "2022-02-16T04:00:01.237Z"
   },
   {
    "duration": 6,
    "start_time": "2022-02-16T04:00:01.273Z"
   },
   {
    "duration": 53,
    "start_time": "2022-02-16T04:00:01.281Z"
   },
   {
    "duration": 26,
    "start_time": "2022-02-16T04:00:01.337Z"
   },
   {
    "duration": 58,
    "start_time": "2022-02-16T04:00:01.367Z"
   },
   {
    "duration": 27,
    "start_time": "2022-02-16T04:00:01.428Z"
   },
   {
    "duration": 36,
    "start_time": "2022-02-16T04:00:01.457Z"
   },
   {
    "duration": 29,
    "start_time": "2022-02-16T04:00:01.525Z"
   },
   {
    "duration": 316,
    "start_time": "2022-02-16T04:00:22.348Z"
   },
   {
    "duration": 4,
    "start_time": "2022-02-16T04:06:06.221Z"
   },
   {
    "duration": 21,
    "start_time": "2022-02-16T04:06:11.878Z"
   },
   {
    "duration": 20,
    "start_time": "2022-02-16T04:06:14.565Z"
   },
   {
    "duration": 19,
    "start_time": "2022-02-16T04:06:16.709Z"
   },
   {
    "duration": 20,
    "start_time": "2022-02-16T04:06:18.525Z"
   },
   {
    "duration": 21,
    "start_time": "2022-02-16T04:06:21.422Z"
   },
   {
    "duration": 19,
    "start_time": "2022-02-16T04:06:24.309Z"
   },
   {
    "duration": 284,
    "start_time": "2022-02-16T04:06:27.261Z"
   },
   {
    "duration": 33,
    "start_time": "2022-02-16T05:21:21.786Z"
   },
   {
    "duration": 32,
    "start_time": "2022-02-16T05:21:37.251Z"
   },
   {
    "duration": 33,
    "start_time": "2022-02-16T05:22:48.437Z"
   },
   {
    "duration": 5,
    "start_time": "2022-02-16T05:23:05.474Z"
   },
   {
    "duration": 5,
    "start_time": "2022-02-16T05:23:06.760Z"
   },
   {
    "duration": 5,
    "start_time": "2022-02-16T05:23:08.954Z"
   },
   {
    "duration": 35,
    "start_time": "2022-02-16T05:23:14.576Z"
   },
   {
    "duration": 19,
    "start_time": "2022-02-16T05:23:16.188Z"
   },
   {
    "duration": 39,
    "start_time": "2022-02-16T05:24:31.349Z"
   },
   {
    "duration": 35,
    "start_time": "2022-02-16T05:25:11.959Z"
   },
   {
    "duration": 18,
    "start_time": "2022-02-16T05:31:16.909Z"
   },
   {
    "duration": 21,
    "start_time": "2022-02-16T05:31:19.830Z"
   },
   {
    "duration": 19,
    "start_time": "2022-02-16T05:31:23.403Z"
   },
   {
    "duration": 32,
    "start_time": "2022-02-16T05:32:11.068Z"
   },
   {
    "duration": 20,
    "start_time": "2022-02-16T05:34:00.511Z"
   },
   {
    "duration": 18,
    "start_time": "2022-02-16T05:34:03.019Z"
   },
   {
    "duration": 19,
    "start_time": "2022-02-16T05:34:05.657Z"
   },
   {
    "duration": 19,
    "start_time": "2022-02-16T05:34:08.467Z"
   },
   {
    "duration": 30,
    "start_time": "2022-02-16T05:34:11.592Z"
   },
   {
    "duration": 16,
    "start_time": "2022-02-16T05:34:22.562Z"
   },
   {
    "duration": 21,
    "start_time": "2022-02-16T05:34:26.279Z"
   },
   {
    "duration": 19,
    "start_time": "2022-02-16T05:35:10.797Z"
   },
   {
    "duration": 281,
    "start_time": "2022-02-16T05:36:11.975Z"
   },
   {
    "duration": 20,
    "start_time": "2022-02-16T05:38:04.775Z"
   },
   {
    "duration": 18,
    "start_time": "2022-02-16T05:38:05.412Z"
   },
   {
    "duration": 18,
    "start_time": "2022-02-16T05:38:05.956Z"
   },
   {
    "duration": 18,
    "start_time": "2022-02-16T05:38:06.601Z"
   },
   {
    "duration": 22,
    "start_time": "2022-02-16T05:38:07.291Z"
   },
   {
    "duration": 20,
    "start_time": "2022-02-16T05:38:08.892Z"
   },
   {
    "duration": 6,
    "start_time": "2022-02-16T05:38:12.438Z"
   },
   {
    "duration": 9,
    "start_time": "2022-02-16T05:38:38.920Z"
   },
   {
    "duration": 12,
    "start_time": "2022-02-16T05:39:52.147Z"
   },
   {
    "duration": 20,
    "start_time": "2022-02-16T05:40:04.500Z"
   },
   {
    "duration": 21,
    "start_time": "2022-02-16T05:42:23.400Z"
   },
   {
    "duration": 19,
    "start_time": "2022-02-16T05:42:26.878Z"
   },
   {
    "duration": 276,
    "start_time": "2022-02-16T05:42:29.686Z"
   },
   {
    "duration": 4,
    "start_time": "2022-02-16T05:43:20.996Z"
   },
   {
    "duration": 191,
    "start_time": "2022-02-16T05:43:21.003Z"
   },
   {
    "duration": 26,
    "start_time": "2022-02-16T05:43:21.197Z"
   },
   {
    "duration": 31,
    "start_time": "2022-02-16T05:43:21.226Z"
   },
   {
    "duration": 7,
    "start_time": "2022-02-16T05:43:21.263Z"
   },
   {
    "duration": 55,
    "start_time": "2022-02-16T05:43:21.272Z"
   },
   {
    "duration": 5,
    "start_time": "2022-02-16T05:43:21.329Z"
   },
   {
    "duration": 36,
    "start_time": "2022-02-16T05:43:21.336Z"
   },
   {
    "duration": 58,
    "start_time": "2022-02-16T05:43:21.378Z"
   },
   {
    "duration": 31,
    "start_time": "2022-02-16T05:43:21.439Z"
   },
   {
    "duration": 103,
    "start_time": "2022-02-16T05:43:21.473Z"
   },
   {
    "duration": 92,
    "start_time": "2022-02-16T05:43:21.578Z"
   },
   {
    "duration": 78,
    "start_time": "2022-02-16T05:43:21.672Z"
   },
   {
    "duration": 55,
    "start_time": "2022-02-16T05:43:21.753Z"
   },
   {
    "duration": 4,
    "start_time": "2022-02-16T05:43:21.822Z"
   },
   {
    "duration": 11,
    "start_time": "2022-02-16T05:43:21.828Z"
   },
   {
    "duration": 54,
    "start_time": "2022-02-16T05:43:21.841Z"
   },
   {
    "duration": 35,
    "start_time": "2022-02-16T05:43:21.898Z"
   },
   {
    "duration": 13,
    "start_time": "2022-02-16T05:43:21.936Z"
   },
   {
    "duration": 5,
    "start_time": "2022-02-16T05:43:21.951Z"
   },
   {
    "duration": 22,
    "start_time": "2022-02-16T05:43:21.958Z"
   },
   {
    "duration": 45,
    "start_time": "2022-02-16T05:43:21.982Z"
   },
   {
    "duration": 17,
    "start_time": "2022-02-16T05:43:22.030Z"
   },
   {
    "duration": 16,
    "start_time": "2022-02-16T05:43:22.049Z"
   },
   {
    "duration": 56,
    "start_time": "2022-02-16T05:43:22.068Z"
   },
   {
    "duration": 21,
    "start_time": "2022-02-16T05:43:22.127Z"
   },
   {
    "duration": 13,
    "start_time": "2022-02-16T05:43:35.609Z"
   },
   {
    "duration": 429,
    "start_time": "2022-02-16T09:08:56.924Z"
   },
   {
    "duration": 984,
    "start_time": "2022-02-16T09:09:17.843Z"
   },
   {
    "duration": 184,
    "start_time": "2022-02-16T09:09:18.830Z"
   },
   {
    "duration": 26,
    "start_time": "2022-02-16T09:09:19.017Z"
   },
   {
    "duration": 32,
    "start_time": "2022-02-16T09:09:19.046Z"
   },
   {
    "duration": 32,
    "start_time": "2022-02-16T09:09:19.081Z"
   },
   {
    "duration": 27,
    "start_time": "2022-02-16T09:09:19.115Z"
   },
   {
    "duration": 7,
    "start_time": "2022-02-16T09:09:19.144Z"
   },
   {
    "duration": 62,
    "start_time": "2022-02-16T09:09:19.153Z"
   },
   {
    "duration": 23,
    "start_time": "2022-02-16T09:09:19.219Z"
   },
   {
    "duration": 31,
    "start_time": "2022-02-16T09:09:19.245Z"
   },
   {
    "duration": 106,
    "start_time": "2022-02-16T09:09:19.278Z"
   },
   {
    "duration": 99,
    "start_time": "2022-02-16T09:09:19.387Z"
   },
   {
    "duration": 88,
    "start_time": "2022-02-16T09:09:19.488Z"
   },
   {
    "duration": 69,
    "start_time": "2022-02-16T09:09:19.578Z"
   },
   {
    "duration": 5,
    "start_time": "2022-02-16T09:09:19.650Z"
   },
   {
    "duration": 15,
    "start_time": "2022-02-16T09:09:19.657Z"
   },
   {
    "duration": 102,
    "start_time": "2022-02-16T09:09:19.674Z"
   },
   {
    "duration": 32,
    "start_time": "2022-02-16T09:09:19.779Z"
   },
   {
    "duration": 16,
    "start_time": "2022-02-16T09:09:19.814Z"
   },
   {
    "duration": 5,
    "start_time": "2022-02-16T09:09:19.832Z"
   },
   {
    "duration": 46,
    "start_time": "2022-02-16T09:09:19.839Z"
   },
   {
    "duration": 34,
    "start_time": "2022-02-16T09:09:19.887Z"
   },
   {
    "duration": 20,
    "start_time": "2022-02-16T09:09:19.927Z"
   },
   {
    "duration": 18,
    "start_time": "2022-02-16T09:09:19.950Z"
   },
   {
    "duration": 53,
    "start_time": "2022-02-16T09:09:19.971Z"
   },
   {
    "duration": 22,
    "start_time": "2022-02-16T09:09:20.027Z"
   },
   {
    "duration": 14,
    "start_time": "2022-02-16T09:09:20.054Z"
   },
   {
    "duration": 16,
    "start_time": "2022-02-16T09:09:28.801Z"
   },
   {
    "duration": 19,
    "start_time": "2022-02-16T09:09:31.033Z"
   },
   {
    "duration": 12,
    "start_time": "2022-02-16T09:09:33.570Z"
   },
   {
    "duration": 32,
    "start_time": "2022-02-16T09:09:48.222Z"
   },
   {
    "duration": 15,
    "start_time": "2022-02-16T09:10:06.481Z"
   },
   {
    "duration": 15,
    "start_time": "2022-02-16T09:10:09.308Z"
   },
   {
    "duration": 3,
    "start_time": "2022-02-16T11:00:45.654Z"
   },
   {
    "duration": 4,
    "start_time": "2022-02-16T11:00:50.434Z"
   },
   {
    "duration": 599,
    "start_time": "2022-02-16T11:06:24.241Z"
   },
   {
    "duration": 114,
    "start_time": "2022-02-16T11:06:24.843Z"
   },
   {
    "duration": 15,
    "start_time": "2022-02-16T11:06:24.959Z"
   },
   {
    "duration": 22,
    "start_time": "2022-02-16T11:06:24.975Z"
   },
   {
    "duration": 3,
    "start_time": "2022-02-16T11:06:24.999Z"
   },
   {
    "duration": 18,
    "start_time": "2022-02-16T11:06:25.003Z"
   },
   {
    "duration": 24,
    "start_time": "2022-02-16T11:06:25.022Z"
   },
   {
    "duration": 19,
    "start_time": "2022-02-16T11:06:25.048Z"
   },
   {
    "duration": 13,
    "start_time": "2022-02-16T11:06:25.069Z"
   },
   {
    "duration": 18,
    "start_time": "2022-02-16T11:06:25.084Z"
   },
   {
    "duration": 70,
    "start_time": "2022-02-16T11:06:25.103Z"
   },
   {
    "duration": 52,
    "start_time": "2022-02-16T11:06:25.175Z"
   },
   {
    "duration": 60,
    "start_time": "2022-02-16T11:06:25.228Z"
   },
   {
    "duration": 36,
    "start_time": "2022-02-16T11:06:25.289Z"
   },
   {
    "duration": 5,
    "start_time": "2022-02-16T11:06:25.326Z"
   },
   {
    "duration": 30,
    "start_time": "2022-02-16T11:06:25.333Z"
   },
   {
    "duration": 55,
    "start_time": "2022-02-16T11:06:25.364Z"
   },
   {
    "duration": 10,
    "start_time": "2022-02-16T11:06:25.421Z"
   },
   {
    "duration": 9,
    "start_time": "2022-02-16T11:06:25.433Z"
   },
   {
    "duration": 3,
    "start_time": "2022-02-16T11:06:25.444Z"
   },
   {
    "duration": 17,
    "start_time": "2022-02-16T11:06:25.449Z"
   },
   {
    "duration": 10,
    "start_time": "2022-02-16T11:06:25.468Z"
   },
   {
    "duration": 10,
    "start_time": "2022-02-16T11:06:25.481Z"
   },
   {
    "duration": 9,
    "start_time": "2022-02-16T11:06:25.493Z"
   },
   {
    "duration": 14,
    "start_time": "2022-02-16T11:06:25.503Z"
   },
   {
    "duration": 32,
    "start_time": "2022-02-16T11:06:25.518Z"
   },
   {
    "duration": 7,
    "start_time": "2022-02-16T11:06:25.552Z"
   },
   {
    "duration": 11,
    "start_time": "2022-02-16T11:06:25.561Z"
   },
   {
    "duration": 9,
    "start_time": "2022-02-16T11:06:25.573Z"
   },
   {
    "duration": 4,
    "start_time": "2022-02-16T11:06:25.584Z"
   },
   {
    "duration": 24,
    "start_time": "2022-02-16T11:06:42.365Z"
   },
   {
    "duration": 4,
    "start_time": "2022-02-16T11:07:28.437Z"
   },
   {
    "duration": 4,
    "start_time": "2022-02-16T11:07:30.783Z"
   },
   {
    "duration": 3,
    "start_time": "2022-02-16T11:07:42.679Z"
   },
   {
    "duration": 21,
    "start_time": "2022-02-16T11:07:46.126Z"
   },
   {
    "duration": 3,
    "start_time": "2022-02-16T11:08:19.154Z"
   },
   {
    "duration": 23,
    "start_time": "2022-02-16T11:08:22.121Z"
   },
   {
    "duration": 3,
    "start_time": "2022-02-16T11:10:44.939Z"
   },
   {
    "duration": 22,
    "start_time": "2022-02-16T11:10:46.279Z"
   },
   {
    "duration": 4,
    "start_time": "2022-02-16T11:11:03.961Z"
   },
   {
    "duration": 23,
    "start_time": "2022-02-16T11:11:05.479Z"
   },
   {
    "duration": 3,
    "start_time": "2022-02-16T11:11:12.802Z"
   },
   {
    "duration": 23,
    "start_time": "2022-02-16T11:11:14.730Z"
   },
   {
    "duration": 21,
    "start_time": "2022-02-16T11:12:33.759Z"
   },
   {
    "duration": 15,
    "start_time": "2022-02-16T11:29:30.154Z"
   },
   {
    "duration": 23,
    "start_time": "2022-02-16T11:29:33.958Z"
   },
   {
    "duration": 15,
    "start_time": "2022-02-16T11:29:36.244Z"
   },
   {
    "duration": 4,
    "start_time": "2022-02-16T11:32:04.131Z"
   },
   {
    "duration": 22,
    "start_time": "2022-02-16T11:32:06.909Z"
   },
   {
    "duration": 2,
    "start_time": "2022-02-16T11:32:46.056Z"
   },
   {
    "duration": 121,
    "start_time": "2022-02-16T11:32:46.060Z"
   },
   {
    "duration": 9,
    "start_time": "2022-02-16T11:32:46.183Z"
   },
   {
    "duration": 23,
    "start_time": "2022-02-16T11:32:46.194Z"
   },
   {
    "duration": 3,
    "start_time": "2022-02-16T11:32:46.219Z"
   },
   {
    "duration": 32,
    "start_time": "2022-02-16T11:32:46.223Z"
   },
   {
    "duration": 3,
    "start_time": "2022-02-16T11:32:46.256Z"
   },
   {
    "duration": 23,
    "start_time": "2022-02-16T11:32:46.261Z"
   },
   {
    "duration": 15,
    "start_time": "2022-02-16T11:32:46.286Z"
   },
   {
    "duration": 18,
    "start_time": "2022-02-16T11:32:46.302Z"
   },
   {
    "duration": 70,
    "start_time": "2022-02-16T11:32:46.321Z"
   },
   {
    "duration": 59,
    "start_time": "2022-02-16T11:32:46.393Z"
   },
   {
    "duration": 43,
    "start_time": "2022-02-16T11:32:46.453Z"
   },
   {
    "duration": 52,
    "start_time": "2022-02-16T11:32:46.497Z"
   },
   {
    "duration": 2,
    "start_time": "2022-02-16T11:32:46.550Z"
   },
   {
    "duration": 11,
    "start_time": "2022-02-16T11:32:46.554Z"
   },
   {
    "duration": 48,
    "start_time": "2022-02-16T11:32:46.567Z"
   },
   {
    "duration": 9,
    "start_time": "2022-02-16T11:32:46.616Z"
   },
   {
    "duration": 20,
    "start_time": "2022-02-16T11:32:46.626Z"
   },
   {
    "duration": 3,
    "start_time": "2022-02-16T11:32:46.648Z"
   },
   {
    "duration": 19,
    "start_time": "2022-02-16T11:32:46.652Z"
   },
   {
    "duration": 16,
    "start_time": "2022-02-16T11:32:46.672Z"
   },
   {
    "duration": 12,
    "start_time": "2022-02-16T11:32:46.691Z"
   },
   {
    "duration": 10,
    "start_time": "2022-02-16T11:32:46.705Z"
   },
   {
    "duration": 37,
    "start_time": "2022-02-16T11:32:46.717Z"
   },
   {
    "duration": 13,
    "start_time": "2022-02-16T11:32:46.756Z"
   },
   {
    "duration": 10,
    "start_time": "2022-02-16T11:32:46.770Z"
   },
   {
    "duration": 11,
    "start_time": "2022-02-16T11:32:46.782Z"
   },
   {
    "duration": 8,
    "start_time": "2022-02-16T11:32:46.794Z"
   },
   {
    "duration": 4,
    "start_time": "2022-02-16T11:32:46.804Z"
   },
   {
    "duration": 57,
    "start_time": "2022-02-16T11:32:46.810Z"
   },
   {
    "duration": 14,
    "start_time": "2022-02-16T11:32:46.869Z"
   },
   {
    "duration": 23,
    "start_time": "2022-02-16T11:32:46.884Z"
   },
   {
    "duration": 23,
    "start_time": "2022-02-16T11:32:53.006Z"
   },
   {
    "duration": 15,
    "start_time": "2022-02-16T11:32:54.828Z"
   },
   {
    "duration": 23,
    "start_time": "2022-02-16T11:38:58.850Z"
   },
   {
    "duration": 17,
    "start_time": "2022-02-16T11:39:01.764Z"
   },
   {
    "duration": 29,
    "start_time": "2022-02-16T11:39:03.563Z"
   },
   {
    "duration": 16,
    "start_time": "2022-02-16T11:39:04.308Z"
   },
   {
    "duration": 11,
    "start_time": "2022-02-16T11:39:28.602Z"
   },
   {
    "duration": 9,
    "start_time": "2022-02-16T11:39:29.314Z"
   },
   {
    "duration": 3,
    "start_time": "2022-02-16T11:39:30.951Z"
   },
   {
    "duration": 22,
    "start_time": "2022-02-16T11:39:32.672Z"
   },
   {
    "duration": 15,
    "start_time": "2022-02-16T11:39:33.739Z"
   },
   {
    "duration": 23,
    "start_time": "2022-02-16T11:39:34.423Z"
   },
   {
    "duration": 15,
    "start_time": "2022-02-16T11:39:35.365Z"
   },
   {
    "duration": 22,
    "start_time": "2022-02-16T11:52:56.397Z"
   },
   {
    "duration": 16,
    "start_time": "2022-02-16T11:52:58.939Z"
   },
   {
    "duration": 24,
    "start_time": "2022-02-16T11:53:01.087Z"
   },
   {
    "duration": 14,
    "start_time": "2022-02-16T11:53:02.671Z"
   },
   {
    "duration": 19,
    "start_time": "2022-02-16T11:53:51.870Z"
   },
   {
    "duration": 18,
    "start_time": "2022-02-16T11:53:58.111Z"
   },
   {
    "duration": 3,
    "start_time": "2022-02-16T11:54:56.569Z"
   },
   {
    "duration": 23,
    "start_time": "2022-02-16T11:54:59.329Z"
   },
   {
    "duration": 17,
    "start_time": "2022-02-16T11:55:03.710Z"
   },
   {
    "duration": 25,
    "start_time": "2022-02-16T11:55:04.681Z"
   },
   {
    "duration": 16,
    "start_time": "2022-02-16T11:55:06.170Z"
   },
   {
    "duration": 3,
    "start_time": "2022-02-16T11:56:31.097Z"
   },
   {
    "duration": 3,
    "start_time": "2022-02-16T11:56:34.468Z"
   },
   {
    "duration": 15,
    "start_time": "2022-02-16T11:56:37.102Z"
   },
   {
    "duration": 14,
    "start_time": "2022-02-16T11:56:46.067Z"
   },
   {
    "duration": 16,
    "start_time": "2022-02-16T11:56:49.283Z"
   },
   {
    "duration": 13,
    "start_time": "2022-02-16T11:56:51.201Z"
   },
   {
    "duration": 3,
    "start_time": "2022-02-16T11:58:04.917Z"
   },
   {
    "duration": 21,
    "start_time": "2022-02-16T11:58:07.823Z"
   },
   {
    "duration": 16,
    "start_time": "2022-02-16T11:58:09.459Z"
   },
   {
    "duration": 21,
    "start_time": "2022-02-16T11:58:10.356Z"
   },
   {
    "duration": 17,
    "start_time": "2022-02-16T11:58:11.213Z"
   },
   {
    "duration": 4,
    "start_time": "2022-02-16T12:00:05.942Z"
   },
   {
    "duration": 44,
    "start_time": "2022-02-16T12:00:07.948Z"
   },
   {
    "duration": 21,
    "start_time": "2022-02-16T12:00:09.693Z"
   },
   {
    "duration": 26,
    "start_time": "2022-02-16T12:00:10.791Z"
   },
   {
    "duration": 20,
    "start_time": "2022-02-16T12:00:11.999Z"
   },
   {
    "duration": 4,
    "start_time": "2022-02-16T12:01:15.788Z"
   },
   {
    "duration": 21,
    "start_time": "2022-02-16T12:01:17.217Z"
   },
   {
    "duration": 16,
    "start_time": "2022-02-16T12:01:18.413Z"
   },
   {
    "duration": 20,
    "start_time": "2022-02-16T12:01:19.605Z"
   },
   {
    "duration": 15,
    "start_time": "2022-02-16T12:01:20.615Z"
   },
   {
    "duration": 4,
    "start_time": "2022-02-16T12:01:54.225Z"
   },
   {
    "duration": 17,
    "start_time": "2022-02-16T12:01:55.826Z"
   },
   {
    "duration": 13,
    "start_time": "2022-02-16T12:01:58.439Z"
   },
   {
    "duration": 17,
    "start_time": "2022-02-16T12:01:59.571Z"
   },
   {
    "duration": 12,
    "start_time": "2022-02-16T12:02:00.666Z"
   },
   {
    "duration": 413,
    "start_time": "2022-02-16T12:14:54.365Z"
   },
   {
    "duration": 38,
    "start_time": "2022-02-16T12:15:32.319Z"
   },
   {
    "duration": 25,
    "start_time": "2022-02-16T12:15:43.370Z"
   },
   {
    "duration": 384,
    "start_time": "2022-02-16T12:17:07.676Z"
   },
   {
    "duration": 41,
    "start_time": "2022-02-16T12:17:55.434Z"
   },
   {
    "duration": 26,
    "start_time": "2022-02-16T12:18:21.355Z"
   },
   {
    "duration": 5,
    "start_time": "2022-02-16T12:24:34.255Z"
   },
   {
    "duration": 5,
    "start_time": "2022-02-16T12:24:42.168Z"
   },
   {
    "duration": 344,
    "start_time": "2022-02-16T12:25:06.843Z"
   },
   {
    "duration": 2,
    "start_time": "2022-02-16T12:26:04.870Z"
   },
   {
    "duration": 126,
    "start_time": "2022-02-16T12:26:04.873Z"
   },
   {
    "duration": 9,
    "start_time": "2022-02-16T12:26:05.001Z"
   },
   {
    "duration": 22,
    "start_time": "2022-02-16T12:26:05.011Z"
   },
   {
    "duration": 13,
    "start_time": "2022-02-16T12:26:05.034Z"
   },
   {
    "duration": 19,
    "start_time": "2022-02-16T12:26:05.048Z"
   },
   {
    "duration": 3,
    "start_time": "2022-02-16T12:26:05.069Z"
   },
   {
    "duration": 36,
    "start_time": "2022-02-16T12:26:05.074Z"
   },
   {
    "duration": 17,
    "start_time": "2022-02-16T12:26:05.111Z"
   },
   {
    "duration": 23,
    "start_time": "2022-02-16T12:26:05.129Z"
   },
   {
    "duration": 50,
    "start_time": "2022-02-16T12:26:05.153Z"
   },
   {
    "duration": 67,
    "start_time": "2022-02-16T12:26:05.204Z"
   },
   {
    "duration": 44,
    "start_time": "2022-02-16T12:26:05.273Z"
   },
   {
    "duration": 45,
    "start_time": "2022-02-16T12:26:05.319Z"
   },
   {
    "duration": 3,
    "start_time": "2022-02-16T12:26:05.365Z"
   },
   {
    "duration": 23,
    "start_time": "2022-02-16T12:26:05.369Z"
   },
   {
    "duration": 39,
    "start_time": "2022-02-16T12:26:05.393Z"
   },
   {
    "duration": 13,
    "start_time": "2022-02-16T12:26:05.433Z"
   },
   {
    "duration": 9,
    "start_time": "2022-02-16T12:26:05.448Z"
   },
   {
    "duration": 13,
    "start_time": "2022-02-16T12:26:05.458Z"
   },
   {
    "duration": 20,
    "start_time": "2022-02-16T12:26:05.472Z"
   },
   {
    "duration": 11,
    "start_time": "2022-02-16T12:26:05.493Z"
   },
   {
    "duration": 12,
    "start_time": "2022-02-16T12:26:05.506Z"
   },
   {
    "duration": 10,
    "start_time": "2022-02-16T12:26:05.519Z"
   },
   {
    "duration": 24,
    "start_time": "2022-02-16T12:26:05.530Z"
   },
   {
    "duration": 11,
    "start_time": "2022-02-16T12:26:05.556Z"
   },
   {
    "duration": 9,
    "start_time": "2022-02-16T12:26:05.569Z"
   },
   {
    "duration": 12,
    "start_time": "2022-02-16T12:26:05.579Z"
   },
   {
    "duration": 8,
    "start_time": "2022-02-16T12:26:05.593Z"
   },
   {
    "duration": 6,
    "start_time": "2022-02-16T12:26:05.602Z"
   },
   {
    "duration": 41,
    "start_time": "2022-02-16T12:26:05.609Z"
   },
   {
    "duration": 11,
    "start_time": "2022-02-16T12:26:05.651Z"
   },
   {
    "duration": 15,
    "start_time": "2022-02-16T12:26:05.663Z"
   },
   {
    "duration": 10,
    "start_time": "2022-02-16T12:26:05.679Z"
   },
   {
    "duration": 370,
    "start_time": "2022-02-16T12:26:13.397Z"
   },
   {
    "duration": 331,
    "start_time": "2022-02-16T12:29:06.895Z"
   },
   {
    "duration": 3,
    "start_time": "2022-02-16T12:33:14.037Z"
   },
   {
    "duration": 3,
    "start_time": "2022-02-16T12:33:23.071Z"
   },
   {
    "duration": 3,
    "start_time": "2022-02-16T12:33:43.126Z"
   },
   {
    "duration": 3,
    "start_time": "2022-02-16T12:33:47.974Z"
   },
   {
    "duration": 134,
    "start_time": "2022-02-16T12:33:47.978Z"
   },
   {
    "duration": 9,
    "start_time": "2022-02-16T12:33:48.114Z"
   },
   {
    "duration": 32,
    "start_time": "2022-02-16T12:33:48.125Z"
   },
   {
    "duration": 4,
    "start_time": "2022-02-16T12:33:48.158Z"
   },
   {
    "duration": 23,
    "start_time": "2022-02-16T12:33:48.164Z"
   },
   {
    "duration": 4,
    "start_time": "2022-02-16T12:33:48.189Z"
   },
   {
    "duration": 26,
    "start_time": "2022-02-16T12:33:48.195Z"
   },
   {
    "duration": 38,
    "start_time": "2022-02-16T12:33:48.225Z"
   },
   {
    "duration": 20,
    "start_time": "2022-02-16T12:33:48.266Z"
   },
   {
    "duration": 66,
    "start_time": "2022-02-16T12:33:48.287Z"
   },
   {
    "duration": 56,
    "start_time": "2022-02-16T12:33:48.355Z"
   },
   {
    "duration": 58,
    "start_time": "2022-02-16T12:33:48.413Z"
   },
   {
    "duration": 42,
    "start_time": "2022-02-16T12:33:48.472Z"
   },
   {
    "duration": 5,
    "start_time": "2022-02-16T12:33:48.515Z"
   },
   {
    "duration": 24,
    "start_time": "2022-02-16T12:33:48.522Z"
   },
   {
    "duration": 39,
    "start_time": "2022-02-16T12:33:48.548Z"
   },
   {
    "duration": 10,
    "start_time": "2022-02-16T12:33:48.589Z"
   },
   {
    "duration": 12,
    "start_time": "2022-02-16T12:33:48.601Z"
   },
   {
    "duration": 4,
    "start_time": "2022-02-16T12:33:48.614Z"
   },
   {
    "duration": 40,
    "start_time": "2022-02-16T12:33:48.620Z"
   },
   {
    "duration": 12,
    "start_time": "2022-02-16T12:33:48.661Z"
   },
   {
    "duration": 11,
    "start_time": "2022-02-16T12:33:48.674Z"
   },
   {
    "duration": 10,
    "start_time": "2022-02-16T12:33:48.687Z"
   },
   {
    "duration": 14,
    "start_time": "2022-02-16T12:33:48.698Z"
   },
   {
    "duration": 41,
    "start_time": "2022-02-16T12:33:48.713Z"
   },
   {
    "duration": 7,
    "start_time": "2022-02-16T12:33:48.756Z"
   },
   {
    "duration": 13,
    "start_time": "2022-02-16T12:33:48.765Z"
   },
   {
    "duration": 8,
    "start_time": "2022-02-16T12:33:48.779Z"
   },
   {
    "duration": 4,
    "start_time": "2022-02-16T12:33:48.788Z"
   },
   {
    "duration": 21,
    "start_time": "2022-02-16T12:33:48.794Z"
   },
   {
    "duration": 31,
    "start_time": "2022-02-16T12:33:48.816Z"
   },
   {
    "duration": 16,
    "start_time": "2022-02-16T12:33:48.848Z"
   },
   {
    "duration": 10,
    "start_time": "2022-02-16T12:33:48.865Z"
   },
   {
    "duration": 4,
    "start_time": "2022-02-16T12:35:28.789Z"
   },
   {
    "duration": 11,
    "start_time": "2022-02-16T12:35:43.848Z"
   },
   {
    "duration": 384,
    "start_time": "2022-02-16T12:37:09.451Z"
   },
   {
    "duration": 468,
    "start_time": "2022-02-16T12:37:19.070Z"
   },
   {
    "duration": 520,
    "start_time": "2022-02-16T12:37:34.555Z"
   },
   {
    "duration": 347,
    "start_time": "2022-02-16T12:38:19.865Z"
   },
   {
    "duration": 4,
    "start_time": "2022-02-16T12:39:13.597Z"
   },
   {
    "duration": 5,
    "start_time": "2022-02-16T12:39:25.460Z"
   },
   {
    "duration": 5,
    "start_time": "2022-02-16T12:39:55.192Z"
   },
   {
    "duration": 25,
    "start_time": "2022-02-16T12:40:29.559Z"
   },
   {
    "duration": 10,
    "start_time": "2022-02-16T12:40:47.437Z"
   },
   {
    "duration": 10,
    "start_time": "2022-02-16T12:41:14.924Z"
   },
   {
    "duration": 8,
    "start_time": "2022-02-16T12:41:40.287Z"
   },
   {
    "duration": 4,
    "start_time": "2022-02-16T12:42:08.323Z"
   },
   {
    "duration": 7,
    "start_time": "2022-02-16T12:42:57.607Z"
   },
   {
    "duration": 340,
    "start_time": "2022-02-16T12:43:18.566Z"
   },
   {
    "duration": 348,
    "start_time": "2022-02-16T12:43:36.196Z"
   },
   {
    "duration": 5,
    "start_time": "2022-02-16T12:45:20.769Z"
   },
   {
    "duration": 16,
    "start_time": "2022-02-16T12:45:55.731Z"
   },
   {
    "duration": 2,
    "start_time": "2022-02-16T12:46:43.070Z"
   },
   {
    "duration": 123,
    "start_time": "2022-02-16T12:46:43.074Z"
   },
   {
    "duration": 9,
    "start_time": "2022-02-16T12:46:43.198Z"
   },
   {
    "duration": 23,
    "start_time": "2022-02-16T12:46:43.209Z"
   },
   {
    "duration": 4,
    "start_time": "2022-02-16T12:46:43.233Z"
   },
   {
    "duration": 17,
    "start_time": "2022-02-16T12:46:43.245Z"
   },
   {
    "duration": 5,
    "start_time": "2022-02-16T12:46:43.264Z"
   },
   {
    "duration": 21,
    "start_time": "2022-02-16T12:46:43.270Z"
   },
   {
    "duration": 15,
    "start_time": "2022-02-16T12:46:43.292Z"
   },
   {
    "duration": 41,
    "start_time": "2022-02-16T12:46:43.308Z"
   },
   {
    "duration": 49,
    "start_time": "2022-02-16T12:46:43.350Z"
   },
   {
    "duration": 70,
    "start_time": "2022-02-16T12:46:43.401Z"
   },
   {
    "duration": 48,
    "start_time": "2022-02-16T12:46:43.472Z"
   },
   {
    "duration": 48,
    "start_time": "2022-02-16T12:46:43.522Z"
   },
   {
    "duration": 3,
    "start_time": "2022-02-16T12:46:43.571Z"
   },
   {
    "duration": 9,
    "start_time": "2022-02-16T12:46:43.575Z"
   },
   {
    "duration": 40,
    "start_time": "2022-02-16T12:46:43.585Z"
   },
   {
    "duration": 25,
    "start_time": "2022-02-16T12:46:43.626Z"
   },
   {
    "duration": 8,
    "start_time": "2022-02-16T12:46:43.654Z"
   },
   {
    "duration": 3,
    "start_time": "2022-02-16T12:46:43.664Z"
   },
   {
    "duration": 17,
    "start_time": "2022-02-16T12:46:43.668Z"
   },
   {
    "duration": 11,
    "start_time": "2022-02-16T12:46:43.686Z"
   },
   {
    "duration": 11,
    "start_time": "2022-02-16T12:46:43.699Z"
   },
   {
    "duration": 35,
    "start_time": "2022-02-16T12:46:43.711Z"
   },
   {
    "duration": 14,
    "start_time": "2022-02-16T12:46:43.747Z"
   },
   {
    "duration": 12,
    "start_time": "2022-02-16T12:46:43.763Z"
   },
   {
    "duration": 7,
    "start_time": "2022-02-16T12:46:43.776Z"
   },
   {
    "duration": 10,
    "start_time": "2022-02-16T12:46:43.784Z"
   },
   {
    "duration": 15,
    "start_time": "2022-02-16T12:46:43.796Z"
   },
   {
    "duration": 33,
    "start_time": "2022-02-16T12:46:43.813Z"
   },
   {
    "duration": 20,
    "start_time": "2022-02-16T12:46:43.847Z"
   },
   {
    "duration": 11,
    "start_time": "2022-02-16T12:46:43.869Z"
   },
   {
    "duration": 16,
    "start_time": "2022-02-16T12:46:43.882Z"
   },
   {
    "duration": 12,
    "start_time": "2022-02-16T12:46:43.899Z"
   },
   {
    "duration": 37,
    "start_time": "2022-02-16T12:46:43.912Z"
   },
   {
    "duration": 4,
    "start_time": "2022-02-16T12:46:43.951Z"
   },
   {
    "duration": 11,
    "start_time": "2022-02-16T12:47:09.520Z"
   },
   {
    "duration": 7,
    "start_time": "2022-02-16T12:47:26.307Z"
   },
   {
    "duration": 4,
    "start_time": "2022-02-16T12:47:29.500Z"
   },
   {
    "duration": 2,
    "start_time": "2022-02-16T12:50:11.333Z"
   },
   {
    "duration": 140,
    "start_time": "2022-02-16T12:50:11.337Z"
   },
   {
    "duration": 12,
    "start_time": "2022-02-16T12:50:11.479Z"
   },
   {
    "duration": 23,
    "start_time": "2022-02-16T12:50:11.493Z"
   },
   {
    "duration": 3,
    "start_time": "2022-02-16T12:50:11.517Z"
   },
   {
    "duration": 36,
    "start_time": "2022-02-16T12:50:11.522Z"
   },
   {
    "duration": 3,
    "start_time": "2022-02-16T12:50:11.561Z"
   },
   {
    "duration": 23,
    "start_time": "2022-02-16T12:50:11.566Z"
   },
   {
    "duration": 17,
    "start_time": "2022-02-16T12:50:11.590Z"
   },
   {
    "duration": 19,
    "start_time": "2022-02-16T12:50:11.609Z"
   },
   {
    "duration": 52,
    "start_time": "2022-02-16T12:50:11.646Z"
   },
   {
    "duration": 67,
    "start_time": "2022-02-16T12:50:11.700Z"
   },
   {
    "duration": 48,
    "start_time": "2022-02-16T12:50:11.768Z"
   },
   {
    "duration": 45,
    "start_time": "2022-02-16T12:50:11.818Z"
   },
   {
    "duration": 3,
    "start_time": "2022-02-16T12:50:11.865Z"
   },
   {
    "duration": 12,
    "start_time": "2022-02-16T12:50:11.869Z"
   },
   {
    "duration": 45,
    "start_time": "2022-02-16T12:50:11.882Z"
   },
   {
    "duration": 23,
    "start_time": "2022-02-16T12:50:11.928Z"
   },
   {
    "duration": 9,
    "start_time": "2022-02-16T12:50:11.953Z"
   },
   {
    "duration": 4,
    "start_time": "2022-02-16T12:50:11.964Z"
   },
   {
    "duration": 20,
    "start_time": "2022-02-16T12:50:11.969Z"
   },
   {
    "duration": 11,
    "start_time": "2022-02-16T12:50:11.991Z"
   },
   {
    "duration": 12,
    "start_time": "2022-02-16T12:50:12.003Z"
   },
   {
    "duration": 30,
    "start_time": "2022-02-16T12:50:12.016Z"
   },
   {
    "duration": 15,
    "start_time": "2022-02-16T12:50:12.048Z"
   },
   {
    "duration": 13,
    "start_time": "2022-02-16T12:50:12.065Z"
   },
   {
    "duration": 8,
    "start_time": "2022-02-16T12:50:12.080Z"
   },
   {
    "duration": 12,
    "start_time": "2022-02-16T12:50:12.090Z"
   },
   {
    "duration": 42,
    "start_time": "2022-02-16T12:50:12.104Z"
   },
   {
    "duration": 5,
    "start_time": "2022-02-16T12:50:12.147Z"
   },
   {
    "duration": 22,
    "start_time": "2022-02-16T12:50:12.153Z"
   },
   {
    "duration": 12,
    "start_time": "2022-02-16T12:50:12.177Z"
   },
   {
    "duration": 16,
    "start_time": "2022-02-16T12:50:12.190Z"
   },
   {
    "duration": 10,
    "start_time": "2022-02-16T12:50:12.208Z"
   },
   {
    "duration": 8,
    "start_time": "2022-02-16T12:50:12.246Z"
   },
   {
    "duration": 3,
    "start_time": "2022-02-16T12:50:12.256Z"
   },
   {
    "duration": 9,
    "start_time": "2022-02-16T12:50:12.260Z"
   },
   {
    "duration": 16,
    "start_time": "2022-02-16T12:50:12.270Z"
   },
   {
    "duration": 3,
    "start_time": "2022-02-16T13:07:43.181Z"
   },
   {
    "duration": 120,
    "start_time": "2022-02-16T13:07:43.186Z"
   },
   {
    "duration": 9,
    "start_time": "2022-02-16T13:07:43.307Z"
   },
   {
    "duration": 38,
    "start_time": "2022-02-16T13:07:43.318Z"
   },
   {
    "duration": 3,
    "start_time": "2022-02-16T13:07:43.358Z"
   },
   {
    "duration": 17,
    "start_time": "2022-02-16T13:07:43.363Z"
   },
   {
    "duration": 3,
    "start_time": "2022-02-16T13:07:43.382Z"
   },
   {
    "duration": 19,
    "start_time": "2022-02-16T13:07:43.387Z"
   },
   {
    "duration": 41,
    "start_time": "2022-02-16T13:07:43.408Z"
   },
   {
    "duration": 20,
    "start_time": "2022-02-16T13:07:43.450Z"
   },
   {
    "duration": 54,
    "start_time": "2022-02-16T13:07:43.472Z"
   },
   {
    "duration": 71,
    "start_time": "2022-02-16T13:07:43.528Z"
   },
   {
    "duration": 63,
    "start_time": "2022-02-16T13:07:43.600Z"
   },
   {
    "duration": 38,
    "start_time": "2022-02-16T13:07:43.665Z"
   },
   {
    "duration": 13,
    "start_time": "2022-02-16T13:07:43.704Z"
   },
   {
    "duration": 24,
    "start_time": "2022-02-16T13:07:43.719Z"
   },
   {
    "duration": 64,
    "start_time": "2022-02-16T13:07:43.744Z"
   },
   {
    "duration": 22,
    "start_time": "2022-02-16T13:07:43.810Z"
   },
   {
    "duration": 22,
    "start_time": "2022-02-16T13:07:43.835Z"
   },
   {
    "duration": 8,
    "start_time": "2022-02-16T13:07:43.859Z"
   },
   {
    "duration": 53,
    "start_time": "2022-02-16T13:07:43.869Z"
   },
   {
    "duration": 23,
    "start_time": "2022-02-16T13:07:43.924Z"
   },
   {
    "duration": 25,
    "start_time": "2022-02-16T13:07:43.949Z"
   },
   {
    "duration": 9,
    "start_time": "2022-02-16T13:07:43.976Z"
   },
   {
    "duration": 24,
    "start_time": "2022-02-16T13:07:43.987Z"
   },
   {
    "duration": 12,
    "start_time": "2022-02-16T13:07:44.012Z"
   },
   {
    "duration": 18,
    "start_time": "2022-02-16T13:07:44.025Z"
   },
   {
    "duration": 28,
    "start_time": "2022-02-16T13:07:44.044Z"
   },
   {
    "duration": 20,
    "start_time": "2022-02-16T13:07:44.073Z"
   },
   {
    "duration": 19,
    "start_time": "2022-02-16T13:07:44.094Z"
   },
   {
    "duration": 46,
    "start_time": "2022-02-16T13:07:44.115Z"
   },
   {
    "duration": 39,
    "start_time": "2022-02-16T13:07:44.163Z"
   },
   {
    "duration": 34,
    "start_time": "2022-02-16T13:07:44.203Z"
   },
   {
    "duration": 10,
    "start_time": "2022-02-16T13:07:44.239Z"
   },
   {
    "duration": 13,
    "start_time": "2022-02-16T13:07:44.250Z"
   },
   {
    "duration": 7,
    "start_time": "2022-02-16T13:07:44.264Z"
   },
   {
    "duration": 26,
    "start_time": "2022-02-16T13:07:44.272Z"
   },
   {
    "duration": 16,
    "start_time": "2022-02-16T13:07:44.299Z"
   },
   {
    "duration": 862,
    "start_time": "2022-02-24T09:24:16.502Z"
   },
   {
    "duration": 184,
    "start_time": "2022-02-24T09:24:17.367Z"
   },
   {
    "duration": 27,
    "start_time": "2022-02-24T09:24:17.554Z"
   },
   {
    "duration": 55,
    "start_time": "2022-02-24T09:24:17.585Z"
   },
   {
    "duration": 6,
    "start_time": "2022-02-24T09:24:17.642Z"
   },
   {
    "duration": 30,
    "start_time": "2022-02-24T09:24:17.651Z"
   },
   {
    "duration": 28,
    "start_time": "2022-02-24T09:24:17.684Z"
   },
   {
    "duration": 31,
    "start_time": "2022-02-24T09:24:17.716Z"
   },
   {
    "duration": 21,
    "start_time": "2022-02-24T09:24:17.750Z"
   },
   {
    "duration": 61,
    "start_time": "2022-02-24T09:24:17.773Z"
   },
   {
    "duration": 104,
    "start_time": "2022-02-24T09:24:17.836Z"
   },
   {
    "duration": 140,
    "start_time": "2022-02-24T09:24:17.943Z"
   },
   {
    "duration": 92,
    "start_time": "2022-02-24T09:24:18.086Z"
   },
   {
    "duration": 71,
    "start_time": "2022-02-24T09:24:18.181Z"
   },
   {
    "duration": 4,
    "start_time": "2022-02-24T09:24:18.254Z"
   },
   {
    "duration": 12,
    "start_time": "2022-02-24T09:24:18.260Z"
   },
   {
    "duration": 89,
    "start_time": "2022-02-24T09:24:18.275Z"
   },
   {
    "duration": 18,
    "start_time": "2022-02-24T09:24:18.367Z"
   },
   {
    "duration": 15,
    "start_time": "2022-02-24T09:24:18.412Z"
   },
   {
    "duration": 5,
    "start_time": "2022-02-24T09:24:18.429Z"
   },
   {
    "duration": 25,
    "start_time": "2022-02-24T09:24:18.437Z"
   },
   {
    "duration": 54,
    "start_time": "2022-02-24T09:24:18.464Z"
   },
   {
    "duration": 26,
    "start_time": "2022-02-24T09:24:18.525Z"
   },
   {
    "duration": 23,
    "start_time": "2022-02-24T09:24:18.555Z"
   },
   {
    "duration": 43,
    "start_time": "2022-02-24T09:24:18.581Z"
   },
   {
    "duration": 24,
    "start_time": "2022-02-24T09:24:18.627Z"
   },
   {
    "duration": 13,
    "start_time": "2022-02-24T09:24:18.653Z"
   },
   {
    "duration": 54,
    "start_time": "2022-02-24T09:24:18.669Z"
   },
   {
    "duration": 16,
    "start_time": "2022-02-24T09:24:18.725Z"
   },
   {
    "duration": 7,
    "start_time": "2022-02-24T09:24:18.744Z"
   },
   {
    "duration": 28,
    "start_time": "2022-02-24T09:24:18.753Z"
   },
   {
    "duration": 48,
    "start_time": "2022-02-24T09:24:18.783Z"
   },
   {
    "duration": 27,
    "start_time": "2022-02-24T09:24:18.834Z"
   },
   {
    "duration": 49,
    "start_time": "2022-02-24T09:24:18.863Z"
   },
   {
    "duration": 12,
    "start_time": "2022-02-24T09:24:18.914Z"
   },
   {
    "duration": 6,
    "start_time": "2022-02-24T09:24:18.929Z"
   },
   {
    "duration": 11,
    "start_time": "2022-02-24T09:24:18.938Z"
   },
   {
    "duration": 6,
    "start_time": "2022-02-24T09:24:18.952Z"
   }
  ],
  "colab": {
   "collapsed_sections": [
    "E0vqbgi9ay0H",
    "VUC88oWjTJw2"
   ],
   "name": "yandex_music_project_2021.2.ipynb",
   "provenance": []
  },
  "kernelspec": {
   "display_name": "Python 3 (ipykernel)",
   "language": "python",
   "name": "python3"
  },
  "language_info": {
   "codemirror_mode": {
    "name": "ipython",
    "version": 3
   },
   "file_extension": ".py",
   "mimetype": "text/x-python",
   "name": "python",
   "nbconvert_exporter": "python",
   "pygments_lexer": "ipython3",
   "version": "3.9.7"
  },
  "toc": {
   "base_numbering": 1,
   "nav_menu": {},
   "number_sections": true,
   "sideBar": true,
   "skip_h1_title": true,
   "title_cell": "Table of Contents",
   "title_sidebar": "Contents",
   "toc_cell": false,
   "toc_position": {},
   "toc_section_display": true,
   "toc_window_display": false
  }
 },
 "nbformat": 4,
 "nbformat_minor": 1
}
